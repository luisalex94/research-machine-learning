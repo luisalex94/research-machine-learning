{
 "cells": [
  {
   "cell_type": "markdown",
   "id": "91725967",
   "metadata": {},
   "source": [
    "## Chapter 1"
   ]
  },
  {
   "cell_type": "code",
   "execution_count": 2,
   "id": "215dc854",
   "metadata": {},
   "outputs": [
    {
     "name": "stderr",
     "output_type": "stream",
     "text": [
      "c:\\Users\\luisa\\Documents\\Desarrollo\\research-machine-learning\\venv\\lib\\site-packages\\tqdm\\auto.py:21: TqdmWarning: IProgress not found. Please update jupyter and ipywidgets. See https://ipywidgets.readthedocs.io/en/stable/user_install.html\n",
      "  from .autonotebook import tqdm as notebook_tqdm\n",
      "No model was supplied, defaulted to distilbert/distilbert-base-uncased-finetuned-sst-2-english and revision 714eb0f (https://huggingface.co/distilbert/distilbert-base-uncased-finetuned-sst-2-english).\n",
      "Using a pipeline without specifying a model name and revision in production is not recommended.\n",
      "Device set to use cuda:0\n"
     ]
    }
   ],
   "source": [
    "from transformers import pipeline\n",
    "\n",
    "classifier = pipeline(\"text-classification\")"
   ]
  },
  {
   "cell_type": "code",
   "execution_count": 3,
   "id": "d98c83b9",
   "metadata": {},
   "outputs": [
    {
     "data": {
      "text/html": [
       "<div>\n",
       "<style scoped>\n",
       "    .dataframe tbody tr th:only-of-type {\n",
       "        vertical-align: middle;\n",
       "    }\n",
       "\n",
       "    .dataframe tbody tr th {\n",
       "        vertical-align: top;\n",
       "    }\n",
       "\n",
       "    .dataframe thead th {\n",
       "        text-align: right;\n",
       "    }\n",
       "</style>\n",
       "<table border=\"1\" class=\"dataframe\">\n",
       "  <thead>\n",
       "    <tr style=\"text-align: right;\">\n",
       "      <th></th>\n",
       "      <th>label</th>\n",
       "      <th>score</th>\n",
       "    </tr>\n",
       "  </thead>\n",
       "  <tbody>\n",
       "    <tr>\n",
       "      <th>0</th>\n",
       "      <td>POSITIVE</td>\n",
       "      <td>0.996721</td>\n",
       "    </tr>\n",
       "  </tbody>\n",
       "</table>\n",
       "</div>"
      ],
      "text/plain": [
       "      label     score\n",
       "0  POSITIVE  0.996721"
      ]
     },
     "execution_count": 3,
     "metadata": {},
     "output_type": "execute_result"
    }
   ],
   "source": [
    "text = \"\"\"Dear Amazon, last week I ordered an Optimus Prime action figure\n",
    "from your online store in Germany. Unfortunately, when I opened the package,\n",
    "I discovered to my horror that I had been sent an action figure of Megatron\n",
    "instead! As a lifelong enemy of the Decepticons, I hope you can understand my\n",
    "dilemma. To resolve the issue, I demand an exchange of Megatron for the\n",
    "Optimus Prime figure I ordered. Enclosed are copies of my records concerning\n",
    "this purchase. I expect to hear from you soon. Sincerely, Bumblebee.\"\"\"\n",
    "\n",
    "text = \"I love the basketball court, but I don't like that it's unpainted, but I would definitely go back.\"\n",
    "\n",
    "import pandas as pd\n",
    "\n",
    "outputs = classifier(text)\n",
    "pd.DataFrame(outputs)"
   ]
  },
  {
   "cell_type": "code",
   "execution_count": 4,
   "id": "71f6e7c9",
   "metadata": {},
   "outputs": [
    {
     "name": "stderr",
     "output_type": "stream",
     "text": [
      "No model was supplied, defaulted to dbmdz/bert-large-cased-finetuned-conll03-english and revision 4c53496 (https://huggingface.co/dbmdz/bert-large-cased-finetuned-conll03-english).\n",
      "Using a pipeline without specifying a model name and revision in production is not recommended.\n",
      "Some weights of the model checkpoint at dbmdz/bert-large-cased-finetuned-conll03-english were not used when initializing BertForTokenClassification: ['bert.pooler.dense.bias', 'bert.pooler.dense.weight']\n",
      "- This IS expected if you are initializing BertForTokenClassification from the checkpoint of a model trained on another task or with another architecture (e.g. initializing a BertForSequenceClassification model from a BertForPreTraining model).\n",
      "- This IS NOT expected if you are initializing BertForTokenClassification from the checkpoint of a model that you expect to be exactly identical (initializing a BertForSequenceClassification model from a BertForSequenceClassification model).\n",
      "Device set to use cuda:0\n"
     ]
    },
    {
     "data": {
      "text/html": [
       "<div>\n",
       "<style scoped>\n",
       "    .dataframe tbody tr th:only-of-type {\n",
       "        vertical-align: middle;\n",
       "    }\n",
       "\n",
       "    .dataframe tbody tr th {\n",
       "        vertical-align: top;\n",
       "    }\n",
       "\n",
       "    .dataframe thead th {\n",
       "        text-align: right;\n",
       "    }\n",
       "</style>\n",
       "<table border=\"1\" class=\"dataframe\">\n",
       "  <thead>\n",
       "    <tr style=\"text-align: right;\">\n",
       "      <th></th>\n",
       "      <th>entity_group</th>\n",
       "      <th>score</th>\n",
       "      <th>word</th>\n",
       "      <th>start</th>\n",
       "      <th>end</th>\n",
       "    </tr>\n",
       "  </thead>\n",
       "  <tbody>\n",
       "    <tr>\n",
       "      <th>0</th>\n",
       "      <td>PER</td>\n",
       "      <td>0.980417</td>\n",
       "      <td>Alejandro Juarez</td>\n",
       "      <td>0</td>\n",
       "      <td>16</td>\n",
       "    </tr>\n",
       "  </tbody>\n",
       "</table>\n",
       "</div>"
      ],
      "text/plain": [
       "  entity_group     score              word  start  end\n",
       "0          PER  0.980417  Alejandro Juarez      0   16"
      ]
     },
     "execution_count": 4,
     "metadata": {},
     "output_type": "execute_result"
    }
   ],
   "source": [
    "text = \"\"\"Dear Amazon, last week I ordered an Optimus Prime action figure\n",
    "from your online store in Germany. Unfortunately, when I opened the package,\n",
    "I discovered to my horror that I had been sent an action figure of Megatron\n",
    "instead! As a lifelong enemy of the Decepticons, I hope you can understand my\n",
    "dilemma. To resolve the issue, I demand an exchange of Megatron for the\n",
    "Optimus Prime figure I ordered. Enclosed are copies of my records concerning\n",
    "this purchase. I expect to hear from you soon. Sincerely, Bumblebee.\"\"\"\n",
    "\n",
    "text = \"Alejandro Juarez y tengo un seguro de gastos médicos mayores con ustedes desde hace 3 años. Me gustaría saber si tengo cobertura para una cirugía de apendicitis.\"\n",
    "\n",
    "ner_tagger = pipeline(\"ner\", aggregation_strategy=\"simple\")\n",
    "outputs = ner_tagger(text)\n",
    "pd.DataFrame(outputs)"
   ]
  },
  {
   "cell_type": "code",
   "execution_count": 5,
   "id": "5ba9858f",
   "metadata": {},
   "outputs": [
    {
     "name": "stderr",
     "output_type": "stream",
     "text": [
      "No model was supplied, defaulted to distilbert/distilbert-base-cased-distilled-squad and revision 564e9b5 (https://huggingface.co/distilbert/distilbert-base-cased-distilled-squad).\n",
      "Using a pipeline without specifying a model name and revision in production is not recommended.\n",
      "Device set to use cuda:0\n"
     ]
    },
    {
     "data": {
      "text/html": [
       "<div>\n",
       "<style scoped>\n",
       "    .dataframe tbody tr th:only-of-type {\n",
       "        vertical-align: middle;\n",
       "    }\n",
       "\n",
       "    .dataframe tbody tr th {\n",
       "        vertical-align: top;\n",
       "    }\n",
       "\n",
       "    .dataframe thead th {\n",
       "        text-align: right;\n",
       "    }\n",
       "</style>\n",
       "<table border=\"1\" class=\"dataframe\">\n",
       "  <thead>\n",
       "    <tr style=\"text-align: right;\">\n",
       "      <th></th>\n",
       "      <th>score</th>\n",
       "      <th>start</th>\n",
       "      <th>end</th>\n",
       "      <th>answer</th>\n",
       "    </tr>\n",
       "  </thead>\n",
       "  <tbody>\n",
       "    <tr>\n",
       "      <th>0</th>\n",
       "      <td>0.206803</td>\n",
       "      <td>147</td>\n",
       "      <td>167</td>\n",
       "      <td>appendicitis surgery</td>\n",
       "    </tr>\n",
       "  </tbody>\n",
       "</table>\n",
       "</div>"
      ],
      "text/plain": [
       "      score  start  end                answer\n",
       "0  0.206803    147  167  appendicitis surgery"
      ]
     },
     "execution_count": 5,
     "metadata": {},
     "output_type": "execute_result"
    }
   ],
   "source": [
    "text = \"\"\"Dear Amazon, last week I ordered an Optimus Prime action figure\n",
    "from your online store in Germany. Unfortunately, when I opened the package,\n",
    "I discovered to my horror that I had been sent an action figure of Megatron\n",
    "instead! As a lifelong enemy of the Decepticons, I hope you can understand my\n",
    "dilemma. To resolve the issue, I demand an exchange of Megatron for the\n",
    "Optimus Prime figure I ordered. Enclosed are copies of my records concerning\n",
    "this purchase. I expect to hear from you soon. Sincerely, Bumblebee.\"\"\"\n",
    "\n",
    "text = \"Hi, my name is Alejandro Juarez and I have a major medical expenses insurance with you for 3 years. I would like to know if I have coverage for an appendicitis surgery.\"\n",
    "\n",
    "reader = pipeline(\"question-answering\")\n",
    "question = \"What does the customer want?\"\n",
    "outputs = reader(question=question, context=text)\n",
    "pd.DataFrame([outputs])"
   ]
  },
  {
   "cell_type": "code",
   "execution_count": 6,
   "id": "db26857a",
   "metadata": {},
   "outputs": [
    {
     "name": "stderr",
     "output_type": "stream",
     "text": [
      "No model was supplied, defaulted to sshleifer/distilbart-cnn-12-6 and revision a4f8f3e (https://huggingface.co/sshleifer/distilbart-cnn-12-6).\n",
      "Using a pipeline without specifying a model name and revision in production is not recommended.\n",
      "Device set to use cuda:0\n",
      "Your min_length=56 must be inferior than your max_length=45.\n",
      "c:\\Users\\luisa\\Documents\\Desarrollo\\research-machine-learning\\venv\\lib\\site-packages\\transformers\\generation\\utils.py:1570: UserWarning: Unfeasible length constraints: `min_length` (56) is larger than the maximum possible length (45). Generation will stop at the defined maximum length. You should decrease the minimum length and/or increase the maximum length.\n",
      "  warnings.warn(\n"
     ]
    },
    {
     "name": "stdout",
     "output_type": "stream",
     "text": [
      " Bumblebee ordered an Optimus Prime action figure from your online store in Germany. Unfortunately, when I opened the package, I discovered to my horror that I had been sent an action figure of Megatron instead.\n"
     ]
    }
   ],
   "source": [
    "text = \"\"\"Dear Amazon, last week I ordered an Optimus Prime action figure\n",
    "from your online store in Germany. Unfortunately, when I opened the package,\n",
    "I discovered to my horror that I had been sent an action figure of Megatron\n",
    "instead! As a lifelong enemy of the Decepticons, I hope you can understand my\n",
    "dilemma. To resolve the issue, I demand an exchange of Megatron for the\n",
    "Optimus Prime figure I ordered. Enclosed are copies of my records concerning\n",
    "this purchase. I expect to hear from you soon. Sincerely, Bumblebee.\"\"\"\n",
    "\n",
    "summarizer = pipeline(\"summarization\")\n",
    "outputs = summarizer(text, max_length=45, clean_up_tokenization_spaces=True)\n",
    "print(outputs[0]['summary_text'])"
   ]
  },
  {
   "cell_type": "code",
   "execution_count": 7,
   "id": "28329a6e",
   "metadata": {},
   "outputs": [
    {
     "name": "stderr",
     "output_type": "stream",
     "text": [
      "c:\\Users\\luisa\\Documents\\Desarrollo\\research-machine-learning\\venv\\lib\\site-packages\\transformers\\models\\marian\\tokenization_marian.py:175: UserWarning: Recommended: pip install sacremoses.\n",
      "  warnings.warn(\"Recommended: pip install sacremoses.\")\n",
      "Device set to use cuda:0\n"
     ]
    },
    {
     "name": "stdout",
     "output_type": "stream",
     "text": [
      "Sehr geehrter Amazon, letzte Woche habe ich eine Optimus Prime Action Figur aus Ihrem Online-Shop in Deutschland bestellt. Leider, als ich das Paket öffnete, entdeckte ich zu meinem Entsetzen, dass ich stattdessen eine Action Figur von Megatron geschickt worden war! Als lebenslanger Feind der Decepticons, Ich hoffe, Sie können mein Dilemma verstehen. Um das Problem zu lösen, Ich fordere einen Austausch von Megatron für die Optimus Prime Figur habe ich bestellt. Eingeschlossen sind Kopien meiner Aufzeichnungen über diesen Kauf. Ich erwarte, von Ihnen bald zu hören. Aufrichtig, Bumblebee.\n"
     ]
    }
   ],
   "source": [
    "translator = pipeline(\"translation_en_to_de\", model=\"Helsinki-NLP/opus-mt-en-de\")\n",
    "outputs = translator(text, clean_up_tokenization_spaces=True, min_length=100)\n",
    "print(outputs[0]['translation_text'])"
   ]
  },
  {
   "cell_type": "code",
   "execution_count": 8,
   "id": "aed649d1",
   "metadata": {},
   "outputs": [
    {
     "name": "stderr",
     "output_type": "stream",
     "text": [
      "No model was supplied, defaulted to openai-community/gpt2 and revision 607a30d (https://huggingface.co/openai-community/gpt2).\n",
      "Using a pipeline without specifying a model name and revision in production is not recommended.\n",
      "Device set to use cuda:0\n",
      "Truncation was not explicitly activated but `max_length` is provided a specific value, please use `truncation=True` to explicitly truncate examples to max length. Defaulting to 'longest_first' truncation strategy. If you encode pairs of sequences (GLUE-style) with the tokenizer you can select this strategy more precisely by providing a specific strategy to `truncation`.\n",
      "Setting `pad_token_id` to `eos_token_id`:50256 for open-end generation.\n"
     ]
    },
    {
     "name": "stdout",
     "output_type": "stream",
     "text": [
      "Dear Amazon, last week I ordered an Optimus Prime action figure\n",
      "from your online store in Germany. Unfortunately, when I opened the package,\n",
      "I discovered to my horror that I had been sent an action figure of Megatron\n",
      "instead! As a lifelong enemy of the Decepticons, I hope you can understand my\n",
      "dilemma. To resolve the issue, I demand an exchange of Megatron for the\n",
      "Optimus Prime figure I ordered. Enclosed are copies of my records concerning\n",
      "this purchase. I expect to hear from you soon. Sincerely, Bumblebee.\n",
      "\n",
      "Customer service response:\n",
      "Dear Bumblebee, I am sorry to hear that your order was mixed up. However, in response to your\n",
      "\n",
      "order, my service has instructed me to correct the order within two business days. This\n",
      "\n",
      "will only result in a refund.\n",
      "\n",
      "Customer service response:\n",
      "\n",
      "Sincerely,\n",
      "\n",
      "\n",
      "Thank you for your response.\n",
      "\n",
      "\n",
      "Thank you for\n"
     ]
    }
   ],
   "source": [
    "text = \"\"\"Dear Amazon, last week I ordered an Optimus Prime action figure\n",
    "from your online store in Germany. Unfortunately, when I opened the package,\n",
    "I discovered to my horror that I had been sent an action figure of Megatron\n",
    "instead! As a lifelong enemy of the Decepticons, I hope you can understand my\n",
    "dilemma. To resolve the issue, I demand an exchange of Megatron for the\n",
    "Optimus Prime figure I ordered. Enclosed are copies of my records concerning\n",
    "this purchase. I expect to hear from you soon. Sincerely, Bumblebee.\"\"\"\n",
    "\n",
    "generator = pipeline(\"text-generation\")\n",
    "response = \"Dear Bumblebee, I am sorry to hear that your order was mixed up.\"\n",
    "prompt = text + \"\\n\\nCustomer service response:\\n\" + response\n",
    "outputs = generator(prompt, max_length=200)\n",
    "print(outputs[0]['generated_text'])\n"
   ]
  },
  {
   "cell_type": "markdown",
   "id": "b659c292",
   "metadata": {},
   "source": [
    "## Chapter 2"
   ]
  },
  {
   "cell_type": "code",
   "execution_count": 9,
   "id": "ff86bbbb",
   "metadata": {},
   "outputs": [
    {
     "name": "stdout",
     "output_type": "stream",
     "text": [
      "Total datasets: 365237\n",
      "First 10 datasets: [DatasetInfo(id='zwhe99/DeepMath-103K', author='zwhe99', sha='736ce9bfca63afc046a07d545915fa261bbe843f', created_at=datetime.datetime(2025, 4, 14, 10, 41, 33, tzinfo=datetime.timezone.utc), last_modified=datetime.datetime(2025, 4, 18, 6, 29, 38, tzinfo=datetime.timezone.utc), private=False, gated=False, disabled=False, downloads=7542, downloads_all_time=None, likes=131, paperswithcode_id=None, tags=['task_categories:text-generation', 'task_categories:text2text-generation', 'language:en', 'license:mit', 'size_categories:100K<n<1M', 'format:parquet', 'modality:text', 'library:datasets', 'library:dask', 'library:mlcroissant', 'library:polars', 'arxiv:2504.11456', 'region:us', 'math', 'reasoning', 'rl'], trending_score=117, card_data=None, siblings=None, xet_enabled=None), DatasetInfo(id='Anthropic/values-in-the-wild', author='Anthropic', sha='984078fc407bb5c6c3e754c8f571825754842a18', created_at=datetime.datetime(2025, 4, 10, 6, 4, 36, tzinfo=datetime.timezone.utc), last_modified=datetime.datetime(2025, 4, 21, 0, 39, 48, tzinfo=datetime.timezone.utc), private=False, gated=False, disabled=False, downloads=95, downloads_all_time=None, likes=75, paperswithcode_id=None, tags=['license:cc-by-4.0', 'region:us'], trending_score=75, card_data=None, siblings=None, xet_enabled=None), DatasetInfo(id='nvidia/OpenCodeReasoning', author='nvidia', sha='c141f0b01e489370f312cd54985b7b02e8dab8da', created_at=datetime.datetime(2025, 4, 1, 20, 7, 48, tzinfo=datetime.timezone.utc), last_modified=datetime.datetime(2025, 4, 15, 16, 56, 7, tzinfo=datetime.timezone.utc), private=False, gated=False, disabled=False, downloads=11207, downloads_all_time=None, likes=274, paperswithcode_id=None, tags=['task_categories:text-generation', 'license:cc-by-4.0', 'size_categories:100K<n<1M', 'format:parquet', 'modality:text', 'library:datasets', 'library:dask', 'library:mlcroissant', 'library:polars', 'arxiv:2504.01943', 'region:us', 'synthetic'], trending_score=61, card_data=None, siblings=None, xet_enabled=None), DatasetInfo(id='openai/mrcr', author='openai', sha='204b0d4e8d9ca5c0a90bf942fdb2a5969094adc0', created_at=datetime.datetime(2025, 4, 11, 23, 55, 25, tzinfo=datetime.timezone.utc), last_modified=datetime.datetime(2025, 4, 14, 18, 58, 12, tzinfo=datetime.timezone.utc), private=False, gated=False, disabled=False, downloads=2587, downloads_all_time=None, likes=124, paperswithcode_id=None, tags=['license:mit', 'size_categories:1K<n<10K', 'format:parquet', 'modality:tabular', 'modality:text', 'library:datasets', 'library:dask', 'library:mlcroissant', 'library:polars', 'arxiv:2409.12640', 'region:us'], trending_score=46, card_data=None, siblings=None, xet_enabled=None), DatasetInfo(id='OpenGVLab/InternVL-Data', author='OpenGVLab', sha='2ae2cdbe1533dec7c99b06ee4dcdecb6376eecb4', created_at=datetime.datetime(2025, 4, 12, 7, 26, tzinfo=datetime.timezone.utc), last_modified=datetime.datetime(2025, 4, 22, 20, 2, 28, tzinfo=datetime.timezone.utc), private=False, gated=False, disabled=False, downloads=119, downloads_all_time=None, likes=32, paperswithcode_id=None, tags=['task_categories:image-to-text', 'task_categories:question-answering', 'language:multilingual', 'license:cc-by-4.0', 'size_categories:10M<n<100M', 'modality:image', 'arxiv:2312.14238', 'arxiv:2404.16821', 'arxiv:2412.05271', 'arxiv:2411.10442', 'arxiv:2504.10479', 'region:us'], trending_score=32, card_data=None, siblings=None, xet_enabled=None), DatasetInfo(id='future-technologies/Universal-Transformers-Dataset', author='future-technologies', sha='70d940db37e4cb645437f892fab8a7e5404bb7bf', created_at=datetime.datetime(2025, 2, 1, 9, 50, 54, tzinfo=datetime.timezone.utc), last_modified=datetime.datetime(2025, 4, 15, 13, 24, 42, tzinfo=datetime.timezone.utc), private=False, gated='auto', disabled=False, downloads=4115, downloads_all_time=None, likes=68, paperswithcode_id=None, tags=['task_categories:text-classification', 'task_categories:token-classification', 'task_categories:table-question-answering', 'task_categories:question-answering', 'task_categories:zero-shot-classification', 'task_categories:translation', 'task_categories:summarization', 'task_categories:feature-extraction', 'task_categories:text-generation', 'task_categories:text2text-generation', 'task_categories:fill-mask', 'task_categories:sentence-similarity', 'task_categories:text-to-speech', 'task_categories:text-to-audio', 'task_categories:automatic-speech-recognition', 'task_categories:audio-to-audio', 'task_categories:audio-classification', 'task_categories:voice-activity-detection', 'task_categories:depth-estimation', 'task_categories:image-classification', 'task_categories:object-detection', 'task_categories:image-segmentation', 'task_categories:text-to-image', 'task_categories:image-to-text', 'task_categories:image-to-image', 'task_categories:image-to-video', 'task_categories:unconditional-image-generation', 'task_categories:video-classification', 'task_categories:reinforcement-learning', 'task_categories:robotics', 'task_categories:tabular-classification', 'task_categories:tabular-regression', 'task_categories:tabular-to-text', 'task_categories:table-to-text', 'task_categories:multiple-choice', 'task_categories:text-retrieval', 'task_categories:time-series-forecasting', 'task_categories:text-to-video', 'task_categories:visual-question-answering', 'task_categories:zero-shot-image-classification', 'task_categories:graph-ml', 'task_categories:mask-generation', 'task_categories:zero-shot-object-detection', 'task_categories:text-to-3d', 'task_categories:image-to-3d', 'task_categories:image-feature-extraction', 'task_categories:video-text-to-text', 'language:ab', 'language:ace', 'language:ady', 'language:af', 'language:alt', 'language:am', 'language:ami', 'language:an', 'language:ang', 'language:anp', 'language:ar', 'language:arc', 'language:ary', 'language:arz', 'language:as', 'language:ast', 'language:atj', 'language:av', 'language:avk', 'language:awa', 'language:ay', 'language:az', 'language:azb', 'language:ba', 'language:ban', 'language:bar', 'language:bbc', 'language:bcl', 'language:be', 'language:bg', 'language:bh', 'language:bi', 'language:bjn', 'language:blk', 'language:bm', 'language:bn', 'language:bo', 'language:bpy', 'language:br', 'language:bs', 'language:bug', 'language:bxr', 'language:ca', 'language:cbk', 'language:cdo', 'language:ce', 'language:ceb', 'language:ch', 'language:chr', 'language:chy', 'language:ckb', 'language:co', 'language:cr', 'language:crh', 'language:cs', 'language:csb', 'language:cu', 'language:cv', 'language:cy', 'language:da', 'language:dag', 'language:de', 'language:dga', 'language:din', 'language:diq', 'language:dsb', 'language:dty', 'language:dv', 'language:dz', 'language:ee', 'language:el', 'language:eml', 'language:en', 'language:eo', 'language:es', 'language:et', 'language:eu', 'language:ext', 'language:fa', 'language:fat', 'language:ff', 'language:fi', 'language:fj', 'language:fo', 'language:fon', 'language:fr', 'language:frp', 'language:frr', 'language:fur', 'language:fy', 'language:ga', 'language:gag', 'language:gan', 'language:gcr', 'language:gd', 'language:gl', 'language:glk', 'language:gn', 'language:gom', 'language:gor', 'language:got', 'language:gpe', 'language:gsw', 'language:gu', 'language:guc', 'language:gur', 'language:guw', 'language:gv', 'language:ha', 'language:hak', 'language:haw', 'language:hbs', 'language:he', 'language:hi', 'language:hif', 'language:hr', 'language:hsb', 'language:ht', 'language:hu', 'language:hy', 'language:hyw', 'language:ia', 'language:id', 'language:ie', 'language:ig', 'language:ik', 'language:ilo', 'language:inh', 'language:io', 'language:is', 'language:it', 'language:iu', 'language:ja', 'language:jam', 'language:jbo', 'language:jv', 'language:ka', 'language:kaa', 'language:kab', 'language:kbd', 'language:kbp', 'language:kcg', 'language:kg', 'language:ki', 'language:kk', 'language:kl', 'language:km', 'language:kn', 'language:ko', 'language:koi', 'language:krc', 'language:ks', 'language:ksh', 'language:ku', 'language:kv', 'language:kw', 'language:ky', 'language:la', 'language:lad', 'language:lb', 'language:lbe', 'language:lez', 'language:lfn', 'language:lg', 'language:li', 'language:lij', 'language:lld', 'language:lmo', 'language:ln', 'language:lo', 'language:lt', 'language:ltg', 'language:lv', 'language:lzh', 'language:mad', 'language:mai', 'language:map', 'language:mdf', 'language:mg', 'language:mhr', 'language:mi', 'language:min', 'language:mk', 'language:ml', 'language:mn', 'language:mni', 'language:mnw', 'language:mr', 'language:mrj', 'language:ms', 'language:mt', 'language:mwl', 'language:my', 'language:myv', 'language:mzn', 'language:nah', 'language:nan', 'language:nap', 'language:nds', 'language:ne', 'language:new', 'language:nia', 'language:nl', 'language:nn', 'language:no', 'language:nov', 'language:nqo', 'language:nrf', 'language:nso', 'language:nv', 'language:ny', 'language:oc', 'language:olo', 'language:om', 'language:or', 'language:os', 'language:pa', 'language:pag', 'language:pam', 'language:pap', 'language:pcd', 'language:pcm', 'language:pdc', 'language:pfl', 'language:pi', 'language:pih', 'language:pl', 'language:pms', 'language:pnb', 'language:pnt', 'language:ps', 'language:pt', 'language:pwn', 'language:qu', 'language:rm', 'language:rmy', 'language:rn', 'language:ro', 'language:ru', 'language:rue', 'language:rup', 'language:rw', 'language:sa', 'language:sah', 'language:sat', 'language:sc', 'language:scn', 'language:sco', 'language:sd', 'language:se', 'language:sg', 'language:sgs', 'language:shi', 'language:shn', 'language:si', 'language:sk', 'language:skr', 'language:sl', 'language:sm', 'language:smn', 'language:sn', 'language:so', 'language:sq', 'language:sr', 'language:srn', 'language:ss', 'language:st', 'language:stq', 'language:su', 'language:sv', 'language:sw', 'language:szl', 'language:szy', 'language:ta', 'language:tay', 'language:tcy', 'language:te', 'language:tet', 'language:tg', 'language:th', 'language:ti', 'language:tk', 'language:tl', 'language:tly', 'language:tn', 'language:to', 'language:tpi', 'language:tr', 'language:trv', 'language:ts', 'language:tt', 'language:tum', 'language:tw', 'language:ty', 'language:tyv', 'language:udm', 'language:ug', 'language:uk', 'language:ur', 'language:uz', 'language:ve', 'language:vec', 'language:vep', 'language:vi', 'language:vls', 'language:vo', 'language:vro', 'language:wa', 'language:war', 'language:wo', 'language:wuu', 'language:xal', 'language:xh', 'language:xmf', 'language:yi', 'language:yo', 'language:yue', 'language:za', 'language:zea', 'language:zgh', 'language:zh', 'language:zu', 'size_categories:10M<n<100M', 'format:parquet', 'modality:text', 'modality:tabular', 'modality:video', 'modality:image', 'modality:audio', 'library:datasets', 'library:dask', 'library:mlcroissant', 'library:polars', 'region:us', 'tabular', 'video', 'image', 'audio', 'text-prompts', 'text', 'universal', 'transformer', 'database', 'massive-data', 'ai', 'training', 'huggingface', 'artificial-intelligence', 'machine-learning', 'deep-learning', 'transformers', 'neural-networks', 'multimodal', 'structured-data', 'tabular-data', 'nlp', 'computer-vision', 'speech-recognition', 'reinforcement-learning', 'time-series', 'large-language-models', 'generative-ai', 'huggingface-dataset', 'pytorch', 'tensorflow', 'jax', 'pretraining', 'finetuning', 'self-supervised-learning', 'few-shot-learning', 'zero-shot-learning', 'unsupervised-learning', 'meta-learning', 'diffusion-models'], trending_score=29, card_data=None, siblings=None, xet_enabled=None), DatasetInfo(id='nvidia/Llama-Nemotron-Post-Training-Dataset', author='nvidia', sha='ec1aa9f7d0832333c68283cd70a3df60bb8021db', created_at=datetime.datetime(2025, 3, 13, 21, 1, 9, tzinfo=datetime.timezone.utc), last_modified=datetime.datetime(2025, 4, 16, 18, 5, 39, tzinfo=datetime.timezone.utc), private=False, gated=False, disabled=False, downloads=6730, downloads_all_time=None, likes=423, paperswithcode_id=None, tags=['license:cc-by-4.0', 'size_categories:1M<n<10M', 'format:json', 'modality:text', 'library:datasets', 'library:dask', 'library:mlcroissant', 'region:us'], trending_score=29, card_data=None, siblings=None, xet_enabled=None), DatasetInfo(id='nvidia/ClimbLab', author='nvidia', sha='9c3267aa7b4b4eda47fba41bbc95d99d072416c5', created_at=datetime.datetime(2025, 3, 26, 16, 19, 11, tzinfo=datetime.timezone.utc), last_modified=datetime.datetime(2025, 4, 21, 19, 2, 49, tzinfo=datetime.timezone.utc), private=False, gated=False, disabled=False, downloads=8964, downloads_all_time=None, likes=28, paperswithcode_id=None, tags=['task_categories:text-generation', 'language:en', 'license:cc-by-nc-4.0', 'size_categories:1B<n<10B', 'format:parquet', 'library:datasets', 'library:dask', 'library:mlcroissant', 'library:polars', 'arxiv:2504.13161', 'region:us'], trending_score=28, card_data=None, siblings=None, xet_enabled=None), DatasetInfo(id='fka/awesome-chatgpt-prompts', author='fka', sha='68ba7694e23014788dcc8ab5afe613824f45a05c', created_at=datetime.datetime(2022, 12, 13, 23, 47, 45, tzinfo=datetime.timezone.utc), last_modified=datetime.datetime(2025, 1, 6, 0, 2, 53, tzinfo=datetime.timezone.utc), private=False, gated=False, disabled=False, downloads=10929, downloads_all_time=None, likes=7714, paperswithcode_id=None, tags=['task_categories:question-answering', 'license:cc0-1.0', 'size_categories:n<1K', 'format:csv', 'modality:text', 'library:datasets', 'library:pandas', 'library:mlcroissant', 'library:polars', 'region:us', 'ChatGPT'], trending_score=25, card_data=None, siblings=None, xet_enabled=None), DatasetInfo(id='bh2821/LightNovel5000', author='bh2821', sha='a9c8ce088c4c89321b1321654568dc99930938e5', created_at=datetime.datetime(2025, 4, 16, 17, 3, 25, tzinfo=datetime.timezone.utc), last_modified=datetime.datetime(2025, 4, 16, 20, 25, 38, tzinfo=datetime.timezone.utc), private=False, gated=False, disabled=False, downloads=604, downloads_all_time=None, likes=22, paperswithcode_id=None, tags=['task_categories:text-generation', 'task_categories:text2text-generation', 'task_categories:translation', 'language:zh', 'license:zlib', 'size_categories:1M<n<10M', 'format:text', 'modality:text', 'library:datasets', 'library:mlcroissant', 'region:us', 'Novel', 'Light-Novel', 'Japanese', 'Chinese'], trending_score=22, card_data=None, siblings=None, xet_enabled=None)]\n"
     ]
    }
   ],
   "source": [
    "from huggingface_hub import list_datasets\n",
    "\n",
    "all_datasets = list(list_datasets())\n",
    "print(f\"Total datasets: {len(all_datasets)}\")\n",
    "print(f\"First 10 datasets: {all_datasets[:10]}\")"
   ]
  },
  {
   "cell_type": "code",
   "execution_count": 10,
   "id": "cafd5058",
   "metadata": {},
   "outputs": [],
   "source": [
    "from datasets import load_dataset\n",
    "\n",
    "emotions = load_dataset(\"emotion\")"
   ]
  },
  {
   "cell_type": "code",
   "execution_count": 11,
   "id": "b2d91a2e",
   "metadata": {},
   "outputs": [
    {
     "data": {
      "text/plain": [
       "DatasetDict({\n",
       "    train: Dataset({\n",
       "        features: ['text', 'label'],\n",
       "        num_rows: 16000\n",
       "    })\n",
       "    validation: Dataset({\n",
       "        features: ['text', 'label'],\n",
       "        num_rows: 2000\n",
       "    })\n",
       "    test: Dataset({\n",
       "        features: ['text', 'label'],\n",
       "        num_rows: 2000\n",
       "    })\n",
       "})"
      ]
     },
     "execution_count": 11,
     "metadata": {},
     "output_type": "execute_result"
    }
   ],
   "source": [
    "emotions"
   ]
  },
  {
   "cell_type": "code",
   "execution_count": 12,
   "id": "4b7f8186",
   "metadata": {},
   "outputs": [
    {
     "data": {
      "text/plain": [
       "Dataset({\n",
       "    features: ['text', 'label'],\n",
       "    num_rows: 16000\n",
       "})"
      ]
     },
     "execution_count": 12,
     "metadata": {},
     "output_type": "execute_result"
    }
   ],
   "source": [
    "train_ds = emotions[\"train\"]\n",
    "train_ds"
   ]
  },
  {
   "cell_type": "code",
   "execution_count": 13,
   "id": "1386c046",
   "metadata": {},
   "outputs": [
    {
     "data": {
      "text/plain": [
       "16000"
      ]
     },
     "execution_count": 13,
     "metadata": {},
     "output_type": "execute_result"
    }
   ],
   "source": [
    "len(train_ds)"
   ]
  },
  {
   "cell_type": "code",
   "execution_count": 14,
   "id": "c7749d3d",
   "metadata": {},
   "outputs": [
    {
     "data": {
      "text/plain": [
       "{'text': 'i didnt feel humiliated', 'label': 0}"
      ]
     },
     "execution_count": 14,
     "metadata": {},
     "output_type": "execute_result"
    }
   ],
   "source": [
    "train_ds[0]"
   ]
  },
  {
   "cell_type": "code",
   "execution_count": 15,
   "id": "270507a0",
   "metadata": {},
   "outputs": [
    {
     "data": {
      "text/plain": [
       "['text', 'label']"
      ]
     },
     "execution_count": 15,
     "metadata": {},
     "output_type": "execute_result"
    }
   ],
   "source": [
    "train_ds.column_names"
   ]
  },
  {
   "cell_type": "code",
   "execution_count": 16,
   "id": "d9232b50",
   "metadata": {},
   "outputs": [
    {
     "name": "stdout",
     "output_type": "stream",
     "text": [
      "{'text': Value(dtype='string', id=None), 'label': ClassLabel(names=['sadness', 'joy', 'love', 'anger', 'fear', 'surprise'], id=None)}\n"
     ]
    }
   ],
   "source": [
    "print(train_ds.features)"
   ]
  },
  {
   "cell_type": "code",
   "execution_count": 17,
   "id": "fe3b7d6b",
   "metadata": {},
   "outputs": [
    {
     "name": "stdout",
     "output_type": "stream",
     "text": [
      "{'text': ['i didnt feel humiliated', 'i can go from feeling so hopeless to so damned hopeful just from being around someone who cares and is awake', 'im grabbing a minute to post i feel greedy wrong', 'i am ever feeling nostalgic about the fireplace i will know that it is still on the property', 'i am feeling grouchy'], 'label': [0, 0, 3, 2, 3]}\n"
     ]
    }
   ],
   "source": [
    "print(train_ds[:5])"
   ]
  },
  {
   "cell_type": "code",
   "execution_count": 18,
   "id": "299b729f",
   "metadata": {},
   "outputs": [],
   "source": [
    "emotions_local = load_dataset(\"csv\", data_files=\"train.txt\", sep=\";\", names=[\"text\", \"label\"])"
   ]
  },
  {
   "cell_type": "code",
   "execution_count": 19,
   "id": "a8bd5b5f",
   "metadata": {},
   "outputs": [],
   "source": [
    "# dataset_url = \"https://huggingface.co/datasets/transformersbook/emotion-train-split/raw/main/train.txt\"\n",
    "# emotions_remote = load_dataset(\"csv\", data_files=dataset_url, sep=\";\", names=[\"text\", \"label\"])"
   ]
  },
  {
   "cell_type": "code",
   "execution_count": 20,
   "id": "98240eea",
   "metadata": {},
   "outputs": [
    {
     "data": {
      "text/html": [
       "<div>\n",
       "<style scoped>\n",
       "    .dataframe tbody tr th:only-of-type {\n",
       "        vertical-align: middle;\n",
       "    }\n",
       "\n",
       "    .dataframe tbody tr th {\n",
       "        vertical-align: top;\n",
       "    }\n",
       "\n",
       "    .dataframe thead th {\n",
       "        text-align: right;\n",
       "    }\n",
       "</style>\n",
       "<table border=\"1\" class=\"dataframe\">\n",
       "  <thead>\n",
       "    <tr style=\"text-align: right;\">\n",
       "      <th></th>\n",
       "      <th>text</th>\n",
       "      <th>label</th>\n",
       "    </tr>\n",
       "  </thead>\n",
       "  <tbody>\n",
       "    <tr>\n",
       "      <th>0</th>\n",
       "      <td>i didnt feel humiliated</td>\n",
       "      <td>0</td>\n",
       "    </tr>\n",
       "    <tr>\n",
       "      <th>1</th>\n",
       "      <td>i can go from feeling so hopeless to so damned...</td>\n",
       "      <td>0</td>\n",
       "    </tr>\n",
       "    <tr>\n",
       "      <th>2</th>\n",
       "      <td>im grabbing a minute to post i feel greedy wrong</td>\n",
       "      <td>3</td>\n",
       "    </tr>\n",
       "    <tr>\n",
       "      <th>3</th>\n",
       "      <td>i am ever feeling nostalgic about the fireplac...</td>\n",
       "      <td>2</td>\n",
       "    </tr>\n",
       "    <tr>\n",
       "      <th>4</th>\n",
       "      <td>i am feeling grouchy</td>\n",
       "      <td>3</td>\n",
       "    </tr>\n",
       "  </tbody>\n",
       "</table>\n",
       "</div>"
      ],
      "text/plain": [
       "                                                text  label\n",
       "0                            i didnt feel humiliated      0\n",
       "1  i can go from feeling so hopeless to so damned...      0\n",
       "2   im grabbing a minute to post i feel greedy wrong      3\n",
       "3  i am ever feeling nostalgic about the fireplac...      2\n",
       "4                               i am feeling grouchy      3"
      ]
     },
     "execution_count": 20,
     "metadata": {},
     "output_type": "execute_result"
    }
   ],
   "source": [
    "import pandas as pd\n",
    "\n",
    "emotions.set_format(\"pandas\")\n",
    "df = emotions[\"train\"][:]\n",
    "df.head()"
   ]
  },
  {
   "cell_type": "code",
   "execution_count": 21,
   "id": "0458ad36",
   "metadata": {},
   "outputs": [
    {
     "data": {
      "text/html": [
       "<div>\n",
       "<style scoped>\n",
       "    .dataframe tbody tr th:only-of-type {\n",
       "        vertical-align: middle;\n",
       "    }\n",
       "\n",
       "    .dataframe tbody tr th {\n",
       "        vertical-align: top;\n",
       "    }\n",
       "\n",
       "    .dataframe thead th {\n",
       "        text-align: right;\n",
       "    }\n",
       "</style>\n",
       "<table border=\"1\" class=\"dataframe\">\n",
       "  <thead>\n",
       "    <tr style=\"text-align: right;\">\n",
       "      <th></th>\n",
       "      <th>text</th>\n",
       "      <th>label</th>\n",
       "      <th>label_name</th>\n",
       "    </tr>\n",
       "  </thead>\n",
       "  <tbody>\n",
       "    <tr>\n",
       "      <th>0</th>\n",
       "      <td>i didnt feel humiliated</td>\n",
       "      <td>0</td>\n",
       "      <td>sadness</td>\n",
       "    </tr>\n",
       "    <tr>\n",
       "      <th>1</th>\n",
       "      <td>i can go from feeling so hopeless to so damned...</td>\n",
       "      <td>0</td>\n",
       "      <td>sadness</td>\n",
       "    </tr>\n",
       "    <tr>\n",
       "      <th>2</th>\n",
       "      <td>im grabbing a minute to post i feel greedy wrong</td>\n",
       "      <td>3</td>\n",
       "      <td>anger</td>\n",
       "    </tr>\n",
       "    <tr>\n",
       "      <th>3</th>\n",
       "      <td>i am ever feeling nostalgic about the fireplac...</td>\n",
       "      <td>2</td>\n",
       "      <td>love</td>\n",
       "    </tr>\n",
       "    <tr>\n",
       "      <th>4</th>\n",
       "      <td>i am feeling grouchy</td>\n",
       "      <td>3</td>\n",
       "      <td>anger</td>\n",
       "    </tr>\n",
       "  </tbody>\n",
       "</table>\n",
       "</div>"
      ],
      "text/plain": [
       "                                                text  label label_name\n",
       "0                            i didnt feel humiliated      0    sadness\n",
       "1  i can go from feeling so hopeless to so damned...      0    sadness\n",
       "2   im grabbing a minute to post i feel greedy wrong      3      anger\n",
       "3  i am ever feeling nostalgic about the fireplac...      2       love\n",
       "4                               i am feeling grouchy      3      anger"
      ]
     },
     "execution_count": 21,
     "metadata": {},
     "output_type": "execute_result"
    }
   ],
   "source": [
    "def label_int2str(row):\n",
    "    return emotions[\"train\"].features[\"label\"].int2str(row)\n",
    "\n",
    "df[\"label_name\"] = df[\"label\"].apply(label_int2str)\n",
    "df.head()"
   ]
  },
  {
   "cell_type": "code",
   "execution_count": 22,
   "id": "2d8f6f98",
   "metadata": {},
   "outputs": [
    {
     "data": {
      "image/png": "[encoded data removed]",
      "text/plain": [
       "<Figure size 640x480 with 1 Axes>"
      ]
     },
     "metadata": {},
     "output_type": "display_data"
    }
   ],
   "source": [
    "import matplotlib.pyplot as plt\n",
    "\n",
    "df[\"label_name\"].value_counts(ascending=True).plot.barh()\n",
    "plt.title(\"Frequency of Classes\")\n",
    "plt.show()"
   ]
  },
  {
   "cell_type": "code",
   "execution_count": 23,
   "id": "65848395",
   "metadata": {},
   "outputs": [
    {
     "data": {
      "image/png": "[encoded data removed]",
      "text/plain": [
       "<Figure size 640x480 with 1 Axes>"
      ]
     },
     "metadata": {},
     "output_type": "display_data"
    }
   ],
   "source": [
    "df[\"Words Per Tweet\"] = df[\"text\"].str.split().apply(len)\n",
    "df.boxplot(\"Words Per Tweet\", by=\"label_name\", grid=False, showfliers=False, color=\"black\")\n",
    "plt.suptitle(\"\")\n",
    "plt.xlabel(\"\")\n",
    "plt.show()"
   ]
  },
  {
   "cell_type": "code",
   "execution_count": 24,
   "id": "5f97adda",
   "metadata": {},
   "outputs": [],
   "source": [
    "emotions.reset_format()"
   ]
  },
  {
   "cell_type": "code",
   "execution_count": 25,
   "id": "dec64c85",
   "metadata": {},
   "outputs": [
    {
     "name": "stdout",
     "output_type": "stream",
     "text": [
      "['T', 'o', 'k', 'e', 'n', 'i', 'z', 'i', 'n', 'g', ' ', 't', 'e', 'x', 't', ' ', 'i', 's', ' ', 'a', ' ', 'c', 'o', 'r', 'e', ' ', 't', 'a', 's', 'k', ' ', 'o', 'f', ' ', 'N', 'L', 'P', '.']\n"
     ]
    }
   ],
   "source": [
    "text = \"Tokenizing text is a core task of NLP.\"\n",
    "tokenized_text = list(text)\n",
    "print(tokenized_text)"
   ]
  },
  {
   "cell_type": "code",
   "execution_count": 26,
   "id": "66c31de0",
   "metadata": {},
   "outputs": [
    {
     "name": "stdout",
     "output_type": "stream",
     "text": [
      "{' ': 0, '.': 1, 'L': 2, 'N': 3, 'P': 4, 'T': 5, 'a': 6, 'c': 7, 'e': 8, 'f': 9, 'g': 10, 'i': 11, 'k': 12, 'n': 13, 'o': 14, 'r': 15, 's': 16, 't': 17, 'x': 18, 'z': 19}\n"
     ]
    }
   ],
   "source": [
    "token2idx = {ch: idx for idx, ch in enumerate(sorted(set(tokenized_text)))}\n",
    "print(token2idx)"
   ]
  },
  {
   "cell_type": "code",
   "execution_count": 27,
   "id": "e53418bf",
   "metadata": {},
   "outputs": [
    {
     "name": "stdout",
     "output_type": "stream",
     "text": [
      "[5, 14, 12, 8, 13, 11, 19, 11, 13, 10, 0, 17, 8, 18, 17, 0, 11, 16, 0, 6, 0, 7, 14, 15, 8, 0, 17, 6, 16, 12, 0, 14, 9, 0, 3, 2, 4, 1]\n"
     ]
    }
   ],
   "source": [
    "input_ids = [token2idx[token] for token in tokenized_text]\n",
    "print(input_ids)"
   ]
  },
  {
   "cell_type": "code",
   "execution_count": 28,
   "id": "fd20785d",
   "metadata": {},
   "outputs": [
    {
     "data": {
      "text/html": [
       "<div>\n",
       "<style scoped>\n",
       "    .dataframe tbody tr th:only-of-type {\n",
       "        vertical-align: middle;\n",
       "    }\n",
       "\n",
       "    .dataframe tbody tr th {\n",
       "        vertical-align: top;\n",
       "    }\n",
       "\n",
       "    .dataframe thead th {\n",
       "        text-align: right;\n",
       "    }\n",
       "</style>\n",
       "<table border=\"1\" class=\"dataframe\">\n",
       "  <thead>\n",
       "    <tr style=\"text-align: right;\">\n",
       "      <th></th>\n",
       "      <th>Name</th>\n",
       "      <th>Label ID</th>\n",
       "    </tr>\n",
       "  </thead>\n",
       "  <tbody>\n",
       "    <tr>\n",
       "      <th>0</th>\n",
       "      <td>Bumblebee</td>\n",
       "      <td>0</td>\n",
       "    </tr>\n",
       "    <tr>\n",
       "      <th>1</th>\n",
       "      <td>Optimus Prime</td>\n",
       "      <td>1</td>\n",
       "    </tr>\n",
       "    <tr>\n",
       "      <th>2</th>\n",
       "      <td>Megatron</td>\n",
       "      <td>2</td>\n",
       "    </tr>\n",
       "  </tbody>\n",
       "</table>\n",
       "</div>"
      ],
      "text/plain": [
       "            Name  Label ID\n",
       "0      Bumblebee         0\n",
       "1  Optimus Prime         1\n",
       "2       Megatron         2"
      ]
     },
     "execution_count": 28,
     "metadata": {},
     "output_type": "execute_result"
    }
   ],
   "source": [
    "categorical_df = pd.DataFrame({\"Name\": [\"Bumblebee\", \"Optimus Prime\", \"Megatron\"], \"Label ID\": [0,1,2]})\n",
    "categorical_df"
   ]
  },
  {
   "cell_type": "code",
   "execution_count": 29,
   "id": "1deb5c31",
   "metadata": {},
   "outputs": [
    {
     "data": {
      "text/html": [
       "<div>\n",
       "<style scoped>\n",
       "    .dataframe tbody tr th:only-of-type {\n",
       "        vertical-align: middle;\n",
       "    }\n",
       "\n",
       "    .dataframe tbody tr th {\n",
       "        vertical-align: top;\n",
       "    }\n",
       "\n",
       "    .dataframe thead th {\n",
       "        text-align: right;\n",
       "    }\n",
       "</style>\n",
       "<table border=\"1\" class=\"dataframe\">\n",
       "  <thead>\n",
       "    <tr style=\"text-align: right;\">\n",
       "      <th></th>\n",
       "      <th>Bumblebee</th>\n",
       "      <th>Megatron</th>\n",
       "      <th>Optimus Prime</th>\n",
       "    </tr>\n",
       "  </thead>\n",
       "  <tbody>\n",
       "    <tr>\n",
       "      <th>0</th>\n",
       "      <td>1</td>\n",
       "      <td>0</td>\n",
       "      <td>0</td>\n",
       "    </tr>\n",
       "    <tr>\n",
       "      <th>1</th>\n",
       "      <td>0</td>\n",
       "      <td>0</td>\n",
       "      <td>1</td>\n",
       "    </tr>\n",
       "    <tr>\n",
       "      <th>2</th>\n",
       "      <td>0</td>\n",
       "      <td>1</td>\n",
       "      <td>0</td>\n",
       "    </tr>\n",
       "  </tbody>\n",
       "</table>\n",
       "</div>"
      ],
      "text/plain": [
       "   Bumblebee  Megatron  Optimus Prime\n",
       "0          1         0              0\n",
       "1          0         0              1\n",
       "2          0         1              0"
      ]
     },
     "execution_count": 29,
     "metadata": {},
     "output_type": "execute_result"
    }
   ],
   "source": [
    "pd.get_dummies(categorical_df[\"Name\"])"
   ]
  },
  {
   "cell_type": "code",
   "execution_count": 34,
   "id": "76a9fb9c",
   "metadata": {},
   "outputs": [
    {
     "name": "stderr",
     "output_type": "stream",
     "text": [
      "C:\\Users\\luisa\\AppData\\Local\\Temp\\ipykernel_26020\\4005198375.py:4: UserWarning: To copy construct from a tensor, it is recommended to use sourceTensor.clone().detach() or sourceTensor.clone().detach().requires_grad_(True), rather than torch.tensor(sourceTensor).\n",
      "  input_ids = torch.tensor(input_ids)\n"
     ]
    },
    {
     "data": {
      "text/plain": [
       "torch.Size([38, 20])"
      ]
     },
     "execution_count": 34,
     "metadata": {},
     "output_type": "execute_result"
    }
   ],
   "source": [
    "import torch\n",
    "import torch.nn.functional as F\n",
    "\n",
    "input_ids = torch.tensor(input_ids)\n",
    "one_hot_encodings = F.one_hot(input_ids, num_classes=len(token2idx))\n",
    "one_hot_encodings.shape"
   ]
  },
  {
   "cell_type": "code",
   "execution_count": 35,
   "id": "e805df26",
   "metadata": {},
   "outputs": [
    {
     "name": "stdout",
     "output_type": "stream",
     "text": [
      "Token: T\n",
      "Tensor index: 5\n",
      "One-hot: tensor([0, 0, 0, 0, 0, 1, 0, 0, 0, 0, 0, 0, 0, 0, 0, 0, 0, 0, 0, 0])\n"
     ]
    }
   ],
   "source": [
    "print(f\"Token: {tokenized_text[0]}\")\n",
    "print(f\"Tensor index: {input_ids[0]}\")\n",
    "print(f\"One-hot: {one_hot_encodings[0]}\")"
   ]
  },
  {
   "cell_type": "code",
   "execution_count": 36,
   "id": "25ca8298",
   "metadata": {},
   "outputs": [
    {
     "name": "stdout",
     "output_type": "stream",
     "text": [
      "['Tokenizing', 'text', 'is', 'a', 'core', 'task', 'of', 'NLP.']\n"
     ]
    }
   ],
   "source": [
    "tokenized_text = text.split()\n",
    "print(tokenized_text)"
   ]
  },
  {
   "cell_type": "code",
   "execution_count": 37,
   "id": "3165df42",
   "metadata": {},
   "outputs": [],
   "source": [
    "from transformers import AutoTokenizer\n",
    "\n",
    "model_ckpt = \"distilbert-base-uncased\"\n",
    "tokenizer = AutoTokenizer.from_pretrained(model_ckpt)"
   ]
  },
  {
   "cell_type": "code",
   "execution_count": 38,
   "id": "92af9260",
   "metadata": {},
   "outputs": [],
   "source": [
    "from transformers import DistilBertTokenizer\n",
    "\n",
    "distilbert_tokenizer = DistilBertTokenizer.from_pretrained(model_ckpt)"
   ]
  },
  {
   "cell_type": "code",
   "execution_count": 40,
   "id": "dad16ce0",
   "metadata": {},
   "outputs": [
    {
     "name": "stdout",
     "output_type": "stream",
     "text": [
      "{'input_ids': [101, 19204, 6026, 3793, 2003, 1037, 4563, 4708, 1997, 17953, 2361, 1012, 102], 'attention_mask': [1, 1, 1, 1, 1, 1, 1, 1, 1, 1, 1, 1, 1]}\n"
     ]
    }
   ],
   "source": [
    "encoded_text = tokenizer(text)\n",
    "print(encoded_text)"
   ]
  },
  {
   "cell_type": "code",
   "execution_count": 42,
   "id": "7fec1209",
   "metadata": {},
   "outputs": [
    {
     "name": "stdout",
     "output_type": "stream",
     "text": [
      "['[CLS]', 'token', '##izing', 'text', 'is', 'a', 'core', 'task', 'of', 'nl', '##p', '.', '[SEP]']\n"
     ]
    }
   ],
   "source": [
    "tokens = tokenizer.convert_ids_to_tokens(encoded_text.input_ids)\n",
    "print(tokens)"
   ]
  },
  {
   "cell_type": "code",
   "execution_count": 43,
   "id": "ccab5e26",
   "metadata": {},
   "outputs": [
    {
     "name": "stdout",
     "output_type": "stream",
     "text": [
      "[CLS] tokenizing text is a core task of nlp. [SEP]\n"
     ]
    }
   ],
   "source": [
    "print(tokenizer.convert_tokens_to_string(tokens))"
   ]
  },
  {
   "cell_type": "code",
   "execution_count": 44,
   "id": "2e9d7e13",
   "metadata": {},
   "outputs": [
    {
     "data": {
      "text/plain": [
       "30522"
      ]
     },
     "execution_count": 44,
     "metadata": {},
     "output_type": "execute_result"
    }
   ],
   "source": [
    "tokenizer.vocab_size"
   ]
  },
  {
   "cell_type": "code",
   "execution_count": 45,
   "id": "6174afb3",
   "metadata": {},
   "outputs": [
    {
     "data": {
      "text/plain": [
       "512"
      ]
     },
     "execution_count": 45,
     "metadata": {},
     "output_type": "execute_result"
    }
   ],
   "source": [
    "tokenizer.model_max_length"
   ]
  },
  {
   "cell_type": "code",
   "execution_count": 46,
   "id": "2d32124a",
   "metadata": {},
   "outputs": [
    {
     "data": {
      "text/plain": [
       "['input_ids', 'attention_mask']"
      ]
     },
     "execution_count": 46,
     "metadata": {},
     "output_type": "execute_result"
    }
   ],
   "source": [
    "tokenizer.model_input_names"
   ]
  },
  {
   "cell_type": "code",
   "execution_count": 47,
   "id": "59924df7",
   "metadata": {},
   "outputs": [],
   "source": [
    "def tokenize(batch):\n",
    "    return tokenizer(batch[\"text\"], padding=True, truncation=True)"
   ]
  },
  {
   "cell_type": "code",
   "execution_count": 48,
   "id": "49d65144",
   "metadata": {},
   "outputs": [
    {
     "name": "stdout",
     "output_type": "stream",
     "text": [
      "{'input_ids': [[101, 1045, 2134, 2102, 2514, 26608, 102, 0, 0, 0, 0, 0, 0, 0, 0, 0, 0, 0, 0, 0, 0, 0, 0], [101, 1045, 2064, 2175, 2013, 3110, 2061, 20625, 2000, 2061, 9636, 17772, 2074, 2013, 2108, 2105, 2619, 2040, 14977, 1998, 2003, 8300, 102]], 'attention_mask': [[1, 1, 1, 1, 1, 1, 1, 0, 0, 0, 0, 0, 0, 0, 0, 0, 0, 0, 0, 0, 0, 0, 0], [1, 1, 1, 1, 1, 1, 1, 1, 1, 1, 1, 1, 1, 1, 1, 1, 1, 1, 1, 1, 1, 1, 1]]}\n"
     ]
    }
   ],
   "source": [
    "print(tokenize(emotions[\"train\"][:2]))"
   ]
  }
 ],
 "metadata": {
  "kernelspec": {
   "display_name": "venv",
   "language": "python",
   "name": "python3"
  },
  "language_info": {
   "codemirror_mode": {
    "name": "ipython",
    "version": 3
   },
   "file_extension": ".py",
   "mimetype": "text/x-python",
   "name": "python",
   "nbconvert_exporter": "python",
   "pygments_lexer": "ipython3",
   "version": "3.9.13"
  }
 },
 "nbformat": 4,
 "nbformat_minor": 5
}
