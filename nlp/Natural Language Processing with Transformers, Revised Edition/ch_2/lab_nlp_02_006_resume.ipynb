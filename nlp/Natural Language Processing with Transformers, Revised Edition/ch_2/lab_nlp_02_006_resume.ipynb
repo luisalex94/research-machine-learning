{
 "cells": [
  {
   "cell_type": "markdown",
   "id": "a30ca961",
   "metadata": {},
   "source": [
    "## Text classification\n",
    "NLP Model with DistilBERT"
   ]
  },
  {
   "cell_type": "code",
   "execution_count": 59,
   "id": "4b48efce",
   "metadata": {},
   "outputs": [],
   "source": [
    "import matplotlib.pyplot as plt\n",
    "from sklearn.metrics import ConfusionMatrixDisplay, confusion_matrix\n",
    "\n",
    "def plot_confusion_matrix(y_preds, y_true, labels):\n",
    "    cm = confusion_matrix(y_true, y_preds, normalize=\"true\")\n",
    "    fig, ax = plt.subplots(figsize=(6, 6))\n",
    "    disp = ConfusionMatrixDisplay(confusion_matrix=cm, display_labels=labels)\n",
    "    disp.plot(cmap=\"Blues\", values_format=\".2f\", ax=ax, colorbar=False)\n",
    "    plt.title(\"Normalized confusion matrix\")\n",
    "    plt.show()"
   ]
  },
  {
   "cell_type": "code",
   "execution_count": 60,
   "id": "6af21e85",
   "metadata": {},
   "outputs": [
    {
     "name": "stdout",
     "output_type": "stream",
     "text": [
      "Using device: cuda\n",
      "\n",
      "Using CPU: False\n",
      "\n",
      "Actual type of emotions:\n",
      "<class 'datasets.dataset_dict.DatasetDict'>\n",
      "\n",
      "Actual content of emotions:\n",
      "DatasetDict({\n",
      "    train: Dataset({\n",
      "        features: ['text', 'label'],\n",
      "        num_rows: 16000\n",
      "    })\n",
      "    validation: Dataset({\n",
      "        features: ['text', 'label'],\n",
      "        num_rows: 2000\n",
      "    })\n",
      "    test: Dataset({\n",
      "        features: ['text', 'label'],\n",
      "        num_rows: 2000\n",
      "    })\n",
      "})\n",
      "\n"
     ]
    }
   ],
   "source": [
    "# Import necessary libraries\n",
    "from datasets import load_dataset\n",
    "\n",
    "# Set the device to use for computations\n",
    "import torch\n",
    "device = torch.device(\"cuda\" if torch.cuda.is_available() else \"cpu\")\n",
    "# Print the device being used\n",
    "print(f\"Using device: {device}\\n\")\n",
    "\n",
    "# Use CPU\n",
    "use_cpu = True if device.type == 'cpu' else False\n",
    "\n",
    "# Print whether CPU is being used\n",
    "print(f\"Using CPU: {use_cpu}\\n\")\n",
    "\n",
    "# Load the emotion dataset\n",
    "emotions = load_dataset(\"emotion\")\n",
    "\n",
    "# Display the type and structure of the dataset\n",
    "print(f\"Actual type of emotions:\\n{type(emotions)}\\n\")\n",
    "print(f\"Actual content of emotions:\\n{emotions}\\n\")"
   ]
  },
  {
   "cell_type": "code",
   "execution_count": 61,
   "id": "5907dd87",
   "metadata": {},
   "outputs": [
    {
     "name": "stdout",
     "output_type": "stream",
     "text": [
      "Actual type of emotions:\n",
      "<class 'datasets.dataset_dict.DatasetDict'>\n",
      "\n",
      "Actual content of emotions:\n",
      "DatasetDict({\n",
      "    train: Dataset({\n",
      "        features: ['text', 'label'],\n",
      "        num_rows: 16000\n",
      "    })\n",
      "    validation: Dataset({\n",
      "        features: ['text', 'label'],\n",
      "        num_rows: 2000\n",
      "    })\n",
      "    test: Dataset({\n",
      "        features: ['text', 'label'],\n",
      "        num_rows: 2000\n",
      "    })\n",
      "})\n",
      "\n",
      "Actual type of emotions_df:\n",
      "<class 'pandas.core.frame.DataFrame'>\n",
      "\n",
      "Actual content of emotions_df:\n",
      "                                                    text  label\n",
      "0                                i didnt feel humiliated      0\n",
      "1      i can go from feeling so hopeless to so damned...      0\n",
      "2       im grabbing a minute to post i feel greedy wrong      3\n",
      "3      i am ever feeling nostalgic about the fireplac...      2\n",
      "4                                   i am feeling grouchy      3\n",
      "...                                                  ...    ...\n",
      "15995  i just had a very brief time in the beanbag an...      0\n",
      "15996  i am now turning and i feel pathetic that i am...      0\n",
      "15997                     i feel strong and good overall      1\n",
      "15998  i feel like this was such a rude comment and i...      3\n",
      "15999  i know a lot but i feel so stupid because i ca...      0\n",
      "\n",
      "[16000 rows x 2 columns]\n",
      "\n"
     ]
    }
   ],
   "source": [
    "# Plot the distribution of emotions in the dataset\n",
    "emotions.set_format(\"pandas\")\n",
    "\n",
    "# Display type and content of the dataset\n",
    "print(f\"Actual type of emotions:\\n{type(emotions)}\\n\")\n",
    "print(f\"Actual content of emotions:\\n{emotions}\\n\")\n",
    "\n",
    "# Convert the dataset to a pandas DataFrame\n",
    "emotions_df = emotions[\"train\"][:]\n",
    "\n",
    "# Display type and content of the DataFrame\n",
    "print(f\"Actual type of emotions_df:\\n{type(emotions_df)}\\n\")\n",
    "print(f\"Actual content of emotions_df:\\n{emotions_df}\\n\")\n"
   ]
  },
  {
   "cell_type": "code",
   "execution_count": 62,
   "id": "19206ad9",
   "metadata": {},
   "outputs": [
    {
     "data": {
      "image/png": "[encoded data removed]",
      "text/plain": [
       "<Figure size 640x480 with 1 Axes>"
      ]
     },
     "metadata": {},
     "output_type": "display_data"
    }
   ],
   "source": [
    "# Import the necessary libraries\n",
    "import matplotlib.pyplot as plt\n",
    "\n",
    "# Plot the distribution of emotions in the dataset\n",
    "emotions_df[\"label\"].value_counts(ascending=True).plot.barh()\n",
    "plt.title(\"Frequency of Emotions in the Dataset\")\n",
    "plt.xlabel(\"Frequency\")\n",
    "plt.ylabel(\"Emotions\")\n",
    "plt.show()"
   ]
  },
  {
   "cell_type": "code",
   "execution_count": 63,
   "id": "86352ec9",
   "metadata": {},
   "outputs": [
    {
     "name": "stdout",
     "output_type": "stream",
     "text": [
      "Actual type of tokenizer:\n",
      "<class 'transformers.models.distilbert.tokenization_distilbert_fast.DistilBertTokenizerFast'>\n",
      "\n",
      "Actual content of tokenizer:\n",
      "DistilBertTokenizerFast(name_or_path='distilbert-base-uncased', vocab_size=30522, model_max_length=512, is_fast=True, padding_side='right', truncation_side='right', special_tokens={'unk_token': '[UNK]', 'sep_token': '[SEP]', 'pad_token': '[PAD]', 'cls_token': '[CLS]', 'mask_token': '[MASK]'}, clean_up_tokenization_spaces=False, added_tokens_decoder={\n",
      "\t0: AddedToken(\"[PAD]\", rstrip=False, lstrip=False, single_word=False, normalized=False, special=True),\n",
      "\t100: AddedToken(\"[UNK]\", rstrip=False, lstrip=False, single_word=False, normalized=False, special=True),\n",
      "\t101: AddedToken(\"[CLS]\", rstrip=False, lstrip=False, single_word=False, normalized=False, special=True),\n",
      "\t102: AddedToken(\"[SEP]\", rstrip=False, lstrip=False, single_word=False, normalized=False, special=True),\n",
      "\t103: AddedToken(\"[MASK]\", rstrip=False, lstrip=False, single_word=False, normalized=False, special=True),\n",
      "}\n",
      ")\n",
      "\n"
     ]
    }
   ],
   "source": [
    "# Import the necessary libraries\n",
    "from transformers import AutoTokenizer\n",
    "\n",
    "# Load the checkpoint for the tokenizer\n",
    "model_ckpt = \"distilbert-base-uncased\"\n",
    "\n",
    "# Initialize the tokenizer\n",
    "tokenizer = AutoTokenizer.from_pretrained(model_ckpt)\n",
    "\n",
    "# Display the type and content of the tokenizer\n",
    "print(f\"Actual type of tokenizer:\\n{type(tokenizer)}\\n\")\n",
    "print(f\"Actual content of tokenizer:\\n{tokenizer}\\n\")"
   ]
  },
  {
   "cell_type": "code",
   "execution_count": 64,
   "id": "eea089d5",
   "metadata": {},
   "outputs": [],
   "source": [
    "# Define a function to tokenize the dataset\n",
    "def tokenize_function(batch):\n",
    "    return tokenizer(batch[\"text\"], padding=True, truncation=True)"
   ]
  },
  {
   "cell_type": "code",
   "execution_count": 65,
   "id": "c1a5a8fc",
   "metadata": {},
   "outputs": [
    {
     "name": "stdout",
     "output_type": "stream",
     "text": [
      "Actual type of emotions:\n",
      "<class 'datasets.dataset_dict.DatasetDict'>\n",
      "\n",
      "Actual content of emotions:\n",
      "DatasetDict({\n",
      "    train: Dataset({\n",
      "        features: ['text', 'label'],\n",
      "        num_rows: 16000\n",
      "    })\n",
      "    validation: Dataset({\n",
      "        features: ['text', 'label'],\n",
      "        num_rows: 2000\n",
      "    })\n",
      "    test: Dataset({\n",
      "        features: ['text', 'label'],\n",
      "        num_rows: 2000\n",
      "    })\n",
      "})\n",
      "\n"
     ]
    },
    {
     "data": {
      "application/vnd.jupyter.widget-view+json": {
       "model_id": "39d61edd088c4d44a997e124b3b58dc2",
       "version_major": 2,
       "version_minor": 0
      },
      "text/plain": [
       "Map:   0%|          | 0/2000 [00:00<?, ? examples/s]"
      ]
     },
     "metadata": {},
     "output_type": "display_data"
    },
    {
     "name": "stdout",
     "output_type": "stream",
     "text": [
      "Actual type of emotions_encoded:\n",
      "<class 'datasets.dataset_dict.DatasetDict'>\n",
      "\n",
      "Actual content of emotions_encoded:\n",
      "DatasetDict({\n",
      "    train: Dataset({\n",
      "        features: ['text', 'label', 'input_ids', 'attention_mask'],\n",
      "        num_rows: 16000\n",
      "    })\n",
      "    validation: Dataset({\n",
      "        features: ['text', 'label', 'input_ids', 'attention_mask'],\n",
      "        num_rows: 2000\n",
      "    })\n",
      "    test: Dataset({\n",
      "        features: ['text', 'label', 'input_ids', 'attention_mask'],\n",
      "        num_rows: 2000\n",
      "    })\n",
      "})\n",
      "\n"
     ]
    }
   ],
   "source": [
    "# Convert the dataset to torch format\n",
    "emotions.set_format(\"torch\")\n",
    "\n",
    "# Display the type and content of emotions\n",
    "print(f\"Actual type of emotions:\\n{type(emotions)}\\n\")\n",
    "print(f\"Actual content of emotions:\\n{emotions}\\n\")\n",
    "\n",
    "# Tokenize the dataset\n",
    "emotions_encoded = emotions.map(tokenize_function, batched=True, batch_size=None)\n",
    "\n",
    "# Display the type and contet of emotions_encoded\n",
    "print(f\"Actual type of emotions_encoded:\\n{type(emotions_encoded)}\\n\")\n",
    "print(f\"Actual content of emotions_encoded:\\n{emotions_encoded}\\n\")"
   ]
  },
  {
   "cell_type": "code",
   "execution_count": 66,
   "id": "d413cdf6",
   "metadata": {},
   "outputs": [
    {
     "name": "stdout",
     "output_type": "stream",
     "text": [
      "Actual type of model:\n",
      "<class 'transformers.models.distilbert.modeling_distilbert.DistilBertModel'>\n",
      "\n",
      "Actual content of model:\n",
      "DistilBertModel(\n",
      "  (embeddings): Embeddings(\n",
      "    (word_embeddings): Embedding(30522, 768, padding_idx=0)\n",
      "    (position_embeddings): Embedding(512, 768)\n",
      "    (LayerNorm): LayerNorm((768,), eps=1e-12, elementwise_affine=True)\n",
      "    (dropout): Dropout(p=0.1, inplace=False)\n",
      "  )\n",
      "  (transformer): Transformer(\n",
      "    (layer): ModuleList(\n",
      "      (0-5): 6 x TransformerBlock(\n",
      "        (attention): DistilBertSdpaAttention(\n",
      "          (dropout): Dropout(p=0.1, inplace=False)\n",
      "          (q_lin): Linear(in_features=768, out_features=768, bias=True)\n",
      "          (k_lin): Linear(in_features=768, out_features=768, bias=True)\n",
      "          (v_lin): Linear(in_features=768, out_features=768, bias=True)\n",
      "          (out_lin): Linear(in_features=768, out_features=768, bias=True)\n",
      "        )\n",
      "        (sa_layer_norm): LayerNorm((768,), eps=1e-12, elementwise_affine=True)\n",
      "        (ffn): FFN(\n",
      "          (dropout): Dropout(p=0.1, inplace=False)\n",
      "          (lin1): Linear(in_features=768, out_features=3072, bias=True)\n",
      "          (lin2): Linear(in_features=3072, out_features=768, bias=True)\n",
      "          (activation): GELUActivation()\n",
      "        )\n",
      "        (output_layer_norm): LayerNorm((768,), eps=1e-12, elementwise_affine=True)\n",
      "      )\n",
      "    )\n",
      "  )\n",
      ")\n",
      "\n"
     ]
    }
   ],
   "source": [
    "# Import necessary libraries\n",
    "from transformers import AutoModel\n",
    "\n",
    "# Load the pretrained model and move it to the specified device\n",
    "model = AutoModel.from_pretrained(model_ckpt).to(device)\n",
    "\n",
    "# Display the type and content of the model\n",
    "print(f\"Actual type of model:\\n{type(model)}\\n\")\n",
    "print(f\"Actual content of model:\\n{model}\\n\")"
   ]
  },
  {
   "cell_type": "code",
   "execution_count": 67,
   "id": "053eed1c",
   "metadata": {},
   "outputs": [
    {
     "name": "stdout",
     "output_type": "stream",
     "text": [
      "Actual type of model:\n",
      "<class 'transformers.models.distilbert.modeling_distilbert.DistilBertForSequenceClassification'>\n",
      "\n",
      "Actual content of model:\n",
      "DistilBertForSequenceClassification(\n",
      "  (distilbert): DistilBertModel(\n",
      "    (embeddings): Embeddings(\n",
      "      (word_embeddings): Embedding(30522, 768, padding_idx=0)\n",
      "      (position_embeddings): Embedding(512, 768)\n",
      "      (LayerNorm): LayerNorm((768,), eps=1e-12, elementwise_affine=True)\n",
      "      (dropout): Dropout(p=0.1, inplace=False)\n",
      "    )\n",
      "    (transformer): Transformer(\n",
      "      (layer): ModuleList(\n",
      "        (0-5): 6 x TransformerBlock(\n",
      "          (attention): DistilBertSdpaAttention(\n",
      "            (dropout): Dropout(p=0.1, inplace=False)\n",
      "            (q_lin): Linear(in_features=768, out_features=768, bias=True)\n",
      "            (k_lin): Linear(in_features=768, out_features=768, bias=True)\n",
      "            (v_lin): Linear(in_features=768, out_features=768, bias=True)\n",
      "            (out_lin): Linear(in_features=768, out_features=768, bias=True)\n",
      "          )\n",
      "          (sa_layer_norm): LayerNorm((768,), eps=1e-12, elementwise_affine=True)\n",
      "          (ffn): FFN(\n",
      "            (dropout): Dropout(p=0.1, inplace=False)\n",
      "            (lin1): Linear(in_features=768, out_features=3072, bias=True)\n",
      "            (lin2): Linear(in_features=3072, out_features=768, bias=True)\n",
      "            (activation): GELUActivation()\n",
      "          )\n",
      "          (output_layer_norm): LayerNorm((768,), eps=1e-12, elementwise_affine=True)\n",
      "        )\n",
      "      )\n",
      "    )\n",
      "  )\n",
      "  (pre_classifier): Linear(in_features=768, out_features=768, bias=True)\n",
      "  (classifier): Linear(in_features=768, out_features=6, bias=True)\n",
      "  (dropout): Dropout(p=0.2, inplace=False)\n",
      ")\n",
      "\n"
     ]
    }
   ],
   "source": [
    "# Import necessary libraries\n",
    "from transformers import AutoModelForSequenceClassification\n",
    "\n",
    "# Set the number of labels for the classification task\n",
    "num_labels = 6\n",
    "\n",
    "# Load the pretrained model and move it to the specified device\n",
    "model = AutoModelForSequenceClassification.from_pretrained(model_ckpt, num_labels=num_labels).to(device)\n",
    "\n",
    "# Display the type and content of the model\n",
    "print(f\"Actual type of model:\\n{type(model)}\\n\")\n",
    "print(f\"Actual content of model:\\n{model}\\n\")\n",
    "\n",
    "# Import necessary libraries\n",
    "from transformers import DistilBertForSequenceClassification\n",
    "\n",
    "# Load the pretrained model and move it to the specified device\n",
    "model = DistilBertForSequenceClassification.from_pretrained(model_ckpt, num_labels=num_labels).to(device)"
   ]
  },
  {
   "cell_type": "code",
   "execution_count": 68,
   "id": "bf75d620",
   "metadata": {},
   "outputs": [],
   "source": [
    "# Import the necessary libraries\n",
    "from sklearn.metrics import accuracy_score, f1_score\n",
    "\n",
    "# Define a function to compute the metrics\n",
    "def compute_metrics(pred):\n",
    "    labels = pred.label_ids\n",
    "    preds = pred.predictions.argmax(-1)\n",
    "    f1 = f1_score(labels, preds, average=\"weighted\")\n",
    "    acc = accuracy_score(labels, preds)\n",
    "    return {\"accuracy\": acc, \"f1\": f1}"
   ]
  },
  {
   "cell_type": "code",
   "execution_count": 69,
   "id": "411fad90",
   "metadata": {},
   "outputs": [
    {
     "name": "stdout",
     "output_type": "stream",
     "text": [
      "Actual type of training_args:\n",
      "<class 'transformers.training_args.TrainingArguments'>\n",
      "\n",
      "Actual content of training_args:\n",
      "TrainingArguments(\n",
      "_n_gpu=1,\n",
      "accelerator_config={'split_batches': False, 'dispatch_batches': None, 'even_batches': True, 'use_seedable_sampler': True, 'non_blocking': False, 'gradient_accumulation_kwargs': None, 'use_configured_state': False},\n",
      "adafactor=False,\n",
      "adam_beta1=0.9,\n",
      "adam_beta2=0.999,\n",
      "adam_epsilon=1e-08,\n",
      "auto_find_batch_size=False,\n",
      "average_tokens_across_devices=False,\n",
      "batch_eval_metrics=False,\n",
      "bf16=False,\n",
      "bf16_full_eval=False,\n",
      "data_seed=None,\n",
      "dataloader_drop_last=False,\n",
      "dataloader_num_workers=0,\n",
      "dataloader_persistent_workers=False,\n",
      "dataloader_pin_memory=True,\n",
      "dataloader_prefetch_factor=None,\n",
      "ddp_backend=None,\n",
      "ddp_broadcast_buffers=None,\n",
      "ddp_bucket_cap_mb=None,\n",
      "ddp_find_unused_parameters=None,\n",
      "ddp_timeout=1800,\n",
      "debug=[],\n",
      "deepspeed=None,\n",
      "disable_tqdm=False,\n",
      "do_eval=False,\n",
      "do_predict=False,\n",
      "do_train=False,\n",
      "eval_accumulation_steps=None,\n",
      "eval_delay=0,\n",
      "eval_do_concat_batches=True,\n",
      "eval_on_start=False,\n",
      "eval_steps=None,\n",
      "eval_strategy=no,\n",
      "eval_use_gather_object=False,\n",
      "fp16=False,\n",
      "fp16_backend=auto,\n",
      "fp16_full_eval=False,\n",
      "fp16_opt_level=O1,\n",
      "fsdp=[],\n",
      "fsdp_config={'min_num_params': 0, 'xla': False, 'xla_fsdp_v2': False, 'xla_fsdp_grad_ckpt': False},\n",
      "fsdp_min_num_params=0,\n",
      "fsdp_transformer_layer_cls_to_wrap=None,\n",
      "full_determinism=False,\n",
      "gradient_accumulation_steps=1,\n",
      "gradient_checkpointing=False,\n",
      "gradient_checkpointing_kwargs=None,\n",
      "greater_is_better=None,\n",
      "group_by_length=False,\n",
      "half_precision_backend=auto,\n",
      "hub_always_push=False,\n",
      "hub_model_id=None,\n",
      "hub_private_repo=None,\n",
      "hub_strategy=every_save,\n",
      "hub_token=<HUB_TOKEN>,\n",
      "ignore_data_skip=False,\n",
      "include_for_metrics=[],\n",
      "include_inputs_for_metrics=False,\n",
      "include_num_input_tokens_seen=False,\n",
      "include_tokens_per_second=False,\n",
      "jit_mode_eval=False,\n",
      "label_names=None,\n",
      "label_smoothing_factor=0.0,\n",
      "learning_rate=2e-05,\n",
      "length_column_name=length,\n",
      "load_best_model_at_end=False,\n",
      "local_rank=0,\n",
      "log_level=error,\n",
      "log_level_replica=warning,\n",
      "log_on_each_node=True,\n",
      "logging_dir=distilbert-base-uncased-finetuned-emotion/runs/Jun16_21-59-11_debian-ml,\n",
      "logging_first_step=False,\n",
      "logging_nan_inf_filter=True,\n",
      "logging_steps=1000,\n",
      "logging_strategy=steps,\n",
      "lr_scheduler_kwargs={},\n",
      "lr_scheduler_type=linear,\n",
      "max_grad_norm=1.0,\n",
      "max_steps=-1,\n",
      "metric_for_best_model=None,\n",
      "mp_parameters=,\n",
      "neftune_noise_alpha=None,\n",
      "no_cuda=False,\n",
      "num_train_epochs=2,\n",
      "optim=adamw_torch,\n",
      "optim_args=None,\n",
      "optim_target_modules=None,\n",
      "output_dir=distilbert-base-uncased-finetuned-emotion,\n",
      "overwrite_output_dir=False,\n",
      "past_index=-1,\n",
      "per_device_eval_batch_size=16,\n",
      "per_device_train_batch_size=16,\n",
      "prediction_loss_only=False,\n",
      "push_to_hub=False,\n",
      "push_to_hub_model_id=None,\n",
      "push_to_hub_organization=None,\n",
      "push_to_hub_token=<PUSH_TO_HUB_TOKEN>,\n",
      "ray_scope=last,\n",
      "remove_unused_columns=True,\n",
      "report_to=['tensorboard'],\n",
      "restore_callback_states_from_checkpoint=False,\n",
      "resume_from_checkpoint=None,\n",
      "run_name=distilbert-base-uncased-finetuned-emotion,\n",
      "save_on_each_node=False,\n",
      "save_only_model=False,\n",
      "save_safetensors=True,\n",
      "save_steps=500,\n",
      "save_strategy=steps,\n",
      "save_total_limit=None,\n",
      "seed=42,\n",
      "skip_memory_metrics=True,\n",
      "tf32=None,\n",
      "torch_compile=False,\n",
      "torch_compile_backend=None,\n",
      "torch_compile_mode=None,\n",
      "torch_empty_cache_steps=None,\n",
      "torchdynamo=None,\n",
      "tp_size=0,\n",
      "tpu_metrics_debug=False,\n",
      "tpu_num_cores=None,\n",
      "use_cpu=False,\n",
      "use_ipex=False,\n",
      "use_legacy_prediction_loop=False,\n",
      "use_liger_kernel=False,\n",
      "use_mps_device=False,\n",
      "warmup_ratio=0.0,\n",
      "warmup_steps=0,\n",
      "weight_decay=0.01,\n",
      ")\n",
      "\n"
     ]
    },
    {
     "name": "stderr",
     "output_type": "stream",
     "text": [
      "huggingface/tokenizers: The current process just got forked, after parallelism has already been used. Disabling parallelism to avoid deadlocks...\n",
      "To disable this warning, you can either:\n",
      "\t- Avoid using `tokenizers` before the fork if possible\n",
      "\t- Explicitly set the environment variable TOKENIZERS_PARALLELISM=(true | false)\n"
     ]
    }
   ],
   "source": [
    "# Import the necessary libraries\n",
    "from transformers import TrainingArguments\n",
    "\n",
    "batch_size = 16\n",
    "logging_steps = len(emotions_encoded[\"train\"]) // batch_size\n",
    "model_name = f\"{model_ckpt}-finetuned-emotion\"\n",
    "\n",
    "# Define the training arguments\n",
    "training_args = TrainingArguments(\n",
    "    output_dir=model_name,\n",
    "    num_train_epochs=2,\n",
    "    learning_rate=2e-5,\n",
    "    per_device_train_batch_size=batch_size,\n",
    "    per_device_eval_batch_size=batch_size,\n",
    "    weight_decay=0.01,\n",
    "    disable_tqdm=False,\n",
    "    logging_steps=logging_steps,\n",
    "    log_level=\"error\",\n",
    "    use_cpu=use_cpu,\n",
    ")\n",
    "\n",
    "# Display the type and content of training_args\n",
    "print(f\"Actual type of training_args:\\n{type(training_args)}\\n\")\n",
    "print(f\"Actual content of training_args:\\n{training_args}\\n\")"
   ]
  },
  {
   "cell_type": "code",
   "execution_count": 70,
   "id": "fd6879bc",
   "metadata": {},
   "outputs": [
    {
     "name": "stdout",
     "output_type": "stream",
     "text": [
      "Actual type of trainer:\n",
      "<class 'transformers.trainer.Trainer'>\n",
      "\n",
      "Actual content of trainer:\n",
      "<transformers.trainer.Trainer object at 0x7efbd3c7feb0>\n",
      "\n"
     ]
    },
    {
     "name": "stderr",
     "output_type": "stream",
     "text": [
      "/tmp/ipykernel_18177/1759585347.py:3: FutureWarning: `tokenizer` is deprecated and will be removed in version 5.0.0 for `Trainer.__init__`. Use `processing_class` instead.\n",
      "  trainer = Trainer(\n"
     ]
    }
   ],
   "source": [
    "from transformers import Trainer\n",
    "\n",
    "trainer = Trainer(\n",
    "    model = model,\n",
    "    args = training_args,\n",
    "    compute_metrics = compute_metrics,\n",
    "    train_dataset = emotions_encoded[\"train\"],\n",
    "    eval_dataset = emotions_encoded[\"validation\"],\n",
    "    tokenizer = tokenizer,\n",
    ")\n",
    "\n",
    "# Display the type and content of the trainer\n",
    "print(f\"Actual type of trainer:\\n{type(trainer)}\\n\")\n",
    "print(f\"Actual content of trainer:\\n{trainer}\\n\")"
   ]
  },
  {
   "cell_type": "code",
   "execution_count": 71,
   "id": "1e1c9600",
   "metadata": {},
   "outputs": [
    {
     "data": {
      "text/html": [
       "\n",
       "    <div>\n",
       "      \n",
       "      <progress value='2000' max='2000' style='width:300px; height:20px; vertical-align: middle;'></progress>\n",
       "      [2000/2000 02:38, Epoch 2/2]\n",
       "    </div>\n",
       "    <table border=\"1\" class=\"dataframe\">\n",
       "  <thead>\n",
       " <tr style=\"text-align: left;\">\n",
       "      <th>Step</th>\n",
       "      <th>Training Loss</th>\n",
       "    </tr>\n",
       "  </thead>\n",
       "  <tbody>\n",
       "    <tr>\n",
       "      <td>1000</td>\n",
       "      <td>0.500700</td>\n",
       "    </tr>\n",
       "    <tr>\n",
       "      <td>2000</td>\n",
       "      <td>0.147400</td>\n",
       "    </tr>\n",
       "  </tbody>\n",
       "</table><p>"
      ],
      "text/plain": [
       "<IPython.core.display.HTML object>"
      ]
     },
     "metadata": {},
     "output_type": "display_data"
    },
    {
     "data": {
      "text/plain": [
       "TrainOutput(global_step=2000, training_loss=0.3240486145019531, metrics={'train_runtime': 158.7232, 'train_samples_per_second': 201.609, 'train_steps_per_second': 12.601, 'total_flos': 720342861696000.0, 'train_loss': 0.3240486145019531, 'epoch': 2.0})"
      ]
     },
     "execution_count": 71,
     "metadata": {},
     "output_type": "execute_result"
    }
   ],
   "source": [
    "# Train the model\n",
    "trainer.train()"
   ]
  },
  {
   "cell_type": "code",
   "execution_count": 72,
   "id": "6afa2536",
   "metadata": {},
   "outputs": [
    {
     "data": {
      "text/html": [],
      "text/plain": [
       "<IPython.core.display.HTML object>"
      ]
     },
     "metadata": {},
     "output_type": "display_data"
    },
    {
     "name": "stdout",
     "output_type": "stream",
     "text": [
      "Actual type of preds_output:\n",
      "<class 'transformers.trainer_utils.PredictionOutput'>\n",
      "\n",
      "Actual content of preds_output:\n",
      "PredictionOutput(predictions=array([[ 6.260294 , -0.9776847, -1.6417962, -0.9957253, -1.5342512,\n",
      "        -2.4566238],\n",
      "       [ 6.261336 , -1.0980879, -1.5351146, -0.9789647, -1.5325044,\n",
      "        -2.4451425],\n",
      "       [ 6.2957053, -1.2065431, -1.6407982, -1.2618804, -1.1884197,\n",
      "        -2.3964736],\n",
      "       ...,\n",
      "       [-1.1220503,  6.2975316, -1.0781802, -1.9238647, -1.9995522,\n",
      "        -1.6323285],\n",
      "       [-0.9020463,  6.0972757, -1.2354444, -1.9527782, -1.5094322,\n",
      "        -1.8920273],\n",
      "       [-1.7444773, -1.8308815, -1.9005495, -2.0714965,  2.9643428,\n",
      "         2.84394  ]], dtype=float32), label_ids=array([0, 0, 0, ..., 1, 1, 4]), metrics={'test_loss': 0.17407453060150146, 'test_accuracy': 0.923, 'test_f1': 0.9227900746071418, 'test_runtime': 2.1695, 'test_samples_per_second': 921.851, 'test_steps_per_second': 57.616})\n",
      "\n",
      "Actual type of preds_output.metrics:\n",
      "<class 'dict'>\n",
      "\n",
      "Actual content of preds_output.metrics:\n",
      "{'test_loss': 0.17407453060150146, 'test_accuracy': 0.923, 'test_f1': 0.9227900746071418, 'test_runtime': 2.1695, 'test_samples_per_second': 921.851, 'test_steps_per_second': 57.616}\n",
      "\n"
     ]
    }
   ],
   "source": [
    "preds_output = trainer.predict(emotions_encoded[\"test\"])\n",
    "\n",
    "# Display the type and content of preds_output\n",
    "print(f\"Actual type of preds_output:\\n{type(preds_output)}\\n\")\n",
    "print(f\"Actual content of preds_output:\\n{preds_output}\\n\")\n",
    "\n",
    "# Display the type and content of preds_output.metrics\n",
    "print(f\"Actual type of preds_output.metrics:\\n{type(preds_output.metrics)}\\n\")\n",
    "print(f\"Actual content of preds_output.metrics:\\n{preds_output.metrics}\\n\")"
   ]
  },
  {
   "cell_type": "code",
   "execution_count": 75,
   "id": "4bb929eb",
   "metadata": {},
   "outputs": [
    {
     "name": "stdout",
     "output_type": "stream",
     "text": [
      "Actual type of y_preds:\n",
      "<class 'numpy.ndarray'>\n",
      "\n",
      "Actual content of y_preds:\n",
      "[0 0 0 ... 1 1 4]\n",
      "\n"
     ]
    }
   ],
   "source": [
    "import numpy as np\n",
    "\n",
    "y_preds = np.argmax(preds_output.predictions, axis=1)\n",
    "\n",
    "# Display the type and content of y_preds\n",
    "print(f\"Actual type of y_preds:\\n{type(y_preds)}\\n\")\n",
    "print(f\"Actual content of y_preds:\\n{y_preds}\\n\")\n"
   ]
  },
  {
   "cell_type": "code",
   "execution_count": 76,
   "id": "8e95ef10",
   "metadata": {},
   "outputs": [
    {
     "name": "stdout",
     "output_type": "stream",
     "text": [
      "Counts of predictions for each label:\n",
      "Counter({np.int64(1): 694, np.int64(0): 585, np.int64(3): 275, np.int64(4): 221, np.int64(2): 163, np.int64(5): 62})\n",
      "\n"
     ]
    },
    {
     "data": {
      "text/plain": [
       "{np.int64(0): 585,\n",
       " np.int64(1): 694,\n",
       " np.int64(4): 221,\n",
       " np.int64(3): 275,\n",
       " np.int64(2): 163,\n",
       " np.int64(5): 62}"
      ]
     },
     "execution_count": 76,
     "metadata": {},
     "output_type": "execute_result"
    }
   ],
   "source": [
    "# Count the number of predictions for each label\n",
    "from collections import Counter\n",
    "label_counts = Counter(y_preds)\n",
    "# Display the counts of predictions for each label\n",
    "print(f\"Counts of predictions for each label:\\n{label_counts}\\n\")\n",
    "# Display the counts of predictions for each label as a dictionary\n",
    "label_counts_dict = dict(label_counts)\n",
    "\n",
    "label_counts_dict"
   ]
  },
  {
   "cell_type": "code",
   "execution_count": 77,
   "id": "dd499958",
   "metadata": {},
   "outputs": [
    {
     "data": {
      "image/png": "[encoded data removed]",
      "text/plain": [
       "<Figure size 600x600 with 1 Axes>"
      ]
     },
     "metadata": {},
     "output_type": "display_data"
    }
   ],
   "source": [
    "y_valid = emotions_encoded[\"test\"][\"label\"]\n",
    "labels = emotions[\"train\"].features[\"label\"].names\n",
    "\n",
    "plot_confusion_matrix(y_preds, y_valid, labels)"
   ]
  }
 ],
 "metadata": {
  "kernelspec": {
   "display_name": "venv",
   "language": "python",
   "name": "python3"
  },
  "language_info": {
   "codemirror_mode": {
    "name": "ipython",
    "version": 3
   },
   "file_extension": ".py",
   "mimetype": "text/x-python",
   "name": "python",
   "nbconvert_exporter": "python",
   "pygments_lexer": "ipython3",
   "version": "3.9.22"
  }
 },
 "nbformat": 4,
 "nbformat_minor": 5
}
