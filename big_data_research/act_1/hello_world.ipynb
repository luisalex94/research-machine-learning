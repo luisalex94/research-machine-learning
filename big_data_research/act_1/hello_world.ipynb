{
 "cells": [
  {
   "cell_type": "code",
   "execution_count": 17,
   "metadata": {},
   "outputs": [
    {
     "name": "stdout",
     "output_type": "stream",
     "text": [
      "Hola\n"
     ]
    }
   ],
   "source": [
    "print(\"Hola\")"
   ]
  },
  {
   "cell_type": "code",
   "execution_count": null,
   "metadata": {},
   "outputs": [
    {
     "name": "stdout",
     "output_type": "stream",
     "text": [
      "+---------+----+\n",
      "|   Nombre|Edad|\n",
      "+---------+----+\n",
      "|     Alex|  30|\n",
      "|   Angiie|  30|\n",
      "|Antonieta|  40|\n",
      "+---------+----+\n",
      "\n"
     ]
    }
   ],
   "source": [
    "import os\n",
    "os.environ[\"JAVA_HOME\"] = \"/opt/homebrew/Cellar/openjdk@11/11.0.26/libexec/openjdk.jdk/Contents/Home\"\n",
    "\n",
    "\n",
    "from pyspark.sql import SparkSession\n",
    "\n",
    "spark = SparkSession.builder \\\n",
    "    .appName(\"HolaMundoPySpark\") \\\n",
    "    .getOrCreate()\n",
    "\n",
    "datos = [(\"Alex\", 30), (\"Angiie\", 30), (\"Antonieta\", 40)]\n",
    "columnas = [\"Nombre\", \"Edad\"]\n",
    "\n",
    "df = spark.createDataFrame(datos, columnas)\n",
    "\n",
    "df.show()\n",
    "\n",
    "spark.stop()"
   ]
  }
 ],
 "metadata": {
  "kernelspec": {
   "display_name": "Python 3",
   "language": "python",
   "name": "python3"
  },
  "language_info": {
   "codemirror_mode": {
    "name": "ipython",
    "version": 3
   },
   "file_extension": ".py",
   "mimetype": "text/x-python",
   "name": "python",
   "nbconvert_exporter": "python",
   "pygments_lexer": "ipython3",
   "version": "3.9.6"
  }
 },
 "nbformat": 4,
 "nbformat_minor": 2
}
