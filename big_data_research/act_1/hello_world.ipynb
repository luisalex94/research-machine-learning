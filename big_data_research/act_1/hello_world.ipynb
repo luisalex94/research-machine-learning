{
 "cells": [
  {
   "cell_type": "code",
   "execution_count": 13,
   "metadata": {},
   "outputs": [
    {
     "name": "stdout",
     "output_type": "stream",
     "text": [
      "Hola\n"
     ]
    }
   ],
   "source": [
    "print(\"Hola\")"
   ]
  },
  {
   "cell_type": "code",
   "execution_count": 14,
   "metadata": {},
   "outputs": [
    {
     "name": "stdout",
     "output_type": "stream",
     "text": [
      "c:\\Users\\luisa\\Documents\\Desarrollo\\research-machine-learning\\venv_big_data\\Scripts\\python.exe\n"
     ]
    }
   ],
   "source": [
    "import sys\n",
    "print(sys.executable)"
   ]
  },
  {
   "cell_type": "code",
   "execution_count": 15,
   "metadata": {},
   "outputs": [
    {
     "name": "stdout",
     "output_type": "stream",
     "text": [
      "+---+-----+\n",
      "| id|texto|\n",
      "+---+-----+\n",
      "|  1| Hola|\n",
      "|  2|Mundo|\n",
      "+---+-----+\n",
      "\n",
      "+---+-----+\n",
      "| id|texto|\n",
      "+---+-----+\n",
      "|  1| Hola|\n",
      "|  2|Mundo|\n",
      "+---+-----+\n",
      "\n"
     ]
    }
   ],
   "source": [
    "from pyspark.sql import SparkSession\n",
    "# import os\n",
    "\n",
    "# os.environ[\"PYSPARK_PYTHON\"] = r\"c:/Users/luisa/Documents/Desarrollo/research-machine-learning/venv_big_data/Scripts/python.exe\"\n",
    "# os.environ[\"PYSPARK_DRIVER_PYTHON\"] = r\"c:/Users/luisa/Documents/Desarrollo/research-machine-learning/venv_big_data/Scripts/python.exe\"\n",
    "\n",
    "spark = SparkSession.builder.master(\"local[*]\").appName(\"test\").getOrCreate()\n",
    "df = spark.createDataFrame([(1, \"Hola\"), (2, \"Mundo\")], [\"id\", \"texto\"])\n",
    "df.show()\n",
    "df.cache()\n",
    "df.show()\n"
   ]
  },
  {
   "cell_type": "code",
   "execution_count": 16,
   "metadata": {},
   "outputs": [
    {
     "name": "stdout",
     "output_type": "stream",
     "text": [
      "+---+-----+\n",
      "| id| name|\n",
      "+---+-----+\n",
      "|  1|Alice|\n",
      "|  2|  Bob|\n",
      "+---+-----+\n",
      "\n"
     ]
    }
   ],
   "source": [
    "from pyspark.sql import SparkSession\n",
    "\n",
    "spark = SparkSession.builder.master(\"local[*]\").appName(\"Test\").getOrCreate()\n",
    "\n",
    "df = spark.createDataFrame([(1, 'Alice'), (2, 'Bob')], [\"id\", \"name\"])\n",
    "df.show()"
   ]
  },
  {
   "cell_type": "code",
   "execution_count": 17,
   "metadata": {},
   "outputs": [
    {
     "name": "stdout",
     "output_type": "stream",
     "text": [
      "c:\\Users\\luisa\\Documents\\Desarrollo\\research-machine-learning\\venv_big_data\\Scripts\\python.exe\n"
     ]
    }
   ],
   "source": [
    "import sys\n",
    "print(sys.executable)"
   ]
  },
  {
   "cell_type": "code",
   "execution_count": 18,
   "metadata": {},
   "outputs": [
    {
     "name": "stdout",
     "output_type": "stream",
     "text": [
      "+---------+----+\n",
      "|   Nombre|Edad|\n",
      "+---------+----+\n",
      "|     Alex|  30|\n",
      "|   Angiie|  30|\n",
      "|Antonieta|  40|\n",
      "+---------+----+\n",
      "\n"
     ]
    }
   ],
   "source": [
    "# import os\n",
    "# os.environ[\"JAVA_HOME\"] = \"/opt/homebrew/Cellar/openjdk@11/11.0.26/libexec/openjdk.jdk/Contents/Home\"\n",
    "\n",
    "\n",
    "from pyspark.sql import SparkSession\n",
    "\n",
    "spark = SparkSession.builder \\\n",
    "    .appName(\"HolaMundoPySpark\") \\\n",
    "    .getOrCreate()\n",
    "\n",
    "datos = [(\"Alex\", 30), (\"Angiie\", 30), (\"Antonieta\", 40)]\n",
    "columnas = [\"Nombre\", \"Edad\"]\n",
    "\n",
    "df = spark.createDataFrame(datos, columnas)\n",
    "\n",
    "df.show()\n",
    "\n",
    "spark.stop()"
   ]
  }
 ],
 "metadata": {
  "kernelspec": {
   "display_name": "venv_big_data",
   "language": "python",
   "name": "python3"
  },
  "language_info": {
   "codemirror_mode": {
    "name": "ipython",
    "version": 3
   },
   "file_extension": ".py",
   "mimetype": "text/x-python",
   "name": "python",
   "nbconvert_exporter": "python",
   "pygments_lexer": "ipython3",
   "version": "3.9.13"
  }
 },
 "nbformat": 4,
 "nbformat_minor": 2
}
