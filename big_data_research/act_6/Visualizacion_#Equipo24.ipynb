{
 "cells": [
  {
   "cell_type": "markdown",
   "id": "EDW2kLrXqE02",
   "metadata": {
    "id": "EDW2kLrXqE02"
   },
   "source": [
    "# **Actividad 5 | Visualización de resultados**"
   ]
  },
  {
   "cell_type": "markdown",
   "id": "yoPG5g3yraUF",
   "metadata": {
    "id": "yoPG5g3yraUF"
   },
   "source": [
    "**Equipo 24**\n",
    "\n",
    "| Integrantes  | Matricula |\n",
    "|---------|------|\n",
    "| Marilyn Sofia Mori Castillo  | A01796415   |\n",
    "| Iván Alejandro Pedraza Macias  | A01795371 |\n",
    "| Luis Alejandro Juárez Rodríguez | A01795463   |\n",
    "| Luis Carlos Alberto Espinosa Alvarado | A00816016  |\n"
   ]
  },
  {
   "cell_type": "markdown",
   "id": "Ej-bxbfhrejk",
   "metadata": {
    "id": "Ej-bxbfhrejk"
   },
   "source": [
    "##    **1. Proceso de Validación Cruzada**"
   ]
  },
  {
   "cell_type": "markdown",
   "id": "UYjMsWCEuiI1",
   "metadata": {
    "id": "UYjMsWCEuiI1"
   },
   "source": [
    "En esta actividad se implementa un proceso de validación cruzada para evaluar la variabilidad de los resultados del/los algoritmo(s) que obtuvieron mejor desempeño en la Actividad 4 del Módulo 5. Para este análisis, se parte de la muestra 𝑀={𝑀𝑖}, que consiste en particiones derivadas de las variables de caracterización de la población.\n",
    "\n",
    "**¿Qué es la validación cruzada k-fold?**\n",
    "\n",
    "La validación cruzada k-fold es una técnica de evaluación que consiste en dividir el conjunto de datos en k particiones (o \"folds\") del mismo tamaño (o casi iguales), y luego entrenar el modelo k veces, utilizando en cada iteración un fold diferente como conjunto de prueba, y los k-1 restantes como conjunto de entrenamiento.\n",
    "\n",
    "Este enfoque permite:\n",
    "\n",
    "    1. Evaluar la estabilidad y generalización del modelo.\n",
    "\n",
    "    2. Reducir el sesgo que se puede obtener con una sola división entre entrenamiento y prueba.\n",
    "\n",
    "    3. Obtener métricas de desempeño más confiables al promediar los resultados sobre los distintos folds.\n",
    "\n",
    "**Justificación k = 5**\n",
    "\n",
    "Aunque el valor comúnmente utilizado en la literatura para k-fold es k = 10, en este caso se ha optado por utilizar k = 5, por las siguientes razones:\n",
    "\n",
    "  * Tamaño de la muestra M: Si bien la muestra es representativa, su tamaño limitado podría hacer que al dividirla en 10 folds se generen subconjuntos demasiado pequeños para un entrenamiento robusto. Con 5 folds se mantiene un equilibrio entre tamaño de muestra por fold y cantidad de iteraciones.\n",
    "\n",
    "  * Representatividad: Al mantener 5 folds, cada subconjunto sigue siendo representativo de la población general, siempre que la división se realice de forma estratificada (especialmente si existen clases desbalanceadas).\n",
    "\n",
    "  * Costo computacional: La validación cruzada implica repetir el entrenamiento k veces. En escenarios donde el tiempo o los recursos son limitados, usar 5 folds en lugar de 10 reduce a la mitad el costo sin perder mucha confiabilidad en la estimación."
   ]
  },
  {
   "cell_type": "markdown",
   "id": "qZZMc0gQu-z_",
   "metadata": {
    "id": "qZZMc0gQu-z_"
   },
   "source": [
    "##    **2. Construcción de los K-folds**"
   ]
  },
  {
   "cell_type": "code",
   "execution_count": null,
   "id": "ad4d3f3e",
   "metadata": {
    "id": "ad4d3f3e",
    "outputId": "09d91c73-2a22-49eb-9999-1c1adb32a9f6"
   },
   "outputs": [
    {
     "name": "stderr",
     "output_type": "stream",
     "text": [
      "25/06/16 21:43:04 WARN Utils: Your hostname, debian-ml resolves to a loopback address: 127.0.1.1; using 192.168.1.123 instead (on interface enp4s0)\n",
      "25/06/16 21:43:04 WARN Utils: Set SPARK_LOCAL_IP if you need to bind to another address\n",
      "Setting default log level to \"WARN\".\n",
      "To adjust logging level use sc.setLogLevel(newLevel). For SparkR, use setLogLevel(newLevel).\n",
      "25/06/16 21:43:05 WARN NativeCodeLoader: Unable to load native-hadoop library for your platform... using builtin-java classes where applicable\n",
      "25/06/16 21:43:05 WARN Utils: Service 'SparkUI' could not bind on port 4040. Attempting port 4041.\n"
     ]
    },
    {
     "data": {
      "text/html": [
       "\n",
       "            <div>\n",
       "                <p><b>SparkSession - in-memory</b></p>\n",
       "                \n",
       "        <div>\n",
       "            <p><b>SparkContext</b></p>\n",
       "\n",
       "            <p><a href=\"http://192.168.1.123:4041\">Spark UI</a></p>\n",
       "\n",
       "            <dl>\n",
       "              <dt>Version</dt>\n",
       "                <dd><code>v3.5.5</code></dd>\n",
       "              <dt>Master</dt>\n",
       "                <dd><code>local[*]</code></dd>\n",
       "              <dt>AppName</dt>\n",
       "                <dd><code>YellowTripDataAnalysis</code></dd>\n",
       "            </dl>\n",
       "        </div>\n",
       "        \n",
       "            </div>\n",
       "        "
      ],
      "text/plain": [
       "<pyspark.sql.session.SparkSession at 0x7f8dfc1e0670>"
      ]
     },
     "execution_count": 1,
     "metadata": {},
     "output_type": "execute_result"
    }
   ],
   "source": [
    "import findspark\n",
    "import pandas as pd\n",
    "findspark.init()\n",
    "findspark.find()\n",
    "\n",
    "from pyspark import SparkContext, SparkConf, SQLContext\n",
    "from pyspark.sql import SparkSession\n",
    "# spark = SparkSession.builder.master(\"local[*]\").getOrCreate()\n",
    "# spark.conf.set(\"sparl.sql.repl.eagerEval.enabled\", True)\n",
    "from pyspark.sql.functions import col, isnan, when, count,rand\n",
    "from pyspark.sql import SparkSession\n",
    "\n",
    "from pyspark.sql.functions import col, hour, when, unix_timestamp, round as spark_round\n",
    "from pyspark.sql.types import IntegerType\n",
    "import numpy as np\n",
    "from pyspark.sql.functions import col, unix_timestamp\n",
    "from pyspark.ml.feature import VectorAssembler, StringIndexer\n",
    "from pyspark.ml.regression import RandomForestRegressor\n",
    "from pyspark.ml.evaluation import RegressionEvaluator\n",
    "\n",
    "from pyspark.ml import Pipeline\n",
    "\n",
    "\n",
    "spark = SparkSession.builder \\\n",
    "    .appName(\"YellowTripDataAnalysis\") \\\n",
    "    .master(\"local[*]\") \\\n",
    "    .getOrCreate()\n",
    "\n",
    "spark"
   ]
  },
  {
   "cell_type": "code",
   "execution_count": null,
   "id": "caffe748",
   "metadata": {
    "id": "caffe748",
    "outputId": "f81de963-2f5a-45d2-a147-0a3a7195cac0"
   },
   "outputs": [
    {
     "name": "stderr",
     "output_type": "stream",
     "text": [
      "                                                                                \r"
     ]
    },
    {
     "name": "stdout",
     "output_type": "stream",
     "text": [
      "Número de filas: 12748986\n",
      "Número de columnas: ['VendorID', 'tpep_pickup_datetime', 'tpep_dropoff_datetime', 'passenger_count', 'trip_distance', 'pickup_longitude', 'pickup_latitude', 'RateCodeID', 'store_and_fwd_flag', 'dropoff_longitude', 'dropoff_latitude', 'payment_type', 'fare_amount', 'extra', 'mta_tax', 'tip_amount', 'tolls_amount', 'improvement_surcharge', 'total_amount']\n",
      "+--------+--------------------+---------------------+---------------+-------------+------------------+------------------+----------+------------------+------------------+------------------+------------+-----------+-----+-------+----------+------------+---------------------+------------+\n",
      "|VendorID|tpep_pickup_datetime|tpep_dropoff_datetime|passenger_count|trip_distance|  pickup_longitude|   pickup_latitude|RateCodeID|store_and_fwd_flag| dropoff_longitude|  dropoff_latitude|payment_type|fare_amount|extra|mta_tax|tip_amount|tolls_amount|improvement_surcharge|total_amount|\n",
      "+--------+--------------------+---------------------+---------------+-------------+------------------+------------------+----------+------------------+------------------+------------------+------------+-----------+-----+-------+----------+------------+---------------------+------------+\n",
      "|       2| 2015-01-15 19:05:39|  2015-01-15 19:23:42|              1|         1.59|  -73.993896484375|  40.7501106262207|         1|                 N|-73.97478485107422| 40.75061798095703|           1|       12.0|  1.0|    0.5|      3.25|         0.0|                  0.3|       17.05|\n",
      "|       1| 2015-01-10 20:33:38|  2015-01-10 20:53:28|              1|          3.3|-74.00164794921875|  40.7242431640625|         1|                 N|-73.99441528320312| 40.75910949707031|           1|       14.5|  0.5|    0.5|       2.0|         0.0|                  0.3|        17.8|\n",
      "|       1| 2015-01-10 20:33:38|  2015-01-10 20:43:41|              1|          1.8|-73.96334075927734| 40.80278778076172|         1|                 N|-73.95182037353516| 40.82441329956055|           2|        9.5|  0.5|    0.5|       0.0|         0.0|                  0.3|        10.8|\n",
      "|       1| 2015-01-10 20:33:39|  2015-01-10 20:35:31|              1|          0.5|-74.00908660888672| 40.71381759643555|         1|                 N|-74.00432586669922| 40.71998596191406|           2|        3.5|  0.5|    0.5|       0.0|         0.0|                  0.3|         4.8|\n",
      "|       1| 2015-01-10 20:33:39|  2015-01-10 20:52:58|              1|          3.0|-73.97117614746094|40.762428283691406|         1|                 N|-74.00418090820312|40.742652893066406|           2|       15.0|  0.5|    0.5|       0.0|         0.0|                  0.3|        16.3|\n",
      "+--------+--------------------+---------------------+---------------+-------------+------------------+------------------+----------+------------------+------------------+------------------+------------+-----------+-----+-------+----------+------------+---------------------+------------+\n",
      "only showing top 5 rows\n",
      "\n"
     ]
    }
   ],
   "source": [
    "# Lectura de informacion\n",
    "df = spark.read.option(\"header\", True).option(\"inferSchema\", True).csv(\"../data/yellow_tripdata/yellow_tripdata_2015-01.csv\")\n",
    "print(f\"Número de filas: {df.count()}\")\n",
    "print(f\"Número de columnas: {df.columns}\")\n",
    "df.show(5)\n",
    "# display(df)"
   ]
  },
  {
   "cell_type": "code",
   "execution_count": null,
   "id": "6df0831a",
   "metadata": {
    "id": "6df0831a"
   },
   "outputs": [],
   "source": [
    "# Generamos un diccionario con los factores de caracterización\n",
    "charact_factor = {\n",
    "    \"passenger_count\": 1e10,\n",
    "    \"trip_distance\": 2.5,\n",
    "    \"payment_type\": 3,\n",
    "    \"total_amount\": 3,\n",
    "    \"tpep_pickup_datetime\": 1e10,\n",
    "    \"tpep_dropoff_datetime\": 1e10,\n",
    "}\n",
    "\n",
    "# Obtenemos una muestra del 5% de los datos originales\n",
    "sample = df.select(list(charact_factor.keys())).sample(False, 0.05, seed=42)"
   ]
  },
  {
   "cell_type": "code",
   "execution_count": null,
   "id": "8cadc2ad",
   "metadata": {
    "id": "8cadc2ad",
    "outputId": "3091636c-0882-44f5-fdd3-a29990334cae"
   },
   "outputs": [
    {
     "name": "stderr",
     "output_type": "stream",
     "text": [
      "                                                                                \r"
     ]
    }
   ],
   "source": [
    "# Copiamos el DataFrame original a otro DataFrame\n",
    "df_sample = sample.select(\"*\")\n",
    "\n",
    "# Se eliminan las filas con valores nulos\n",
    "df_sample = df_sample.dropna()\n",
    "\n",
    "# Se crea la columna trip_duration\n",
    "df_sample = df_sample.withColumn(\n",
    "    \"trip_duration\",\n",
    "    (unix_timestamp(\"tpep_dropoff_datetime\") - unix_timestamp(\"tpep_pickup_datetime\")) / 60,\n",
    ")\n",
    "\n",
    "# Se agrega la columna trip_duration al diccionario charact_factor\n",
    "charact_factor['trip_duration'] = 2\n",
    "\n",
    "# Se extraen las horas de las columnas tpep_pickup_datetime y tpep_dropoff_datetime\n",
    "df_sample = df_sample.withColumn(\"tpep_pickup_datetime\", hour(\"tpep_pickup_datetime\"))\n",
    "df_sample = df_sample.withColumn(\"tpep_dropoff_datetime\", hour(\"tpep_dropoff_datetime\"))\n",
    "\n",
    "# Se eliminan los valores negativos y ceros de las columnas trip_distance,\n",
    "# total_amount, passenger_count y trip_duration\n",
    "for colname in [\"trip_distance\", \"total_amount\", \"passenger_count\", \"trip_duration\"]:\n",
    "    df_sample = df_sample.filter(col(colname) > 0)\n",
    "\n",
    "# Se crea la columna trip_distance_bind\n",
    "df_sample = df_sample.withColumn(\n",
    "    \"trip_distance_bind\",\n",
    "    when(col(\"trip_distance\") <= 3.0, 1)\n",
    "    .when((col(\"trip_distance\") > 3.0) & (col(\"trip_distance\") <= 10.0), 2)\n",
    "    .when(col(\"trip_distance\") > 10.0, 3)\n",
    ")\n",
    "\n",
    "# Se crea la columna total_amount_bind\n",
    "df_sample = df_sample.withColumn(\n",
    "    \"total_amount_bind\",\n",
    "    when(col(\"total_amount\") <= 10.0, 1)\n",
    "    .when((col(\"total_amount\") > 10.0) & (col(\"total_amount\") <= 20.0), 2)\n",
    "    .when(col(\"total_amount\") > 20.0, 3)\n",
    ")\n",
    "\n",
    "# Se crea la columna passenger_count_bind\n",
    "df_sample = df_sample.withColumn(\n",
    "    \"passenger_count_bind\",\n",
    "    when(col(\"passenger_count\") <= 2.0, 1)\n",
    "    .when((col(\"passenger_count\") > 2.0) & (col(\"passenger_count\") <= 6.0), 2)\n",
    ")\n",
    "\n",
    "# Se crea la columna trip_duration_bind\n",
    "df_sample = df_sample.withColumn(\n",
    "    \"trip_duration_bind\",\n",
    "    when(col(\"trip_duration\") <= 10.0, 1)\n",
    "    .when((col(\"trip_duration\") > 10.0) & (col(\"trip_duration\") <= 20.0), 2)\n",
    "    .when(col(\"trip_duration\") > 20.0, 3)\n",
    ")\n",
    "\n",
    "# Se crea la columna payment_type_bind\n",
    "df_sample = df_sample.withColumn(\n",
    "    \"payment_type_bind\",\n",
    "    when(col(\"payment_type\") == 1.0, 1)\n",
    "    .when((col(\"payment_type\") > 1.0) & (col(\"payment_type\") <= 6.0), 2)\n",
    ")\n",
    "\n",
    "# Se vuelven a eliminar las filas con valores nulos\n",
    "df_sample = df_sample.dropna()\n",
    "\n",
    "# Se convierten las columnas binned a tipo Integer\n",
    "for binned_col in [\n",
    "    \"trip_distance_bind\",\n",
    "    \"trip_duration_bind\",\n",
    "    \"total_amount_bind\",\n",
    "    \"passenger_count_bind\",\n",
    "    \"payment_type_bind\",\n",
    "]:\n",
    "    df_sample = df_sample.withColumn(binned_col, col(binned_col).cast(IntegerType()))\n",
    "\n",
    "# Se eliminan los outliers de las columnas numéricas\n",
    "for col_name, factor in charact_factor.items():\n",
    "    quantiles = df_sample.approxQuantile(col_name, [0.25, 0.75], 0.0)\n",
    "    q1, q3 = quantiles\n",
    "    iqr = q3 - q1\n",
    "    lower = q1 - factor * iqr\n",
    "    upper = q3 + factor * iqr\n",
    "    df_sample = df_sample.filter((col(col_name) >= lower) & (col(col_name) <= upper))\n"
   ]
  },
  {
   "cell_type": "code",
   "execution_count": null,
   "id": "4283b5d2",
   "metadata": {
    "id": "4283b5d2",
    "outputId": "85bc8622-4712-4c4c-b609-c82d3f37ff84"
   },
   "outputs": [
    {
     "name": "stderr",
     "output_type": "stream",
     "text": [
      "                                                                                \r"
     ]
    },
    {
     "name": "stdout",
     "output_type": "stream",
     "text": [
      "Combinación: (1, 1, 1, 1) / iteración: 1, Proporción: 0.1930\n"
     ]
    },
    {
     "name": "stderr",
     "output_type": "stream",
     "text": [
      "                                                                                \r"
     ]
    },
    {
     "name": "stdout",
     "output_type": "stream",
     "text": [
      "Combinación: (1, 1, 1, 2) / iteración: 2, Proporción: 0.0327\n"
     ]
    },
    {
     "name": "stderr",
     "output_type": "stream",
     "text": [
      "                                                                                \r"
     ]
    },
    {
     "name": "stdout",
     "output_type": "stream",
     "text": [
      "Combinación: (1, 1, 2, 1) / iteración: 3, Proporción: 0.1954\n"
     ]
    },
    {
     "name": "stderr",
     "output_type": "stream",
     "text": [
      "                                                                                \r"
     ]
    },
    {
     "name": "stdout",
     "output_type": "stream",
     "text": [
      "Combinación: (1, 1, 2, 2) / iteración: 4, Proporción: 0.0362\n"
     ]
    },
    {
     "name": "stderr",
     "output_type": "stream",
     "text": [
      "                                                                                \r"
     ]
    },
    {
     "name": "stdout",
     "output_type": "stream",
     "text": [
      "Combinación: (1, 2, 1, 1) / iteración: 5, Proporción: 0.0000\n"
     ]
    },
    {
     "name": "stderr",
     "output_type": "stream",
     "text": [
      "                                                                                \r"
     ]
    },
    {
     "name": "stdout",
     "output_type": "stream",
     "text": [
      "Combinación: (1, 2, 1, 2) / iteración: 6, Proporción: 0.0000\n"
     ]
    },
    {
     "name": "stderr",
     "output_type": "stream",
     "text": [
      "                                                                                \r"
     ]
    },
    {
     "name": "stdout",
     "output_type": "stream",
     "text": [
      "Combinación: (1, 2, 2, 1) / iteración: 7, Proporción: 0.0001\n"
     ]
    },
    {
     "name": "stderr",
     "output_type": "stream",
     "text": [
      "                                                                                \r"
     ]
    },
    {
     "name": "stdout",
     "output_type": "stream",
     "text": [
      "Combinación: (1, 2, 2, 2) / iteración: 8, Proporción: 0.0000\n"
     ]
    },
    {
     "name": "stderr",
     "output_type": "stream",
     "text": [
      "                                                                                \r"
     ]
    },
    {
     "name": "stdout",
     "output_type": "stream",
     "text": [
      "Combinación: (1, 3, 1, 1) / iteración: 9, Proporción: 0.0000\n"
     ]
    },
    {
     "name": "stderr",
     "output_type": "stream",
     "text": [
      "                                                                                \r"
     ]
    },
    {
     "name": "stdout",
     "output_type": "stream",
     "text": [
      "Combinación: (1, 3, 1, 2) / iteración: 10, Proporción: 0.0000\n"
     ]
    },
    {
     "name": "stderr",
     "output_type": "stream",
     "text": [
      "                                                                                \r"
     ]
    },
    {
     "name": "stdout",
     "output_type": "stream",
     "text": [
      "Combinación: (1, 3, 2, 1) / iteración: 11, Proporción: 0.0000\n"
     ]
    },
    {
     "name": "stderr",
     "output_type": "stream",
     "text": [
      "                                                                                \r"
     ]
    },
    {
     "name": "stdout",
     "output_type": "stream",
     "text": [
      "Combinación: (1, 3, 2, 2) / iteración: 12, Proporción: 0.0000\n"
     ]
    },
    {
     "name": "stderr",
     "output_type": "stream",
     "text": [
      "                                                                                \r"
     ]
    },
    {
     "name": "stdout",
     "output_type": "stream",
     "text": [
      "Combinación: (2, 1, 1, 1) / iteración: 13, Proporción: 0.2218\n"
     ]
    },
    {
     "name": "stderr",
     "output_type": "stream",
     "text": [
      "                                                                                \r"
     ]
    },
    {
     "name": "stdout",
     "output_type": "stream",
     "text": [
      "Combinación: (2, 1, 1, 2) / iteración: 14, Proporción: 0.0384\n"
     ]
    },
    {
     "name": "stderr",
     "output_type": "stream",
     "text": [
      "                                                                                \r"
     ]
    },
    {
     "name": "stdout",
     "output_type": "stream",
     "text": [
      "Combinación: (2, 1, 2, 1) / iteración: 15, Proporción: 0.0778\n"
     ]
    },
    {
     "name": "stderr",
     "output_type": "stream",
     "text": [
      "                                                                                \r"
     ]
    },
    {
     "name": "stdout",
     "output_type": "stream",
     "text": [
      "Combinación: (2, 1, 2, 2) / iteración: 16, Proporción: 0.0154\n"
     ]
    },
    {
     "name": "stderr",
     "output_type": "stream",
     "text": [
      "                                                                                \r"
     ]
    },
    {
     "name": "stdout",
     "output_type": "stream",
     "text": [
      "Combinación: (2, 2, 1, 1) / iteración: 17, Proporción: 0.0463\n"
     ]
    },
    {
     "name": "stderr",
     "output_type": "stream",
     "text": [
      "                                                                                \r"
     ]
    },
    {
     "name": "stdout",
     "output_type": "stream",
     "text": [
      "Combinación: (2, 2, 1, 2) / iteración: 18, Proporción: 0.0084\n"
     ]
    },
    {
     "name": "stderr",
     "output_type": "stream",
     "text": [
      "                                                                                \r"
     ]
    },
    {
     "name": "stdout",
     "output_type": "stream",
     "text": [
      "Combinación: (2, 2, 2, 1) / iteración: 19, Proporción: 0.0366\n"
     ]
    },
    {
     "name": "stderr",
     "output_type": "stream",
     "text": [
      "                                                                                \r"
     ]
    },
    {
     "name": "stdout",
     "output_type": "stream",
     "text": [
      "Combinación: (2, 2, 2, 2) / iteración: 20, Proporción: 0.0074\n"
     ]
    },
    {
     "name": "stderr",
     "output_type": "stream",
     "text": [
      "                                                                                \r"
     ]
    },
    {
     "name": "stdout",
     "output_type": "stream",
     "text": [
      "Combinación: (2, 3, 1, 1) / iteración: 21, Proporción: 0.0000\n"
     ]
    },
    {
     "name": "stderr",
     "output_type": "stream",
     "text": [
      "                                                                                \r"
     ]
    },
    {
     "name": "stdout",
     "output_type": "stream",
     "text": [
      "Combinación: (2, 3, 1, 2) / iteración: 22, Proporción: 0.0000\n"
     ]
    },
    {
     "name": "stderr",
     "output_type": "stream",
     "text": [
      "                                                                                \r"
     ]
    },
    {
     "name": "stdout",
     "output_type": "stream",
     "text": [
      "Combinación: (2, 3, 2, 1) / iteración: 23, Proporción: 0.0000\n"
     ]
    },
    {
     "name": "stderr",
     "output_type": "stream",
     "text": [
      "                                                                                \r"
     ]
    },
    {
     "name": "stdout",
     "output_type": "stream",
     "text": [
      "Combinación: (2, 3, 2, 2) / iteración: 24, Proporción: 0.0000\n"
     ]
    },
    {
     "name": "stderr",
     "output_type": "stream",
     "text": [
      "                                                                                \r"
     ]
    },
    {
     "name": "stdout",
     "output_type": "stream",
     "text": [
      "Combinación: (3, 1, 1, 1) / iteración: 25, Proporción: 0.0038\n"
     ]
    },
    {
     "name": "stderr",
     "output_type": "stream",
     "text": [
      "                                                                                \r"
     ]
    },
    {
     "name": "stdout",
     "output_type": "stream",
     "text": [
      "Combinación: (3, 1, 1, 2) / iteración: 26, Proporción: 0.0006\n"
     ]
    },
    {
     "name": "stderr",
     "output_type": "stream",
     "text": [
      "                                                                                \r"
     ]
    },
    {
     "name": "stdout",
     "output_type": "stream",
     "text": [
      "Combinación: (3, 1, 2, 1) / iteración: 27, Proporción: 0.0001\n"
     ]
    },
    {
     "name": "stderr",
     "output_type": "stream",
     "text": [
      "                                                                                \r"
     ]
    },
    {
     "name": "stdout",
     "output_type": "stream",
     "text": [
      "Combinación: (3, 1, 2, 2) / iteración: 28, Proporción: 0.0000\n"
     ]
    },
    {
     "name": "stderr",
     "output_type": "stream",
     "text": [
      "                                                                                \r"
     ]
    },
    {
     "name": "stdout",
     "output_type": "stream",
     "text": [
      "Combinación: (3, 2, 1, 1) / iteración: 29, Proporción: 0.0586\n"
     ]
    },
    {
     "name": "stderr",
     "output_type": "stream",
     "text": [
      "                                                                                \r"
     ]
    },
    {
     "name": "stdout",
     "output_type": "stream",
     "text": [
      "Combinación: (3, 2, 1, 2) / iteración: 30, Proporción: 0.0102\n"
     ]
    },
    {
     "name": "stderr",
     "output_type": "stream",
     "text": [
      "                                                                                \r"
     ]
    },
    {
     "name": "stdout",
     "output_type": "stream",
     "text": [
      "Combinación: (3, 2, 2, 1) / iteración: 31, Proporción: 0.0141\n"
     ]
    },
    {
     "name": "stderr",
     "output_type": "stream",
     "text": [
      "                                                                                \r"
     ]
    },
    {
     "name": "stdout",
     "output_type": "stream",
     "text": [
      "Combinación: (3, 2, 2, 2) / iteración: 32, Proporción: 0.0029\n"
     ]
    },
    {
     "name": "stderr",
     "output_type": "stream",
     "text": [
      "                                                                                \r"
     ]
    },
    {
     "name": "stdout",
     "output_type": "stream",
     "text": [
      "Combinación: (3, 3, 1, 1) / iteración: 33, Proporción: 0.0000\n"
     ]
    },
    {
     "name": "stderr",
     "output_type": "stream",
     "text": [
      "                                                                                \r"
     ]
    },
    {
     "name": "stdout",
     "output_type": "stream",
     "text": [
      "Combinación: (3, 3, 1, 2) / iteración: 34, Proporción: 0.0000\n"
     ]
    },
    {
     "name": "stderr",
     "output_type": "stream",
     "text": [
      "                                                                                \r"
     ]
    },
    {
     "name": "stdout",
     "output_type": "stream",
     "text": [
      "Combinación: (3, 3, 2, 1) / iteración: 35, Proporción: 0.0000\n"
     ]
    },
    {
     "name": "stderr",
     "output_type": "stream",
     "text": [
      "[Stage 128:>                                                      (0 + 16) / 16]\r"
     ]
    },
    {
     "name": "stdout",
     "output_type": "stream",
     "text": [
      "Combinación: (3, 3, 2, 2) / iteración: 36, Proporción: 0.0000\n",
      "Proporción total: 1.0000\n"
     ]
    },
    {
     "name": "stderr",
     "output_type": "stream",
     "text": [
      "                                                                                \r"
     ]
    }
   ],
   "source": [
    "# Importa las librerías necesarias\n",
    "from itertools import product\n",
    "from pyspark.sql.functions import col\n",
    "\n",
    "# Iteraciones de los valores binned\n",
    "iterations = {\n",
    "    \"total_amount_bind\": [1, 2, 3],\n",
    "    \"trip_distance_bind\": [1, 2, 3],\n",
    "    \"payment_type_bind\": [1, 2],\n",
    "    \"passenger_count_bind\": [1, 2]\n",
    "}\n",
    "\n",
    "# Número total de filas\n",
    "total_rows = df_sample.count()\n",
    "\n",
    "# Extracción de las claves y valores del diccionario\n",
    "keys = list(iterations.keys())\n",
    "values = list(iterations.values())\n",
    "\n",
    "# Crear todas las combinaciones posibles de los valores\n",
    "combinations = list(product(*values))\n",
    "\n",
    "# Número de iteración\n",
    "iter_num = 1\n",
    "\n",
    "# Suma total de proporciones\n",
    "total_proportion = 0\n",
    "\n",
    "# Iterar sobre cada combinación\n",
    "for comb in combinations:\n",
    "    # Construir el filtro dinámicamente\n",
    "    condition = (col(keys[0]) == comb[0])\n",
    "    for i in range(1, len(keys)):\n",
    "        condition &= (col(keys[i]) == comb[i])\n",
    "\n",
    "    # Aplicar el filtro\n",
    "    filtered_rows = df_sample.filter(condition)\n",
    "\n",
    "    # Contar y calcular proporción\n",
    "    count = filtered_rows.count()\n",
    "    proportion = count / total_rows if total_rows != 0 else 0\n",
    "\n",
    "    print(f\"Combinación: {comb} / iteración: {iter_num}, Proporción: {proportion:.4f}\")\n",
    "\n",
    "    iter_num += 1\n",
    "    total_proportion += proportion\n",
    "\n",
    "# Mostrar proporción total\n",
    "print(f\"Proporción total: {total_proportion:.4f}\")\n"
   ]
  },
  {
   "cell_type": "code",
   "execution_count": null,
   "id": "ab97bf68",
   "metadata": {
    "id": "ab97bf68",
    "outputId": "8e1cd8e7-98b8-434e-a2e9-7b9302e12159"
   },
   "outputs": [
    {
     "name": "stdout",
     "output_type": "stream",
     "text": [
      "Total amount bind ranges:  [(0.0, 10.0), (10.0, 20.0), (20.0, 100.0)]\n",
      "Trip distance bind ranges:  [(0.0, 3.0), (3.0, 10.0), (10.0, 100.0)]\n",
      "Payment type bind ranges:  [(0.0, 1.0), (1.0, 6.0)]\n",
      "Passenger count bind ranges:  [(0.0, 2.0), (2.0, 6.0)]\n",
      "Combinations:  [((0.0, 10.0), (0.0, 3.0), (0.0, 1.0), (0.0, 2.0)), ((0.0, 10.0), (0.0, 3.0), (0.0, 1.0), (2.0, 6.0)), ((0.0, 10.0), (0.0, 3.0), (1.0, 6.0), (0.0, 2.0)), ((0.0, 10.0), (0.0, 3.0), (1.0, 6.0), (2.0, 6.0)), ((0.0, 10.0), (3.0, 10.0), (0.0, 1.0), (0.0, 2.0)), ((0.0, 10.0), (3.0, 10.0), (0.0, 1.0), (2.0, 6.0)), ((0.0, 10.0), (3.0, 10.0), (1.0, 6.0), (0.0, 2.0)), ((0.0, 10.0), (3.0, 10.0), (1.0, 6.0), (2.0, 6.0)), ((0.0, 10.0), (10.0, 100.0), (0.0, 1.0), (0.0, 2.0)), ((0.0, 10.0), (10.0, 100.0), (0.0, 1.0), (2.0, 6.0)), ((0.0, 10.0), (10.0, 100.0), (1.0, 6.0), (0.0, 2.0)), ((0.0, 10.0), (10.0, 100.0), (1.0, 6.0), (2.0, 6.0)), ((10.0, 20.0), (0.0, 3.0), (0.0, 1.0), (0.0, 2.0)), ((10.0, 20.0), (0.0, 3.0), (0.0, 1.0), (2.0, 6.0)), ((10.0, 20.0), (0.0, 3.0), (1.0, 6.0), (0.0, 2.0)), ((10.0, 20.0), (0.0, 3.0), (1.0, 6.0), (2.0, 6.0)), ((10.0, 20.0), (3.0, 10.0), (0.0, 1.0), (0.0, 2.0)), ((10.0, 20.0), (3.0, 10.0), (0.0, 1.0), (2.0, 6.0)), ((10.0, 20.0), (3.0, 10.0), (1.0, 6.0), (0.0, 2.0)), ((10.0, 20.0), (3.0, 10.0), (1.0, 6.0), (2.0, 6.0)), ((10.0, 20.0), (10.0, 100.0), (0.0, 1.0), (0.0, 2.0)), ((10.0, 20.0), (10.0, 100.0), (0.0, 1.0), (2.0, 6.0)), ((10.0, 20.0), (10.0, 100.0), (1.0, 6.0), (0.0, 2.0)), ((10.0, 20.0), (10.0, 100.0), (1.0, 6.0), (2.0, 6.0)), ((20.0, 100.0), (0.0, 3.0), (0.0, 1.0), (0.0, 2.0)), ((20.0, 100.0), (0.0, 3.0), (0.0, 1.0), (2.0, 6.0)), ((20.0, 100.0), (0.0, 3.0), (1.0, 6.0), (0.0, 2.0)), ((20.0, 100.0), (0.0, 3.0), (1.0, 6.0), (2.0, 6.0)), ((20.0, 100.0), (3.0, 10.0), (0.0, 1.0), (0.0, 2.0)), ((20.0, 100.0), (3.0, 10.0), (0.0, 1.0), (2.0, 6.0)), ((20.0, 100.0), (3.0, 10.0), (1.0, 6.0), (0.0, 2.0)), ((20.0, 100.0), (3.0, 10.0), (1.0, 6.0), (2.0, 6.0)), ((20.0, 100.0), (10.0, 100.0), (0.0, 1.0), (0.0, 2.0)), ((20.0, 100.0), (10.0, 100.0), (0.0, 1.0), (2.0, 6.0)), ((20.0, 100.0), (10.0, 100.0), (1.0, 6.0), (0.0, 2.0)), ((20.0, 100.0), (10.0, 100.0), (1.0, 6.0), (2.0, 6.0))]\n"
     ]
    }
   ],
   "source": [
    "\n",
    "# Establece los rangos para las columnas\n",
    "total_amount_bind = [0.0, 10.0, 20.0, 100.0]\n",
    "trip_distance_bind = [0.0, 3.0, 10.0, 100.0]\n",
    "payment_type_bind = [0.0, 1.0, 6.0]\n",
    "passenger_count_bind = [0.0, 2.0, 6.0]\n",
    "\n",
    "# Crea listas para almacenar los rangos de cada columna\n",
    "total_amount_bind_ranges = []\n",
    "trip_distance_bind_ranges = []\n",
    "payment_type_bind_ranges = []\n",
    "passenger_count_bind_ranges = []\n",
    "\n",
    "# Crea los rangos para cada columna\n",
    "for i in range(len(total_amount_bind) - 1):\n",
    "    total_amount_bind_ranges.append((total_amount_bind[i], total_amount_bind[i + 1]))\n",
    "\n",
    "for i in range(len(trip_distance_bind) - 1):\n",
    "    trip_distance_bind_ranges.append((trip_distance_bind[i], trip_distance_bind[i + 1]))\n",
    "\n",
    "for i in range(len(payment_type_bind) - 1):\n",
    "    payment_type_bind_ranges.append((payment_type_bind[i], payment_type_bind[i + 1]))\n",
    "\n",
    "for i in range(len(passenger_count_bind) - 1):\n",
    "    passenger_count_bind_ranges.append((passenger_count_bind[i], passenger_count_bind[i + 1]))\n",
    "\n",
    "# Imprime los rangos de cada columna\n",
    "print(\"Total amount bind ranges: \", total_amount_bind_ranges)\n",
    "print(\"Trip distance bind ranges: \", trip_distance_bind_ranges)\n",
    "print(\"Payment type bind ranges: \", payment_type_bind_ranges)\n",
    "print(\"Passenger count bind ranges: \", passenger_count_bind_ranges)\n",
    "\n",
    "# Crea todas las combinaciones posibles de los rangos\n",
    "combinations = list(product(total_amount_bind_ranges, trip_distance_bind_ranges, payment_type_bind_ranges, passenger_count_bind_ranges))\n",
    "\n",
    "# Imprime las combinaciones\n",
    "print(\"Combinations: \", combinations)"
   ]
  },
  {
   "cell_type": "code",
   "execution_count": null,
   "id": "aa3a8c26",
   "metadata": {
    "id": "aa3a8c26",
    "outputId": "dc653302-3508-458c-96f1-e9b296afdc8a"
   },
   "outputs": [
    {
     "name": "stderr",
     "output_type": "stream",
     "text": [
      "                                                                                \r"
     ]
    },
    {
     "name": "stdout",
     "output_type": "stream",
     "text": [
      "Porcentaje: 0.18 / combinación: ((0.0, 10.0), (0.0, 3.0), (0.0, 1.0), (0.0, 2.0)) / iteración: 1 / proporción: 0.1753\n"
     ]
    },
    {
     "name": "stderr",
     "output_type": "stream",
     "text": [
      "                                                                                \r"
     ]
    },
    {
     "name": "stdout",
     "output_type": "stream",
     "text": [
      "Combination accepted\n"
     ]
    },
    {
     "name": "stderr",
     "output_type": "stream",
     "text": [
      "                                                                                \r"
     ]
    },
    {
     "name": "stdout",
     "output_type": "stream",
     "text": [
      "Porcentaje: 0.21 / combinación: ((0.0, 10.0), (0.0, 3.0), (0.0, 1.0), (2.0, 6.0)) / iteración: 2 / proporción: 0.0298\n"
     ]
    },
    {
     "name": "stderr",
     "output_type": "stream",
     "text": [
      "                                                                                \r"
     ]
    },
    {
     "name": "stdout",
     "output_type": "stream",
     "text": [
      "Porcentaje: 0.38 / combinación: ((0.0, 10.0), (0.0, 3.0), (1.0, 6.0), (0.0, 2.0)) / iteración: 3 / proporción: 0.1786\n"
     ]
    },
    {
     "name": "stderr",
     "output_type": "stream",
     "text": [
      "                                                                                \r"
     ]
    },
    {
     "name": "stdout",
     "output_type": "stream",
     "text": [
      "Combination accepted\n"
     ]
    },
    {
     "name": "stderr",
     "output_type": "stream",
     "text": [
      "                                                                                \r"
     ]
    },
    {
     "name": "stdout",
     "output_type": "stream",
     "text": [
      "Porcentaje: 0.42 / combinación: ((0.0, 10.0), (0.0, 3.0), (1.0, 6.0), (2.0, 6.0)) / iteración: 4 / proporción: 0.0330\n"
     ]
    },
    {
     "name": "stderr",
     "output_type": "stream",
     "text": [
      "                                                                                \r"
     ]
    },
    {
     "name": "stdout",
     "output_type": "stream",
     "text": [
      "Porcentaje: 0.42 / combinación: ((0.0, 10.0), (3.0, 10.0), (0.0, 1.0), (0.0, 2.0)) / iteración: 5 / proporción: 0.0000\n"
     ]
    },
    {
     "name": "stderr",
     "output_type": "stream",
     "text": [
      "                                                                                \r"
     ]
    },
    {
     "name": "stdout",
     "output_type": "stream",
     "text": [
      "Porcentaje: 0.42 / combinación: ((0.0, 10.0), (3.0, 10.0), (0.0, 1.0), (2.0, 6.0)) / iteración: 6 / proporción: 0.0000\n"
     ]
    },
    {
     "name": "stderr",
     "output_type": "stream",
     "text": [
      "                                                                                \r"
     ]
    },
    {
     "name": "stdout",
     "output_type": "stream",
     "text": [
      "Porcentaje: 0.42 / combinación: ((0.0, 10.0), (3.0, 10.0), (1.0, 6.0), (0.0, 2.0)) / iteración: 7 / proporción: 0.0002\n"
     ]
    },
    {
     "name": "stderr",
     "output_type": "stream",
     "text": [
      "                                                                                \r"
     ]
    },
    {
     "name": "stdout",
     "output_type": "stream",
     "text": [
      "Porcentaje: 0.42 / combinación: ((0.0, 10.0), (3.0, 10.0), (1.0, 6.0), (2.0, 6.0)) / iteración: 8 / proporción: 0.0000\n"
     ]
    },
    {
     "name": "stderr",
     "output_type": "stream",
     "text": [
      "                                                                                \r"
     ]
    },
    {
     "name": "stdout",
     "output_type": "stream",
     "text": [
      "Porcentaje: 0.42 / combinación: ((0.0, 10.0), (10.0, 100.0), (0.0, 1.0), (0.0, 2.0)) / iteración: 9 / proporción: 0.0000\n"
     ]
    },
    {
     "name": "stderr",
     "output_type": "stream",
     "text": [
      "                                                                                \r"
     ]
    },
    {
     "name": "stdout",
     "output_type": "stream",
     "text": [
      "Porcentaje: 0.42 / combinación: ((0.0, 10.0), (10.0, 100.0), (0.0, 1.0), (2.0, 6.0)) / iteración: 10 / proporción: 0.0000\n"
     ]
    },
    {
     "name": "stderr",
     "output_type": "stream",
     "text": [
      "                                                                                \r"
     ]
    },
    {
     "name": "stdout",
     "output_type": "stream",
     "text": [
      "Porcentaje: 0.42 / combinación: ((0.0, 10.0), (10.0, 100.0), (1.0, 6.0), (0.0, 2.0)) / iteración: 11 / proporción: 0.0001\n"
     ]
    },
    {
     "name": "stderr",
     "output_type": "stream",
     "text": [
      "                                                                                \r"
     ]
    },
    {
     "name": "stdout",
     "output_type": "stream",
     "text": [
      "Porcentaje: 0.42 / combinación: ((0.0, 10.0), (10.0, 100.0), (1.0, 6.0), (2.0, 6.0)) / iteración: 12 / proporción: 0.0000\n"
     ]
    },
    {
     "name": "stderr",
     "output_type": "stream",
     "text": [
      "                                                                                \r"
     ]
    },
    {
     "name": "stdout",
     "output_type": "stream",
     "text": [
      "Porcentaje: 0.62 / combinación: ((10.0, 20.0), (0.0, 3.0), (0.0, 1.0), (0.0, 2.0)) / iteración: 13 / proporción: 0.2025\n"
     ]
    },
    {
     "name": "stderr",
     "output_type": "stream",
     "text": [
      "                                                                                \r"
     ]
    },
    {
     "name": "stdout",
     "output_type": "stream",
     "text": [
      "Combination accepted\n"
     ]
    },
    {
     "name": "stderr",
     "output_type": "stream",
     "text": [
      "                                                                                \r"
     ]
    },
    {
     "name": "stdout",
     "output_type": "stream",
     "text": [
      "Porcentaje: 0.65 / combinación: ((10.0, 20.0), (0.0, 3.0), (0.0, 1.0), (2.0, 6.0)) / iteración: 14 / proporción: 0.0346\n"
     ]
    },
    {
     "name": "stderr",
     "output_type": "stream",
     "text": [
      "                                                                                \r"
     ]
    },
    {
     "name": "stdout",
     "output_type": "stream",
     "text": [
      "Porcentaje: 0.72 / combinación: ((10.0, 20.0), (0.0, 3.0), (1.0, 6.0), (0.0, 2.0)) / iteración: 15 / proporción: 0.0707\n"
     ]
    },
    {
     "name": "stderr",
     "output_type": "stream",
     "text": [
      "                                                                                \r"
     ]
    },
    {
     "name": "stdout",
     "output_type": "stream",
     "text": [
      "Combination accepted\n"
     ]
    },
    {
     "name": "stderr",
     "output_type": "stream",
     "text": [
      "                                                                                \r"
     ]
    },
    {
     "name": "stdout",
     "output_type": "stream",
     "text": [
      "Porcentaje: 0.74 / combinación: ((10.0, 20.0), (0.0, 3.0), (1.0, 6.0), (2.0, 6.0)) / iteración: 16 / proporción: 0.0139\n"
     ]
    },
    {
     "name": "stderr",
     "output_type": "stream",
     "text": [
      "                                                                                \r"
     ]
    },
    {
     "name": "stdout",
     "output_type": "stream",
     "text": [
      "Porcentaje: 0.78 / combinación: ((10.0, 20.0), (3.0, 10.0), (0.0, 1.0), (0.0, 2.0)) / iteración: 17 / proporción: 0.0425\n"
     ]
    },
    {
     "name": "stderr",
     "output_type": "stream",
     "text": [
      "                                                                                \r"
     ]
    },
    {
     "name": "stdout",
     "output_type": "stream",
     "text": [
      "Porcentaje: 0.79 / combinación: ((10.0, 20.0), (3.0, 10.0), (0.0, 1.0), (2.0, 6.0)) / iteración: 18 / proporción: 0.0078\n"
     ]
    },
    {
     "name": "stderr",
     "output_type": "stream",
     "text": [
      "                                                                                \r"
     ]
    },
    {
     "name": "stdout",
     "output_type": "stream",
     "text": [
      "Porcentaje: 0.82 / combinación: ((10.0, 20.0), (3.0, 10.0), (1.0, 6.0), (0.0, 2.0)) / iteración: 19 / proporción: 0.0333\n"
     ]
    },
    {
     "name": "stderr",
     "output_type": "stream",
     "text": [
      "                                                                                \r"
     ]
    },
    {
     "name": "stdout",
     "output_type": "stream",
     "text": [
      "Porcentaje: 0.83 / combinación: ((10.0, 20.0), (3.0, 10.0), (1.0, 6.0), (2.0, 6.0)) / iteración: 20 / proporción: 0.0068\n"
     ]
    },
    {
     "name": "stderr",
     "output_type": "stream",
     "text": [
      "                                                                                \r"
     ]
    },
    {
     "name": "stdout",
     "output_type": "stream",
     "text": [
      "Porcentaje: 0.83 / combinación: ((10.0, 20.0), (10.0, 100.0), (0.0, 1.0), (0.0, 2.0)) / iteración: 21 / proporción: 0.0000\n"
     ]
    },
    {
     "name": "stderr",
     "output_type": "stream",
     "text": [
      "                                                                                \r"
     ]
    },
    {
     "name": "stdout",
     "output_type": "stream",
     "text": [
      "Porcentaje: 0.83 / combinación: ((10.0, 20.0), (10.0, 100.0), (0.0, 1.0), (2.0, 6.0)) / iteración: 22 / proporción: 0.0000\n"
     ]
    },
    {
     "name": "stderr",
     "output_type": "stream",
     "text": [
      "                                                                                \r"
     ]
    },
    {
     "name": "stdout",
     "output_type": "stream",
     "text": [
      "Porcentaje: 0.83 / combinación: ((10.0, 20.0), (10.0, 100.0), (1.0, 6.0), (0.0, 2.0)) / iteración: 23 / proporción: 0.0000\n"
     ]
    },
    {
     "name": "stderr",
     "output_type": "stream",
     "text": [
      "                                                                                \r"
     ]
    },
    {
     "name": "stdout",
     "output_type": "stream",
     "text": [
      "Porcentaje: 0.83 / combinación: ((10.0, 20.0), (10.0, 100.0), (1.0, 6.0), (2.0, 6.0)) / iteración: 24 / proporción: 0.0000\n"
     ]
    },
    {
     "name": "stderr",
     "output_type": "stream",
     "text": [
      "                                                                                \r"
     ]
    },
    {
     "name": "stdout",
     "output_type": "stream",
     "text": [
      "Porcentaje: 0.83 / combinación: ((20.0, 100.0), (0.0, 3.0), (0.0, 1.0), (0.0, 2.0)) / iteración: 25 / proporción: 0.0044\n"
     ]
    },
    {
     "name": "stderr",
     "output_type": "stream",
     "text": [
      "                                                                                \r"
     ]
    },
    {
     "name": "stdout",
     "output_type": "stream",
     "text": [
      "Porcentaje: 0.83 / combinación: ((20.0, 100.0), (0.0, 3.0), (0.0, 1.0), (2.0, 6.0)) / iteración: 26 / proporción: 0.0007\n"
     ]
    },
    {
     "name": "stderr",
     "output_type": "stream",
     "text": [
      "                                                                                \r"
     ]
    },
    {
     "name": "stdout",
     "output_type": "stream",
     "text": [
      "Porcentaje: 0.83 / combinación: ((20.0, 100.0), (0.0, 3.0), (1.0, 6.0), (0.0, 2.0)) / iteración: 27 / proporción: 0.0006\n"
     ]
    },
    {
     "name": "stderr",
     "output_type": "stream",
     "text": [
      "                                                                                \r"
     ]
    },
    {
     "name": "stdout",
     "output_type": "stream",
     "text": [
      "Porcentaje: 0.83 / combinación: ((20.0, 100.0), (0.0, 3.0), (1.0, 6.0), (2.0, 6.0)) / iteración: 28 / proporción: 0.0001\n"
     ]
    },
    {
     "name": "stderr",
     "output_type": "stream",
     "text": [
      "                                                                                \r"
     ]
    },
    {
     "name": "stdout",
     "output_type": "stream",
     "text": [
      "Porcentaje: 0.91 / combinación: ((20.0, 100.0), (3.0, 10.0), (0.0, 1.0), (0.0, 2.0)) / iteración: 29 / proporción: 0.0740\n"
     ]
    },
    {
     "name": "stderr",
     "output_type": "stream",
     "text": [
      "                                                                                \r"
     ]
    },
    {
     "name": "stdout",
     "output_type": "stream",
     "text": [
      "Combination accepted\n"
     ]
    },
    {
     "name": "stderr",
     "output_type": "stream",
     "text": [
      "                                                                                \r"
     ]
    },
    {
     "name": "stdout",
     "output_type": "stream",
     "text": [
      "Porcentaje: 0.92 / combinación: ((20.0, 100.0), (3.0, 10.0), (0.0, 1.0), (2.0, 6.0)) / iteración: 30 / proporción: 0.0129\n"
     ]
    },
    {
     "name": "stderr",
     "output_type": "stream",
     "text": [
      "                                                                                \r"
     ]
    },
    {
     "name": "stdout",
     "output_type": "stream",
     "text": [
      "Porcentaje: 0.94 / combinación: ((20.0, 100.0), (3.0, 10.0), (1.0, 6.0), (0.0, 2.0)) / iteración: 31 / proporción: 0.0209\n"
     ]
    },
    {
     "name": "stderr",
     "output_type": "stream",
     "text": [
      "                                                                                \r"
     ]
    },
    {
     "name": "stdout",
     "output_type": "stream",
     "text": [
      "Porcentaje: 0.95 / combinación: ((20.0, 100.0), (3.0, 10.0), (1.0, 6.0), (2.0, 6.0)) / iteración: 32 / proporción: 0.0042\n"
     ]
    },
    {
     "name": "stderr",
     "output_type": "stream",
     "text": [
      "                                                                                \r"
     ]
    },
    {
     "name": "stdout",
     "output_type": "stream",
     "text": [
      "Porcentaje: 0.97 / combinación: ((20.0, 100.0), (10.0, 100.0), (0.0, 1.0), (0.0, 2.0)) / iteración: 33 / proporción: 0.0259\n"
     ]
    },
    {
     "name": "stderr",
     "output_type": "stream",
     "text": [
      "                                                                                \r"
     ]
    },
    {
     "name": "stdout",
     "output_type": "stream",
     "text": [
      "Porcentaje: 0.98 / combinación: ((20.0, 100.0), (10.0, 100.0), (0.0, 1.0), (2.0, 6.0)) / iteración: 34 / proporción: 0.0046\n"
     ]
    },
    {
     "name": "stderr",
     "output_type": "stream",
     "text": [
      "                                                                                \r"
     ]
    },
    {
     "name": "stdout",
     "output_type": "stream",
     "text": [
      "Porcentaje: 0.99 / combinación: ((20.0, 100.0), (10.0, 100.0), (1.0, 6.0), (0.0, 2.0)) / iteración: 35 / proporción: 0.0121\n"
     ]
    },
    {
     "name": "stderr",
     "output_type": "stream",
     "text": [
      "[Stage 254:>                                                      (0 + 16) / 16]\r"
     ]
    },
    {
     "name": "stdout",
     "output_type": "stream",
     "text": [
      "Porcentaje: 0.99 / combinación: ((20.0, 100.0), (10.0, 100.0), (1.0, 6.0), (2.0, 6.0)) / iteración: 36 / proporción: 0.0026\n",
      "Proporción total: 0.9922\n",
      "Proporción total en el nuevo DataFrame: 0.7011\n"
     ]
    },
    {
     "name": "stderr",
     "output_type": "stream",
     "text": [
      "                                                                                \r"
     ]
    }
   ],
   "source": [
    "# Importando librerías necesarias\n",
    "from pyspark.sql.types import StructType, StructField, IntegerType\n",
    "\n",
    "# Conteo de filas del DataFrame original\n",
    "total_rows = df.count()\n",
    "\n",
    "# Variables para almacenar los resultados\n",
    "subsets = []\n",
    "iter_num = 1\n",
    "total_proportion = 0\n",
    "total_proportion_in_new_df = 0\n",
    "df_accumulated = None\n",
    "\n",
    "# Iterar sobre cada combinación\n",
    "for comb in combinations:\n",
    "    filtered_rows = df.filter(\n",
    "        (col(\"total_amount\") > comb[0][0]) & (col(\"total_amount\") <= comb[0][1]) &\n",
    "        (col(\"trip_distance\") > comb[1][0]) & (col(\"trip_distance\") <= comb[1][1]) &\n",
    "        (col(\"payment_type\") > comb[2][0]) & (col(\"payment_type\") <= comb[2][1]) &\n",
    "        (col(\"passenger_count\") > comb[3][0]) & (col(\"passenger_count\") <= comb[3][1])\n",
    "    )\n",
    "    subsets.append(filtered_rows)\n",
    "\n",
    "    # Calcular la proporción de filas filtradas respecto al total\n",
    "    prop = filtered_rows.count() / total_rows\n",
    "    total_proportion += prop\n",
    "    print(f\"Porcentaje: {total_proportion:.2f} / combinación: {comb} / iteración: {iter_num} / proporción: {prop:.4f}\")\n",
    "    iter_num += 1\n",
    "\n",
    "    # Si la proporción es mayor que 0.05, tomar el 40% de las filas\n",
    "    if prop > 0.05:\n",
    "\n",
    "        # Tomar el 40% de las filas filtradas\n",
    "        filtered_rows_fraction = filtered_rows.sample(withReplacement=False, fraction=0.4, seed=42)\n",
    "\n",
    "        if df_accumulated is None:\n",
    "            df_accumulated = filtered_rows_fraction\n",
    "        else:\n",
    "            df_accumulated = df_accumulated.union(filtered_rows_fraction)\n",
    "\n",
    "        # Guarda la proporción de filas filtradas respecto al total\n",
    "        total_proportion_in_new_df += filtered_rows.count() / total_rows\n",
    "\n",
    "        print(\"Combination accepted\")\n",
    "\n",
    "# Imprime resultados\n",
    "print(f\"Proporción total: {total_proportion:.4f}\")\n",
    "print(f\"Proporción total en el nuevo DataFrame: {total_proportion_in_new_df:.4f}\")"
   ]
  },
  {
   "cell_type": "code",
   "execution_count": null,
   "id": "8d7315a9",
   "metadata": {
    "id": "8d7315a9",
    "outputId": "50b28366-8ae6-4fc8-9a31-bdbf648858ef"
   },
   "outputs": [
    {
     "name": "stderr",
     "output_type": "stream",
     "text": [
      "[Stage 257:===========================================>          (64 + 16) / 80]\r"
     ]
    },
    {
     "name": "stdout",
     "output_type": "stream",
     "text": [
      "Número de filas despues de la extración contenida de dimensiones: 3582756\n",
      "Número de columnas despues de la extración contenida de dimensiones: 19\n"
     ]
    },
    {
     "name": "stderr",
     "output_type": "stream",
     "text": [
      "                                                                                \r"
     ]
    }
   ],
   "source": [
    "# Imprime dimensiones del DataFrame acumulado\n",
    "num_rows_after_dimension_extraction = df_accumulated.count()\n",
    "num_cols_after_dimension_extraction = len(df_accumulated.columns)\n",
    "print(f\"Número de filas despues de la extración contenida de dimensiones: {num_rows_after_dimension_extraction}\")\n",
    "print(f\"Número de columnas despues de la extración contenida de dimensiones: {num_cols_after_dimension_extraction}\")"
   ]
  },
  {
   "cell_type": "code",
   "execution_count": null,
   "id": "8ccf62db",
   "metadata": {
    "id": "8ccf62db",
    "outputId": "4ef79d09-d722-4055-ee6b-9b1a0a041367"
   },
   "outputs": [
    {
     "name": "stderr",
     "output_type": "stream",
     "text": [
      "                                                                                \r"
     ]
    }
   ],
   "source": [
    "# Eliminar registros con valores nulos en columnas clave\n",
    "\n",
    "df_clean = df_accumulated.dropna(subset=[\n",
    "    \"trip_distance\", \"fare_amount\", \"pickup_longitude\", \"pickup_latitude\",\n",
    "    \"dropoff_longitude\", \"dropoff_latitude\", \"payment_type\"\n",
    "])\n",
    "\n",
    "# Filtrar valores atípicos (e.g., distancias o tarifas <= 0)\n",
    "df_clean = df_clean.filter(\n",
    "    (col(\"trip_distance\") > 0) & (col(\"fare_amount\") > 0) & (col(\"total_amount\") > 0)\n",
    ")\n",
    "\n",
    "# Calcular duración del viaje en minutos\n",
    "df_clean = df_clean.withColumn(\n",
    "    \"duration_minutes\",\n",
    "    (unix_timestamp(\"tpep_dropoff_datetime\") - unix_timestamp(\"tpep_pickup_datetime\")) / 60\n",
    ")\n",
    "\n",
    "# # Filtrar duraciones negativas o excesivas\n",
    "df_clean = df_clean.filter((col(\"duration_minutes\") > 0) & (col(\"duration_minutes\") < 180))\n",
    "\n",
    "outlier_columns = [\n",
    "    \"tip_amount\",\n",
    "    \"duration_minutes\"\n",
    "    ]\n",
    "\n",
    "# Se eliminan los outliers de las columnas numéricas\n",
    "for col_name in outlier_columns:\n",
    "    quantiles = df_clean.approxQuantile(col_name, [0.25, 0.75], 0.0)\n",
    "    q1, q3 = quantiles\n",
    "    iqr = q3 - q1\n",
    "    lower = q1 - 1.5 * iqr\n",
    "    upper = q3 + 1.5 * iqr\n",
    "    df_clean = df_clean.filter((col(col_name) >= lower) & (col(col_name) <= upper))"
   ]
  },
  {
   "cell_type": "code",
   "execution_count": null,
   "id": "c9a10006",
   "metadata": {
    "id": "c9a10006",
    "outputId": "a4558e4a-b2ec-4c44-a168-40b20ee24270"
   },
   "outputs": [
    {
     "name": "stderr",
     "output_type": "stream",
     "text": [
      "[Stage 275:===========================================>          (64 + 16) / 80]\r"
     ]
    },
    {
     "name": "stdout",
     "output_type": "stream",
     "text": [
      "Total registros en M: 335321\n",
      "Suma por subgrupos Mi: 10\n"
     ]
    },
    {
     "name": "stderr",
     "output_type": "stream",
     "text": [
      "                                                                                \r"
     ]
    }
   ],
   "source": [
    "from pyspark.sql.functions import when, concat_ws, col, count as spark_count, sum as spark_sum, round as spark_round\n",
    "\n",
    "# Binning simplificado con nuevos nombres\n",
    "df_strat = df_clean \\\n",
    "    .withColumn(\"amt_bin\", when(col(\"total_amount\") < 10, \"A\").when(col(\"total_amount\") < 20, \"B\").otherwise(\"C\")) \\\n",
    "    .withColumn(\"dist_bin\", when(col(\"trip_distance\") < 3, \"X\").when(col(\"trip_distance\") < 10, \"Y\").otherwise(\"Z\")) \\\n",
    "    .withColumn(\"pay_bin\", when(col(\"payment_type\") == 1, \"E\").otherwise(\"F\")) \\\n",
    "    .withColumn(\"pass_bin\", when(col(\"passenger_count\") <= 2, \"L\").otherwise(\"M\"))\n",
    "\n",
    "# Crear clave de estrato combinando los bins\n",
    "df_strat = df_strat.withColumn(\"grupo\", concat_ws(\"-\", \"amt_bin\", \"dist_bin\", \"pay_bin\", \"pass_bin\"))\n",
    "\n",
    "# Conteo total\n",
    "total_registros = df_strat.count()\n",
    "\n",
    "# Conteo y proporción por grupo\n",
    "conteo_grupo = df_strat.groupBy(\"grupo\").agg(\n",
    "    spark_count(\"*\").alias(\"total\"),\n",
    ").withColumn(\"porc\", col(\"total\") / total_registros)\n",
    "\n",
    "# Tamaño de muestra total (10%)\n",
    "tam_muestra = int(total_registros * 0.1)\n",
    "\n",
    "# Cálculo de tamaño por grupo\n",
    "conteo_grupo = conteo_grupo.withColumn(\"muestra\", spark_round(col(\"porc\") * tam_muestra).cast(\"int\"))\n",
    "\n",
    "# Convertir a diccionarios para el muestreo\n",
    "grupo_total_dict = {row[\"grupo\"]: row[\"total\"] for row in conteo_grupo.collect()}\n",
    "grupo_muestra_dict = {row[\"grupo\"]: row[\"muestra\"] for row in conteo_grupo.collect()}\n",
    "\n",
    "# Calcular fracciones de muestreo por grupo\n",
    "fracciones = {\n",
    "    grupo: grupo_muestra_dict[grupo] / grupo_total_dict[grupo]\n",
    "    for grupo in grupo_muestra_dict\n",
    "}\n",
    "\n",
    "# Aplicar muestreo estratificado\n",
    "muestra_df = df_strat.sampleBy(\"grupo\", fractions=fracciones, seed=123)\n",
    "\n",
    "# Verificación final\n",
    "total_M = muestra_df.count()\n",
    "total_Mi = muestra_df.groupBy(\"grupo\").agg(spark_sum(\"grupo\").alias(\"suma\")).count()\n",
    "\n",
    "print(f\"Total registros en M: {total_M}\")\n",
    "print(f\"Suma por subgrupos Mi: {total_Mi}\")\n"
   ]
  },
  {
   "cell_type": "code",
   "execution_count": null,
   "id": "d1061dc6",
   "metadata": {
    "id": "d1061dc6",
    "outputId": "e5c2f149-7e81-4366-cc12-18f869b9ebb9"
   },
   "outputs": [
    {
     "name": "stdout",
     "output_type": "stream",
     "text": [
      "+--------+--------------------+---------------------+---------------+-------------+------------------+------------------+----------+------------------+------------------+------------------+------------+-----------+-----+-------+----------+------------+---------------------+------------+------------------+-------+--------+-------+--------+-------+\n",
      "|VendorID|tpep_pickup_datetime|tpep_dropoff_datetime|passenger_count|trip_distance|  pickup_longitude|   pickup_latitude|RateCodeID|store_and_fwd_flag| dropoff_longitude|  dropoff_latitude|payment_type|fare_amount|extra|mta_tax|tip_amount|tolls_amount|improvement_surcharge|total_amount|  duration_minutes|amt_bin|dist_bin|pay_bin|pass_bin|  grupo|\n",
      "+--------+--------------------+---------------------+---------------+-------------+------------------+------------------+----------+------------------+------------------+------------------+------------+-----------+-----+-------+----------+------------+---------------------+------------+------------------+-------+--------+-------+--------+-------+\n",
      "|       2| 2015-01-04 13:59:27|  2015-01-04 14:02:01|              1|         0.61|  -73.980712890625| 40.73820877075195|         1|                 N|-73.98860168457031|40.736839294433594|           1|        4.0|  0.0|    0.5|       0.8|         0.0|                  0.3|         5.6| 2.566666666666667|      A|       X|      E|       L|A-X-E-L|\n",
      "|       1| 2015-01-02 19:09:20|  2015-01-02 19:14:54|              2|          0.7|-73.95278930664062| 40.78641128540039|         1|                 N|  -73.944580078125| 40.77943420410156|           1|        5.5|  1.0|    0.5|      1.45|         0.0|                  0.0|        8.75| 5.566666666666666|      A|       X|      E|       L|A-X-E-L|\n",
      "|       1| 2015-01-10 19:37:12|  2015-01-10 19:46:35|              1|          0.9|-73.98423767089844|40.737464904785156|         1|                 N|-73.99430084228516| 40.73225021362305|           1|        7.5|  0.0|    0.5|       1.0|         0.0|                  0.3|         9.3| 9.383333333333333|      A|       X|      E|       L|A-X-E-L|\n",
      "|       2| 2015-01-23 09:45:32|  2015-01-23 09:53:08|              1|         1.01|-73.98893737792969| 40.73673629760742|         1|                 N|-73.98200225830078| 40.74815368652344|           1|        7.0|  0.0|    0.5|      1.95|         0.0|                  0.3|        9.75|               7.6|      A|       X|      E|       L|A-X-E-L|\n",
      "|       1| 2015-01-28 20:22:18|  2015-01-28 20:25:17|              1|          0.7| -73.9933090209961|40.747406005859375|         1|                 N|-74.00301361083984| 40.74391555786133|           1|        4.5|  0.5|    0.5|       1.0|         0.0|                  0.3|         6.8|2.9833333333333334|      A|       X|      E|       L|A-X-E-L|\n",
      "+--------+--------------------+---------------------+---------------+-------------+------------------+------------------+----------+------------------+------------------+------------------+------------+-----------+-----+-------+----------+------------+---------------------+------------+------------------+-------+--------+-------+--------+-------+\n",
      "only showing top 5 rows\n",
      "\n"
     ]
    }
   ],
   "source": [
    "muestra_df.show(5)"
   ]
  },
  {
   "cell_type": "markdown",
   "id": "gL6db9UFs-P4",
   "metadata": {
    "id": "gL6db9UFs-P4"
   },
   "source": [
    "##    **3. Fase de entrenamiento**"
   ]
  },
  {
   "cell_type": "code",
   "execution_count": null,
   "id": "c50ee67b",
   "metadata": {
    "id": "c50ee67b"
   },
   "outputs": [],
   "source": [
    "from pyspark.ml.feature import VectorAssembler\n",
    "\n",
    "# Columnas predictoras (ajústalas si necesitas otras)\n",
    "feature_cols = [\n",
    "    \"trip_distance\", \"passenger_count\", \"payment_type\"\n",
    "]\n",
    "\n",
    "# Ensamblar en vector de características\n",
    "assembler = VectorAssembler(inputCols=feature_cols, outputCol=\"features\")\n",
    "\n",
    "# Transformar el dataset de muestra\n",
    "# muestra_df_ensamblada = assembler.transform(muestra_df)\n"
   ]
  },
  {
   "cell_type": "code",
   "execution_count": null,
   "id": "d4e9e8be",
   "metadata": {
    "id": "d4e9e8be"
   },
   "outputs": [],
   "source": [
    "from pyspark.ml.regression import RandomForestRegressor\n",
    "from pyspark.ml.tuning import ParamGridBuilder\n",
    "\n",
    "# Definir el modelo\n",
    "rf = RandomForestRegressor(labelCol=\"duration_minutes\", featuresCol=\"features\")\n",
    "\n",
    "# Grilla de parámetros\n",
    "paramGrid = ParamGridBuilder() \\\n",
    "    .addGrid(rf.numTrees, [10, 20]) \\\n",
    "    .addGrid(rf.maxDepth, [5, 10]) \\\n",
    "    .build()\n"
   ]
  },
  {
   "cell_type": "code",
   "execution_count": null,
   "id": "d189d796",
   "metadata": {
    "id": "d189d796"
   },
   "outputs": [],
   "source": [
    "from pyspark.ml import Pipeline\n",
    "from pyspark.ml.evaluation import RegressionEvaluator\n",
    "from pyspark.ml.tuning import CrossValidator\n",
    "\n",
    "# Evaluador (puedes usar también r2 si lo deseas)\n",
    "evaluator = RegressionEvaluator(labelCol=\"duration_minutes\", predictionCol=\"prediction\", metricName=\"rmse\")\n",
    "\n",
    "# Crear pipeline (ensamblador + modelo)\n",
    "pipeline = Pipeline(stages=[assembler, rf])\n",
    "\n",
    "# Validación cruzada con k=5\n",
    "cv = CrossValidator(\n",
    "    estimator=pipeline,\n",
    "    estimatorParamMaps=paramGrid,\n",
    "    evaluator=evaluator,\n",
    "    numFolds=5,\n",
    "    seed=42\n",
    ")"
   ]
  },
  {
   "cell_type": "code",
   "execution_count": null,
   "id": "0e595e9e",
   "metadata": {
    "id": "0e595e9e",
    "outputId": "d97ea3e8-8a5b-418e-f70a-53bd7265b0d4"
   },
   "outputs": [
    {
     "name": "stderr",
     "output_type": "stream",
     "text": [
      "25/06/16 21:48:36 WARN SparkStringUtils: Truncated the string representation of a plan since it was too large. This behavior can be adjusted by setting 'spark.sql.debug.maxToStringFields'.\n",
      "                                                                                \r"
     ]
    }
   ],
   "source": [
    "# Entrenar con validación cruzada\n",
    "cv_model = cv.fit(muestra_df)\n",
    "\n",
    "# Extraer el mejor modelo\n",
    "best_model = cv_model.bestModel\n"
   ]
  },
  {
   "cell_type": "code",
   "execution_count": null,
   "id": "6c5d779a",
   "metadata": {
    "id": "6c5d779a",
    "outputId": "b52a3d99-5671-4fb8-c585-949d61ffdeb8"
   },
   "outputs": [
    {
     "name": "stderr",
     "output_type": "stream",
     "text": [
      "[Stage 736:===========================================>          (64 + 16) / 80]\r"
     ]
    },
    {
     "name": "stdout",
     "output_type": "stream",
     "text": [
      "RMSE del mejor modelo tras validación cruzada: 3.5714\n"
     ]
    },
    {
     "name": "stderr",
     "output_type": "stream",
     "text": [
      "                                                                                \r"
     ]
    }
   ],
   "source": [
    "# Predecir usando el mejor modelo (en todo muestra_df o en un subconjunto de test)\n",
    "predicciones = best_model.transform(muestra_df)\n",
    "\n",
    "# Calcular métrica\n",
    "rmse = evaluator.evaluate(predicciones)\n",
    "print(f\"RMSE del mejor modelo tras validación cruzada: {rmse:.4f}\")\n"
   ]
  },
  {
   "cell_type": "markdown",
   "id": "jEs2Ff7psaHX",
   "metadata": {
    "id": "jEs2Ff7psaHX"
   },
   "source": [
    "##    **4. Visualización de resultados**"
   ]
  },
  {
   "cell_type": "code",
   "execution_count": null,
   "id": "1a904bca",
   "metadata": {
    "id": "1a904bca",
    "outputId": "c82c6ec9-5763-4bc4-d5a0-71bb14fb6be2"
   },
   "outputs": [
    {
     "name": "stderr",
     "output_type": "stream",
     "text": [
      "                                                                                \r"
     ]
    },
    {
     "data": {
      "image/png": "[encoded data removed]",
      "text/plain": [
       "<Figure size 800x500 with 1 Axes>"
      ]
     },
     "metadata": {},
     "output_type": "display_data"
    }
   ],
   "source": [
    "# Visualizar valores reales vs. predichos (convertir a Pandas para graficar)\n",
    "predicciones_pd = predicciones.select(\"duration_minutes\", \"prediction\").toPandas()\n",
    "\n",
    "import matplotlib.pyplot as plt\n",
    "\n",
    "plt.figure(figsize=(8, 5))\n",
    "plt.scatter(predicciones_pd[\"duration_minutes\"], predicciones_pd[\"prediction\"], alpha=0.3)\n",
    "plt.plot([0, 200], [0, 200], color='red', linestyle='--')  # línea ideal\n",
    "plt.xlabel(\"Real\")\n",
    "plt.ylabel(\"Predicción\")\n",
    "plt.title(\"Predicción vs. Valor Real\")\n",
    "plt.grid(True)\n",
    "plt.show()\n"
   ]
  },
  {
   "cell_type": "markdown",
   "id": "wd_6PupOpkPD",
   "metadata": {
    "id": "wd_6PupOpkPD"
   },
   "source": [
    "##    **5. Discusión de resultados y conclusiones**"
   ]
  },
  {
   "cell_type": "markdown",
   "id": "LjUQeDBtsfE8",
   "metadata": {
    "id": "LjUQeDBtsfE8"
   },
   "source": [
    "**Análisis de Resultados**\n",
    "\n",
    "El modelo seleccionado obtuvo un Root Mean Squared Error (RMSE) promedio de 3.5714 tras aplicar validación cruzada con 5 folds. Este valor indica que, en promedio, la predicción del modelo se desvía 3.57 unidades respecto al valor real de la variable objetivo. Dado el contexto del problema y la escala de la variable dependiente, este RMSE es considerado bueno, ya que se encuentra dentro de un margen de error aceptable para aplicaciones prácticas. Esto sugiere que el modelo tiene una capacidad adecuada para realizar predicciones precisas y consistentes.\n",
    "\n",
    "Gracias a la validación cruzada, también se pudo observar que la variabilidad entre los distintos folds fue baja, lo que indica que el modelo es estable y robusto ante diferentes subconjuntos de entrenamiento. Esta estabilidad refuerza la idea de que el modelo no está sobreajustado y que generaliza bien a nuevos datos.\n",
    "\n",
    "**Conclusiones**\n",
    "\n",
    "* El modelo evaluado presenta un buen desempeño, con un RMSE de 3.5714, lo cual lo posiciona como una herramienta confiable para la tarea de aprendizaje planteada.\n",
    "\n",
    "* La implementación de validación cruzada con 5 folds fue adecuada tanto desde el punto de vista metodológico como computacional, garantizando particiones representativas y un análisis realista del rendimiento del modelo.\n",
    "\n",
    "* Se concluye que el modelo seleccionado es efectivo y generalizable, y se recomienda su uso en escenarios similares. Futuras mejoras podrían incluir el ajuste fino de hiperparámetros o el uso de técnicas avanzadas de ensamblado para optimizar aún más su desempeño.\n",
    "\n"
   ]
  }
 ],
 "metadata": {
  "colab": {
   "provenance": []
  },
  "kernelspec": {
   "display_name": "venv_big_data",
   "language": "python",
   "name": "python3"
  },
  "language_info": {
   "codemirror_mode": {
    "name": "ipython",
    "version": 3
   },
   "file_extension": ".py",
   "mimetype": "text/x-python",
   "name": "python",
   "nbconvert_exporter": "python",
   "pygments_lexer": "ipython3",
   "version": "3.9.22"
  }
 },
 "nbformat": 4,
 "nbformat_minor": 5
}
