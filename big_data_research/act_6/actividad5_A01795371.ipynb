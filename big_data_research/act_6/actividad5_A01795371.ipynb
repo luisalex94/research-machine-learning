{
 "cells": [
  {
   "cell_type": "code",
   "execution_count": 3,
   "id": "ad4d3f3e",
   "metadata": {},
   "outputs": [
    {
     "data": {
      "text/html": [
       "\n",
       "            <div>\n",
       "                <p><b>SparkSession - in-memory</b></p>\n",
       "                \n",
       "        <div>\n",
       "            <p><b>SparkContext</b></p>\n",
       "\n",
       "            <p><a href=\"http://192.168.1.123:4040\">Spark UI</a></p>\n",
       "\n",
       "            <dl>\n",
       "              <dt>Version</dt>\n",
       "                <dd><code>v3.5.5</code></dd>\n",
       "              <dt>Master</dt>\n",
       "                <dd><code>local[*]</code></dd>\n",
       "              <dt>AppName</dt>\n",
       "                <dd><code>YellowTripDataAnalysis</code></dd>\n",
       "            </dl>\n",
       "        </div>\n",
       "        \n",
       "            </div>\n",
       "        "
      ],
      "text/plain": [
       "<pyspark.sql.session.SparkSession at 0x7f8e1dd406d0>"
      ]
     },
     "execution_count": 3,
     "metadata": {},
     "output_type": "execute_result"
    }
   ],
   "source": [
    "import findspark\n",
    "import pandas as pd\n",
    "findspark.init()\n",
    "findspark.find()\n",
    "\n",
    "from pyspark import SparkContext, SparkConf, SQLContext\n",
    "from pyspark.sql import SparkSession\n",
    "# spark = SparkSession.builder.master(\"local[*]\").getOrCreate()\n",
    "# spark.conf.set(\"sparl.sql.repl.eagerEval.enabled\", True)\n",
    "from pyspark.sql.functions import col, isnan, when, count,rand\n",
    "from pyspark.sql import SparkSession\n",
    "\n",
    "from pyspark.sql.functions import col, hour, when, unix_timestamp, round as spark_round\n",
    "from pyspark.sql.types import IntegerType\n",
    "import numpy as np\n",
    "from pyspark.sql.functions import col, unix_timestamp\n",
    "from pyspark.ml.feature import VectorAssembler, StringIndexer\n",
    "from pyspark.ml.regression import RandomForestRegressor\n",
    "from pyspark.ml.evaluation import RegressionEvaluator\n",
    "\n",
    "from pyspark.ml import Pipeline\n",
    "\n",
    "\n",
    "spark = SparkSession.builder \\\n",
    "    .appName(\"YellowTripDataAnalysis\") \\\n",
    "    .master(\"local[*]\") \\\n",
    "    .getOrCreate()\n",
    "\n",
    "spark"
   ]
  },
  {
   "cell_type": "code",
   "execution_count": 4,
   "id": "caffe748",
   "metadata": {},
   "outputs": [
    {
     "name": "stderr",
     "output_type": "stream",
     "text": [
      "                                                                                \r"
     ]
    },
    {
     "name": "stdout",
     "output_type": "stream",
     "text": [
      "Número de filas: 12748986\n",
      "Número de columnas: ['VendorID', 'tpep_pickup_datetime', 'tpep_dropoff_datetime', 'passenger_count', 'trip_distance', 'pickup_longitude', 'pickup_latitude', 'RateCodeID', 'store_and_fwd_flag', 'dropoff_longitude', 'dropoff_latitude', 'payment_type', 'fare_amount', 'extra', 'mta_tax', 'tip_amount', 'tolls_amount', 'improvement_surcharge', 'total_amount']\n",
      "+--------+--------------------+---------------------+---------------+-------------+------------------+------------------+----------+------------------+------------------+------------------+------------+-----------+-----+-------+----------+------------+---------------------+------------+\n",
      "|VendorID|tpep_pickup_datetime|tpep_dropoff_datetime|passenger_count|trip_distance|  pickup_longitude|   pickup_latitude|RateCodeID|store_and_fwd_flag| dropoff_longitude|  dropoff_latitude|payment_type|fare_amount|extra|mta_tax|tip_amount|tolls_amount|improvement_surcharge|total_amount|\n",
      "+--------+--------------------+---------------------+---------------+-------------+------------------+------------------+----------+------------------+------------------+------------------+------------+-----------+-----+-------+----------+------------+---------------------+------------+\n",
      "|       2| 2015-01-15 19:05:39|  2015-01-15 19:23:42|              1|         1.59|  -73.993896484375|  40.7501106262207|         1|                 N|-73.97478485107422| 40.75061798095703|           1|       12.0|  1.0|    0.5|      3.25|         0.0|                  0.3|       17.05|\n",
      "|       1| 2015-01-10 20:33:38|  2015-01-10 20:53:28|              1|          3.3|-74.00164794921875|  40.7242431640625|         1|                 N|-73.99441528320312| 40.75910949707031|           1|       14.5|  0.5|    0.5|       2.0|         0.0|                  0.3|        17.8|\n",
      "|       1| 2015-01-10 20:33:38|  2015-01-10 20:43:41|              1|          1.8|-73.96334075927734| 40.80278778076172|         1|                 N|-73.95182037353516| 40.82441329956055|           2|        9.5|  0.5|    0.5|       0.0|         0.0|                  0.3|        10.8|\n",
      "|       1| 2015-01-10 20:33:39|  2015-01-10 20:35:31|              1|          0.5|-74.00908660888672| 40.71381759643555|         1|                 N|-74.00432586669922| 40.71998596191406|           2|        3.5|  0.5|    0.5|       0.0|         0.0|                  0.3|         4.8|\n",
      "|       1| 2015-01-10 20:33:39|  2015-01-10 20:52:58|              1|          3.0|-73.97117614746094|40.762428283691406|         1|                 N|-74.00418090820312|40.742652893066406|           2|       15.0|  0.5|    0.5|       0.0|         0.0|                  0.3|        16.3|\n",
      "+--------+--------------------+---------------------+---------------+-------------+------------------+------------------+----------+------------------+------------------+------------------+------------+-----------+-----+-------+----------+------------+---------------------+------------+\n",
      "only showing top 5 rows\n",
      "\n"
     ]
    }
   ],
   "source": [
    "# Lectura de informacion\n",
    "df = spark.read.option(\"header\", True).option(\"inferSchema\", True).csv(\"../data/yellow_tripdata/yellow_tripdata_2015-01.csv\")\n",
    "print(f\"Número de filas: {df.count()}\")\n",
    "print(f\"Número de columnas: {df.columns}\")\n",
    "df.show(5)\n",
    "# display(df)"
   ]
  },
  {
   "cell_type": "code",
   "execution_count": 5,
   "id": "6df0831a",
   "metadata": {},
   "outputs": [],
   "source": [
    "# Generamos un diccionario con los factores de caracterización\n",
    "charact_factor = {\n",
    "    \"passenger_count\": 1e10,\n",
    "    \"trip_distance\": 2.5,\n",
    "    \"payment_type\": 3,\n",
    "    \"total_amount\": 3,\n",
    "    \"tpep_pickup_datetime\": 1e10,\n",
    "    \"tpep_dropoff_datetime\": 1e10,\n",
    "}\n",
    "\n",
    "# Obtenemos una muestra del 5% de los datos originales\n",
    "sample = df.select(list(charact_factor.keys())).sample(False, 0.05, seed=42)"
   ]
  },
  {
   "cell_type": "code",
   "execution_count": 6,
   "id": "8cadc2ad",
   "metadata": {},
   "outputs": [
    {
     "name": "stderr",
     "output_type": "stream",
     "text": [
      "                                                                                \r"
     ]
    }
   ],
   "source": [
    "# Copiamos el DataFrame original a otro DataFrame\n",
    "df_sample = sample.select(\"*\")\n",
    "\n",
    "# Se eliminan las filas con valores nulos\n",
    "df_sample = df_sample.dropna()\n",
    "\n",
    "# Se crea la columna trip_duration\n",
    "df_sample = df_sample.withColumn(\n",
    "    \"trip_duration\",\n",
    "    (unix_timestamp(\"tpep_dropoff_datetime\") - unix_timestamp(\"tpep_pickup_datetime\")) / 60,\n",
    ")\n",
    "\n",
    "# Se agrega la columna trip_duration al diccionario charact_factor\n",
    "charact_factor['trip_duration'] = 2\n",
    "\n",
    "# Se extraen las horas de las columnas tpep_pickup_datetime y tpep_dropoff_datetime\n",
    "df_sample = df_sample.withColumn(\"tpep_pickup_datetime\", hour(\"tpep_pickup_datetime\"))\n",
    "df_sample = df_sample.withColumn(\"tpep_dropoff_datetime\", hour(\"tpep_dropoff_datetime\"))\n",
    "\n",
    "# Se eliminan los valores negativos y ceros de las columnas trip_distance, \n",
    "# total_amount, passenger_count y trip_duration\n",
    "for colname in [\"trip_distance\", \"total_amount\", \"passenger_count\", \"trip_duration\"]:\n",
    "    df_sample = df_sample.filter(col(colname) > 0)\n",
    "\n",
    "# Se crea la columna trip_distance_bind\n",
    "df_sample = df_sample.withColumn(\n",
    "    \"trip_distance_bind\",\n",
    "    when(col(\"trip_distance\") <= 3.0, 1)\n",
    "    .when((col(\"trip_distance\") > 3.0) & (col(\"trip_distance\") <= 10.0), 2)\n",
    "    .when(col(\"trip_distance\") > 10.0, 3)\n",
    ")\n",
    "\n",
    "# Se crea la columna total_amount_bind\n",
    "df_sample = df_sample.withColumn(\n",
    "    \"total_amount_bind\",\n",
    "    when(col(\"total_amount\") <= 10.0, 1)\n",
    "    .when((col(\"total_amount\") > 10.0) & (col(\"total_amount\") <= 20.0), 2)\n",
    "    .when(col(\"total_amount\") > 20.0, 3)\n",
    ")\n",
    "\n",
    "# Se crea la columna passenger_count_bind\n",
    "df_sample = df_sample.withColumn(\n",
    "    \"passenger_count_bind\",\n",
    "    when(col(\"passenger_count\") <= 2.0, 1)\n",
    "    .when((col(\"passenger_count\") > 2.0) & (col(\"passenger_count\") <= 6.0), 2)\n",
    ")\n",
    "\n",
    "# Se crea la columna trip_duration_bind\n",
    "df_sample = df_sample.withColumn(\n",
    "    \"trip_duration_bind\",\n",
    "    when(col(\"trip_duration\") <= 10.0, 1)\n",
    "    .when((col(\"trip_duration\") > 10.0) & (col(\"trip_duration\") <= 20.0), 2)\n",
    "    .when(col(\"trip_duration\") > 20.0, 3)\n",
    ")\n",
    "\n",
    "# Se crea la columna payment_type_bind\n",
    "df_sample = df_sample.withColumn(\n",
    "    \"payment_type_bind\",\n",
    "    when(col(\"payment_type\") == 1.0, 1)\n",
    "    .when((col(\"payment_type\") > 1.0) & (col(\"payment_type\") <= 6.0), 2)\n",
    ")\n",
    "\n",
    "# Se vuelven a eliminar las filas con valores nulos\n",
    "df_sample = df_sample.dropna()\n",
    "\n",
    "# Se convierten las columnas binned a tipo Integer\n",
    "for binned_col in [\n",
    "    \"trip_distance_bind\",\n",
    "    \"trip_duration_bind\",\n",
    "    \"total_amount_bind\",\n",
    "    \"passenger_count_bind\",\n",
    "    \"payment_type_bind\",\n",
    "]:\n",
    "    df_sample = df_sample.withColumn(binned_col, col(binned_col).cast(IntegerType()))\n",
    "\n",
    "# Se eliminan los outliers de las columnas numéricas\n",
    "for col_name, factor in charact_factor.items():\n",
    "    quantiles = df_sample.approxQuantile(col_name, [0.25, 0.75], 0.0)\n",
    "    q1, q3 = quantiles\n",
    "    iqr = q3 - q1\n",
    "    lower = q1 - factor * iqr\n",
    "    upper = q3 + factor * iqr\n",
    "    df_sample = df_sample.filter((col(col_name) >= lower) & (col(col_name) <= upper))\n"
   ]
  },
  {
   "cell_type": "code",
   "execution_count": 7,
   "id": "4283b5d2",
   "metadata": {},
   "outputs": [
    {
     "name": "stderr",
     "output_type": "stream",
     "text": [
      "                                                                                \r"
     ]
    },
    {
     "name": "stdout",
     "output_type": "stream",
     "text": [
      "Combinación: (1, 1, 1, 1) / iteración: 1, Proporción: 0.1930\n"
     ]
    },
    {
     "name": "stderr",
     "output_type": "stream",
     "text": [
      "                                                                                \r"
     ]
    },
    {
     "name": "stdout",
     "output_type": "stream",
     "text": [
      "Combinación: (1, 1, 1, 2) / iteración: 2, Proporción: 0.0327\n"
     ]
    },
    {
     "name": "stderr",
     "output_type": "stream",
     "text": [
      "                                                                                \r"
     ]
    },
    {
     "name": "stdout",
     "output_type": "stream",
     "text": [
      "Combinación: (1, 1, 2, 1) / iteración: 3, Proporción: 0.1954\n"
     ]
    },
    {
     "name": "stderr",
     "output_type": "stream",
     "text": [
      "                                                                                \r"
     ]
    },
    {
     "name": "stdout",
     "output_type": "stream",
     "text": [
      "Combinación: (1, 1, 2, 2) / iteración: 4, Proporción: 0.0362\n"
     ]
    },
    {
     "name": "stderr",
     "output_type": "stream",
     "text": [
      "                                                                                \r"
     ]
    },
    {
     "name": "stdout",
     "output_type": "stream",
     "text": [
      "Combinación: (1, 2, 1, 1) / iteración: 5, Proporción: 0.0000\n"
     ]
    },
    {
     "name": "stderr",
     "output_type": "stream",
     "text": [
      "                                                                                \r"
     ]
    },
    {
     "name": "stdout",
     "output_type": "stream",
     "text": [
      "Combinación: (1, 2, 1, 2) / iteración: 6, Proporción: 0.0000\n"
     ]
    },
    {
     "name": "stderr",
     "output_type": "stream",
     "text": [
      "                                                                                \r"
     ]
    },
    {
     "name": "stdout",
     "output_type": "stream",
     "text": [
      "Combinación: (1, 2, 2, 1) / iteración: 7, Proporción: 0.0001\n"
     ]
    },
    {
     "name": "stderr",
     "output_type": "stream",
     "text": [
      "                                                                                \r"
     ]
    },
    {
     "name": "stdout",
     "output_type": "stream",
     "text": [
      "Combinación: (1, 2, 2, 2) / iteración: 8, Proporción: 0.0000\n"
     ]
    },
    {
     "name": "stderr",
     "output_type": "stream",
     "text": [
      "                                                                                \r"
     ]
    },
    {
     "name": "stdout",
     "output_type": "stream",
     "text": [
      "Combinación: (1, 3, 1, 1) / iteración: 9, Proporción: 0.0000\n"
     ]
    },
    {
     "name": "stderr",
     "output_type": "stream",
     "text": [
      "                                                                                \r"
     ]
    },
    {
     "name": "stdout",
     "output_type": "stream",
     "text": [
      "Combinación: (1, 3, 1, 2) / iteración: 10, Proporción: 0.0000\n"
     ]
    },
    {
     "name": "stderr",
     "output_type": "stream",
     "text": [
      "                                                                                \r"
     ]
    },
    {
     "name": "stdout",
     "output_type": "stream",
     "text": [
      "Combinación: (1, 3, 2, 1) / iteración: 11, Proporción: 0.0000\n"
     ]
    },
    {
     "name": "stderr",
     "output_type": "stream",
     "text": [
      "                                                                                \r"
     ]
    },
    {
     "name": "stdout",
     "output_type": "stream",
     "text": [
      "Combinación: (1, 3, 2, 2) / iteración: 12, Proporción: 0.0000\n"
     ]
    },
    {
     "name": "stderr",
     "output_type": "stream",
     "text": [
      "                                                                                \r"
     ]
    },
    {
     "name": "stdout",
     "output_type": "stream",
     "text": [
      "Combinación: (2, 1, 1, 1) / iteración: 13, Proporción: 0.2218\n"
     ]
    },
    {
     "name": "stderr",
     "output_type": "stream",
     "text": [
      "                                                                                \r"
     ]
    },
    {
     "name": "stdout",
     "output_type": "stream",
     "text": [
      "Combinación: (2, 1, 1, 2) / iteración: 14, Proporción: 0.0384\n"
     ]
    },
    {
     "name": "stderr",
     "output_type": "stream",
     "text": [
      "                                                                                \r"
     ]
    },
    {
     "name": "stdout",
     "output_type": "stream",
     "text": [
      "Combinación: (2, 1, 2, 1) / iteración: 15, Proporción: 0.0778\n"
     ]
    },
    {
     "name": "stderr",
     "output_type": "stream",
     "text": [
      "                                                                                \r"
     ]
    },
    {
     "name": "stdout",
     "output_type": "stream",
     "text": [
      "Combinación: (2, 1, 2, 2) / iteración: 16, Proporción: 0.0154\n"
     ]
    },
    {
     "name": "stderr",
     "output_type": "stream",
     "text": [
      "                                                                                \r"
     ]
    },
    {
     "name": "stdout",
     "output_type": "stream",
     "text": [
      "Combinación: (2, 2, 1, 1) / iteración: 17, Proporción: 0.0463\n"
     ]
    },
    {
     "name": "stderr",
     "output_type": "stream",
     "text": [
      "                                                                                \r"
     ]
    },
    {
     "name": "stdout",
     "output_type": "stream",
     "text": [
      "Combinación: (2, 2, 1, 2) / iteración: 18, Proporción: 0.0084\n"
     ]
    },
    {
     "name": "stderr",
     "output_type": "stream",
     "text": [
      "                                                                                \r"
     ]
    },
    {
     "name": "stdout",
     "output_type": "stream",
     "text": [
      "Combinación: (2, 2, 2, 1) / iteración: 19, Proporción: 0.0366\n"
     ]
    },
    {
     "name": "stderr",
     "output_type": "stream",
     "text": [
      "                                                                                \r"
     ]
    },
    {
     "name": "stdout",
     "output_type": "stream",
     "text": [
      "Combinación: (2, 2, 2, 2) / iteración: 20, Proporción: 0.0074\n"
     ]
    },
    {
     "name": "stderr",
     "output_type": "stream",
     "text": [
      "                                                                                \r"
     ]
    },
    {
     "name": "stdout",
     "output_type": "stream",
     "text": [
      "Combinación: (2, 3, 1, 1) / iteración: 21, Proporción: 0.0000\n"
     ]
    },
    {
     "name": "stderr",
     "output_type": "stream",
     "text": [
      "                                                                                \r"
     ]
    },
    {
     "name": "stdout",
     "output_type": "stream",
     "text": [
      "Combinación: (2, 3, 1, 2) / iteración: 22, Proporción: 0.0000\n"
     ]
    },
    {
     "name": "stderr",
     "output_type": "stream",
     "text": [
      "                                                                                \r"
     ]
    },
    {
     "name": "stdout",
     "output_type": "stream",
     "text": [
      "Combinación: (2, 3, 2, 1) / iteración: 23, Proporción: 0.0000\n"
     ]
    },
    {
     "name": "stderr",
     "output_type": "stream",
     "text": [
      "                                                                                \r"
     ]
    },
    {
     "name": "stdout",
     "output_type": "stream",
     "text": [
      "Combinación: (2, 3, 2, 2) / iteración: 24, Proporción: 0.0000\n"
     ]
    },
    {
     "name": "stderr",
     "output_type": "stream",
     "text": [
      "                                                                                \r"
     ]
    },
    {
     "name": "stdout",
     "output_type": "stream",
     "text": [
      "Combinación: (3, 1, 1, 1) / iteración: 25, Proporción: 0.0038\n"
     ]
    },
    {
     "name": "stderr",
     "output_type": "stream",
     "text": [
      "                                                                                \r"
     ]
    },
    {
     "name": "stdout",
     "output_type": "stream",
     "text": [
      "Combinación: (3, 1, 1, 2) / iteración: 26, Proporción: 0.0006\n"
     ]
    },
    {
     "name": "stderr",
     "output_type": "stream",
     "text": [
      "                                                                                \r"
     ]
    },
    {
     "name": "stdout",
     "output_type": "stream",
     "text": [
      "Combinación: (3, 1, 2, 1) / iteración: 27, Proporción: 0.0001\n"
     ]
    },
    {
     "name": "stderr",
     "output_type": "stream",
     "text": [
      "                                                                                \r"
     ]
    },
    {
     "name": "stdout",
     "output_type": "stream",
     "text": [
      "Combinación: (3, 1, 2, 2) / iteración: 28, Proporción: 0.0000\n"
     ]
    },
    {
     "name": "stderr",
     "output_type": "stream",
     "text": [
      "                                                                                \r"
     ]
    },
    {
     "name": "stdout",
     "output_type": "stream",
     "text": [
      "Combinación: (3, 2, 1, 1) / iteración: 29, Proporción: 0.0586\n"
     ]
    },
    {
     "name": "stderr",
     "output_type": "stream",
     "text": [
      "                                                                                \r"
     ]
    },
    {
     "name": "stdout",
     "output_type": "stream",
     "text": [
      "Combinación: (3, 2, 1, 2) / iteración: 30, Proporción: 0.0102\n"
     ]
    },
    {
     "name": "stderr",
     "output_type": "stream",
     "text": [
      "                                                                                \r"
     ]
    },
    {
     "name": "stdout",
     "output_type": "stream",
     "text": [
      "Combinación: (3, 2, 2, 1) / iteración: 31, Proporción: 0.0141\n"
     ]
    },
    {
     "name": "stderr",
     "output_type": "stream",
     "text": [
      "                                                                                \r"
     ]
    },
    {
     "name": "stdout",
     "output_type": "stream",
     "text": [
      "Combinación: (3, 2, 2, 2) / iteración: 32, Proporción: 0.0029\n"
     ]
    },
    {
     "name": "stderr",
     "output_type": "stream",
     "text": [
      "                                                                                \r"
     ]
    },
    {
     "name": "stdout",
     "output_type": "stream",
     "text": [
      "Combinación: (3, 3, 1, 1) / iteración: 33, Proporción: 0.0000\n"
     ]
    },
    {
     "name": "stderr",
     "output_type": "stream",
     "text": [
      "                                                                                \r"
     ]
    },
    {
     "name": "stdout",
     "output_type": "stream",
     "text": [
      "Combinación: (3, 3, 1, 2) / iteración: 34, Proporción: 0.0000\n"
     ]
    },
    {
     "name": "stderr",
     "output_type": "stream",
     "text": [
      "                                                                                \r"
     ]
    },
    {
     "name": "stdout",
     "output_type": "stream",
     "text": [
      "Combinación: (3, 3, 2, 1) / iteración: 35, Proporción: 0.0000\n"
     ]
    },
    {
     "name": "stderr",
     "output_type": "stream",
     "text": [
      "[Stage 128:>                                                      (0 + 16) / 16]\r"
     ]
    },
    {
     "name": "stdout",
     "output_type": "stream",
     "text": [
      "Combinación: (3, 3, 2, 2) / iteración: 36, Proporción: 0.0000\n",
      "Proporción total: 1.0000\n"
     ]
    },
    {
     "name": "stderr",
     "output_type": "stream",
     "text": [
      "                                                                                \r"
     ]
    }
   ],
   "source": [
    "# Importa las librerías necesarias\n",
    "from itertools import product\n",
    "from pyspark.sql.functions import col\n",
    "\n",
    "# Iteraciones de los valores binned\n",
    "iterations = {\n",
    "    \"total_amount_bind\": [1, 2, 3],\n",
    "    \"trip_distance_bind\": [1, 2, 3],\n",
    "    \"payment_type_bind\": [1, 2],\n",
    "    \"passenger_count_bind\": [1, 2]\n",
    "}\n",
    "\n",
    "# Número total de filas\n",
    "total_rows = df_sample.count()\n",
    "\n",
    "# Extracción de las claves y valores del diccionario\n",
    "keys = list(iterations.keys())\n",
    "values = list(iterations.values())\n",
    "\n",
    "# Crear todas las combinaciones posibles de los valores\n",
    "combinations = list(product(*values))\n",
    "\n",
    "# Número de iteración\n",
    "iter_num = 1\n",
    "\n",
    "# Suma total de proporciones\n",
    "total_proportion = 0\n",
    "\n",
    "# Iterar sobre cada combinación\n",
    "for comb in combinations:\n",
    "    # Construir el filtro dinámicamente\n",
    "    condition = (col(keys[0]) == comb[0])\n",
    "    for i in range(1, len(keys)):\n",
    "        condition &= (col(keys[i]) == comb[i])\n",
    "    \n",
    "    # Aplicar el filtro\n",
    "    filtered_rows = df_sample.filter(condition)\n",
    "    \n",
    "    # Contar y calcular proporción\n",
    "    count = filtered_rows.count()\n",
    "    proportion = count / total_rows if total_rows != 0 else 0\n",
    "\n",
    "    print(f\"Combinación: {comb} / iteración: {iter_num}, Proporción: {proportion:.4f}\")\n",
    "    \n",
    "    iter_num += 1\n",
    "    total_proportion += proportion\n",
    "\n",
    "# Mostrar proporción total\n",
    "print(f\"Proporción total: {total_proportion:.4f}\")\n"
   ]
  },
  {
   "cell_type": "code",
   "execution_count": 8,
   "id": "ab97bf68",
   "metadata": {},
   "outputs": [
    {
     "name": "stdout",
     "output_type": "stream",
     "text": [
      "Total amount bind ranges:  [(0.0, 10.0), (10.0, 20.0), (20.0, 100.0)]\n",
      "Trip distance bind ranges:  [(0.0, 3.0), (3.0, 10.0), (10.0, 100.0)]\n",
      "Payment type bind ranges:  [(0.0, 1.0), (1.0, 6.0)]\n",
      "Passenger count bind ranges:  [(0.0, 2.0), (2.0, 6.0)]\n",
      "Combinations:  [((0.0, 10.0), (0.0, 3.0), (0.0, 1.0), (0.0, 2.0)), ((0.0, 10.0), (0.0, 3.0), (0.0, 1.0), (2.0, 6.0)), ((0.0, 10.0), (0.0, 3.0), (1.0, 6.0), (0.0, 2.0)), ((0.0, 10.0), (0.0, 3.0), (1.0, 6.0), (2.0, 6.0)), ((0.0, 10.0), (3.0, 10.0), (0.0, 1.0), (0.0, 2.0)), ((0.0, 10.0), (3.0, 10.0), (0.0, 1.0), (2.0, 6.0)), ((0.0, 10.0), (3.0, 10.0), (1.0, 6.0), (0.0, 2.0)), ((0.0, 10.0), (3.0, 10.0), (1.0, 6.0), (2.0, 6.0)), ((0.0, 10.0), (10.0, 100.0), (0.0, 1.0), (0.0, 2.0)), ((0.0, 10.0), (10.0, 100.0), (0.0, 1.0), (2.0, 6.0)), ((0.0, 10.0), (10.0, 100.0), (1.0, 6.0), (0.0, 2.0)), ((0.0, 10.0), (10.0, 100.0), (1.0, 6.0), (2.0, 6.0)), ((10.0, 20.0), (0.0, 3.0), (0.0, 1.0), (0.0, 2.0)), ((10.0, 20.0), (0.0, 3.0), (0.0, 1.0), (2.0, 6.0)), ((10.0, 20.0), (0.0, 3.0), (1.0, 6.0), (0.0, 2.0)), ((10.0, 20.0), (0.0, 3.0), (1.0, 6.0), (2.0, 6.0)), ((10.0, 20.0), (3.0, 10.0), (0.0, 1.0), (0.0, 2.0)), ((10.0, 20.0), (3.0, 10.0), (0.0, 1.0), (2.0, 6.0)), ((10.0, 20.0), (3.0, 10.0), (1.0, 6.0), (0.0, 2.0)), ((10.0, 20.0), (3.0, 10.0), (1.0, 6.0), (2.0, 6.0)), ((10.0, 20.0), (10.0, 100.0), (0.0, 1.0), (0.0, 2.0)), ((10.0, 20.0), (10.0, 100.0), (0.0, 1.0), (2.0, 6.0)), ((10.0, 20.0), (10.0, 100.0), (1.0, 6.0), (0.0, 2.0)), ((10.0, 20.0), (10.0, 100.0), (1.0, 6.0), (2.0, 6.0)), ((20.0, 100.0), (0.0, 3.0), (0.0, 1.0), (0.0, 2.0)), ((20.0, 100.0), (0.0, 3.0), (0.0, 1.0), (2.0, 6.0)), ((20.0, 100.0), (0.0, 3.0), (1.0, 6.0), (0.0, 2.0)), ((20.0, 100.0), (0.0, 3.0), (1.0, 6.0), (2.0, 6.0)), ((20.0, 100.0), (3.0, 10.0), (0.0, 1.0), (0.0, 2.0)), ((20.0, 100.0), (3.0, 10.0), (0.0, 1.0), (2.0, 6.0)), ((20.0, 100.0), (3.0, 10.0), (1.0, 6.0), (0.0, 2.0)), ((20.0, 100.0), (3.0, 10.0), (1.0, 6.0), (2.0, 6.0)), ((20.0, 100.0), (10.0, 100.0), (0.0, 1.0), (0.0, 2.0)), ((20.0, 100.0), (10.0, 100.0), (0.0, 1.0), (2.0, 6.0)), ((20.0, 100.0), (10.0, 100.0), (1.0, 6.0), (0.0, 2.0)), ((20.0, 100.0), (10.0, 100.0), (1.0, 6.0), (2.0, 6.0))]\n"
     ]
    }
   ],
   "source": [
    "\n",
    "# Establece los rangos para las columnas\n",
    "total_amount_bind = [0.0, 10.0, 20.0, 100.0]\n",
    "trip_distance_bind = [0.0, 3.0, 10.0, 100.0]\n",
    "payment_type_bind = [0.0, 1.0, 6.0]\n",
    "passenger_count_bind = [0.0, 2.0, 6.0]\n",
    "\n",
    "# Crea listas para almacenar los rangos de cada columna\n",
    "total_amount_bind_ranges = []\n",
    "trip_distance_bind_ranges = []\n",
    "payment_type_bind_ranges = []\n",
    "passenger_count_bind_ranges = []\n",
    "\n",
    "# Crea los rangos para cada columna\n",
    "for i in range(len(total_amount_bind) - 1):\n",
    "    total_amount_bind_ranges.append((total_amount_bind[i], total_amount_bind[i + 1]))\n",
    "    \n",
    "for i in range(len(trip_distance_bind) - 1):\n",
    "    trip_distance_bind_ranges.append((trip_distance_bind[i], trip_distance_bind[i + 1]))\n",
    "    \n",
    "for i in range(len(payment_type_bind) - 1):\n",
    "    payment_type_bind_ranges.append((payment_type_bind[i], payment_type_bind[i + 1]))\n",
    "    \n",
    "for i in range(len(passenger_count_bind) - 1):\n",
    "    passenger_count_bind_ranges.append((passenger_count_bind[i], passenger_count_bind[i + 1]))\n",
    "\n",
    "# Imprime los rangos de cada columna\n",
    "print(\"Total amount bind ranges: \", total_amount_bind_ranges)\n",
    "print(\"Trip distance bind ranges: \", trip_distance_bind_ranges)\n",
    "print(\"Payment type bind ranges: \", payment_type_bind_ranges)\n",
    "print(\"Passenger count bind ranges: \", passenger_count_bind_ranges)\n",
    "\n",
    "# Crea todas las combinaciones posibles de los rangos\n",
    "combinations = list(product(total_amount_bind_ranges, trip_distance_bind_ranges, payment_type_bind_ranges, passenger_count_bind_ranges))\n",
    "\n",
    "# Imprime las combinaciones\n",
    "print(\"Combinations: \", combinations)"
   ]
  },
  {
   "cell_type": "code",
   "execution_count": 9,
   "id": "aa3a8c26",
   "metadata": {},
   "outputs": [
    {
     "name": "stderr",
     "output_type": "stream",
     "text": [
      "                                                                                \r"
     ]
    },
    {
     "name": "stdout",
     "output_type": "stream",
     "text": [
      "Porcentaje: 0.18 / combinación: ((0.0, 10.0), (0.0, 3.0), (0.0, 1.0), (0.0, 2.0)) / iteración: 1 / proporción: 0.1753\n"
     ]
    },
    {
     "name": "stderr",
     "output_type": "stream",
     "text": [
      "                                                                                \r"
     ]
    },
    {
     "name": "stdout",
     "output_type": "stream",
     "text": [
      "Combination accepted\n"
     ]
    },
    {
     "name": "stderr",
     "output_type": "stream",
     "text": [
      "                                                                                \r"
     ]
    },
    {
     "name": "stdout",
     "output_type": "stream",
     "text": [
      "Porcentaje: 0.21 / combinación: ((0.0, 10.0), (0.0, 3.0), (0.0, 1.0), (2.0, 6.0)) / iteración: 2 / proporción: 0.0298\n"
     ]
    },
    {
     "name": "stderr",
     "output_type": "stream",
     "text": [
      "                                                                                \r"
     ]
    },
    {
     "name": "stdout",
     "output_type": "stream",
     "text": [
      "Porcentaje: 0.38 / combinación: ((0.0, 10.0), (0.0, 3.0), (1.0, 6.0), (0.0, 2.0)) / iteración: 3 / proporción: 0.1786\n"
     ]
    },
    {
     "name": "stderr",
     "output_type": "stream",
     "text": [
      "                                                                                \r"
     ]
    },
    {
     "name": "stdout",
     "output_type": "stream",
     "text": [
      "Combination accepted\n"
     ]
    },
    {
     "name": "stderr",
     "output_type": "stream",
     "text": [
      "                                                                                \r"
     ]
    },
    {
     "name": "stdout",
     "output_type": "stream",
     "text": [
      "Porcentaje: 0.42 / combinación: ((0.0, 10.0), (0.0, 3.0), (1.0, 6.0), (2.0, 6.0)) / iteración: 4 / proporción: 0.0330\n"
     ]
    },
    {
     "name": "stderr",
     "output_type": "stream",
     "text": [
      "                                                                                \r"
     ]
    },
    {
     "name": "stdout",
     "output_type": "stream",
     "text": [
      "Porcentaje: 0.42 / combinación: ((0.0, 10.0), (3.0, 10.0), (0.0, 1.0), (0.0, 2.0)) / iteración: 5 / proporción: 0.0000\n"
     ]
    },
    {
     "name": "stderr",
     "output_type": "stream",
     "text": [
      "                                                                                \r"
     ]
    },
    {
     "name": "stdout",
     "output_type": "stream",
     "text": [
      "Porcentaje: 0.42 / combinación: ((0.0, 10.0), (3.0, 10.0), (0.0, 1.0), (2.0, 6.0)) / iteración: 6 / proporción: 0.0000\n"
     ]
    },
    {
     "name": "stderr",
     "output_type": "stream",
     "text": [
      "                                                                                \r"
     ]
    },
    {
     "name": "stdout",
     "output_type": "stream",
     "text": [
      "Porcentaje: 0.42 / combinación: ((0.0, 10.0), (3.0, 10.0), (1.0, 6.0), (0.0, 2.0)) / iteración: 7 / proporción: 0.0002\n"
     ]
    },
    {
     "name": "stderr",
     "output_type": "stream",
     "text": [
      "                                                                                \r"
     ]
    },
    {
     "name": "stdout",
     "output_type": "stream",
     "text": [
      "Porcentaje: 0.42 / combinación: ((0.0, 10.0), (3.0, 10.0), (1.0, 6.0), (2.0, 6.0)) / iteración: 8 / proporción: 0.0000\n"
     ]
    },
    {
     "name": "stderr",
     "output_type": "stream",
     "text": [
      "                                                                                \r"
     ]
    },
    {
     "name": "stdout",
     "output_type": "stream",
     "text": [
      "Porcentaje: 0.42 / combinación: ((0.0, 10.0), (10.0, 100.0), (0.0, 1.0), (0.0, 2.0)) / iteración: 9 / proporción: 0.0000\n"
     ]
    },
    {
     "name": "stderr",
     "output_type": "stream",
     "text": [
      "                                                                                \r"
     ]
    },
    {
     "name": "stdout",
     "output_type": "stream",
     "text": [
      "Porcentaje: 0.42 / combinación: ((0.0, 10.0), (10.0, 100.0), (0.0, 1.0), (2.0, 6.0)) / iteración: 10 / proporción: 0.0000\n"
     ]
    },
    {
     "name": "stderr",
     "output_type": "stream",
     "text": [
      "                                                                                \r"
     ]
    },
    {
     "name": "stdout",
     "output_type": "stream",
     "text": [
      "Porcentaje: 0.42 / combinación: ((0.0, 10.0), (10.0, 100.0), (1.0, 6.0), (0.0, 2.0)) / iteración: 11 / proporción: 0.0001\n"
     ]
    },
    {
     "name": "stderr",
     "output_type": "stream",
     "text": [
      "                                                                                \r"
     ]
    },
    {
     "name": "stdout",
     "output_type": "stream",
     "text": [
      "Porcentaje: 0.42 / combinación: ((0.0, 10.0), (10.0, 100.0), (1.0, 6.0), (2.0, 6.0)) / iteración: 12 / proporción: 0.0000\n"
     ]
    },
    {
     "name": "stderr",
     "output_type": "stream",
     "text": [
      "                                                                                \r"
     ]
    },
    {
     "name": "stdout",
     "output_type": "stream",
     "text": [
      "Porcentaje: 0.62 / combinación: ((10.0, 20.0), (0.0, 3.0), (0.0, 1.0), (0.0, 2.0)) / iteración: 13 / proporción: 0.2025\n"
     ]
    },
    {
     "name": "stderr",
     "output_type": "stream",
     "text": [
      "                                                                                \r"
     ]
    },
    {
     "name": "stdout",
     "output_type": "stream",
     "text": [
      "Combination accepted\n"
     ]
    },
    {
     "name": "stderr",
     "output_type": "stream",
     "text": [
      "                                                                                \r"
     ]
    },
    {
     "name": "stdout",
     "output_type": "stream",
     "text": [
      "Porcentaje: 0.65 / combinación: ((10.0, 20.0), (0.0, 3.0), (0.0, 1.0), (2.0, 6.0)) / iteración: 14 / proporción: 0.0346\n"
     ]
    },
    {
     "name": "stderr",
     "output_type": "stream",
     "text": [
      "                                                                                \r"
     ]
    },
    {
     "name": "stdout",
     "output_type": "stream",
     "text": [
      "Porcentaje: 0.72 / combinación: ((10.0, 20.0), (0.0, 3.0), (1.0, 6.0), (0.0, 2.0)) / iteración: 15 / proporción: 0.0707\n"
     ]
    },
    {
     "name": "stderr",
     "output_type": "stream",
     "text": [
      "                                                                                \r"
     ]
    },
    {
     "name": "stdout",
     "output_type": "stream",
     "text": [
      "Combination accepted\n"
     ]
    },
    {
     "name": "stderr",
     "output_type": "stream",
     "text": [
      "                                                                                \r"
     ]
    },
    {
     "name": "stdout",
     "output_type": "stream",
     "text": [
      "Porcentaje: 0.74 / combinación: ((10.0, 20.0), (0.0, 3.0), (1.0, 6.0), (2.0, 6.0)) / iteración: 16 / proporción: 0.0139\n"
     ]
    },
    {
     "name": "stderr",
     "output_type": "stream",
     "text": [
      "                                                                                \r"
     ]
    },
    {
     "name": "stdout",
     "output_type": "stream",
     "text": [
      "Porcentaje: 0.78 / combinación: ((10.0, 20.0), (3.0, 10.0), (0.0, 1.0), (0.0, 2.0)) / iteración: 17 / proporción: 0.0425\n"
     ]
    },
    {
     "name": "stderr",
     "output_type": "stream",
     "text": [
      "                                                                                \r"
     ]
    },
    {
     "name": "stdout",
     "output_type": "stream",
     "text": [
      "Porcentaje: 0.79 / combinación: ((10.0, 20.0), (3.0, 10.0), (0.0, 1.0), (2.0, 6.0)) / iteración: 18 / proporción: 0.0078\n"
     ]
    },
    {
     "name": "stderr",
     "output_type": "stream",
     "text": [
      "                                                                                \r"
     ]
    },
    {
     "name": "stdout",
     "output_type": "stream",
     "text": [
      "Porcentaje: 0.82 / combinación: ((10.0, 20.0), (3.0, 10.0), (1.0, 6.0), (0.0, 2.0)) / iteración: 19 / proporción: 0.0333\n"
     ]
    },
    {
     "name": "stderr",
     "output_type": "stream",
     "text": [
      "                                                                                \r"
     ]
    },
    {
     "name": "stdout",
     "output_type": "stream",
     "text": [
      "Porcentaje: 0.83 / combinación: ((10.0, 20.0), (3.0, 10.0), (1.0, 6.0), (2.0, 6.0)) / iteración: 20 / proporción: 0.0068\n"
     ]
    },
    {
     "name": "stderr",
     "output_type": "stream",
     "text": [
      "                                                                                \r"
     ]
    },
    {
     "name": "stdout",
     "output_type": "stream",
     "text": [
      "Porcentaje: 0.83 / combinación: ((10.0, 20.0), (10.0, 100.0), (0.0, 1.0), (0.0, 2.0)) / iteración: 21 / proporción: 0.0000\n"
     ]
    },
    {
     "name": "stderr",
     "output_type": "stream",
     "text": [
      "                                                                                \r"
     ]
    },
    {
     "name": "stdout",
     "output_type": "stream",
     "text": [
      "Porcentaje: 0.83 / combinación: ((10.0, 20.0), (10.0, 100.0), (0.0, 1.0), (2.0, 6.0)) / iteración: 22 / proporción: 0.0000\n"
     ]
    },
    {
     "name": "stderr",
     "output_type": "stream",
     "text": [
      "                                                                                \r"
     ]
    },
    {
     "name": "stdout",
     "output_type": "stream",
     "text": [
      "Porcentaje: 0.83 / combinación: ((10.0, 20.0), (10.0, 100.0), (1.0, 6.0), (0.0, 2.0)) / iteración: 23 / proporción: 0.0000\n"
     ]
    },
    {
     "name": "stderr",
     "output_type": "stream",
     "text": [
      "                                                                                \r"
     ]
    },
    {
     "name": "stdout",
     "output_type": "stream",
     "text": [
      "Porcentaje: 0.83 / combinación: ((10.0, 20.0), (10.0, 100.0), (1.0, 6.0), (2.0, 6.0)) / iteración: 24 / proporción: 0.0000\n"
     ]
    },
    {
     "name": "stderr",
     "output_type": "stream",
     "text": [
      "                                                                                \r"
     ]
    },
    {
     "name": "stdout",
     "output_type": "stream",
     "text": [
      "Porcentaje: 0.83 / combinación: ((20.0, 100.0), (0.0, 3.0), (0.0, 1.0), (0.0, 2.0)) / iteración: 25 / proporción: 0.0044\n"
     ]
    },
    {
     "name": "stderr",
     "output_type": "stream",
     "text": [
      "                                                                                \r"
     ]
    },
    {
     "name": "stdout",
     "output_type": "stream",
     "text": [
      "Porcentaje: 0.83 / combinación: ((20.0, 100.0), (0.0, 3.0), (0.0, 1.0), (2.0, 6.0)) / iteración: 26 / proporción: 0.0007\n"
     ]
    },
    {
     "name": "stderr",
     "output_type": "stream",
     "text": [
      "                                                                                \r"
     ]
    },
    {
     "name": "stdout",
     "output_type": "stream",
     "text": [
      "Porcentaje: 0.83 / combinación: ((20.0, 100.0), (0.0, 3.0), (1.0, 6.0), (0.0, 2.0)) / iteración: 27 / proporción: 0.0006\n"
     ]
    },
    {
     "name": "stderr",
     "output_type": "stream",
     "text": [
      "                                                                                \r"
     ]
    },
    {
     "name": "stdout",
     "output_type": "stream",
     "text": [
      "Porcentaje: 0.83 / combinación: ((20.0, 100.0), (0.0, 3.0), (1.0, 6.0), (2.0, 6.0)) / iteración: 28 / proporción: 0.0001\n"
     ]
    },
    {
     "name": "stderr",
     "output_type": "stream",
     "text": [
      "                                                                                \r"
     ]
    },
    {
     "name": "stdout",
     "output_type": "stream",
     "text": [
      "Porcentaje: 0.91 / combinación: ((20.0, 100.0), (3.0, 10.0), (0.0, 1.0), (0.0, 2.0)) / iteración: 29 / proporción: 0.0740\n"
     ]
    },
    {
     "name": "stderr",
     "output_type": "stream",
     "text": [
      "                                                                                \r"
     ]
    },
    {
     "name": "stdout",
     "output_type": "stream",
     "text": [
      "Combination accepted\n"
     ]
    },
    {
     "name": "stderr",
     "output_type": "stream",
     "text": [
      "                                                                                \r"
     ]
    },
    {
     "name": "stdout",
     "output_type": "stream",
     "text": [
      "Porcentaje: 0.92 / combinación: ((20.0, 100.0), (3.0, 10.0), (0.0, 1.0), (2.0, 6.0)) / iteración: 30 / proporción: 0.0129\n"
     ]
    },
    {
     "name": "stderr",
     "output_type": "stream",
     "text": [
      "                                                                                \r"
     ]
    },
    {
     "name": "stdout",
     "output_type": "stream",
     "text": [
      "Porcentaje: 0.94 / combinación: ((20.0, 100.0), (3.0, 10.0), (1.0, 6.0), (0.0, 2.0)) / iteración: 31 / proporción: 0.0209\n"
     ]
    },
    {
     "name": "stderr",
     "output_type": "stream",
     "text": [
      "                                                                                \r"
     ]
    },
    {
     "name": "stdout",
     "output_type": "stream",
     "text": [
      "Porcentaje: 0.95 / combinación: ((20.0, 100.0), (3.0, 10.0), (1.0, 6.0), (2.0, 6.0)) / iteración: 32 / proporción: 0.0042\n"
     ]
    },
    {
     "name": "stderr",
     "output_type": "stream",
     "text": [
      "                                                                                \r"
     ]
    },
    {
     "name": "stdout",
     "output_type": "stream",
     "text": [
      "Porcentaje: 0.97 / combinación: ((20.0, 100.0), (10.0, 100.0), (0.0, 1.0), (0.0, 2.0)) / iteración: 33 / proporción: 0.0259\n"
     ]
    },
    {
     "name": "stderr",
     "output_type": "stream",
     "text": [
      "                                                                                \r"
     ]
    },
    {
     "name": "stdout",
     "output_type": "stream",
     "text": [
      "Porcentaje: 0.98 / combinación: ((20.0, 100.0), (10.0, 100.0), (0.0, 1.0), (2.0, 6.0)) / iteración: 34 / proporción: 0.0046\n"
     ]
    },
    {
     "name": "stderr",
     "output_type": "stream",
     "text": [
      "                                                                                \r"
     ]
    },
    {
     "name": "stdout",
     "output_type": "stream",
     "text": [
      "Porcentaje: 0.99 / combinación: ((20.0, 100.0), (10.0, 100.0), (1.0, 6.0), (0.0, 2.0)) / iteración: 35 / proporción: 0.0121\n"
     ]
    },
    {
     "name": "stderr",
     "output_type": "stream",
     "text": [
      "[Stage 254:>                                                      (0 + 16) / 16]\r"
     ]
    },
    {
     "name": "stdout",
     "output_type": "stream",
     "text": [
      "Porcentaje: 0.99 / combinación: ((20.0, 100.0), (10.0, 100.0), (1.0, 6.0), (2.0, 6.0)) / iteración: 36 / proporción: 0.0026\n",
      "Proporción total: 0.9922\n",
      "Proporción total en el nuevo DataFrame: 0.7011\n"
     ]
    },
    {
     "name": "stderr",
     "output_type": "stream",
     "text": [
      "                                                                                \r"
     ]
    }
   ],
   "source": [
    "# Importando librerías necesarias\n",
    "from pyspark.sql.types import StructType, StructField, IntegerType\n",
    "\n",
    "# Conteo de filas del DataFrame original\n",
    "total_rows = df.count()\n",
    "\n",
    "# Variables para almacenar los resultados\n",
    "subsets = []\n",
    "iter_num = 1\n",
    "total_proportion = 0\n",
    "total_proportion_in_new_df = 0\n",
    "df_accumulated = None\n",
    "\n",
    "# Iterar sobre cada combinación\n",
    "for comb in combinations:\n",
    "    filtered_rows = df.filter(\n",
    "        (col(\"total_amount\") > comb[0][0]) & (col(\"total_amount\") <= comb[0][1]) &\n",
    "        (col(\"trip_distance\") > comb[1][0]) & (col(\"trip_distance\") <= comb[1][1]) &\n",
    "        (col(\"payment_type\") > comb[2][0]) & (col(\"payment_type\") <= comb[2][1]) &\n",
    "        (col(\"passenger_count\") > comb[3][0]) & (col(\"passenger_count\") <= comb[3][1])\n",
    "    )\n",
    "    subsets.append(filtered_rows)\n",
    "    \n",
    "    # Calcular la proporción de filas filtradas respecto al total\n",
    "    prop = filtered_rows.count() / total_rows\n",
    "    total_proportion += prop\n",
    "    print(f\"Porcentaje: {total_proportion:.2f} / combinación: {comb} / iteración: {iter_num} / proporción: {prop:.4f}\")\n",
    "    iter_num += 1\n",
    "\n",
    "    # Si la proporción es mayor que 0.05, tomar el 40% de las filas\n",
    "    if prop > 0.05:\n",
    "\n",
    "        # Tomar el 40% de las filas filtradas\n",
    "        filtered_rows_fraction = filtered_rows.sample(withReplacement=False, fraction=0.4, seed=42)\n",
    "\n",
    "        if df_accumulated is None:\n",
    "            df_accumulated = filtered_rows_fraction\n",
    "        else:\n",
    "            df_accumulated = df_accumulated.union(filtered_rows_fraction)\n",
    "\n",
    "        # Guarda la proporción de filas filtradas respecto al total\n",
    "        total_proportion_in_new_df += filtered_rows.count() / total_rows\n",
    "\n",
    "        print(\"Combination accepted\")\n",
    "    \n",
    "# Imprime resultados\n",
    "print(f\"Proporción total: {total_proportion:.4f}\")\n",
    "print(f\"Proporción total en el nuevo DataFrame: {total_proportion_in_new_df:.4f}\")"
   ]
  },
  {
   "cell_type": "code",
   "execution_count": 10,
   "id": "8d7315a9",
   "metadata": {},
   "outputs": [
    {
     "name": "stderr",
     "output_type": "stream",
     "text": [
      "[Stage 257:===========================================>          (64 + 16) / 80]\r"
     ]
    },
    {
     "name": "stdout",
     "output_type": "stream",
     "text": [
      "Número de filas despues de la extración contenida de dimensiones: 3582756\n",
      "Número de columnas despues de la extración contenida de dimensiones: 19\n"
     ]
    },
    {
     "name": "stderr",
     "output_type": "stream",
     "text": [
      "                                                                                \r"
     ]
    }
   ],
   "source": [
    "# Imprime dimensiones del DataFrame acumulado\n",
    "num_rows_after_dimension_extraction = df_accumulated.count()\n",
    "num_cols_after_dimension_extraction = len(df_accumulated.columns)\n",
    "print(f\"Número de filas despues de la extración contenida de dimensiones: {num_rows_after_dimension_extraction}\")\n",
    "print(f\"Número de columnas despues de la extración contenida de dimensiones: {num_cols_after_dimension_extraction}\")"
   ]
  },
  {
   "cell_type": "code",
   "execution_count": 11,
   "id": "8ccf62db",
   "metadata": {},
   "outputs": [
    {
     "name": "stderr",
     "output_type": "stream",
     "text": [
      "                                                                                \r"
     ]
    }
   ],
   "source": [
    "# Eliminar registros con valores nulos en columnas clave\n",
    "\n",
    "df_clean = df_accumulated.dropna(subset=[\n",
    "    \"trip_distance\", \"fare_amount\", \"pickup_longitude\", \"pickup_latitude\",\n",
    "    \"dropoff_longitude\", \"dropoff_latitude\", \"payment_type\"\n",
    "])\n",
    "\n",
    "# Filtrar valores atípicos (e.g., distancias o tarifas <= 0)\n",
    "df_clean = df_clean.filter(\n",
    "    (col(\"trip_distance\") > 0) & (col(\"fare_amount\") > 0) & (col(\"total_amount\") > 0)\n",
    ")\n",
    "\n",
    "# Calcular duración del viaje en minutos\n",
    "df_clean = df_clean.withColumn(\n",
    "    \"duration_minutes\",\n",
    "    (unix_timestamp(\"tpep_dropoff_datetime\") - unix_timestamp(\"tpep_pickup_datetime\")) / 60\n",
    ")\n",
    "\n",
    "# # Filtrar duraciones negativas o excesivas\n",
    "df_clean = df_clean.filter((col(\"duration_minutes\") > 0) & (col(\"duration_minutes\") < 180))\n",
    "\n",
    "outlier_columns = [\n",
    "    \"tip_amount\",\n",
    "    \"duration_minutes\"\n",
    "    ]\n",
    "\n",
    "# Se eliminan los outliers de las columnas numéricas\n",
    "for col_name in outlier_columns:\n",
    "    quantiles = df_clean.approxQuantile(col_name, [0.25, 0.75], 0.0)\n",
    "    q1, q3 = quantiles\n",
    "    iqr = q3 - q1\n",
    "    lower = q1 - 1.5 * iqr\n",
    "    upper = q3 + 1.5 * iqr\n",
    "    df_clean = df_clean.filter((col(col_name) >= lower) & (col(col_name) <= upper))"
   ]
  },
  {
   "cell_type": "code",
   "execution_count": 12,
   "id": "c9a10006",
   "metadata": {},
   "outputs": [
    {
     "name": "stderr",
     "output_type": "stream",
     "text": [
      "[Stage 275:===========================================>          (65 + 15) / 80]\r"
     ]
    },
    {
     "name": "stdout",
     "output_type": "stream",
     "text": [
      "Total registros en M: 335321\n",
      "Suma por subgrupos Mi: 10\n"
     ]
    },
    {
     "name": "stderr",
     "output_type": "stream",
     "text": [
      "                                                                                \r"
     ]
    }
   ],
   "source": [
    "from pyspark.sql.functions import when, concat_ws, col, count as spark_count, sum as spark_sum, round as spark_round\n",
    "\n",
    "# Binning simplificado con nuevos nombres\n",
    "df_strat = df_clean \\\n",
    "    .withColumn(\"amt_bin\", when(col(\"total_amount\") < 10, \"A\").when(col(\"total_amount\") < 20, \"B\").otherwise(\"C\")) \\\n",
    "    .withColumn(\"dist_bin\", when(col(\"trip_distance\") < 3, \"X\").when(col(\"trip_distance\") < 10, \"Y\").otherwise(\"Z\")) \\\n",
    "    .withColumn(\"pay_bin\", when(col(\"payment_type\") == 1, \"E\").otherwise(\"F\")) \\\n",
    "    .withColumn(\"pass_bin\", when(col(\"passenger_count\") <= 2, \"L\").otherwise(\"M\"))\n",
    "\n",
    "# Crear clave de estrato combinando los bins\n",
    "df_strat = df_strat.withColumn(\"grupo\", concat_ws(\"-\", \"amt_bin\", \"dist_bin\", \"pay_bin\", \"pass_bin\"))\n",
    "\n",
    "# Conteo total\n",
    "total_registros = df_strat.count()\n",
    "\n",
    "# Conteo y proporción por grupo\n",
    "conteo_grupo = df_strat.groupBy(\"grupo\").agg(\n",
    "    spark_count(\"*\").alias(\"total\"),\n",
    ").withColumn(\"porc\", col(\"total\") / total_registros)\n",
    "\n",
    "# Tamaño de muestra total (10%)\n",
    "tam_muestra = int(total_registros * 0.1)\n",
    "\n",
    "# Cálculo de tamaño por grupo\n",
    "conteo_grupo = conteo_grupo.withColumn(\"muestra\", spark_round(col(\"porc\") * tam_muestra).cast(\"int\"))\n",
    "\n",
    "# Convertir a diccionarios para el muestreo\n",
    "grupo_total_dict = {row[\"grupo\"]: row[\"total\"] for row in conteo_grupo.collect()}\n",
    "grupo_muestra_dict = {row[\"grupo\"]: row[\"muestra\"] for row in conteo_grupo.collect()}\n",
    "\n",
    "# Calcular fracciones de muestreo por grupo\n",
    "fracciones = {\n",
    "    grupo: grupo_muestra_dict[grupo] / grupo_total_dict[grupo]\n",
    "    for grupo in grupo_muestra_dict\n",
    "}\n",
    "\n",
    "# Aplicar muestreo estratificado\n",
    "muestra_df = df_strat.sampleBy(\"grupo\", fractions=fracciones, seed=123)\n",
    "\n",
    "# Verificación final\n",
    "total_M = muestra_df.count()\n",
    "total_Mi = muestra_df.groupBy(\"grupo\").agg(spark_sum(\"grupo\").alias(\"suma\")).count()\n",
    "\n",
    "print(f\"Total registros en M: {total_M}\")\n",
    "print(f\"Suma por subgrupos Mi: {total_Mi}\")\n"
   ]
  },
  {
   "cell_type": "code",
   "execution_count": 13,
   "id": "ae37126d",
   "metadata": {},
   "outputs": [
    {
     "name": "stderr",
     "output_type": "stream",
     "text": [
      "25/06/16 20:53:07 WARN DAGScheduler: Broadcasting large task binary with size 1683.3 KiB\n",
      "                                                                                \r"
     ]
    },
    {
     "name": "stdout",
     "output_type": "stream",
     "text": [
      "Conjunto de entrenamiento: 268097 registros\n"
     ]
    },
    {
     "name": "stderr",
     "output_type": "stream",
     "text": [
      "25/06/16 20:56:12 WARN DAGScheduler: Broadcasting large task binary with size 1683.3 KiB\n",
      "[Stage 287:==================================================> (784 + 16) / 800]\r"
     ]
    },
    {
     "name": "stdout",
     "output_type": "stream",
     "text": [
      "Conjunto de prueba: 67224 registros\n"
     ]
    },
    {
     "name": "stderr",
     "output_type": "stream",
     "text": [
      "                                                                                \r"
     ]
    }
   ],
   "source": [
    "from functools import reduce\n",
    "\n",
    "# Proporciones de partición\n",
    "prop_train, prop_test = 0.8, 0.2\n",
    "\n",
    "# Obtener lista de grupos únicos\n",
    "grupos = [row[\"grupo\"] for row in muestra_df.select(\"grupo\").distinct().collect()]\n",
    "\n",
    "# Particionar por grupo y acumular\n",
    "particiones = [muestra_df.filter(col(\"grupo\") == g).randomSplit([prop_train, prop_test], seed=42) for g in grupos]\n",
    "\n",
    "# Separar listas de entrenamiento y prueba\n",
    "conjuntos_entrenamiento = [par[0] for par in particiones]\n",
    "conjuntos_prueba = [par[1] for par in particiones]\n",
    "\n",
    "# Unir todos los subconjuntos\n",
    "df_train = reduce(lambda a, b: a.union(b), conjuntos_entrenamiento)\n",
    "df_test = reduce(lambda a, b: a.union(b), conjuntos_prueba)\n",
    "\n",
    "# Mostrar tamaños\n",
    "print(f\"Conjunto de entrenamiento: {df_train.count()} registros\")\n",
    "print(f\"Conjunto de prueba: {df_test.count()} registros\")\n"
   ]
  },
  {
   "cell_type": "code",
   "execution_count": 14,
   "id": "c291e7da",
   "metadata": {},
   "outputs": [
    {
     "name": "stderr",
     "output_type": "stream",
     "text": [
      "25/06/16 20:59:18 WARN DAGScheduler: Broadcasting large task binary with size 1801.5 KiB\n",
      "[Stage 290:>                                                        (0 + 1) / 1]\r"
     ]
    },
    {
     "name": "stdout",
     "output_type": "stream",
     "text": [
      "+--------+--------------------+---------------------+---------------+-------------+------------------+-----------------+----------+------------------+------------------+------------------+------------+-----------+-----+-------+----------+------------+---------------------+------------+-----------------+-------+--------+-------+--------+-------+\n",
      "|VendorID|tpep_pickup_datetime|tpep_dropoff_datetime|passenger_count|trip_distance|  pickup_longitude|  pickup_latitude|RateCodeID|store_and_fwd_flag| dropoff_longitude|  dropoff_latitude|payment_type|fare_amount|extra|mta_tax|tip_amount|tolls_amount|improvement_surcharge|total_amount| duration_minutes|amt_bin|dist_bin|pay_bin|pass_bin|  grupo|\n",
      "+--------+--------------------+---------------------+---------------+-------------+------------------+-----------------+----------+------------------+------------------+------------------+------------+-----------+-----+-------+----------+------------+---------------------+------------+-----------------+-------+--------+-------+--------+-------+\n",
      "|       1| 2015-01-01 00:10:05|  2015-01-01 00:16:36|              1|          1.3|-73.97520446777344|40.76115798950195|         1|                 N|-73.95829772949219| 40.76441955566406|           1|        7.0|  0.5|    0.5|      1.65|         0.0|                  0.0|        9.95|6.516666666666667|      A|       X|      E|       L|A-X-E-L|\n",
      "|       1| 2015-01-01 00:10:13|  2015-01-01 00:14:19|              2|          0.9| -73.9888687133789|40.73377990722656|         1|                 N|-73.99369812011719|40.721336364746094|           1|        5.5|  0.5|    0.5|      1.35|         0.0|                  0.0|        8.15|              4.1|      A|       X|      E|       L|A-X-E-L|\n",
      "|       1| 2015-01-01 00:10:34|  2015-01-01 00:13:15|              2|          0.8|-73.95449829101562|40.76979446411133|         1|                 N|-73.95389556884766|40.778682708740234|           1|        4.5|  0.5|    0.5|      1.15|         0.0|                  0.0|        6.95|2.683333333333333|      A|       X|      E|       L|A-X-E-L|\n",
      "|       1| 2015-01-01 00:15:25|  2015-01-01 00:20:28|              1|          1.0|               0.0|              0.0|         1|                 N|-74.00001525878906| 40.73787307739258|           1|        5.5|  0.5|    0.5|       2.0|         0.0|                  0.0|         8.8|             5.05|      A|       X|      E|       L|A-X-E-L|\n",
      "|       1| 2015-01-01 00:26:15|  2015-01-01 00:30:52|              1|          1.8| -73.9708023071289|40.75535583496094|         1|                 N|-73.95500183105469|40.779361724853516|           1|        7.0|  0.5|    0.5|      1.65|         0.0|                  0.0|        9.95|4.616666666666666|      A|       X|      E|       L|A-X-E-L|\n",
      "+--------+--------------------+---------------------+---------------+-------------+------------------+-----------------+----------+------------------+------------------+------------------+------------+-----------+-----+-------+----------+------------+---------------------+------------+-----------------+-------+--------+-------+--------+-------+\n",
      "only showing top 5 rows\n",
      "\n"
     ]
    },
    {
     "name": "stderr",
     "output_type": "stream",
     "text": [
      "                                                                                \r"
     ]
    }
   ],
   "source": [
    "df_train.show(5)"
   ]
  },
  {
   "cell_type": "code",
   "execution_count": 15,
   "id": "9bb5fa3a",
   "metadata": {},
   "outputs": [
    {
     "name": "stderr",
     "output_type": "stream",
     "text": [
      "25/06/16 20:59:21 WARN DAGScheduler: Broadcasting large task binary with size 1667.9 KiB\n",
      "25/06/16 20:59:23 WARN DAGScheduler: Broadcasting large task binary with size 1667.9 KiB\n",
      "25/06/16 21:02:28 WARN DAGScheduler: Broadcasting large task binary with size 1672.6 KiB\n",
      "25/06/16 21:05:31 WARN DAGScheduler: Broadcasting large task binary with size 1674.7 KiB\n",
      "25/06/16 21:08:53 WARN DAGScheduler: Broadcasting large task binary with size 1685.1 KiB\n",
      "25/06/16 21:08:55 WARN DAGScheduler: Broadcasting large task binary with size 1703.2 KiB\n",
      "25/06/16 21:08:59 WARN DAGScheduler: Broadcasting large task binary with size 1739.3 KiB\n",
      "25/06/16 21:09:04 WARN DAGScheduler: Broadcasting large task binary with size 1808.4 KiB\n",
      "25/06/16 21:09:12 WARN DAGScheduler: Broadcasting large task binary with size 1657.8 KiB\n",
      "[Stage 305:====================================================>(797 + 3) / 800]\r"
     ]
    },
    {
     "name": "stdout",
     "output_type": "stream",
     "text": [
      "RMSE base: 1.1880\n"
     ]
    },
    {
     "name": "stderr",
     "output_type": "stream",
     "text": [
      "25/06/16 21:12:28 WARN DAGScheduler: Broadcasting large task binary with size 1658.9 KiB\n",
      "                                                                                \r"
     ]
    }
   ],
   "source": [
    "features = [\"passenger_count\",\"trip_distance\",\"payment_type\",\"duration_minutes\"]\n",
    "target = \"total_amount\"\n",
    "assembler = VectorAssembler(inputCols=features, outputCol=\"features\")\n",
    "rf = RandomForestRegressor(featuresCol=\"features\", labelCol=target, numTrees=30, maxDepth=5, seed=42)\n",
    "pipeline = Pipeline(stages=[assembler, rf])\n",
    "modelo = pipeline.fit(df_train)\n",
    "preds = modelo.transform(df_test)\n",
    "rmse = RegressionEvaluator(labelCol=target, predictionCol=\"prediction\", metricName=\"rmse\").evaluate(preds)\n",
    "print(f\"RMSE base: {rmse:.4f}\")"
   ]
  },
  {
   "cell_type": "code",
   "execution_count": 16,
   "id": "8853ccc7",
   "metadata": {},
   "outputs": [
    {
     "name": "stderr",
     "output_type": "stream",
     "text": [
      "                                                                                \r"
     ]
    },
    {
     "name": "stdout",
     "output_type": "stream",
     "text": [
      "Fold 1: 67113 registros\n"
     ]
    },
    {
     "name": "stderr",
     "output_type": "stream",
     "text": [
      "                                                                                \r"
     ]
    },
    {
     "name": "stdout",
     "output_type": "stream",
     "text": [
      "Fold 2: 66906 registros\n"
     ]
    },
    {
     "name": "stderr",
     "output_type": "stream",
     "text": [
      "                                                                                \r"
     ]
    },
    {
     "name": "stdout",
     "output_type": "stream",
     "text": [
      "Fold 3: 67134 registros\n"
     ]
    },
    {
     "name": "stderr",
     "output_type": "stream",
     "text": [
      "                                                                                \r"
     ]
    },
    {
     "name": "stdout",
     "output_type": "stream",
     "text": [
      "Fold 4: 67011 registros\n"
     ]
    },
    {
     "name": "stderr",
     "output_type": "stream",
     "text": [
      "[Stage 319:===========================================>          (64 + 16) / 80]\r"
     ]
    },
    {
     "name": "stdout",
     "output_type": "stream",
     "text": [
      "Fold 5: 67157 registros\n"
     ]
    },
    {
     "name": "stderr",
     "output_type": "stream",
     "text": [
      "                                                                                \r"
     ]
    }
   ],
   "source": [
    "k = 5\n",
    "df_strat = muestra_df  # usar la muestra estratificada de Actividad 4\n",
    "df_strat = df_strat.withColumn(\"rand\", rand(seed=42))\n",
    "folds = []\n",
    "for i in range(k):\n",
    "    lower = i / k\n",
    "    upper = (i + 1) / k\n",
    "    fold_i = df_strat.filter((col(\"rand\") >= lower) & (col(\"rand\") < upper)).drop(\"rand\")\n",
    "    folds.append(fold_i)\n",
    "    print(f\"Fold {i+1}: {fold_i.count()} registros\")"
   ]
  },
  {
   "cell_type": "code",
   "execution_count": 17,
   "id": "33fb66bc",
   "metadata": {},
   "outputs": [
    {
     "name": "stderr",
     "output_type": "stream",
     "text": [
      "                                                                                \r"
     ]
    },
    {
     "name": "stdout",
     "output_type": "stream",
     "text": [
      "Fold 1 RMSE: 1.2348\n"
     ]
    },
    {
     "name": "stderr",
     "output_type": "stream",
     "text": [
      "                                                                                \r"
     ]
    },
    {
     "name": "stdout",
     "output_type": "stream",
     "text": [
      "Fold 2 RMSE: 1.2480\n"
     ]
    },
    {
     "name": "stderr",
     "output_type": "stream",
     "text": [
      "                                                                                \r"
     ]
    },
    {
     "name": "stdout",
     "output_type": "stream",
     "text": [
      "Fold 3 RMSE: 1.2393\n"
     ]
    },
    {
     "name": "stderr",
     "output_type": "stream",
     "text": [
      "                                                                                \r"
     ]
    },
    {
     "name": "stdout",
     "output_type": "stream",
     "text": [
      "Fold 4 RMSE: 1.2122\n"
     ]
    },
    {
     "name": "stderr",
     "output_type": "stream",
     "text": [
      "[Stage 400:===========================================>          (64 + 16) / 80]\r"
     ]
    },
    {
     "name": "stdout",
     "output_type": "stream",
     "text": [
      "Fold 5 RMSE: 1.2071\n"
     ]
    },
    {
     "name": "stderr",
     "output_type": "stream",
     "text": [
      "                                                                                \r"
     ]
    }
   ],
   "source": [
    "metrics = []\n",
    "for i in range(k):\n",
    "    test_i = folds[i]\n",
    "    # Unir todos los folds excepto el actual\n",
    "    train_parts = [folds[j] for j in range(k) if j != i]\n",
    "    train_i = train_parts[0]\n",
    "    for part in train_parts[1:]:\n",
    "        train_i = train_i.union(part)\n",
    "    # Entrenar y evaluar\n",
    "    model_i = pipeline.fit(train_i)\n",
    "    preds_i = model_i.transform(test_i)\n",
    "    rmse_i = RegressionEvaluator(labelCol=target, predictionCol=\"prediction\", metricName=\"rmse\").evaluate(preds_i)\n",
    "    metrics.append((i+1, rmse_i))\n",
    "    print(f\"Fold {i+1} RMSE: {rmse_i:.4f}\")"
   ]
  },
  {
   "cell_type": "code",
   "execution_count": 18,
   "id": "d6fe5581",
   "metadata": {},
   "outputs": [],
   "source": [
    "import pandas as pd\n",
    "df_metrics = pd.DataFrame(metrics, columns=[\"fold\",\"rmse\"])"
   ]
  },
  {
   "cell_type": "code",
   "execution_count": 19,
   "id": "c3702007",
   "metadata": {},
   "outputs": [
    {
     "name": "stderr",
     "output_type": "stream",
     "text": [
      "/tmp/ipykernel_71226/581898985.py:5: MatplotlibDeprecationWarning: The 'labels' parameter of boxplot() has been renamed 'tick_labels' since Matplotlib 3.9; support for the old name will be dropped in 3.11.\n",
      "  plt.boxplot(df_metrics['rmse'], labels=['RMSE'])\n"
     ]
    },
    {
     "data": {
      "image/png": "[encoded data removed]",
      "text/plain": [
       "<Figure size 640x480 with 1 Axes>"
      ]
     },
     "metadata": {},
     "output_type": "display_data"
    },
    {
     "name": "stderr",
     "output_type": "stream",
     "text": [
      "                                                                                \r"
     ]
    },
    {
     "data": {
      "image/png": "[encoded data removed]",
      "text/plain": [
       "<Figure size 640x480 with 1 Axes>"
      ]
     },
     "metadata": {},
     "output_type": "display_data"
    },
    {
     "name": "stderr",
     "output_type": "stream",
     "text": [
      "                                                                                \r"
     ]
    },
    {
     "data": {
      "image/png": "[encoded data removed]",
      "text/plain": [
       "<Figure size 640x480 with 2 Axes>"
      ]
     },
     "metadata": {},
     "output_type": "display_data"
    }
   ],
   "source": [
    "import matplotlib.pyplot as plt\n",
    "\n",
    "# 1. Boxplot de RMSE por fold\n",
    "plt.figure()\n",
    "plt.boxplot(df_metrics['rmse'], labels=['RMSE'])\n",
    "plt.title('Distribución de RMSE en los 5 folds')\n",
    "plt.ylabel('RMSE')\n",
    "plt.show()\n",
    "\n",
    "# 2. Scatter predicción vs real en el último fold\n",
    "last_preds = preds_i.select(target, 'prediction').toPandas()\n",
    "plt.figure()\n",
    "plt.scatter(last_preds[target], last_preds['prediction'])\n",
    "plt.xlabel('Valor real')\n",
    "plt.ylabel('Predicción')\n",
    "plt.title('Predicción vs Real (Fold 5)')\n",
    "plt.show()\n",
    "\n",
    "# 3. Mapa de calor de correlación de features\n",
    "corr = pd.DataFrame(df_strat.select(features).toPandas()).corr()\n",
    "plt.figure()\n",
    "plt.imshow(corr, interpolation='nearest', aspect='auto')\n",
    "plt.colorbar()\n",
    "plt.xticks(range(len(features)), features, rotation=45)\n",
    "plt.yticks(range(len(features)), features)\n",
    "plt.title('Mapa de calor de correlación')\n",
    "plt.show()\n"
   ]
  }
 ],
 "metadata": {
  "kernelspec": {
   "display_name": "venv_big_data",
   "language": "python",
   "name": "python3"
  },
  "language_info": {
   "codemirror_mode": {
    "name": "ipython",
    "version": 3
   },
   "file_extension": ".py",
   "mimetype": "text/x-python",
   "name": "python",
   "nbconvert_exporter": "python",
   "pygments_lexer": "ipython3",
   "version": "3.9.22"
  }
 },
 "nbformat": 4,
 "nbformat_minor": 5
}
