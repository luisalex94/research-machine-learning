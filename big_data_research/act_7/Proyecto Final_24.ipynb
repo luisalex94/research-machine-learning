{
 "cells": [
  {
   "cell_type": "markdown",
   "id": "e98a4d6a",
   "metadata": {},
   "source": [
    "## Proyecto final\n",
    "\n",
    "Índice\n",
    "1. Caracterización de la población\n",
    "2. Recolección de datos\n",
    "3. Construcción de la muestra considerando el volumen de datos de la población\n",
    "4. Estrategia(s) de muestreo a emplear\n",
    "5. Preparación de conjuntos de entrenamiento y prueba \n",
    "6. Selección de métricas para medir calidad de resultados\n",
    "7. Selección de algoritmos de aprendizaje\n",
    "8. Técnicas para el ajuste de hiper – parámetros\n",
    "9. Mostrar los resultados obtenidos (matrices de confusión, curvas ROC, etc.)"
   ]
  },
  {
   "cell_type": "markdown",
   "id": "1c3a61f9",
   "metadata": {},
   "source": [
    "### Pre-configuración\n",
    "\n",
    "* Carga de la sesión de PySpark.\n",
    "* Carga del CSV."
   ]
  },
  {
   "cell_type": "code",
   "execution_count": 32,
   "id": "5a891d12",
   "metadata": {},
   "outputs": [
    {
     "name": "stderr",
     "output_type": "stream",
     "text": [
      "25/06/21 12:27:07 WARN DAGScheduler: Broadcasting large task binary with size 2.2 MiB\n",
      "25/06/21 12:27:09 WARN DAGScheduler: Broadcasting large task binary with size 2.2 MiB\n",
      "25/06/21 12:27:09 WARN DAGScheduler: Broadcasting large task binary with size 2.2 MiB\n",
      "                                                                                \r"
     ]
    }
   ],
   "source": [
    "# Importa las librerías necesarias\n",
    "from pyspark.sql import SparkSession\n",
    "\n",
    "# Crea una sesión de Spark\n",
    "spark = SparkSession.builder.appName(\"YellowTripDataAnalysis\").config(\"spark.driver.memory\", \"22g\").getOrCreate()\n",
    "\n",
    "# Leemos el archivo CSV de datos de viajes amarillos\n",
    "df = spark.read.option(\"header\", True).option(\"inferSchema\", True).csv(\"../data/yellow_tripdata/yellow_tripdata_2015-01.csv\")"
   ]
  },
  {
   "cell_type": "code",
   "execution_count": 33,
   "id": "30a43519",
   "metadata": {},
   "outputs": [
    {
     "name": "stderr",
     "output_type": "stream",
     "text": [
      "25/06/21 12:27:16 WARN DAGScheduler: Broadcasting large task binary with size 2.2 MiB\n",
      "25/06/21 12:27:17 WARN DAGScheduler: Broadcasting large task binary with size 2.2 MiB\n",
      "25/06/21 12:27:35 WARN DAGScheduler: Broadcasting large task binary with size 2.2 MiB\n",
      "25/06/21 12:27:37 WARN DAGScheduler: Broadcasting large task binary with size 2.2 MiB\n"
     ]
    },
    {
     "name": "stdout",
     "output_type": "stream",
     "text": [
      "+-------+------------------+------------------+------------------+-------------------+------------------+------------------+------------------+------------------+------------------+------------------+------------------+-------------------+--------------------+------------------+-------------------+---------------------+------------------+\n",
      "|summary|          VendorID|   passenger_count|     trip_distance|   pickup_longitude|   pickup_latitude|        RateCodeID|store_and_fwd_flag| dropoff_longitude|  dropoff_latitude|      payment_type|       fare_amount|              extra|             mta_tax|        tip_amount|       tolls_amount|improvement_surcharge|      total_amount|\n",
      "+-------+------------------+------------------+------------------+-------------------+------------------+------------------+------------------+------------------+------------------+------------------+------------------+-------------------+--------------------+------------------+-------------------+---------------------+------------------+\n",
      "|  count|          12748986|          12748986|          12748986|           12748986|          12748986|          12748986|          12748986|          12748986|          12748986|          12748986|          12748986|           12748986|            12748986|          12748986|           12748986|             12748983|          12748986|\n",
      "|   mean|1.5214373127400094|1.6814908260154964|13.459129611562537| -72.56183777902534| 39.97282304763482|1.0369007386156044|              NULL|-72.60903923063492|  39.9996144802455|1.3867115392549652|11.905659425777182|0.30827895724412907|  0.4977986092384132| 1.853813646041934|0.24349839430354983|   0.2831430789385838|15.108294537379894|\n",
      "| stddev|0.4995402498256227| 1.337923517287465| 9844.094218468368|  10.12510359297296| 5.578690519088367|0.6732239779497601|              NULL|  9.96603703803109| 5.487741886619656|  0.49886106350539|10.302537135952251| 0.5916643112912936|0.035342286709831416|1106.4323141838956| 1.5271714003797978|   0.0690863293583079|1106.5032467104797|\n",
      "|    min|                 1|                 0|               0.0|-121.92581176757812|               0.0|                 1|                 N|-740.1666870117188|-9.029156684875488|                 1|            -450.0|              -79.0|                -0.5|            -92.42|              -26.0|                  0.0|            -450.3|\n",
      "|    max|                 2|                 9|      1.54200045E7|  78.66265106201172|404.70001220703125|                99|                 Y|  85.2740249633789| 459.5333251953125|                 5|            4008.0|             999.99|                 0.5|         3950588.8|            1450.09|                  0.3|         3950611.6|\n",
      "+-------+------------------+------------------+------------------+-------------------+------------------+------------------+------------------+------------------+------------------+------------------+------------------+-------------------+--------------------+------------------+-------------------+---------------------+------------------+\n",
      "\n"
     ]
    }
   ],
   "source": [
    "# Muestra el esquema del DataFrame\n",
    "df.describe().show()"
   ]
  },
  {
   "cell_type": "markdown",
   "id": "ac783efa",
   "metadata": {},
   "source": [
    "### 1. Caracterízación de la poblacón\n",
    "\n",
    "* Obtenemos el número original de filas y columnas (como informativo para comparar al final).\n",
    "* Generamos un diccionario con los factores de caracterización (previo estudio de las características detallado en la actividad 3).\n",
    "* Se eliminan filas con valores nulos.\n",
    "* Se crea la columna trip_duration (muy útil en vez de hora de recojida y hora de descenso).\n",
    "* Se extraen las horas de recojida y horas de descenso.\n",
    "* Se crean las columnas de los datos binned.\n",
    "* Se vuelven a eliminar valores nulos.\n",
    "* Se convierten las columnas binnes a tipo int.\n",
    "* Se eliminan los outliers de las columnas numéricas.\n",
    "* Se calculan las iteraciones de los valores binned.\n",
    "* Se extraen las claves y valores del diccionario a listas.\n",
    "* Se recorre el DataFrame por cada combinación para garantizar que abarcamos el 100% de los datos, en la impresión podemos ver: \"Proporción total: 1.0000\".\n",
    "* Establecemos los rangos de los binnes.\n",
    "* Se crean listas para almacenar los rangos de cada columna.\n",
    "* Se crean los rangos para cada columna.\n",
    "* Se imprimen los rangos de cada columna para verificar los rangos binneds a buscar."
   ]
  },
  {
   "cell_type": "code",
   "execution_count": 34,
   "id": "553df5ed",
   "metadata": {},
   "outputs": [
    {
     "name": "stderr",
     "output_type": "stream",
     "text": [
      "25/06/21 12:27:39 WARN DAGScheduler: Broadcasting large task binary with size 2.2 MiB\n",
      "25/06/21 12:27:42 WARN DAGScheduler: Broadcasting large task binary with size 2.2 MiB\n",
      "[Stage 881:(955 + 16) / 1040][Stage 884:>  (0 + 0) / 1][Stage 885:(0 + 0) / 1040]\r"
     ]
    },
    {
     "name": "stdout",
     "output_type": "stream",
     "text": [
      "Número de filas originales: 12748986\n",
      "Número de columnas originales: 19\n"
     ]
    },
    {
     "name": "stderr",
     "output_type": "stream",
     "text": [
      "                                                                                \r"
     ]
    }
   ],
   "source": [
    "# Imprimimos las dimensiones del DataFrame\n",
    "original_num_rows = df.count()\n",
    "original_num_cols = len(df.columns)\n",
    "\n",
    "print(f\"Número de filas originales: {original_num_rows}\")\n",
    "print(f\"Número de columnas originales: {original_num_cols}\")"
   ]
  },
  {
   "cell_type": "code",
   "execution_count": 35,
   "id": "45b5cd2c",
   "metadata": {},
   "outputs": [],
   "source": [
    "# Generamos un diccionario con los factores de caracterización\n",
    "charact_factor = {\n",
    "    \"passenger_count\": 1e10,\n",
    "    \"trip_distance\": 2.5,\n",
    "    \"payment_type\": 3,\n",
    "    \"total_amount\": 3,\n",
    "    \"tpep_pickup_datetime\": 1e10,\n",
    "    \"tpep_dropoff_datetime\": 1e10,\n",
    "}\n",
    "\n",
    "# Obtenemos una muestra del 5% de los datos originales\n",
    "df_original_sample = df.select(list(charact_factor.keys())).sample(False, 0.05, seed=42)"
   ]
  },
  {
   "cell_type": "code",
   "execution_count": 36,
   "id": "d7ac254a",
   "metadata": {},
   "outputs": [
    {
     "name": "stderr",
     "output_type": "stream",
     "text": [
      "25/06/21 12:27:45 WARN DAGScheduler: Broadcasting large task binary with size 2.2 MiB\n",
      "25/06/21 12:27:48 WARN DAGScheduler: Broadcasting large task binary with size 2.2 MiB\n",
      "[Stage 888:(950 + 16) / 1040][Stage 891:>  (0 + 0) / 1][Stage 892:(0 + 0) / 1040]\r"
     ]
    },
    {
     "name": "stdout",
     "output_type": "stream",
     "text": [
      "Número de filas originales: 12748986\n",
      "Número de columnas originales: 19\n",
      "Número de filas del 5% de los datos originales: 637214\n",
      "Número de columnas del 5% de los datos originales: 6\n"
     ]
    },
    {
     "name": "stderr",
     "output_type": "stream",
     "text": [
      "                                                                                \r"
     ]
    }
   ],
   "source": [
    "# Imprimimos las dimensiones del DataFrame de la muestra\n",
    "original_05_num_rows = df_original_sample.count()\n",
    "original_05_num_cols = len(df_original_sample.columns)\n",
    "\n",
    "print(f\"Número de filas originales: {original_num_rows}\")\n",
    "print(f\"Número de columnas originales: {original_num_cols}\")\n",
    "print(f\"Número de filas del 5% de los datos originales: {original_05_num_rows}\")\n",
    "print(f\"Número de columnas del 5% de los datos originales: {original_05_num_cols}\")"
   ]
  },
  {
   "cell_type": "code",
   "execution_count": 37,
   "id": "efc9332c",
   "metadata": {},
   "outputs": [
    {
     "name": "stderr",
     "output_type": "stream",
     "text": [
      "25/06/21 12:27:50 WARN DAGScheduler: Broadcasting large task binary with size 2.2 MiB\n",
      "25/06/21 12:27:56 WARN DAGScheduler: Broadcasting large task binary with size 2.2 MiB\n",
      "25/06/21 12:27:58 WARN DAGScheduler: Broadcasting large task binary with size 2.2 MiB\n",
      "25/06/21 12:28:04 WARN DAGScheduler: Broadcasting large task binary with size 2.2 MiB\n",
      "25/06/21 12:28:07 WARN DAGScheduler: Broadcasting large task binary with size 2.2 MiB\n",
      "25/06/21 12:28:17 WARN DAGScheduler: Broadcasting large task binary with size 2.1 MiB\n",
      "25/06/21 12:28:21 WARN DAGScheduler: Broadcasting large task binary with size 2.3 MiB\n",
      "25/06/21 12:32:27 WARN DAGScheduler: Broadcasting large task binary with size 2.2 MiB\n",
      "25/06/21 12:32:35 WARN DAGScheduler: Broadcasting large task binary with size 2.3 MiB\n",
      "25/06/21 12:32:38 WARN DAGScheduler: Broadcasting large task binary with size 2.2 MiB\n",
      "25/06/21 12:32:38 WARN DAGScheduler: Broadcasting large task binary with size 2.2 MiB\n",
      "25/06/21 12:32:50 WARN DAGScheduler: Broadcasting large task binary with size 2.5 MiB\n",
      "25/06/21 12:32:50 WARN DAGScheduler: Broadcasting large task binary with size 2.2 MiB\n",
      "25/06/21 12:33:05 WARN DAGScheduler: Broadcasting large task binary with size 2.8 MiB\n",
      "25/06/21 12:33:07 WARN DAGScheduler: Broadcasting large task binary with size 2.2 MiB\n",
      "                                                                                \r"
     ]
    }
   ],
   "source": [
    "# Importa las librerías necesarias\n",
    "from pyspark.sql.functions import col, hour, when, unix_timestamp\n",
    "from pyspark.sql.types import IntegerType\n",
    "\n",
    "# Copiamos el DataFrame original a otro DataFrame\n",
    "df_sample = df_original_sample.select(\"*\")\n",
    "\n",
    "# Se eliminan las filas con valores nulos\n",
    "df_sample = df_sample.dropna()\n",
    "\n",
    "# Se crea la columna trip_duration\n",
    "df_sample = df_sample.withColumn(\n",
    "    \"trip_duration\",\n",
    "    (unix_timestamp(\"tpep_dropoff_datetime\") - unix_timestamp(\"tpep_pickup_datetime\")) / 60,\n",
    ")\n",
    "\n",
    "# Se agrega la columna trip_duration al diccionario charact_factor\n",
    "charact_factor['trip_duration'] = 2\n",
    "\n",
    "# Se extraen las horas de las columnas tpep_pickup_datetime y tpep_dropoff_datetime\n",
    "df_sample = df_sample.withColumn(\"tpep_pickup_datetime\", hour(\"tpep_pickup_datetime\"))\n",
    "df_sample = df_sample.withColumn(\"tpep_dropoff_datetime\", hour(\"tpep_dropoff_datetime\"))\n",
    "\n",
    "# Se eliminan los valores negativos y ceros de las columnas trip_distance, \n",
    "# total_amount, passenger_count y trip_duration\n",
    "for colname in [\"trip_distance\", \"total_amount\", \"passenger_count\", \"trip_duration\"]:\n",
    "    df_sample = df_sample.filter(col(colname) > 0)\n",
    "\n",
    "# Se crea la columna trip_distance_bind\n",
    "df_sample = df_sample.withColumn(\n",
    "    \"trip_distance_bind\",\n",
    "    when(col(\"trip_distance\") <= 3.0, 1)\n",
    "    .when((col(\"trip_distance\") > 3.0) & (col(\"trip_distance\") <= 10.0), 2)\n",
    "    .when(col(\"trip_distance\") > 10.0, 3)\n",
    ")\n",
    "\n",
    "# Se crea la columna total_amount_bind\n",
    "df_sample = df_sample.withColumn(\n",
    "    \"total_amount_bind\",\n",
    "    when(col(\"total_amount\") <= 10.0, 1)\n",
    "    .when((col(\"total_amount\") > 10.0) & (col(\"total_amount\") <= 20.0), 2)\n",
    "    .when(col(\"total_amount\") > 20.0, 3)\n",
    ")\n",
    "\n",
    "# Se crea la columna passenger_count_bind\n",
    "df_sample = df_sample.withColumn(\n",
    "    \"passenger_count_bind\",\n",
    "    when(col(\"passenger_count\") <= 2.0, 1)\n",
    "    .when((col(\"passenger_count\") > 2.0) & (col(\"passenger_count\") <= 6.0), 2)\n",
    ")\n",
    "\n",
    "# Se crea la columna trip_duration_bind\n",
    "df_sample = df_sample.withColumn(\n",
    "    \"trip_duration_bind\",\n",
    "    when(col(\"trip_duration\") <= 10.0, 1)\n",
    "    .when((col(\"trip_duration\") > 10.0) & (col(\"trip_duration\") <= 20.0), 2)\n",
    "    .when(col(\"trip_duration\") > 20.0, 3)\n",
    ")\n",
    "\n",
    "# Se crea la columna payment_type_bind\n",
    "df_sample = df_sample.withColumn(\n",
    "    \"payment_type_bind\",\n",
    "    when(col(\"payment_type\") == 1.0, 1)\n",
    "    .when((col(\"payment_type\") > 1.0) & (col(\"payment_type\") <= 6.0), 2)\n",
    ")\n",
    "\n",
    "# Se vuelven a eliminar las filas con valores nulos\n",
    "df_sample = df_sample.dropna()\n",
    "\n",
    "# Se convierten las columnas binned a tipo Integer\n",
    "for binned_col in [\n",
    "    \"trip_distance_bind\",\n",
    "    \"trip_duration_bind\",\n",
    "    \"total_amount_bind\",\n",
    "    \"passenger_count_bind\",\n",
    "    \"payment_type_bind\",\n",
    "]:\n",
    "    df_sample = df_sample.withColumn(binned_col, col(binned_col).cast(IntegerType()))\n",
    "\n",
    "# Se eliminan los outliers de las columnas numéricas\n",
    "for col_name, factor in charact_factor.items():\n",
    "    quantiles = df_sample.approxQuantile(col_name, [0.25, 0.75], 0.0)\n",
    "    q1, q3 = quantiles\n",
    "    iqr = q3 - q1\n",
    "    lower = q1 - factor * iqr\n",
    "    upper = q3 + factor * iqr\n",
    "    df_sample = df_sample.filter((col(col_name) >= lower) & (col(col_name) <= upper))\n"
   ]
  },
  {
   "cell_type": "code",
   "execution_count": 38,
   "id": "41e16dfc",
   "metadata": {},
   "outputs": [
    {
     "name": "stderr",
     "output_type": "stream",
     "text": [
      "25/06/21 12:33:26 WARN DAGScheduler: Broadcasting large task binary with size 3.3 MiB\n",
      "25/06/21 12:33:30 WARN DAGScheduler: Broadcasting large task binary with size 2.2 MiB\n",
      "25/06/21 12:33:49 WARN DAGScheduler: Broadcasting large task binary with size 2.2 MiB\n",
      "[Stage 936:(910 + 16) / 1040][Stage 939:>  (0 + 0) / 1][Stage 940:(0 + 0) / 1040]\r"
     ]
    },
    {
     "name": "stdout",
     "output_type": "stream",
     "text": [
      "Número de filas originales: 12748986\n",
      "Número de columnas originales: 19\n",
      "Número de filas del 5% de los datos originales: 637214\n",
      "Número de columnas del 5% de los datos originales: 6\n",
      "Número de filas del 5%  después de la limpieza: 579787\n",
      "Número de columnas del 5% después de la limpieza: 12\n"
     ]
    },
    {
     "name": "stderr",
     "output_type": "stream",
     "text": [
      "                                                                                0]\r"
     ]
    }
   ],
   "source": [
    "# Imprimimos las dimensiones del DataFrame después de la limpieza\n",
    "cleaned_05_num_rows = df_sample.count()\n",
    "cleaned_05_num_cols = len(df_sample.columns)\n",
    "\n",
    "print(f\"Número de filas originales: {original_num_rows}\")\n",
    "print(f\"Número de columnas originales: {original_num_cols}\")\n",
    "print(f\"Número de filas del 5% de los datos originales: {original_05_num_rows}\")\n",
    "print(f\"Número de columnas del 5% de los datos originales: {original_05_num_cols}\")\n",
    "print(f\"Número de filas del 5%  después de la limpieza: {cleaned_05_num_rows}\")\n",
    "print(f\"Número de columnas del 5% después de la limpieza: {cleaned_05_num_cols}\")"
   ]
  },
  {
   "cell_type": "code",
   "execution_count": 39,
   "id": "57a0c142",
   "metadata": {},
   "outputs": [
    {
     "name": "stderr",
     "output_type": "stream",
     "text": [
      "25/06/21 12:33:51 WARN DAGScheduler: Broadcasting large task binary with size 2.2 MiB\n",
      "[Stage 940:(1017 + 16) / 1040][Stage 942:>  (0 + 0) / 1][Stage 943:(0 + 0) / 1040]\r"
     ]
    },
    {
     "name": "stdout",
     "output_type": "stream",
     "text": [
      "+---------------+-------------+------------+------------+--------------------+---------------------+------------------+------------------+-----------------+--------------------+------------------+-----------------+\n",
      "|passenger_count|trip_distance|payment_type|total_amount|tpep_pickup_datetime|tpep_dropoff_datetime|     trip_duration|trip_distance_bind|total_amount_bind|passenger_count_bind|trip_duration_bind|payment_type_bind|\n",
      "+---------------+-------------+------------+------------+--------------------+---------------------+------------------+------------------+-----------------+--------------------+------------------+-----------------+\n",
      "|              5|         2.83|           2|        14.3|                  19|                   19|15.333333333333334|                 1|                2|                   2|                 2|                2|\n",
      "|              1|          3.0|           2|        12.8|                  14|                   14|13.116666666666667|                 1|                2|                   1|                 2|                2|\n",
      "|              2|         1.18|           1|        13.4|                  14|                   14|15.766666666666667|                 1|                2|                   1|                 2|                1|\n",
      "|              1|          3.5|           1|       18.95|                  12|                   12|18.583333333333332|                 2|                2|                   1|                 2|                1|\n",
      "|              1|          1.0|           1|        8.76|                  12|                   12| 7.066666666666666|                 1|                1|                   1|                 1|                1|\n",
      "+---------------+-------------+------------+------------+--------------------+---------------------+------------------+------------------+-----------------+--------------------+------------------+-----------------+\n",
      "only showing top 5 rows\n",
      "\n"
     ]
    },
    {
     "name": "stderr",
     "output_type": "stream",
     "text": [
      "                                                                                \r"
     ]
    }
   ],
   "source": [
    "# Mostramos las primeras 5 filas del DataFrame final\n",
    "df_sample.show(5)"
   ]
  },
  {
   "cell_type": "code",
   "execution_count": 40,
   "id": "c76a32c8",
   "metadata": {},
   "outputs": [
    {
     "name": "stderr",
     "output_type": "stream",
     "text": [
      "25/06/21 12:33:53 WARN DAGScheduler: Broadcasting large task binary with size 2.2 MiB\n",
      "25/06/21 12:33:53 WARN DAGScheduler: Broadcasting large task binary with size 2.2 MiB\n",
      "25/06/21 12:33:58 WARN DAGScheduler: Broadcasting large task binary with size 2.2 MiB\n",
      "25/06/21 12:33:58 WARN DAGScheduler: Broadcasting large task binary with size 2.2 MiB\n",
      "25/06/21 12:34:02 WARN DAGScheduler: Broadcasting large task binary with size 2.2 MiB\n",
      "25/06/21 12:34:04 WARN DAGScheduler: Broadcasting large task binary with size 2.2 MiB\n",
      "25/06/21 12:34:10 WARN DAGScheduler: Broadcasting large task binary with size 2.3 MiB\n",
      "25/06/21 12:34:13 WARN DAGScheduler: Broadcasting large task binary with size 2.2 MiB\n"
     ]
    },
    {
     "name": "stdout",
     "output_type": "stream",
     "text": [
      "Combinación: (1, 1, 1, 1) / iteración: 1, Proporción: 0.1930\n"
     ]
    },
    {
     "name": "stderr",
     "output_type": "stream",
     "text": [
      "25/06/21 12:34:19 WARN DAGScheduler: Broadcasting large task binary with size 2.2 MiB\n",
      "25/06/21 12:34:24 WARN DAGScheduler: Broadcasting large task binary with size 2.2 MiB\n",
      "[Stage 964:(953 + 16) / 1040][Stage 967:>  (0 + 0) / 1][Stage 968:(0 + 0) / 1040]\r"
     ]
    },
    {
     "name": "stdout",
     "output_type": "stream",
     "text": [
      "Combinación: (1, 1, 1, 2) / iteración: 2, Proporción: 0.0327\n"
     ]
    },
    {
     "name": "stderr",
     "output_type": "stream",
     "text": [
      "25/06/21 12:34:26 WARN DAGScheduler: Broadcasting large task binary with size 2.2 MiB\n",
      "25/06/21 12:34:32 WARN DAGScheduler: Broadcasting large task binary with size 2.2 MiB\n"
     ]
    },
    {
     "name": "stdout",
     "output_type": "stream",
     "text": [
      "Combinación: (1, 1, 2, 1) / iteración: 3, Proporción: 0.1954\n"
     ]
    },
    {
     "name": "stderr",
     "output_type": "stream",
     "text": [
      "25/06/21 12:34:38 WARN DAGScheduler: Broadcasting large task binary with size 2.2 MiB\n"
     ]
    },
    {
     "name": "stdout",
     "output_type": "stream",
     "text": [
      "Combinación: (1, 1, 2, 2) / iteración: 4, Proporción: 0.0362\n"
     ]
    },
    {
     "name": "stderr",
     "output_type": "stream",
     "text": [
      "25/06/21 12:34:45 WARN DAGScheduler: Broadcasting large task binary with size 2.3 MiB\n"
     ]
    },
    {
     "name": "stdout",
     "output_type": "stream",
     "text": [
      "Combinación: (1, 2, 1, 1) / iteración: 5, Proporción: 0.0000\n"
     ]
    },
    {
     "name": "stderr",
     "output_type": "stream",
     "text": [
      "                                                                                \r"
     ]
    },
    {
     "name": "stdout",
     "output_type": "stream",
     "text": [
      "Combinación: (1, 2, 1, 2) / iteración: 6, Proporción: 0.0000\n"
     ]
    },
    {
     "name": "stderr",
     "output_type": "stream",
     "text": [
      "25/06/21 12:34:54 WARN DAGScheduler: Broadcasting large task binary with size 2.3 MiB\n",
      "25/06/21 12:35:06 WARN DAGScheduler: Broadcasting large task binary with size 2.5 MiB\n"
     ]
    },
    {
     "name": "stdout",
     "output_type": "stream",
     "text": [
      "Combinación: (1, 2, 2, 1) / iteración: 7, Proporción: 0.0001\n"
     ]
    },
    {
     "name": "stderr",
     "output_type": "stream",
     "text": [
      "25/06/21 12:35:24 WARN DAGScheduler: Broadcasting large task binary with size 2.9 MiB\n"
     ]
    },
    {
     "name": "stdout",
     "output_type": "stream",
     "text": [
      "Combinación: (1, 2, 2, 2) / iteración: 8, Proporción: 0.0000\n"
     ]
    },
    {
     "name": "stderr",
     "output_type": "stream",
     "text": [
      "                                                                                \r"
     ]
    },
    {
     "name": "stdout",
     "output_type": "stream",
     "text": [
      "Combinación: (1, 3, 1, 1) / iteración: 9, Proporción: 0.0000\n"
     ]
    },
    {
     "name": "stderr",
     "output_type": "stream",
     "text": [
      "25/06/21 12:35:45 WARN DAGScheduler: Broadcasting large task binary with size 3.4 MiB\n"
     ]
    },
    {
     "name": "stdout",
     "output_type": "stream",
     "text": [
      "Combinación: (1, 3, 1, 2) / iteración: 10, Proporción: 0.0000\n"
     ]
    },
    {
     "name": "stderr",
     "output_type": "stream",
     "text": [
      "                                                                                \r"
     ]
    },
    {
     "name": "stdout",
     "output_type": "stream",
     "text": [
      "Combinación: (1, 3, 2, 1) / iteración: 11, Proporción: 0.0000\n"
     ]
    },
    {
     "name": "stderr",
     "output_type": "stream",
     "text": [
      "                                                                                \r"
     ]
    },
    {
     "name": "stdout",
     "output_type": "stream",
     "text": [
      "Combinación: (1, 3, 2, 2) / iteración: 12, Proporción: 0.0000\n"
     ]
    },
    {
     "name": "stderr",
     "output_type": "stream",
     "text": [
      "25/06/21 12:36:09 WARN DAGScheduler: Broadcasting large task binary with size 4.4 MiB\n",
      "                                                                                \r"
     ]
    },
    {
     "name": "stdout",
     "output_type": "stream",
     "text": [
      "Combinación: (2, 1, 1, 1) / iteración: 13, Proporción: 0.2218\n"
     ]
    },
    {
     "name": "stderr",
     "output_type": "stream",
     "text": [
      "                                                                                \r"
     ]
    },
    {
     "name": "stdout",
     "output_type": "stream",
     "text": [
      "Combinación: (2, 1, 1, 2) / iteración: 14, Proporción: 0.0384\n"
     ]
    },
    {
     "name": "stderr",
     "output_type": "stream",
     "text": [
      "25/06/21 12:36:36 WARN DAGScheduler: Broadcasting large task binary with size 2.2 MiB\n",
      "25/06/21 12:36:40 WARN DAGScheduler: Broadcasting large task binary with size 2.2 MiB\n"
     ]
    },
    {
     "name": "stdout",
     "output_type": "stream",
     "text": [
      "Combinación: (2, 1, 2, 1) / iteración: 15, Proporción: 0.0778\n"
     ]
    },
    {
     "name": "stderr",
     "output_type": "stream",
     "text": [
      "                                                                                \r"
     ]
    },
    {
     "name": "stdout",
     "output_type": "stream",
     "text": [
      "Combinación: (2, 1, 2, 2) / iteración: 16, Proporción: 0.0154\n"
     ]
    },
    {
     "name": "stderr",
     "output_type": "stream",
     "text": [
      "                                                                                \r"
     ]
    },
    {
     "name": "stdout",
     "output_type": "stream",
     "text": [
      "Combinación: (2, 2, 1, 1) / iteración: 17, Proporción: 0.0463\n"
     ]
    },
    {
     "name": "stderr",
     "output_type": "stream",
     "text": [
      "                                                                                \r"
     ]
    },
    {
     "name": "stdout",
     "output_type": "stream",
     "text": [
      "Combinación: (2, 2, 1, 2) / iteración: 18, Proporción: 0.0084\n"
     ]
    },
    {
     "name": "stderr",
     "output_type": "stream",
     "text": [
      "                                                                                \r"
     ]
    },
    {
     "name": "stdout",
     "output_type": "stream",
     "text": [
      "Combinación: (2, 2, 2, 1) / iteración: 19, Proporción: 0.0366\n"
     ]
    },
    {
     "name": "stderr",
     "output_type": "stream",
     "text": [
      "                                                                                \r"
     ]
    },
    {
     "name": "stdout",
     "output_type": "stream",
     "text": [
      "Combinación: (2, 2, 2, 2) / iteración: 20, Proporción: 0.0074\n"
     ]
    },
    {
     "name": "stderr",
     "output_type": "stream",
     "text": [
      "                                                                                \r"
     ]
    },
    {
     "name": "stdout",
     "output_type": "stream",
     "text": [
      "Combinación: (2, 3, 1, 1) / iteración: 21, Proporción: 0.0000\n"
     ]
    },
    {
     "name": "stderr",
     "output_type": "stream",
     "text": [
      "                                                                                \r"
     ]
    },
    {
     "name": "stdout",
     "output_type": "stream",
     "text": [
      "Combinación: (2, 3, 1, 2) / iteración: 22, Proporción: 0.0000\n"
     ]
    },
    {
     "name": "stderr",
     "output_type": "stream",
     "text": [
      "                                                                                \r"
     ]
    },
    {
     "name": "stdout",
     "output_type": "stream",
     "text": [
      "Combinación: (2, 3, 2, 1) / iteración: 23, Proporción: 0.0000\n"
     ]
    },
    {
     "name": "stderr",
     "output_type": "stream",
     "text": [
      "                                                                                \r"
     ]
    },
    {
     "name": "stdout",
     "output_type": "stream",
     "text": [
      "Combinación: (2, 3, 2, 2) / iteración: 24, Proporción: 0.0000\n"
     ]
    },
    {
     "name": "stderr",
     "output_type": "stream",
     "text": [
      "                                                                                \r"
     ]
    },
    {
     "name": "stdout",
     "output_type": "stream",
     "text": [
      "Combinación: (3, 1, 1, 1) / iteración: 25, Proporción: 0.0038\n"
     ]
    },
    {
     "name": "stderr",
     "output_type": "stream",
     "text": [
      "                                                                                \r"
     ]
    },
    {
     "name": "stdout",
     "output_type": "stream",
     "text": [
      "Combinación: (3, 1, 1, 2) / iteración: 26, Proporción: 0.0006\n"
     ]
    },
    {
     "name": "stderr",
     "output_type": "stream",
     "text": [
      "                                                                                \r"
     ]
    },
    {
     "name": "stdout",
     "output_type": "stream",
     "text": [
      "Combinación: (3, 1, 2, 1) / iteración: 27, Proporción: 0.0001\n"
     ]
    },
    {
     "name": "stderr",
     "output_type": "stream",
     "text": [
      "                                                                                \r"
     ]
    },
    {
     "name": "stdout",
     "output_type": "stream",
     "text": [
      "Combinación: (3, 1, 2, 2) / iteración: 28, Proporción: 0.0000\n"
     ]
    },
    {
     "name": "stderr",
     "output_type": "stream",
     "text": [
      "                                                                                \r"
     ]
    },
    {
     "name": "stdout",
     "output_type": "stream",
     "text": [
      "Combinación: (3, 2, 1, 1) / iteración: 29, Proporción: 0.0586\n"
     ]
    },
    {
     "name": "stderr",
     "output_type": "stream",
     "text": [
      "                                                                                \r"
     ]
    },
    {
     "name": "stdout",
     "output_type": "stream",
     "text": [
      "Combinación: (3, 2, 1, 2) / iteración: 30, Proporción: 0.0102\n"
     ]
    },
    {
     "name": "stderr",
     "output_type": "stream",
     "text": [
      "                                                                                \r"
     ]
    },
    {
     "name": "stdout",
     "output_type": "stream",
     "text": [
      "Combinación: (3, 2, 2, 1) / iteración: 31, Proporción: 0.0141\n"
     ]
    },
    {
     "name": "stderr",
     "output_type": "stream",
     "text": [
      "                                                                                \r"
     ]
    },
    {
     "name": "stdout",
     "output_type": "stream",
     "text": [
      "Combinación: (3, 2, 2, 2) / iteración: 32, Proporción: 0.0029\n"
     ]
    },
    {
     "name": "stderr",
     "output_type": "stream",
     "text": [
      "                                                                                \r"
     ]
    },
    {
     "name": "stdout",
     "output_type": "stream",
     "text": [
      "Combinación: (3, 3, 1, 1) / iteración: 33, Proporción: 0.0000\n"
     ]
    },
    {
     "name": "stderr",
     "output_type": "stream",
     "text": [
      "                                                                                \r"
     ]
    },
    {
     "name": "stdout",
     "output_type": "stream",
     "text": [
      "Combinación: (3, 3, 1, 2) / iteración: 34, Proporción: 0.0000\n"
     ]
    },
    {
     "name": "stderr",
     "output_type": "stream",
     "text": [
      "                                                                                \r"
     ]
    },
    {
     "name": "stdout",
     "output_type": "stream",
     "text": [
      "Combinación: (3, 3, 2, 1) / iteración: 35, Proporción: 0.0000\n"
     ]
    },
    {
     "name": "stderr",
     "output_type": "stream",
     "text": [
      "[Stage 1087:>                                                     (0 + 16) / 16]\r"
     ]
    },
    {
     "name": "stdout",
     "output_type": "stream",
     "text": [
      "Combinación: (3, 3, 2, 2) / iteración: 36, Proporción: 0.0000\n",
      "Proporción total: 1.0000\n"
     ]
    },
    {
     "name": "stderr",
     "output_type": "stream",
     "text": [
      "                                                                                \r"
     ]
    }
   ],
   "source": [
    "# Importa las librerías necesarias\n",
    "from itertools import product\n",
    "from pyspark.sql.functions import col\n",
    "\n",
    "# Iteraciones de los valores binned\n",
    "iterations = {\n",
    "    \"total_amount_bind\": [1, 2, 3],\n",
    "    \"trip_distance_bind\": [1, 2, 3],\n",
    "    \"payment_type_bind\": [1, 2],\n",
    "    \"passenger_count_bind\": [1, 2]\n",
    "}\n",
    "\n",
    "# Número total de filas\n",
    "total_rows = df_sample.count()\n",
    "\n",
    "# Extracción de las claves y valores del diccionario\n",
    "keys = list(iterations.keys())\n",
    "values = list(iterations.values())\n",
    "\n",
    "# Crear todas las combinaciones posibles de los valores\n",
    "combinations = list(product(*values))\n",
    "\n",
    "# Número de iteración\n",
    "iter_num = 1\n",
    "\n",
    "# Suma total de proporciones\n",
    "total_proportion = 0\n",
    "\n",
    "# Iterar sobre cada combinación\n",
    "for comb in combinations:\n",
    "    # Construir el filtro dinámicamente\n",
    "    condition = (col(keys[0]) == comb[0])\n",
    "    for i in range(1, len(keys)):\n",
    "        condition &= (col(keys[i]) == comb[i])\n",
    "    \n",
    "    # Aplicar el filtro\n",
    "    filtered_rows = df_sample.filter(condition)\n",
    "    \n",
    "    # Contar y calcular proporción\n",
    "    count = filtered_rows.count()\n",
    "    proportion = count / total_rows if total_rows != 0 else 0\n",
    "\n",
    "    print(f\"Combinación: {comb} / iteración: {iter_num}, Proporción: {proportion:.4f}\")\n",
    "    \n",
    "    iter_num += 1\n",
    "    total_proportion += proportion\n",
    "\n",
    "# Mostrar proporción total\n",
    "print(f\"Proporción total: {total_proportion:.4f}\")\n"
   ]
  },
  {
   "cell_type": "code",
   "execution_count": 41,
   "id": "cbfb9c2b",
   "metadata": {},
   "outputs": [
    {
     "name": "stdout",
     "output_type": "stream",
     "text": [
      "Total amount bind ranges:  [(0.0, 10.0), (10.0, 20.0), (20.0, 100.0)]\n",
      "Trip distance bind ranges:  [(0.0, 3.0), (3.0, 10.0), (10.0, 100.0)]\n",
      "Payment type bind ranges:  [(0.0, 1.0), (1.0, 6.0)]\n",
      "Passenger count bind ranges:  [(0.0, 2.0), (2.0, 6.0)]\n",
      "Combinations:  [((0.0, 10.0), (0.0, 3.0), (0.0, 1.0), (0.0, 2.0)), ((0.0, 10.0), (0.0, 3.0), (0.0, 1.0), (2.0, 6.0)), ((0.0, 10.0), (0.0, 3.0), (1.0, 6.0), (0.0, 2.0)), ((0.0, 10.0), (0.0, 3.0), (1.0, 6.0), (2.0, 6.0)), ((0.0, 10.0), (3.0, 10.0), (0.0, 1.0), (0.0, 2.0)), ((0.0, 10.0), (3.0, 10.0), (0.0, 1.0), (2.0, 6.0)), ((0.0, 10.0), (3.0, 10.0), (1.0, 6.0), (0.0, 2.0)), ((0.0, 10.0), (3.0, 10.0), (1.0, 6.0), (2.0, 6.0)), ((0.0, 10.0), (10.0, 100.0), (0.0, 1.0), (0.0, 2.0)), ((0.0, 10.0), (10.0, 100.0), (0.0, 1.0), (2.0, 6.0)), ((0.0, 10.0), (10.0, 100.0), (1.0, 6.0), (0.0, 2.0)), ((0.0, 10.0), (10.0, 100.0), (1.0, 6.0), (2.0, 6.0)), ((10.0, 20.0), (0.0, 3.0), (0.0, 1.0), (0.0, 2.0)), ((10.0, 20.0), (0.0, 3.0), (0.0, 1.0), (2.0, 6.0)), ((10.0, 20.0), (0.0, 3.0), (1.0, 6.0), (0.0, 2.0)), ((10.0, 20.0), (0.0, 3.0), (1.0, 6.0), (2.0, 6.0)), ((10.0, 20.0), (3.0, 10.0), (0.0, 1.0), (0.0, 2.0)), ((10.0, 20.0), (3.0, 10.0), (0.0, 1.0), (2.0, 6.0)), ((10.0, 20.0), (3.0, 10.0), (1.0, 6.0), (0.0, 2.0)), ((10.0, 20.0), (3.0, 10.0), (1.0, 6.0), (2.0, 6.0)), ((10.0, 20.0), (10.0, 100.0), (0.0, 1.0), (0.0, 2.0)), ((10.0, 20.0), (10.0, 100.0), (0.0, 1.0), (2.0, 6.0)), ((10.0, 20.0), (10.0, 100.0), (1.0, 6.0), (0.0, 2.0)), ((10.0, 20.0), (10.0, 100.0), (1.0, 6.0), (2.0, 6.0)), ((20.0, 100.0), (0.0, 3.0), (0.0, 1.0), (0.0, 2.0)), ((20.0, 100.0), (0.0, 3.0), (0.0, 1.0), (2.0, 6.0)), ((20.0, 100.0), (0.0, 3.0), (1.0, 6.0), (0.0, 2.0)), ((20.0, 100.0), (0.0, 3.0), (1.0, 6.0), (2.0, 6.0)), ((20.0, 100.0), (3.0, 10.0), (0.0, 1.0), (0.0, 2.0)), ((20.0, 100.0), (3.0, 10.0), (0.0, 1.0), (2.0, 6.0)), ((20.0, 100.0), (3.0, 10.0), (1.0, 6.0), (0.0, 2.0)), ((20.0, 100.0), (3.0, 10.0), (1.0, 6.0), (2.0, 6.0)), ((20.0, 100.0), (10.0, 100.0), (0.0, 1.0), (0.0, 2.0)), ((20.0, 100.0), (10.0, 100.0), (0.0, 1.0), (2.0, 6.0)), ((20.0, 100.0), (10.0, 100.0), (1.0, 6.0), (0.0, 2.0)), ((20.0, 100.0), (10.0, 100.0), (1.0, 6.0), (2.0, 6.0))]\n"
     ]
    }
   ],
   "source": [
    "# Establece los rangos para las columnas\n",
    "total_amount_bind = [0.0, 10.0, 20.0, 100.0]\n",
    "trip_distance_bind = [0.0, 3.0, 10.0, 100.0]\n",
    "payment_type_bind = [0.0, 1.0, 6.0]\n",
    "passenger_count_bind = [0.0, 2.0, 6.0]\n",
    "\n",
    "# Crea listas para almacenar los rangos de cada columna\n",
    "total_amount_bind_ranges = []\n",
    "trip_distance_bind_ranges = []\n",
    "payment_type_bind_ranges = []\n",
    "passenger_count_bind_ranges = []\n",
    "\n",
    "# Crea los rangos para cada columna\n",
    "for i in range(len(total_amount_bind) - 1):\n",
    "    total_amount_bind_ranges.append((total_amount_bind[i], total_amount_bind[i + 1]))\n",
    "    \n",
    "for i in range(len(trip_distance_bind) - 1):\n",
    "    trip_distance_bind_ranges.append((trip_distance_bind[i], trip_distance_bind[i + 1]))\n",
    "    \n",
    "for i in range(len(payment_type_bind) - 1):\n",
    "    payment_type_bind_ranges.append((payment_type_bind[i], payment_type_bind[i + 1]))\n",
    "    \n",
    "for i in range(len(passenger_count_bind) - 1):\n",
    "    passenger_count_bind_ranges.append((passenger_count_bind[i], passenger_count_bind[i + 1]))\n",
    "\n",
    "# Imprime los rangos de cada columna\n",
    "print(\"Total amount bind ranges: \", total_amount_bind_ranges)\n",
    "print(\"Trip distance bind ranges: \", trip_distance_bind_ranges)\n",
    "print(\"Payment type bind ranges: \", payment_type_bind_ranges)\n",
    "print(\"Passenger count bind ranges: \", passenger_count_bind_ranges)\n",
    "\n",
    "# Crea todas las combinaciones posibles de los rangos\n",
    "combinations = list(product(total_amount_bind_ranges, trip_distance_bind_ranges, payment_type_bind_ranges, passenger_count_bind_ranges))\n",
    "\n",
    "# Imprime las combinaciones\n",
    "print(\"Combinations: \", combinations)"
   ]
  },
  {
   "cell_type": "markdown",
   "id": "0859d167",
   "metadata": {},
   "source": [
    "### 2. Recolección de datos\n",
    "\n",
    "* Se recorre el DataFrame en base a todas las combinaciones de caracterización obtenidas.\n",
    "* De cada combinación, si representa más del 5% de datos, los datos que representa la combinación son agregados al nuevo DataFrame.\n",
    "* Nuevamente se crea la columna trip_duration y se extrae la hora de recogida y descenso."
   ]
  },
  {
   "cell_type": "code",
   "execution_count": 42,
   "id": "21685859",
   "metadata": {},
   "outputs": [
    {
     "name": "stderr",
     "output_type": "stream",
     "text": [
      "                                                                                \r"
     ]
    },
    {
     "name": "stdout",
     "output_type": "stream",
     "text": [
      "Porcentaje: 0.18 / combinación: ((0.0, 10.0), (0.0, 3.0), (0.0, 1.0), (0.0, 2.0)) / iteración: 1 / proporción: 0.1753\n"
     ]
    },
    {
     "name": "stderr",
     "output_type": "stream",
     "text": [
      "                                                                                \r"
     ]
    },
    {
     "name": "stdout",
     "output_type": "stream",
     "text": [
      "Combination accepted\n"
     ]
    },
    {
     "name": "stderr",
     "output_type": "stream",
     "text": [
      "                                                                                \r"
     ]
    },
    {
     "name": "stdout",
     "output_type": "stream",
     "text": [
      "Porcentaje: 0.21 / combinación: ((0.0, 10.0), (0.0, 3.0), (0.0, 1.0), (2.0, 6.0)) / iteración: 2 / proporción: 0.0298\n"
     ]
    },
    {
     "name": "stderr",
     "output_type": "stream",
     "text": [
      "                                                                                \r"
     ]
    },
    {
     "name": "stdout",
     "output_type": "stream",
     "text": [
      "Porcentaje: 0.38 / combinación: ((0.0, 10.0), (0.0, 3.0), (1.0, 6.0), (0.0, 2.0)) / iteración: 3 / proporción: 0.1786\n"
     ]
    },
    {
     "name": "stderr",
     "output_type": "stream",
     "text": [
      "                                                                                \r"
     ]
    },
    {
     "name": "stdout",
     "output_type": "stream",
     "text": [
      "Combination accepted\n"
     ]
    },
    {
     "name": "stderr",
     "output_type": "stream",
     "text": [
      "                                                                                \r"
     ]
    },
    {
     "name": "stdout",
     "output_type": "stream",
     "text": [
      "Porcentaje: 0.42 / combinación: ((0.0, 10.0), (0.0, 3.0), (1.0, 6.0), (2.0, 6.0)) / iteración: 4 / proporción: 0.0330\n"
     ]
    },
    {
     "name": "stderr",
     "output_type": "stream",
     "text": [
      "                                                                                \r"
     ]
    },
    {
     "name": "stdout",
     "output_type": "stream",
     "text": [
      "Porcentaje: 0.42 / combinación: ((0.0, 10.0), (3.0, 10.0), (0.0, 1.0), (0.0, 2.0)) / iteración: 5 / proporción: 0.0000\n"
     ]
    },
    {
     "name": "stderr",
     "output_type": "stream",
     "text": [
      "                                                                                \r"
     ]
    },
    {
     "name": "stdout",
     "output_type": "stream",
     "text": [
      "Porcentaje: 0.42 / combinación: ((0.0, 10.0), (3.0, 10.0), (0.0, 1.0), (2.0, 6.0)) / iteración: 6 / proporción: 0.0000\n"
     ]
    },
    {
     "name": "stderr",
     "output_type": "stream",
     "text": [
      "                                                                                \r"
     ]
    },
    {
     "name": "stdout",
     "output_type": "stream",
     "text": [
      "Porcentaje: 0.42 / combinación: ((0.0, 10.0), (3.0, 10.0), (1.0, 6.0), (0.0, 2.0)) / iteración: 7 / proporción: 0.0002\n"
     ]
    },
    {
     "name": "stderr",
     "output_type": "stream",
     "text": [
      "                                                                                \r"
     ]
    },
    {
     "name": "stdout",
     "output_type": "stream",
     "text": [
      "Porcentaje: 0.42 / combinación: ((0.0, 10.0), (3.0, 10.0), (1.0, 6.0), (2.0, 6.0)) / iteración: 8 / proporción: 0.0000\n"
     ]
    },
    {
     "name": "stderr",
     "output_type": "stream",
     "text": [
      "                                                                                \r"
     ]
    },
    {
     "name": "stdout",
     "output_type": "stream",
     "text": [
      "Porcentaje: 0.42 / combinación: ((0.0, 10.0), (10.0, 100.0), (0.0, 1.0), (0.0, 2.0)) / iteración: 9 / proporción: 0.0000\n"
     ]
    },
    {
     "name": "stderr",
     "output_type": "stream",
     "text": [
      "                                                                                \r"
     ]
    },
    {
     "name": "stdout",
     "output_type": "stream",
     "text": [
      "Porcentaje: 0.42 / combinación: ((0.0, 10.0), (10.0, 100.0), (0.0, 1.0), (2.0, 6.0)) / iteración: 10 / proporción: 0.0000\n"
     ]
    },
    {
     "name": "stderr",
     "output_type": "stream",
     "text": [
      "                                                                                \r"
     ]
    },
    {
     "name": "stdout",
     "output_type": "stream",
     "text": [
      "Porcentaje: 0.42 / combinación: ((0.0, 10.0), (10.0, 100.0), (1.0, 6.0), (0.0, 2.0)) / iteración: 11 / proporción: 0.0001\n"
     ]
    },
    {
     "name": "stderr",
     "output_type": "stream",
     "text": [
      "                                                                                \r"
     ]
    },
    {
     "name": "stdout",
     "output_type": "stream",
     "text": [
      "Porcentaje: 0.42 / combinación: ((0.0, 10.0), (10.0, 100.0), (1.0, 6.0), (2.0, 6.0)) / iteración: 12 / proporción: 0.0000\n"
     ]
    },
    {
     "name": "stderr",
     "output_type": "stream",
     "text": [
      "                                                                                \r"
     ]
    },
    {
     "name": "stdout",
     "output_type": "stream",
     "text": [
      "Porcentaje: 0.62 / combinación: ((10.0, 20.0), (0.0, 3.0), (0.0, 1.0), (0.0, 2.0)) / iteración: 13 / proporción: 0.2025\n"
     ]
    },
    {
     "name": "stderr",
     "output_type": "stream",
     "text": [
      "                                                                                \r"
     ]
    },
    {
     "name": "stdout",
     "output_type": "stream",
     "text": [
      "Combination accepted\n"
     ]
    },
    {
     "name": "stderr",
     "output_type": "stream",
     "text": [
      "                                                                                \r"
     ]
    },
    {
     "name": "stdout",
     "output_type": "stream",
     "text": [
      "Porcentaje: 0.65 / combinación: ((10.0, 20.0), (0.0, 3.0), (0.0, 1.0), (2.0, 6.0)) / iteración: 14 / proporción: 0.0346\n"
     ]
    },
    {
     "name": "stderr",
     "output_type": "stream",
     "text": [
      "                                                                                \r"
     ]
    },
    {
     "name": "stdout",
     "output_type": "stream",
     "text": [
      "Porcentaje: 0.72 / combinación: ((10.0, 20.0), (0.0, 3.0), (1.0, 6.0), (0.0, 2.0)) / iteración: 15 / proporción: 0.0707\n"
     ]
    },
    {
     "name": "stderr",
     "output_type": "stream",
     "text": [
      "                                                                                \r"
     ]
    },
    {
     "name": "stdout",
     "output_type": "stream",
     "text": [
      "Combination accepted\n"
     ]
    },
    {
     "name": "stderr",
     "output_type": "stream",
     "text": [
      "                                                                                \r"
     ]
    },
    {
     "name": "stdout",
     "output_type": "stream",
     "text": [
      "Porcentaje: 0.74 / combinación: ((10.0, 20.0), (0.0, 3.0), (1.0, 6.0), (2.0, 6.0)) / iteración: 16 / proporción: 0.0139\n"
     ]
    },
    {
     "name": "stderr",
     "output_type": "stream",
     "text": [
      "                                                                                \r"
     ]
    },
    {
     "name": "stdout",
     "output_type": "stream",
     "text": [
      "Porcentaje: 0.78 / combinación: ((10.0, 20.0), (3.0, 10.0), (0.0, 1.0), (0.0, 2.0)) / iteración: 17 / proporción: 0.0425\n"
     ]
    },
    {
     "name": "stderr",
     "output_type": "stream",
     "text": [
      "                                                                                \r"
     ]
    },
    {
     "name": "stdout",
     "output_type": "stream",
     "text": [
      "Porcentaje: 0.79 / combinación: ((10.0, 20.0), (3.0, 10.0), (0.0, 1.0), (2.0, 6.0)) / iteración: 18 / proporción: 0.0078\n"
     ]
    },
    {
     "name": "stderr",
     "output_type": "stream",
     "text": [
      "                                                                                \r"
     ]
    },
    {
     "name": "stdout",
     "output_type": "stream",
     "text": [
      "Porcentaje: 0.82 / combinación: ((10.0, 20.0), (3.0, 10.0), (1.0, 6.0), (0.0, 2.0)) / iteración: 19 / proporción: 0.0333\n"
     ]
    },
    {
     "name": "stderr",
     "output_type": "stream",
     "text": [
      "                                                                                \r"
     ]
    },
    {
     "name": "stdout",
     "output_type": "stream",
     "text": [
      "Porcentaje: 0.83 / combinación: ((10.0, 20.0), (3.0, 10.0), (1.0, 6.0), (2.0, 6.0)) / iteración: 20 / proporción: 0.0068\n"
     ]
    },
    {
     "name": "stderr",
     "output_type": "stream",
     "text": [
      "                                                                                \r"
     ]
    },
    {
     "name": "stdout",
     "output_type": "stream",
     "text": [
      "Porcentaje: 0.83 / combinación: ((10.0, 20.0), (10.0, 100.0), (0.0, 1.0), (0.0, 2.0)) / iteración: 21 / proporción: 0.0000\n"
     ]
    },
    {
     "name": "stderr",
     "output_type": "stream",
     "text": [
      "                                                                                \r"
     ]
    },
    {
     "name": "stdout",
     "output_type": "stream",
     "text": [
      "Porcentaje: 0.83 / combinación: ((10.0, 20.0), (10.0, 100.0), (0.0, 1.0), (2.0, 6.0)) / iteración: 22 / proporción: 0.0000\n"
     ]
    },
    {
     "name": "stderr",
     "output_type": "stream",
     "text": [
      "                                                                                \r"
     ]
    },
    {
     "name": "stdout",
     "output_type": "stream",
     "text": [
      "Porcentaje: 0.83 / combinación: ((10.0, 20.0), (10.0, 100.0), (1.0, 6.0), (0.0, 2.0)) / iteración: 23 / proporción: 0.0000\n"
     ]
    },
    {
     "name": "stderr",
     "output_type": "stream",
     "text": [
      "                                                                                \r"
     ]
    },
    {
     "name": "stdout",
     "output_type": "stream",
     "text": [
      "Porcentaje: 0.83 / combinación: ((10.0, 20.0), (10.0, 100.0), (1.0, 6.0), (2.0, 6.0)) / iteración: 24 / proporción: 0.0000\n"
     ]
    },
    {
     "name": "stderr",
     "output_type": "stream",
     "text": [
      "                                                                                \r"
     ]
    },
    {
     "name": "stdout",
     "output_type": "stream",
     "text": [
      "Porcentaje: 0.83 / combinación: ((20.0, 100.0), (0.0, 3.0), (0.0, 1.0), (0.0, 2.0)) / iteración: 25 / proporción: 0.0044\n"
     ]
    },
    {
     "name": "stderr",
     "output_type": "stream",
     "text": [
      "                                                                                \r"
     ]
    },
    {
     "name": "stdout",
     "output_type": "stream",
     "text": [
      "Porcentaje: 0.83 / combinación: ((20.0, 100.0), (0.0, 3.0), (0.0, 1.0), (2.0, 6.0)) / iteración: 26 / proporción: 0.0007\n"
     ]
    },
    {
     "name": "stderr",
     "output_type": "stream",
     "text": [
      "                                                                                \r"
     ]
    },
    {
     "name": "stdout",
     "output_type": "stream",
     "text": [
      "Porcentaje: 0.83 / combinación: ((20.0, 100.0), (0.0, 3.0), (1.0, 6.0), (0.0, 2.0)) / iteración: 27 / proporción: 0.0006\n"
     ]
    },
    {
     "name": "stderr",
     "output_type": "stream",
     "text": [
      "                                                                                \r"
     ]
    },
    {
     "name": "stdout",
     "output_type": "stream",
     "text": [
      "Porcentaje: 0.83 / combinación: ((20.0, 100.0), (0.0, 3.0), (1.0, 6.0), (2.0, 6.0)) / iteración: 28 / proporción: 0.0001\n"
     ]
    },
    {
     "name": "stderr",
     "output_type": "stream",
     "text": [
      "                                                                                \r"
     ]
    },
    {
     "name": "stdout",
     "output_type": "stream",
     "text": [
      "Porcentaje: 0.91 / combinación: ((20.0, 100.0), (3.0, 10.0), (0.0, 1.0), (0.0, 2.0)) / iteración: 29 / proporción: 0.0740\n"
     ]
    },
    {
     "name": "stderr",
     "output_type": "stream",
     "text": [
      "                                                                                \r"
     ]
    },
    {
     "name": "stdout",
     "output_type": "stream",
     "text": [
      "Combination accepted\n"
     ]
    },
    {
     "name": "stderr",
     "output_type": "stream",
     "text": [
      "                                                                                \r"
     ]
    },
    {
     "name": "stdout",
     "output_type": "stream",
     "text": [
      "Porcentaje: 0.92 / combinación: ((20.0, 100.0), (3.0, 10.0), (0.0, 1.0), (2.0, 6.0)) / iteración: 30 / proporción: 0.0129\n"
     ]
    },
    {
     "name": "stderr",
     "output_type": "stream",
     "text": [
      "                                                                                \r"
     ]
    },
    {
     "name": "stdout",
     "output_type": "stream",
     "text": [
      "Porcentaje: 0.94 / combinación: ((20.0, 100.0), (3.0, 10.0), (1.0, 6.0), (0.0, 2.0)) / iteración: 31 / proporción: 0.0209\n"
     ]
    },
    {
     "name": "stderr",
     "output_type": "stream",
     "text": [
      "                                                                                \r"
     ]
    },
    {
     "name": "stdout",
     "output_type": "stream",
     "text": [
      "Porcentaje: 0.95 / combinación: ((20.0, 100.0), (3.0, 10.0), (1.0, 6.0), (2.0, 6.0)) / iteración: 32 / proporción: 0.0042\n"
     ]
    },
    {
     "name": "stderr",
     "output_type": "stream",
     "text": [
      "                                                                                \r"
     ]
    },
    {
     "name": "stdout",
     "output_type": "stream",
     "text": [
      "Porcentaje: 0.97 / combinación: ((20.0, 100.0), (10.0, 100.0), (0.0, 1.0), (0.0, 2.0)) / iteración: 33 / proporción: 0.0259\n"
     ]
    },
    {
     "name": "stderr",
     "output_type": "stream",
     "text": [
      "                                                                                \r"
     ]
    },
    {
     "name": "stdout",
     "output_type": "stream",
     "text": [
      "Porcentaje: 0.98 / combinación: ((20.0, 100.0), (10.0, 100.0), (0.0, 1.0), (2.0, 6.0)) / iteración: 34 / proporción: 0.0046\n"
     ]
    },
    {
     "name": "stderr",
     "output_type": "stream",
     "text": [
      "                                                                                \r"
     ]
    },
    {
     "name": "stdout",
     "output_type": "stream",
     "text": [
      "Porcentaje: 0.99 / combinación: ((20.0, 100.0), (10.0, 100.0), (1.0, 6.0), (0.0, 2.0)) / iteración: 35 / proporción: 0.0121\n"
     ]
    },
    {
     "name": "stderr",
     "output_type": "stream",
     "text": [
      "[Stage 1213:>                                                     (0 + 16) / 16]\r"
     ]
    },
    {
     "name": "stdout",
     "output_type": "stream",
     "text": [
      "Porcentaje: 0.99 / combinación: ((20.0, 100.0), (10.0, 100.0), (1.0, 6.0), (2.0, 6.0)) / iteración: 36 / proporción: 0.0026\n",
      "Proporción total: 0.9922\n",
      "Proporción total en el nuevo DataFrame: 0.7011\n"
     ]
    },
    {
     "name": "stderr",
     "output_type": "stream",
     "text": [
      "                                                                                \r"
     ]
    }
   ],
   "source": [
    "# Conteo de filas del DataFrame original\n",
    "total_rows = df.count()\n",
    "\n",
    "# Variables para almacenar los resultados\n",
    "subsets = []\n",
    "iter_num = 1\n",
    "total_proportion = 0\n",
    "total_proportion_in_new_df = 0\n",
    "df_accumulated = None\n",
    "\n",
    "# Iterar sobre cada combinación\n",
    "for comb in combinations:\n",
    "    filtered_rows = df.filter(\n",
    "        (col(\"total_amount\") > comb[0][0]) & (col(\"total_amount\") <= comb[0][1]) &\n",
    "        (col(\"trip_distance\") > comb[1][0]) & (col(\"trip_distance\") <= comb[1][1]) &\n",
    "        (col(\"payment_type\") > comb[2][0]) & (col(\"payment_type\") <= comb[2][1]) &\n",
    "        (col(\"passenger_count\") > comb[3][0]) & (col(\"passenger_count\") <= comb[3][1])\n",
    "    )\n",
    "    subsets.append(filtered_rows)\n",
    "    \n",
    "    # Calcular la proporción de filas filtradas respecto al total\n",
    "    prop = filtered_rows.count() / total_rows\n",
    "    total_proportion += prop\n",
    "    print(f\"Porcentaje: {total_proportion:.2f} / combinación: {comb} / iteración: {iter_num} / proporción: {prop:.4f}\")\n",
    "    iter_num += 1\n",
    "\n",
    "    # Si la proporción es mayor que 0.05, tomar el 40% de las filas\n",
    "    if prop > 0.05:\n",
    "\n",
    "        # Tomar el 40% de las filas filtradas\n",
    "        filtered_rows_fraction = filtered_rows.sample(withReplacement=False, fraction=0.4, seed=42)\n",
    "\n",
    "        if df_accumulated is None:\n",
    "            df_accumulated = filtered_rows_fraction\n",
    "        else:\n",
    "            df_accumulated = df_accumulated.union(filtered_rows_fraction)\n",
    "\n",
    "        # Guarda la proporción de filas filtradas respecto al total\n",
    "        total_proportion_in_new_df += filtered_rows.count() / total_rows\n",
    "\n",
    "        print(\"Combination accepted\")\n",
    "    \n",
    "# Imprime resultados\n",
    "print(f\"Proporción total: {total_proportion:.4f}\")\n",
    "print(f\"Proporción total en el nuevo DataFrame: {total_proportion_in_new_df:.4f}\")"
   ]
  },
  {
   "cell_type": "code",
   "execution_count": 43,
   "id": "e5a0f1bc",
   "metadata": {},
   "outputs": [
    {
     "name": "stdout",
     "output_type": "stream",
     "text": [
      "+--------+--------------------+---------------------+---------------+-------------+------------------+------------------+----------+------------------+------------------+------------------+------------+-----------+-----+-------+----------+------------+---------------------+------------+-----------------+\n",
      "|VendorID|tpep_pickup_datetime|tpep_dropoff_datetime|passenger_count|trip_distance|  pickup_longitude|   pickup_latitude|RateCodeID|store_and_fwd_flag| dropoff_longitude|  dropoff_latitude|payment_type|fare_amount|extra|mta_tax|tip_amount|tolls_amount|improvement_surcharge|total_amount|    trip_duration|\n",
      "+--------+--------------------+---------------------+---------------+-------------+------------------+------------------+----------+------------------+------------------+------------------+------------+-----------+-----+-------+----------+------------+---------------------+------------+-----------------+\n",
      "|       2|                  19|                   19|              1|         0.89|-73.99495697021484|40.745079040527344|         1|                 N|-73.99993896484375|40.734649658203125|           1|        5.5|  1.0|    0.5|      1.62|         0.0|                  0.3|        8.92|4.683333333333334|\n",
      "|       2|                   0|                    0|              1|         1.18|-73.98302459716797|40.767818450927734|         1|                 N|-73.96830749511719| 40.76314926147461|           1|        6.0|  0.5|    0.5|       1.8|         0.0|                  0.3|         9.1|              5.4|\n",
      "|       2|                  14|                   14|              1|         0.67|-73.97093200683594|40.795921325683594|         1|                 N|-73.97016906738281| 40.78912353515625|           1|        5.0|  0.0|    0.5|       1.0|         0.0|                  0.3|         6.8|4.316666666666666|\n",
      "|       1|                  12|                   12|              1|          1.3|-73.97639465332031|  40.7484016418457|         1|                 N|-73.99404907226562| 40.74616241455078|           1|        8.0|  0.0|    0.5|       1.0|         0.0|                  0.3|         9.8|            10.05|\n",
      "|       1|                  12|                   12|              2|          1.6|-74.00725555419922| 40.72868347167969|         1|                 N|-73.99505615234375|40.750003814697266|           1|        7.0|  0.0|    0.5|      1.95|         0.0|                  0.3|        9.75|5.933333333333334|\n",
      "+--------+--------------------+---------------------+---------------+-------------+------------------+------------------+----------+------------------+------------------+------------------+------------+-----------+-----+-------+----------+------------+---------------------+------------+-----------------+\n",
      "only showing top 5 rows\n",
      "\n"
     ]
    }
   ],
   "source": [
    "# Se crea la columna trip_duration\n",
    "df_accumulated = df_accumulated.withColumn(\n",
    "    \"trip_duration\",\n",
    "    (unix_timestamp(\"tpep_dropoff_datetime\") - unix_timestamp(\"tpep_pickup_datetime\")) / 60,\n",
    ")\n",
    "\n",
    "# Se extraen las horas de las columnas tpep_pickup_datetime y tpep_dropoff_datetime\n",
    "df_accumulated = df_accumulated.withColumn(\"tpep_pickup_datetime\", hour(\"tpep_pickup_datetime\"))\n",
    "df_accumulated = df_accumulated.withColumn(\"tpep_dropoff_datetime\", hour(\"tpep_dropoff_datetime\"))\n",
    "\n",
    "# Mostramos las primeras 5 filas del DataFrame acumulado\n",
    "df_accumulated.show(5)"
   ]
  },
  {
   "cell_type": "markdown",
   "id": "b85c31cf",
   "metadata": {},
   "source": [
    "### 3. Construcción de la muestra considerando el volumen de datos de la población\n",
    "\n",
    "* Se generan columnas de binning para cada columna de caracterización previamente seleccionada.\n",
    "* Se crea un DataFrame con los stratum_counts.\n",
    "* Se agrega al DataFrame de stratum_counts una columna con la proporción de cada estrato.\n",
    "* Se define el tamaño de la muestra como el 10% del total de filas.\n",
    "* Se calcula el tamaño de la muestra de cada estrato.\n",
    "* Se hace el muestreo estratificado con sampleBy."
   ]
  },
  {
   "cell_type": "code",
   "execution_count": 44,
   "id": "db36365c",
   "metadata": {},
   "outputs": [
    {
     "name": "stderr",
     "output_type": "stream",
     "text": [
      "[Stage 1229:==========================================>          (64 + 16) / 80]\r"
     ]
    },
    {
     "name": "stdout",
     "output_type": "stream",
     "text": [
      "Total de M: 359016\n",
      "Suma de los Mi: 359016\n"
     ]
    },
    {
     "name": "stderr",
     "output_type": "stream",
     "text": [
      "                                                                                \r"
     ]
    }
   ],
   "source": [
    "# Importa las librerías necesarias para el muestreo estratificado\n",
    "from pyspark.sql.functions import sum as spark_sum\n",
    "from pyspark.sql.functions import concat_ws, round\n",
    "\n",
    "# Binning para total_amount\n",
    "df_binned = df_accumulated.withColumn(\"total_amount_bin\",\n",
    "    when((df_accumulated.total_amount >= 0) & (df_accumulated.total_amount < 10), \"0-10\")\n",
    "    .when((df_accumulated.total_amount >= 10) & (df_accumulated.total_amount < 20), \"10-20\")\n",
    "    .when((df_accumulated.total_amount >= 20) & (df_accumulated.total_amount < 100), \"20-100\")\n",
    ")\n",
    "\n",
    "# Binning para trip_distance\n",
    "df_binned = df_binned.withColumn(\"trip_distance_bin\",\n",
    "    when((df_accumulated.trip_distance >= 0) & (df_accumulated.trip_distance < 3), \"0-3\")\n",
    "    .when((df_accumulated.trip_distance >= 3) & (df_accumulated.trip_distance < 10), \"3-10\")\n",
    "    .when((df_accumulated.trip_distance >= 10) & (df_accumulated.trip_distance < 100), \"10-100\")\n",
    ")\n",
    "\n",
    "# Binning para payment_type\n",
    "df_binned = df_binned.withColumn(\"payment_type_bin\",\n",
    "    when((df_accumulated.payment_type >= 0) & (df_accumulated.payment_type < 1), \"0\")\n",
    "    .when((df_accumulated.payment_type >= 1) & (df_accumulated.payment_type < 6), \"1-5\")\n",
    ")\n",
    "\n",
    "# Binning para passenger_count\n",
    "df_binned = df_binned.withColumn(\"passenger_count_bin\",\n",
    "    when((df_accumulated.passenger_count >= 0) & (df_accumulated.passenger_count < 2), \"0-1\")\n",
    "    .when((df_accumulated.passenger_count >= 2) & (df_accumulated.passenger_count < 6), \"2-5\")\n",
    ")\n",
    "\n",
    "# Concatenación de las columnas binned para crear la columna stratum\n",
    "df_binned = df_binned.withColumn(\"stratum\", concat_ws(\"_\", \n",
    "    \"total_amount_bin\", \"trip_distance_bin\", \n",
    "    \"payment_type_bin\", \"passenger_count_bin\"\n",
    "))\n",
    "\n",
    "# Conteo total de filas en el DataFrame binned\n",
    "total_count = df_binned.count()\n",
    "\n",
    "# Creación del DataFrame stratum_counts\n",
    "stratum_counts = df_binned.groupBy(\"stratum\").count()\n",
    "\n",
    "# Se agrega al DataFrame stratum_counts una columna con la proporción de cada estrato\n",
    "stratum_props = stratum_counts.withColumn(\"proportion\", stratum_counts[\"count\"] / total_count)\n",
    "\n",
    "\n",
    "# Se define el tamaño de la muestra como el 10% del total de filas\n",
    "sample_size = int(total_count * 0.10)\n",
    "\n",
    "# Cálculo del tamaño de la muestra para cada estrato\n",
    "stratum_sizes = stratum_props.withColumn(\n",
    "    \"sample_size\", round(stratum_props[\"proportion\"] * sample_size).cast(\"int\")\n",
    ")\n",
    "\n",
    "# Observaciones por estrato en el DataFrame original P\n",
    "stratum_count_dict = dict(stratum_sizes.select(\"stratum\", \"count\").rdd.map(lambda r: (r[0], r[1])).collect())\n",
    "\n",
    "# Observaciones por estrato en el DataFrame muestra M\n",
    "stratum_sample_dict = dict(stratum_sizes.select(\"stratum\", \"sample_size\").rdd.map(lambda r: (r[0], r[1])).collect())\n",
    "\n",
    "# Cálculo de las proporciones de cada estrato\n",
    "fractions = {k: stratum_sample_dict[k] / stratum_count_dict[k] for k in stratum_sample_dict}\n",
    "\n",
    "# Se hace el muestreo estratificado\n",
    "sampled_df = df_binned.sampleBy(\"stratum\", fractions=fractions, seed=42)\n",
    "\n",
    "# Total de M\n",
    "m_total = sampled_df.count()\n",
    "\n",
    "# Total sumado por grupos Mi\n",
    "mi_total = sampled_df.groupBy(\"stratum\").count().agg(spark_sum(\"count\")).collect()[0][0]\n",
    "\n",
    "print(f\"Total de M: {m_total}\")\n",
    "print(f\"Suma de los Mi: {mi_total}\")\n"
   ]
  },
  {
   "cell_type": "markdown",
   "id": "bb77895a",
   "metadata": {},
   "source": [
    "### 4. Estrategia(s) de muestreo a emplear\n",
    "\n",
    "Para la construcción de la muestra M se empleó una estrategia de **muestreo estratificado** en donde se utilizaron las siguientes variables de caracterización (que fueron obtenidas en el punto número 1):\n",
    "\n",
    "1. total_amount (binned en rangos de 0-10, 10-20 y 20-100)\n",
    "2. trip_distance (binned en rangos de 0-3, 3-10 y 10-100)\n",
    "3. payment_type (binned en rangos de 0 y 1-5)\n",
    "4. passenger_count (binned en rangos de 0-1 y 2-5)\n",
    "\n",
    "Cada combinación única de estas variables determina un **estrato (stratum)** y posteriormente se calcularon las proporciones relativas de cada estrato en la población total, generando una muestra que representa el 10% de la población manteniendo las proporciones determinadas por los estratos.\n",
    "\n",
    "Esta técnica permite preservar la distribución original de los datos y evita una inyección de sesgos, de esta manera se asegura que los patrones relevantes se mantienen tanto en la muestra como en los conjuntos de entrenamiento y prueba."
   ]
  },
  {
   "cell_type": "markdown",
   "id": "aafaebd5",
   "metadata": {},
   "source": [
    "### 5. Preparación de conjuntos de entrenamiento y prueba \n",
    "\n",
    "* Evaluación: Calcula y aplica correctamente el porcentaje de división para Tri y Tsi, asegurando que no existan sesgos, documentando detalladamente.\n",
    "\n",
    "Aquí se van a generar los DataFrames de entrenamiento y prueba, recorriendo los estratos para extraer la proporción de cada uno de ellos.\n",
    "\n",
    "- Se define manualmente la proporción deseada.\n",
    "- Se inicia una lista para almacenar los DataFrames.\n",
    "- Se obtienen los estratos únicos.\n",
    "- Se itera sobre cada estrato único.\n",
    "- Se filtra cada estrato Mi.\n",
    "- Se obtiene el conjunto de entrenamiento y prueba del estrato Mi.\n",
    "- Se agrega el conjunto a su lista respectiva.\n",
    "- Se unen los DataFrames enlistados en un solo DataFrame de entrenamiento y prueba."
   ]
  },
  {
   "cell_type": "code",
   "execution_count": 45,
   "id": "7321539d",
   "metadata": {},
   "outputs": [
    {
     "name": "stderr",
     "output_type": "stream",
     "text": [
      "                                                                                \r"
     ]
    }
   ],
   "source": [
    "# Se define manualmente la proporcion de train y test\n",
    "train_prop = 0.8\n",
    "test_prop = 0.2\n",
    "\n",
    "# Iniciamos una lista para almacenar los DataFrames de entrenamiento y prueba\n",
    "train_dfs = []\n",
    "test_dfs = []\n",
    "\n",
    "# Obtenemos los estratos únicos\n",
    "unique_strata = sampled_df.select(\"stratum\").distinct().rdd.map(lambda r: r[0]).collect()\n",
    "\n",
    "# Iteramos sobre cada estrato\n",
    "for strata in unique_strata:\n",
    "    # Filtramos el estrato Mi\n",
    "    mi = sampled_df.filter(col(\"stratum\") == strata)\n",
    "\n",
    "    # Obtenemos el test y el train de cada estrato\n",
    "    mi_train, mi_test = mi.randomSplit([train_prop, test_prop], seed=42)\n",
    "\n",
    "    # Agregramos las partes a las listas correspondientes\n",
    "    train_dfs.append(mi_train)\n",
    "    test_dfs.append(mi_test)\n",
    "\n",
    "# Unimos todos los DataFrames de entrenamiento y prueba\n",
    "train_df = train_dfs[0]\n",
    "for df in train_dfs[1:]:\n",
    "    train_df = train_df.union(df)\n",
    "\n",
    "test_df = test_dfs[0]\n",
    "for df in test_dfs[1:]:\n",
    "    test_df = test_df.union(df)"
   ]
  },
  {
   "cell_type": "markdown",
   "id": "1157ea45",
   "metadata": {},
   "source": [
    "### 6. Selección de métricas para medir calidad de resultados\n",
    "\n",
    "* Evaluación: Selecciona y argumenta detalladamente las métricas más adecuadas, considerando grandes volúmenes de datos y documentando exhaustivamente.\n",
    "\n",
    "A continuación, se seleccionará y defenderá la métrica para evaluar el modelo.\n",
    "\n",
    "- El objetivo es predecir una variable continua (total_amount), esto convierte al problema en un enfoque de regresión. La métrica seleccionada deberá ser robusta frente a outliers, ser eficiente y ofrecer una gran interpretabilidad.\n",
    "\n",
    "- Se elige la métrica: RMSE (Root Mean Squared Error).\n",
    "\n",
    "- Ventajas:\n",
    "\n",
    "    - Penalización de errores grandes. Esta métrica penaliza con mayor rudeza los grandes errores, algo deseado en modelos financieros.\n",
    "    - Ampliamente utilizado. La utilización y comprensión de esta métrica esta más que probada que es útil en problemas de regresión.\n",
    "    - Unidad de medida. La unidad de error es la misma que la variable, por lo que su interpretabilidad es bastante elevada."
   ]
  },
  {
   "cell_type": "markdown",
   "id": "c2abdd13",
   "metadata": {},
   "source": [
    "### 7. Selección de algoritmos de aprendizaje\n",
    "\n",
    "En esta sección se realiza el entrenamiento del modelo de aprendizaje y se recorre una cuadrícula de parámetros para encontrar el mejor ajuste.\n",
    "\n",
    "- Se definen las variables independientes.\n",
    "- Se definen la variable dependiente.\n",
    "- Se ensamblan las características en un vector con VectorAssembler.\n",
    "- Se selecciona el modelo RandomForestRegressor por los siguientes motivos:\n",
    "    - El objetivo actual es predecir una variable numérica continua, esto se traduce en un problema de regresión supervisada, algo que RandomForest es perfectamente capáz de realizar.\n",
    "    - RandomForest tiene una buena robustez ante valores atípicos y datos ruidosos y por la cantidad de datos que se manejan, puede ser normal que existan dichos valores.\n",
    "    - Tiene una buena capacidad para modelar relaciones no lineales a diferencia de la regresión lineal.\n",
    "    - No requiere normalización ni escalado, lo que ahorra tiempo de procesamiento en dataset grandes.\n",
    "    - Tiene una amplia capacidad para trabajar con muchas variables (si se requiriera) y puede modelar relaciones complejas.\n",
    "    - Tiene facilidad para ser ajustado con validación cruzada y grid search, ajustando el número de arboles y su profundiad."
   ]
  },
  {
   "cell_type": "code",
   "execution_count": 46,
   "id": "e8eef7ca",
   "metadata": {},
   "outputs": [],
   "source": [
    "from pyspark.ml import Pipeline\n",
    "from pyspark.ml.feature import VectorAssembler\n",
    "from pyspark.ml.regression import RandomForestRegressor\n",
    "from pyspark.ml.evaluation import RegressionEvaluator\n",
    "from pyspark.ml.tuning import ParamGridBuilder, CrossValidator\n",
    "\n",
    "# Se definen la variables independientes\n",
    "feature_cols = [\n",
    "    \"tpep_pickup_datetime\",\n",
    "    \"tpep_dropoff_datetime\",\n",
    "    \"passenger_count\",\n",
    "    \"trip_distance\",\n",
    "    \"payment_type\",\n",
    "    \"trip_duration\",\n",
    "]\n",
    "\n",
    "# Se define la variable dependiente (columna objetivo)\n",
    "target_col = \"total_amount\"\n",
    "\n",
    "# Se ensamblan las características en un vector\n",
    "assembler = VectorAssembler(inputCols=feature_cols, outputCol=\"features\")\n",
    "\n",
    "# Se define el modelo\n",
    "rf = RandomForestRegressor(\n",
    "    featuresCol=\"features\",\n",
    "    labelCol=target_col,\n",
    "    seed=42\n",
    ")"
   ]
  },
  {
   "cell_type": "markdown",
   "id": "5dd27369",
   "metadata": {},
   "source": [
    "### 8. Técnicas para el ajuste de hiper – parámetros\n",
    "\n",
    "- Se genera un pipeline con el ensamblador y el modelo para automatizar el proceso.\n",
    "- Se define la cuadrícula de parámetros para la búsqueda del mejor modelo.\n",
    "- se define el evaluador con la métrica RMSE que hemos determinado es la mejor en el paso anterior.\n",
    "- Se configura el CrossValidator.\n",
    "- Se entrena el modelo con validación cruzada.\n",
    "- Se obtiene el mejor modelo de la validación cruzada.\n"
   ]
  },
  {
   "cell_type": "code",
   "execution_count": 47,
   "id": "beb2cab6",
   "metadata": {},
   "outputs": [
    {
     "name": "stderr",
     "output_type": "stream",
     "text": [
      "25/06/21 12:39:53 WARN DAGScheduler: Broadcasting large task binary with size 2.1 MiB\n",
      "25/06/21 12:39:53 WARN DAGScheduler: Broadcasting large task binary with size 2.1 MiB\n",
      "25/06/21 12:44:00 WARN DAGScheduler: Broadcasting large task binary with size 2.2 MiB\n",
      "25/06/21 12:44:02 WARN DAGScheduler: Broadcasting large task binary with size 2.2 MiB\n",
      "25/06/21 12:44:02 WARN DAGScheduler: Broadcasting large task binary with size 2.2 MiB\n",
      "25/06/21 12:44:04 WARN DAGScheduler: Broadcasting large task binary with size 2.2 MiB\n",
      "25/06/21 12:44:04 WARN DAGScheduler: Broadcasting large task binary with size 2.2 MiB\n",
      "25/06/21 12:44:06 WARN DAGScheduler: Broadcasting large task binary with size 2.2 MiB\n",
      "25/06/21 12:44:08 WARN DAGScheduler: Broadcasting large task binary with size 2.2 MiB\n",
      "25/06/21 12:44:10 WARN DAGScheduler: Broadcasting large task binary with size 2.2 MiB\n",
      "25/06/21 12:44:13 WARN DAGScheduler: Broadcasting large task binary with size 2.2 MiB\n",
      "25/06/21 12:44:15 WARN DAGScheduler: Broadcasting large task binary with size 2.2 MiB\n",
      "25/06/21 12:44:18 WARN DAGScheduler: Broadcasting large task binary with size 2.2 MiB\n",
      "25/06/21 12:44:20 WARN DAGScheduler: Broadcasting large task binary with size 2.2 MiB\n",
      "25/06/21 12:44:23 WARN DAGScheduler: Broadcasting large task binary with size 2.2 MiB\n",
      "25/06/21 12:44:26 WARN DAGScheduler: Broadcasting large task binary with size 2.2 MiB\n",
      "25/06/21 12:44:29 WARN DAGScheduler: Broadcasting large task binary with size 2.2 MiB\n",
      "25/06/21 12:44:32 WARN DAGScheduler: Broadcasting large task binary with size 2.2 MiB\n",
      "25/06/21 12:44:36 WARN DAGScheduler: Broadcasting large task binary with size 2.3 MiB\n",
      "25/06/21 12:44:43 WARN DAGScheduler: Broadcasting large task binary with size 2.1 MiB\n",
      "25/06/21 12:44:50 WARN DAGScheduler: Broadcasting large task binary with size 2.3 MiB\n",
      "25/06/21 12:48:54 WARN DAGScheduler: Broadcasting large task binary with size 2.2 MiB\n",
      "25/06/21 12:49:03 WARN DAGScheduler: Broadcasting large task binary with size 2.5 MiB\n",
      "25/06/21 12:49:05 WARN DAGScheduler: Broadcasting large task binary with size 2.2 MiB\n",
      "25/06/21 12:49:06 WARN DAGScheduler: Broadcasting large task binary with size 2.2 MiB\n",
      "25/06/21 12:49:13 WARN DAGScheduler: Broadcasting large task binary with size 2.2 MiB\n",
      "25/06/21 12:49:20 WARN DAGScheduler: Broadcasting large task binary with size 2.8 MiB\n",
      "25/06/21 12:49:22 WARN DAGScheduler: Broadcasting large task binary with size 2.2 MiB\n",
      "25/06/21 12:49:39 WARN DAGScheduler: Broadcasting large task binary with size 3.3 MiB\n",
      "25/06/21 12:49:41 WARN DAGScheduler: Broadcasting large task binary with size 2.2 MiB\n",
      "25/06/21 12:49:59 WARN DAGScheduler: Broadcasting large task binary with size 2.2 MiB\n",
      "25/06/21 12:50:01 WARN DAGScheduler: Broadcasting large task binary with size 2.2 MiB\n",
      "25/06/21 12:50:03 WARN DAGScheduler: Broadcasting large task binary with size 2.2 MiB\n",
      "25/06/21 12:50:04 WARN DAGScheduler: Broadcasting large task binary with size 2.2 MiB\n",
      "25/06/21 12:50:06 WARN DAGScheduler: Broadcasting large task binary with size 2.2 MiB\n",
      "25/06/21 12:50:06 WARN DAGScheduler: Broadcasting large task binary with size 2.2 MiB\n",
      "25/06/21 12:50:08 WARN DAGScheduler: Broadcasting large task binary with size 2.2 MiB\n",
      "25/06/21 12:50:11 WARN DAGScheduler: Broadcasting large task binary with size 2.2 MiB\n",
      "25/06/21 12:50:13 WARN DAGScheduler: Broadcasting large task binary with size 2.2 MiB\n",
      "25/06/21 12:50:18 WARN DAGScheduler: Broadcasting large task binary with size 2.3 MiB\n",
      "25/06/21 12:50:20 WARN DAGScheduler: Broadcasting large task binary with size 2.2 MiB\n",
      "25/06/21 12:50:27 WARN DAGScheduler: Broadcasting large task binary with size 2.2 MiB\n",
      "25/06/21 12:50:29 WARN DAGScheduler: Broadcasting large task binary with size 2.2 MiB\n",
      "25/06/21 12:50:31 WARN DAGScheduler: Broadcasting large task binary with size 2.2 MiB\n",
      "25/06/21 12:50:34 WARN DAGScheduler: Broadcasting large task binary with size 2.2 MiB\n",
      "25/06/21 12:50:38 WARN DAGScheduler: Broadcasting large task binary with size 2.3 MiB\n",
      "25/06/21 12:50:44 WARN DAGScheduler: Broadcasting large task binary with size 2.3 MiB\n",
      "25/06/21 12:50:54 WARN DAGScheduler: Broadcasting large task binary with size 2.5 MiB\n",
      "25/06/21 12:51:09 WARN DAGScheduler: Broadcasting large task binary with size 2.9 MiB\n",
      "25/06/21 12:51:26 WARN DAGScheduler: Broadcasting large task binary with size 3.4 MiB\n",
      "25/06/21 12:51:44 WARN DAGScheduler: Broadcasting large task binary with size 4.4 MiB\n",
      "25/06/21 12:52:07 WARN DAGScheduler: Broadcasting large task binary with size 2.2 MiB\n",
      "25/06/21 12:52:09 WARN DAGScheduler: Broadcasting large task binary with size 2.2 MiB\n",
      "25/06/21 12:52:11 WARN DAGScheduler: Broadcasting large task binary with size 2.1 MiB\n",
      "25/06/21 12:52:11 WARN DAGScheduler: Broadcasting large task binary with size 2.1 MiB\n",
      "25/06/21 12:56:16 WARN DAGScheduler: Broadcasting large task binary with size 2.2 MiB\n",
      "25/06/21 12:56:17 WARN DAGScheduler: Broadcasting large task binary with size 2.2 MiB\n",
      "25/06/21 12:56:17 WARN DAGScheduler: Broadcasting large task binary with size 2.2 MiB\n",
      "25/06/21 12:56:19 WARN DAGScheduler: Broadcasting large task binary with size 2.2 MiB\n",
      "25/06/21 12:56:19 WARN DAGScheduler: Broadcasting large task binary with size 2.2 MiB\n",
      "25/06/21 12:56:22 WARN DAGScheduler: Broadcasting large task binary with size 2.2 MiB\n",
      "25/06/21 12:56:24 WARN DAGScheduler: Broadcasting large task binary with size 2.2 MiB\n",
      "25/06/21 12:56:26 WARN DAGScheduler: Broadcasting large task binary with size 2.2 MiB\n",
      "25/06/21 12:56:29 WARN DAGScheduler: Broadcasting large task binary with size 2.2 MiB\n",
      "25/06/21 12:56:31 WARN DAGScheduler: Broadcasting large task binary with size 2.2 MiB\n",
      "25/06/21 12:56:34 WARN DAGScheduler: Broadcasting large task binary with size 2.2 MiB\n",
      "25/06/21 12:56:36 WARN DAGScheduler: Broadcasting large task binary with size 2.2 MiB\n",
      "25/06/21 12:56:39 WARN DAGScheduler: Broadcasting large task binary with size 2.2 MiB\n",
      "25/06/21 12:56:41 WARN DAGScheduler: Broadcasting large task binary with size 2.2 MiB\n",
      "25/06/21 12:56:44 WARN DAGScheduler: Broadcasting large task binary with size 2.2 MiB\n",
      "25/06/21 12:56:48 WARN DAGScheduler: Broadcasting large task binary with size 2.2 MiB\n",
      "25/06/21 12:56:52 WARN DAGScheduler: Broadcasting large task binary with size 2.3 MiB\n",
      "25/06/21 12:56:58 WARN DAGScheduler: Broadcasting large task binary with size 2.1 MiB\n",
      "25/06/21 12:57:06 WARN DAGScheduler: Broadcasting large task binary with size 2.3 MiB\n",
      "25/06/21 13:01:06 WARN DAGScheduler: Broadcasting large task binary with size 2.2 MiB\n",
      "25/06/21 13:01:14 WARN DAGScheduler: Broadcasting large task binary with size 2.5 MiB\n",
      "25/06/21 13:01:17 WARN DAGScheduler: Broadcasting large task binary with size 2.2 MiB\n",
      "25/06/21 13:01:17 WARN DAGScheduler: Broadcasting large task binary with size 2.2 MiB\n",
      "25/06/21 13:01:24 WARN DAGScheduler: Broadcasting large task binary with size 2.2 MiB\n",
      "25/06/21 13:01:31 WARN DAGScheduler: Broadcasting large task binary with size 2.8 MiB\n",
      "25/06/21 13:01:33 WARN DAGScheduler: Broadcasting large task binary with size 2.2 MiB\n",
      "25/06/21 13:01:49 WARN DAGScheduler: Broadcasting large task binary with size 3.3 MiB\n",
      "25/06/21 13:01:51 WARN DAGScheduler: Broadcasting large task binary with size 2.2 MiB\n",
      "25/06/21 13:02:09 WARN DAGScheduler: Broadcasting large task binary with size 2.2 MiB\n",
      "25/06/21 13:02:11 WARN DAGScheduler: Broadcasting large task binary with size 2.2 MiB\n",
      "25/06/21 13:02:13 WARN DAGScheduler: Broadcasting large task binary with size 2.2 MiB\n",
      "25/06/21 13:02:14 WARN DAGScheduler: Broadcasting large task binary with size 2.2 MiB\n",
      "25/06/21 13:02:16 WARN DAGScheduler: Broadcasting large task binary with size 2.2 MiB\n",
      "25/06/21 13:02:16 WARN DAGScheduler: Broadcasting large task binary with size 2.2 MiB\n",
      "25/06/21 13:02:18 WARN DAGScheduler: Broadcasting large task binary with size 2.2 MiB\n",
      "25/06/21 13:02:21 WARN DAGScheduler: Broadcasting large task binary with size 2.2 MiB\n",
      "25/06/21 13:02:24 WARN DAGScheduler: Broadcasting large task binary with size 2.2 MiB\n",
      "25/06/21 13:02:28 WARN DAGScheduler: Broadcasting large task binary with size 2.3 MiB\n",
      "25/06/21 13:02:31 WARN DAGScheduler: Broadcasting large task binary with size 2.2 MiB\n",
      "25/06/21 13:02:37 WARN DAGScheduler: Broadcasting large task binary with size 2.2 MiB\n",
      "25/06/21 13:02:40 WARN DAGScheduler: Broadcasting large task binary with size 2.2 MiB\n",
      "25/06/21 13:02:42 WARN DAGScheduler: Broadcasting large task binary with size 2.2 MiB\n",
      "25/06/21 13:02:45 WARN DAGScheduler: Broadcasting large task binary with size 2.2 MiB\n",
      "25/06/21 13:02:49 WARN DAGScheduler: Broadcasting large task binary with size 2.3 MiB\n",
      "25/06/21 13:02:55 WARN DAGScheduler: Broadcasting large task binary with size 2.3 MiB\n",
      "25/06/21 13:03:05 WARN DAGScheduler: Broadcasting large task binary with size 2.5 MiB\n",
      "25/06/21 13:03:20 WARN DAGScheduler: Broadcasting large task binary with size 2.9 MiB\n",
      "25/06/21 13:03:37 WARN DAGScheduler: Broadcasting large task binary with size 3.5 MiB\n",
      "25/06/21 13:03:56 WARN DAGScheduler: Broadcasting large task binary with size 4.5 MiB\n",
      "25/06/21 13:04:19 WARN DAGScheduler: Broadcasting large task binary with size 2.2 MiB\n",
      "25/06/21 13:04:21 WARN DAGScheduler: Broadcasting large task binary with size 2.2 MiB\n",
      "25/06/21 13:04:23 WARN DAGScheduler: Broadcasting large task binary with size 2.1 MiB\n",
      "25/06/21 13:04:23 WARN DAGScheduler: Broadcasting large task binary with size 2.1 MiB\n",
      "25/06/21 13:08:32 WARN DAGScheduler: Broadcasting large task binary with size 2.2 MiB\n",
      "25/06/21 13:08:33 WARN DAGScheduler: Broadcasting large task binary with size 2.2 MiB\n",
      "25/06/21 13:08:34 WARN DAGScheduler: Broadcasting large task binary with size 2.2 MiB\n",
      "25/06/21 13:08:36 WARN DAGScheduler: Broadcasting large task binary with size 2.2 MiB\n",
      "25/06/21 13:08:36 WARN DAGScheduler: Broadcasting large task binary with size 2.2 MiB\n",
      "25/06/21 13:08:38 WARN DAGScheduler: Broadcasting large task binary with size 2.2 MiB\n",
      "25/06/21 13:08:41 WARN DAGScheduler: Broadcasting large task binary with size 2.2 MiB\n",
      "25/06/21 13:08:43 WARN DAGScheduler: Broadcasting large task binary with size 2.2 MiB\n",
      "25/06/21 13:08:46 WARN DAGScheduler: Broadcasting large task binary with size 2.2 MiB\n",
      "25/06/21 13:08:49 WARN DAGScheduler: Broadcasting large task binary with size 2.2 MiB\n",
      "25/06/21 13:08:51 WARN DAGScheduler: Broadcasting large task binary with size 2.2 MiB\n",
      "25/06/21 13:08:54 WARN DAGScheduler: Broadcasting large task binary with size 2.2 MiB\n",
      "25/06/21 13:08:57 WARN DAGScheduler: Broadcasting large task binary with size 2.2 MiB\n",
      "25/06/21 13:08:59 WARN DAGScheduler: Broadcasting large task binary with size 2.2 MiB\n",
      "25/06/21 13:09:03 WARN DAGScheduler: Broadcasting large task binary with size 2.2 MiB\n",
      "25/06/21 13:09:06 WARN DAGScheduler: Broadcasting large task binary with size 2.2 MiB\n",
      "25/06/21 13:09:10 WARN DAGScheduler: Broadcasting large task binary with size 2.3 MiB\n",
      "25/06/21 13:09:19 WARN DAGScheduler: Broadcasting large task binary with size 2.1 MiB\n",
      "25/06/21 13:09:25 WARN DAGScheduler: Broadcasting large task binary with size 2.3 MiB\n",
      "25/06/21 13:13:39 WARN DAGScheduler: Broadcasting large task binary with size 2.2 MiB\n",
      "25/06/21 13:13:48 WARN DAGScheduler: Broadcasting large task binary with size 2.5 MiB\n",
      "25/06/21 13:13:51 WARN DAGScheduler: Broadcasting large task binary with size 2.2 MiB\n",
      "25/06/21 13:13:53 WARN DAGScheduler: Broadcasting large task binary with size 2.2 MiB\n",
      "25/06/21 13:14:00 WARN DAGScheduler: Broadcasting large task binary with size 2.2 MiB\n",
      "25/06/21 13:14:07 WARN DAGScheduler: Broadcasting large task binary with size 2.8 MiB\n",
      "25/06/21 13:14:09 WARN DAGScheduler: Broadcasting large task binary with size 2.2 MiB\n",
      "25/06/21 13:14:27 WARN DAGScheduler: Broadcasting large task binary with size 3.3 MiB\n",
      "25/06/21 13:14:29 WARN DAGScheduler: Broadcasting large task binary with size 2.2 MiB\n",
      "25/06/21 13:14:49 WARN DAGScheduler: Broadcasting large task binary with size 2.2 MiB\n",
      "25/06/21 13:14:51 WARN DAGScheduler: Broadcasting large task binary with size 2.2 MiB\n",
      "25/06/21 13:14:53 WARN DAGScheduler: Broadcasting large task binary with size 2.2 MiB\n",
      "25/06/21 13:14:54 WARN DAGScheduler: Broadcasting large task binary with size 2.2 MiB\n",
      "25/06/21 13:14:56 WARN DAGScheduler: Broadcasting large task binary with size 2.2 MiB\n",
      "25/06/21 13:14:56 WARN DAGScheduler: Broadcasting large task binary with size 2.2 MiB\n",
      "25/06/21 13:14:58 WARN DAGScheduler: Broadcasting large task binary with size 2.2 MiB\n",
      "25/06/21 13:15:02 WARN DAGScheduler: Broadcasting large task binary with size 2.2 MiB\n",
      "25/06/21 13:15:04 WARN DAGScheduler: Broadcasting large task binary with size 2.2 MiB\n",
      "25/06/21 13:15:08 WARN DAGScheduler: Broadcasting large task binary with size 2.3 MiB\n",
      "25/06/21 13:15:11 WARN DAGScheduler: Broadcasting large task binary with size 2.2 MiB\n",
      "25/06/21 13:15:17 WARN DAGScheduler: Broadcasting large task binary with size 2.2 MiB\n",
      "25/06/21 13:15:20 WARN DAGScheduler: Broadcasting large task binary with size 2.2 MiB\n",
      "25/06/21 13:15:22 WARN DAGScheduler: Broadcasting large task binary with size 2.2 MiB\n",
      "25/06/21 13:15:25 WARN DAGScheduler: Broadcasting large task binary with size 2.2 MiB\n",
      "25/06/21 13:15:29 WARN DAGScheduler: Broadcasting large task binary with size 2.3 MiB\n",
      "25/06/21 13:15:35 WARN DAGScheduler: Broadcasting large task binary with size 2.3 MiB\n",
      "25/06/21 13:15:45 WARN DAGScheduler: Broadcasting large task binary with size 2.5 MiB\n",
      "25/06/21 13:16:00 WARN DAGScheduler: Broadcasting large task binary with size 2.9 MiB\n",
      "25/06/21 13:16:17 WARN DAGScheduler: Broadcasting large task binary with size 3.5 MiB\n",
      "25/06/21 13:16:36 WARN DAGScheduler: Broadcasting large task binary with size 4.5 MiB\n",
      "25/06/21 13:16:59 WARN DAGScheduler: Broadcasting large task binary with size 2.2 MiB\n",
      "25/06/21 13:17:01 WARN DAGScheduler: Broadcasting large task binary with size 2.2 MiB\n",
      "25/06/21 13:17:03 WARN DAGScheduler: Broadcasting large task binary with size 2.0 MiB\n",
      "25/06/21 13:17:05 WARN DAGScheduler: Broadcasting large task binary with size 2.0 MiB\n",
      "25/06/21 13:21:14 WARN DAGScheduler: Broadcasting large task binary with size 2.0 MiB\n",
      "25/06/21 13:25:15 WARN DAGScheduler: Broadcasting large task binary with size 2.0 MiB\n",
      "25/06/21 13:29:18 WARN DAGScheduler: Broadcasting large task binary with size 2.0 MiB\n",
      "25/06/21 13:29:21 WARN DAGScheduler: Broadcasting large task binary with size 2.0 MiB\n",
      "25/06/21 13:29:24 WARN DAGScheduler: Broadcasting large task binary with size 2.1 MiB\n",
      "25/06/21 13:29:28 WARN DAGScheduler: Broadcasting large task binary with size 2.1 MiB\n",
      "25/06/21 13:29:34 WARN DAGScheduler: Broadcasting large task binary with size 2.2 MiB\n",
      "25/06/21 13:29:44 WARN DAGScheduler: Broadcasting large task binary with size 2.4 MiB\n",
      "25/06/21 13:29:59 WARN DAGScheduler: Broadcasting large task binary with size 2.7 MiB\n",
      "25/06/21 13:30:15 WARN DAGScheduler: Broadcasting large task binary with size 3.3 MiB\n",
      "25/06/21 13:30:35 WARN DAGScheduler: Broadcasting large task binary with size 4.3 MiB\n",
      "                                                                                \r"
     ]
    }
   ],
   "source": [
    "# Se genera un pipeline con el ensamblador y el modelo\n",
    "pipeline = Pipeline(stages=[assembler, rf])\n",
    "\n",
    "# Se define la cuadrícula de parámetros para la búsqueda\n",
    "paramGrid = ParamGridBuilder() \\\n",
    "    .addGrid(rf.numTrees, [10, 20]) \\\n",
    "    .addGrid(rf.maxDepth, [5, 10]) \\\n",
    "    .build()\n",
    "\n",
    "# Se define el evaluador para la métrica de regresión\n",
    "evaluator = RegressionEvaluator(\n",
    "    labelCol=target_col,\n",
    "    predictionCol=\"prediction\",\n",
    "    metricName=\"rmse\"\n",
    ")\n",
    "\n",
    "# Se configura el CrossValidator\n",
    "cv = CrossValidator(\n",
    "    estimator=pipeline,\n",
    "    estimatorParamMaps=paramGrid,\n",
    "    evaluator=evaluator,\n",
    "    numFolds=3,\n",
    "    parallelism=2,\n",
    "    seed=42\n",
    ")\n",
    "\n",
    "# Se entrena el modelo con validación cruzada\n",
    "cv_model = cv.fit(train_df)\n",
    "\n",
    "# Se obtiene el mejor modelo de la validación cruzada\n",
    "best_model = cv_model.bestModel\n",
    "\n",
    "# Evaluamos el mejor modelo en el conjunto de prueba\n",
    "predictions = best_model.transform(test_df)"
   ]
  },
  {
   "cell_type": "markdown",
   "id": "03c5dac9",
   "metadata": {},
   "source": [
    "### 9. Mostrar los resultados obtenidos (matrices de confusión, curvas ROC, etc.)\n",
    "\n",
    "\n",
    "- Se evalua el mejor modelo con el conjunto de prueba.\n",
    "- Se imprimen los resultados de RMSE."
   ]
  },
  {
   "cell_type": "code",
   "execution_count": 48,
   "id": "9610db76",
   "metadata": {},
   "outputs": [
    {
     "name": "stderr",
     "output_type": "stream",
     "text": [
      "25/06/21 13:30:58 WARN DAGScheduler: Broadcasting large task binary with size 2041.7 KiB\n",
      "[Stage 1523:=================================================>(1035 + 5) / 1040]\r"
     ]
    },
    {
     "name": "stdout",
     "output_type": "stream",
     "text": [
      "Mejor modelo RMSE en test: 1.6823\n"
     ]
    },
    {
     "name": "stderr",
     "output_type": "stream",
     "text": [
      "25/06/21 13:35:02 WARN DAGScheduler: Broadcasting large task binary with size 2042.8 KiB\n",
      "                                                                                \r"
     ]
    }
   ],
   "source": [
    "# Evaluamos el modelo\n",
    "rmse = evaluator.evaluate(predictions)\n",
    "\n",
    "# Imprimimos el RMSE del mejor modelo en el conjunto de prueba\n",
    "print(f\"Mejor modelo RMSE en test: {rmse:.4f}\")"
   ]
  }
 ],
 "metadata": {
  "kernelspec": {
   "display_name": "venv_big_data",
   "language": "python",
   "name": "python3"
  },
  "language_info": {
   "codemirror_mode": {
    "name": "ipython",
    "version": 3
   },
   "file_extension": ".py",
   "mimetype": "text/x-python",
   "name": "python",
   "nbconvert_exporter": "python",
   "pygments_lexer": "ipython3",
   "version": "3.9.22"
  }
 },
 "nbformat": 4,
 "nbformat_minor": 5
}
