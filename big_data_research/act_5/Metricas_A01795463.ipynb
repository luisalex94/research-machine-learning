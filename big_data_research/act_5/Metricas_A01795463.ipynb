{
 "cells": [
  {
   "cell_type": "markdown",
   "id": "941d4834",
   "metadata": {},
   "source": [
    "## Resumen - Actividad 3\n",
    "\n",
    "En esta sección se implementa el código de la actividad 3 de manera compacta para obtener las variables de caracterización identificadas y aplicar los filtros correspondientes.\n",
    "\n",
    "Nota: En esta sección se obtienen las variables de caracterización y da como resultado el DataFrame filtrado con esas variables de caracterización que se buscaban. El análisis ya se hizo anteriormente por lo que no se entrará en detalles en esta actividad ya que no es un requisito y este paso ya fue realizado."
   ]
  },
  {
   "cell_type": "code",
   "execution_count": 16,
   "id": "bd756479",
   "metadata": {},
   "outputs": [
    {
     "name": "stderr",
     "output_type": "stream",
     "text": [
      "                                                                                \r"
     ]
    }
   ],
   "source": [
    "# Importa las librerías necesarias\n",
    "from pyspark.sql import SparkSession\n",
    "\n",
    "# Crea una sesión de Spark\n",
    "spark = SparkSession.builder.appName(\"YellowTripDataAnalysis\").config(\"spark.driver.memory\", \"22g\").getOrCreate()\n",
    "\n",
    "# Leemos el archivo CSV de datos de viajes amarillos\n",
    "df = spark.read.option(\"header\", True).option(\"inferSchema\", True).csv(\"../data/yellow_tripdata/yellow_tripdata_2015-01.csv\")"
   ]
  },
  {
   "cell_type": "code",
   "execution_count": 17,
   "id": "6e13500f",
   "metadata": {},
   "outputs": [
    {
     "name": "stderr",
     "output_type": "stream",
     "text": [
      "[Stage 577:=========================================>             (12 + 4) / 16]\r"
     ]
    },
    {
     "name": "stdout",
     "output_type": "stream",
     "text": [
      "+-------+------------------+------------------+------------------+-------------------+------------------+------------------+------------------+------------------+------------------+------------------+------------------+-------------------+--------------------+------------------+-------------------+---------------------+------------------+\n",
      "|summary|          VendorID|   passenger_count|     trip_distance|   pickup_longitude|   pickup_latitude|        RateCodeID|store_and_fwd_flag| dropoff_longitude|  dropoff_latitude|      payment_type|       fare_amount|              extra|             mta_tax|        tip_amount|       tolls_amount|improvement_surcharge|      total_amount|\n",
      "+-------+------------------+------------------+------------------+-------------------+------------------+------------------+------------------+------------------+------------------+------------------+------------------+-------------------+--------------------+------------------+-------------------+---------------------+------------------+\n",
      "|  count|          12748986|          12748986|          12748986|           12748986|          12748986|          12748986|          12748986|          12748986|          12748986|          12748986|          12748986|           12748986|            12748986|          12748986|           12748986|             12748983|          12748986|\n",
      "|   mean|1.5214373127400094|1.6814908260154964|13.459129611562537| -72.56183777902534| 39.97282304763482|1.0369007386156044|              NULL|-72.60903923063492|  39.9996144802455|1.3867115392549652|11.905659425777182|0.30827895724412907|  0.4977986092384132| 1.853813646041934|0.24349839430354983|   0.2831430789385838|15.108294537379894|\n",
      "| stddev|0.4995402498256227| 1.337923517287465| 9844.094218468368|  10.12510359297296| 5.578690519088367|0.6732239779497601|              NULL|  9.96603703803109| 5.487741886619656|  0.49886106350539|10.302537135952251| 0.5916643112912936|0.035342286709831416|1106.4323141838956| 1.5271714003797978|   0.0690863293583079|1106.5032467104797|\n",
      "|    min|                 1|                 0|               0.0|-121.92581176757812|               0.0|                 1|                 N|-740.1666870117188|-9.029156684875488|                 1|            -450.0|              -79.0|                -0.5|            -92.42|              -26.0|                  0.0|            -450.3|\n",
      "|    max|                 2|                 9|      1.54200045E7|  78.66265106201172|404.70001220703125|                99|                 Y|  85.2740249633789| 459.5333251953125|                 5|            4008.0|             999.99|                 0.5|         3950588.8|            1450.09|                  0.3|         3950611.6|\n",
      "+-------+------------------+------------------+------------------+-------------------+------------------+------------------+------------------+------------------+------------------+------------------+------------------+-------------------+--------------------+------------------+-------------------+---------------------+------------------+\n",
      "\n"
     ]
    },
    {
     "name": "stderr",
     "output_type": "stream",
     "text": [
      "                                                                                \r"
     ]
    }
   ],
   "source": [
    "df.describe().show()"
   ]
  },
  {
   "cell_type": "code",
   "execution_count": 18,
   "id": "68f01348",
   "metadata": {},
   "outputs": [
    {
     "name": "stdout",
     "output_type": "stream",
     "text": [
      "Número de filas originales: 12748986\n",
      "Número de columnas originales: 19\n"
     ]
    }
   ],
   "source": [
    "# Imprimimos las dimensiones del DataFrame\n",
    "original_num_rows = df.count()\n",
    "original_num_cols = len(df.columns)\n",
    "\n",
    "print(f\"Número de filas originales: {original_num_rows}\")\n",
    "print(f\"Número de columnas originales: {original_num_cols}\")"
   ]
  },
  {
   "cell_type": "code",
   "execution_count": 19,
   "id": "d0509be5",
   "metadata": {},
   "outputs": [],
   "source": [
    "# Generamos un diccionario con los factores de caracterización\n",
    "charact_factor = {\n",
    "    \"passenger_count\": 1e10,\n",
    "    \"trip_distance\": 2.5,\n",
    "    \"payment_type\": 3,\n",
    "    \"total_amount\": 3,\n",
    "    \"tpep_pickup_datetime\": 1e10,\n",
    "    \"tpep_dropoff_datetime\": 1e10,\n",
    "}\n",
    "\n",
    "# Obtenemos una muestra del 5% de los datos originales\n",
    "df_original_sample = df.select(list(charact_factor.keys())).sample(False, 0.05, seed=42)"
   ]
  },
  {
   "cell_type": "code",
   "execution_count": 20,
   "id": "9c4e9dc0",
   "metadata": {},
   "outputs": [
    {
     "name": "stdout",
     "output_type": "stream",
     "text": [
      "Número de filas originales: 12748986\n",
      "Número de columnas originales: 19\n",
      "Número de filas del 5% de los datos originales: 637214\n",
      "Número de columnas del 5% de los datos originales: 6\n"
     ]
    }
   ],
   "source": [
    "# Imprimimos las dimensiones del DataFrame de la muestra\n",
    "original_05_num_rows = df_original_sample.count()\n",
    "original_05_num_cols = len(df_original_sample.columns)\n",
    "\n",
    "print(f\"Número de filas originales: {original_num_rows}\")\n",
    "print(f\"Número de columnas originales: {original_num_cols}\")\n",
    "print(f\"Número de filas del 5% de los datos originales: {original_05_num_rows}\")\n",
    "print(f\"Número de columnas del 5% de los datos originales: {original_05_num_cols}\")"
   ]
  },
  {
   "cell_type": "code",
   "execution_count": 21,
   "id": "0f6e75c4",
   "metadata": {},
   "outputs": [
    {
     "name": "stderr",
     "output_type": "stream",
     "text": [
      "                                                                                \r"
     ]
    }
   ],
   "source": [
    "# Importa las librerías necesarias\n",
    "from pyspark.sql.functions import col, hour, when, unix_timestamp\n",
    "from pyspark.sql.types import IntegerType\n",
    "\n",
    "# Copiamos el DataFrame original a otro DataFrame\n",
    "df_sample = df_original_sample.select(\"*\")\n",
    "\n",
    "# Se eliminan las filas con valores nulos\n",
    "df_sample = df_sample.dropna()\n",
    "\n",
    "# Se crea la columna trip_duration\n",
    "df_sample = df_sample.withColumn(\n",
    "    \"trip_duration\",\n",
    "    (unix_timestamp(\"tpep_dropoff_datetime\") - unix_timestamp(\"tpep_pickup_datetime\")) / 60,\n",
    ")\n",
    "\n",
    "# Se agrega la columna trip_duration al diccionario charact_factor\n",
    "charact_factor['trip_duration'] = 2\n",
    "\n",
    "# Se extraen las horas de las columnas tpep_pickup_datetime y tpep_dropoff_datetime\n",
    "df_sample = df_sample.withColumn(\"tpep_pickup_datetime\", hour(\"tpep_pickup_datetime\"))\n",
    "df_sample = df_sample.withColumn(\"tpep_dropoff_datetime\", hour(\"tpep_dropoff_datetime\"))\n",
    "\n",
    "# Se eliminan los valores negativos y ceros de las columnas trip_distance, \n",
    "# total_amount, passenger_count y trip_duration\n",
    "for colname in [\"trip_distance\", \"total_amount\", \"passenger_count\", \"trip_duration\"]:\n",
    "    df_sample = df_sample.filter(col(colname) > 0)\n",
    "\n",
    "# Se crea la columna trip_distance_bind\n",
    "df_sample = df_sample.withColumn(\n",
    "    \"trip_distance_bind\",\n",
    "    when(col(\"trip_distance\") <= 3.0, 1)\n",
    "    .when((col(\"trip_distance\") > 3.0) & (col(\"trip_distance\") <= 10.0), 2)\n",
    "    .when(col(\"trip_distance\") > 10.0, 3)\n",
    ")\n",
    "\n",
    "# Se crea la columna total_amount_bind\n",
    "df_sample = df_sample.withColumn(\n",
    "    \"total_amount_bind\",\n",
    "    when(col(\"total_amount\") <= 10.0, 1)\n",
    "    .when((col(\"total_amount\") > 10.0) & (col(\"total_amount\") <= 20.0), 2)\n",
    "    .when(col(\"total_amount\") > 20.0, 3)\n",
    ")\n",
    "\n",
    "# Se crea la columna passenger_count_bind\n",
    "df_sample = df_sample.withColumn(\n",
    "    \"passenger_count_bind\",\n",
    "    when(col(\"passenger_count\") <= 2.0, 1)\n",
    "    .when((col(\"passenger_count\") > 2.0) & (col(\"passenger_count\") <= 6.0), 2)\n",
    ")\n",
    "\n",
    "# Se crea la columna trip_duration_bind\n",
    "df_sample = df_sample.withColumn(\n",
    "    \"trip_duration_bind\",\n",
    "    when(col(\"trip_duration\") <= 10.0, 1)\n",
    "    .when((col(\"trip_duration\") > 10.0) & (col(\"trip_duration\") <= 20.0), 2)\n",
    "    .when(col(\"trip_duration\") > 20.0, 3)\n",
    ")\n",
    "\n",
    "# Se crea la columna payment_type_bind\n",
    "df_sample = df_sample.withColumn(\n",
    "    \"payment_type_bind\",\n",
    "    when(col(\"payment_type\") == 1.0, 1)\n",
    "    .when((col(\"payment_type\") > 1.0) & (col(\"payment_type\") <= 6.0), 2)\n",
    ")\n",
    "\n",
    "# Se vuelven a eliminar las filas con valores nulos\n",
    "df_sample = df_sample.dropna()\n",
    "\n",
    "# Se convierten las columnas binned a tipo Integer\n",
    "for binned_col in [\n",
    "    \"trip_distance_bind\",\n",
    "    \"trip_duration_bind\",\n",
    "    \"total_amount_bind\",\n",
    "    \"passenger_count_bind\",\n",
    "    \"payment_type_bind\",\n",
    "]:\n",
    "    df_sample = df_sample.withColumn(binned_col, col(binned_col).cast(IntegerType()))\n",
    "\n",
    "# Se eliminan los outliers de las columnas numéricas\n",
    "for col_name, factor in charact_factor.items():\n",
    "    quantiles = df_sample.approxQuantile(col_name, [0.25, 0.75], 0.0)\n",
    "    q1, q3 = quantiles\n",
    "    iqr = q3 - q1\n",
    "    lower = q1 - factor * iqr\n",
    "    upper = q3 + factor * iqr\n",
    "    df_sample = df_sample.filter((col(col_name) >= lower) & (col(col_name) <= upper))\n"
   ]
  },
  {
   "cell_type": "code",
   "execution_count": 22,
   "id": "6cb6dd01",
   "metadata": {},
   "outputs": [
    {
     "name": "stderr",
     "output_type": "stream",
     "text": [
      "[Stage 600:>                                                      (0 + 16) / 16]\r"
     ]
    },
    {
     "name": "stdout",
     "output_type": "stream",
     "text": [
      "Número de filas originales: 12748986\n",
      "Número de columnas originales: 19\n",
      "Número de filas del 5% de los datos originales: 637214\n",
      "Número de columnas del 5% de los datos originales: 6\n",
      "Número de filas del 5%  después de la limpieza: 579787\n",
      "Número de columnas del 5% después de la limpieza: 12\n"
     ]
    },
    {
     "name": "stderr",
     "output_type": "stream",
     "text": [
      "                                                                                \r"
     ]
    }
   ],
   "source": [
    "# Imprimimos las dimensiones del DataFrame después de la limpieza\n",
    "cleaned_05_num_rows = df_sample.count()\n",
    "cleaned_05_num_cols = len(df_sample.columns)\n",
    "\n",
    "print(f\"Número de filas originales: {original_num_rows}\")\n",
    "print(f\"Número de columnas originales: {original_num_cols}\")\n",
    "print(f\"Número de filas del 5% de los datos originales: {original_05_num_rows}\")\n",
    "print(f\"Número de columnas del 5% de los datos originales: {original_05_num_cols}\")\n",
    "print(f\"Número de filas del 5%  después de la limpieza: {cleaned_05_num_rows}\")\n",
    "print(f\"Número de columnas del 5% después de la limpieza: {cleaned_05_num_cols}\")"
   ]
  },
  {
   "cell_type": "code",
   "execution_count": 23,
   "id": "3fe5b0eb",
   "metadata": {},
   "outputs": [
    {
     "name": "stdout",
     "output_type": "stream",
     "text": [
      "+---------------+-------------+------------+------------+--------------------+---------------------+------------------+------------------+-----------------+--------------------+------------------+-----------------+\n",
      "|passenger_count|trip_distance|payment_type|total_amount|tpep_pickup_datetime|tpep_dropoff_datetime|     trip_duration|trip_distance_bind|total_amount_bind|passenger_count_bind|trip_duration_bind|payment_type_bind|\n",
      "+---------------+-------------+------------+------------+--------------------+---------------------+------------------+------------------+-----------------+--------------------+------------------+-----------------+\n",
      "|              5|         2.83|           2|        14.3|                  19|                   19|15.333333333333334|                 1|                2|                   2|                 2|                2|\n",
      "|              1|          3.0|           2|        12.8|                  14|                   14|13.116666666666667|                 1|                2|                   1|                 2|                2|\n",
      "|              2|         1.18|           1|        13.4|                  14|                   14|15.766666666666667|                 1|                2|                   1|                 2|                1|\n",
      "|              1|          3.5|           1|       18.95|                  12|                   12|18.583333333333332|                 2|                2|                   1|                 2|                1|\n",
      "|              1|          1.0|           1|        8.76|                  12|                   12| 7.066666666666666|                 1|                1|                   1|                 1|                1|\n",
      "+---------------+-------------+------------+------------+--------------------+---------------------+------------------+------------------+-----------------+--------------------+------------------+-----------------+\n",
      "only showing top 5 rows\n",
      "\n"
     ]
    }
   ],
   "source": [
    "df_sample.show(5)"
   ]
  },
  {
   "cell_type": "code",
   "execution_count": 24,
   "id": "935345aa",
   "metadata": {},
   "outputs": [
    {
     "name": "stderr",
     "output_type": "stream",
     "text": [
      "                                                                                \r"
     ]
    },
    {
     "name": "stdout",
     "output_type": "stream",
     "text": [
      "Combinación: (1, 1, 1, 1) / iteración: 1, Proporción: 0.1930\n"
     ]
    },
    {
     "name": "stderr",
     "output_type": "stream",
     "text": [
      "                                                                                \r"
     ]
    },
    {
     "name": "stdout",
     "output_type": "stream",
     "text": [
      "Combinación: (1, 1, 1, 2) / iteración: 2, Proporción: 0.0327\n"
     ]
    },
    {
     "name": "stderr",
     "output_type": "stream",
     "text": [
      "                                                                                \r"
     ]
    },
    {
     "name": "stdout",
     "output_type": "stream",
     "text": [
      "Combinación: (1, 1, 2, 1) / iteración: 3, Proporción: 0.1954\n"
     ]
    },
    {
     "name": "stderr",
     "output_type": "stream",
     "text": [
      "                                                                                \r"
     ]
    },
    {
     "name": "stdout",
     "output_type": "stream",
     "text": [
      "Combinación: (1, 1, 2, 2) / iteración: 4, Proporción: 0.0362\n"
     ]
    },
    {
     "name": "stderr",
     "output_type": "stream",
     "text": [
      "                                                                                \r"
     ]
    },
    {
     "name": "stdout",
     "output_type": "stream",
     "text": [
      "Combinación: (1, 2, 1, 1) / iteración: 5, Proporción: 0.0000\n"
     ]
    },
    {
     "name": "stderr",
     "output_type": "stream",
     "text": [
      "                                                                                \r"
     ]
    },
    {
     "name": "stdout",
     "output_type": "stream",
     "text": [
      "Combinación: (1, 2, 1, 2) / iteración: 6, Proporción: 0.0000\n"
     ]
    },
    {
     "name": "stderr",
     "output_type": "stream",
     "text": [
      "                                                                                \r"
     ]
    },
    {
     "name": "stdout",
     "output_type": "stream",
     "text": [
      "Combinación: (1, 2, 2, 1) / iteración: 7, Proporción: 0.0001\n"
     ]
    },
    {
     "name": "stderr",
     "output_type": "stream",
     "text": [
      "                                                                                \r"
     ]
    },
    {
     "name": "stdout",
     "output_type": "stream",
     "text": [
      "Combinación: (1, 2, 2, 2) / iteración: 8, Proporción: 0.0000\n"
     ]
    },
    {
     "name": "stderr",
     "output_type": "stream",
     "text": [
      "                                                                                \r"
     ]
    },
    {
     "name": "stdout",
     "output_type": "stream",
     "text": [
      "Combinación: (1, 3, 1, 1) / iteración: 9, Proporción: 0.0000\n"
     ]
    },
    {
     "name": "stderr",
     "output_type": "stream",
     "text": [
      "                                                                                \r"
     ]
    },
    {
     "name": "stdout",
     "output_type": "stream",
     "text": [
      "Combinación: (1, 3, 1, 2) / iteración: 10, Proporción: 0.0000\n"
     ]
    },
    {
     "name": "stderr",
     "output_type": "stream",
     "text": [
      "                                                                                \r"
     ]
    },
    {
     "name": "stdout",
     "output_type": "stream",
     "text": [
      "Combinación: (1, 3, 2, 1) / iteración: 11, Proporción: 0.0000\n"
     ]
    },
    {
     "name": "stderr",
     "output_type": "stream",
     "text": [
      "                                                                                \r"
     ]
    },
    {
     "name": "stdout",
     "output_type": "stream",
     "text": [
      "Combinación: (1, 3, 2, 2) / iteración: 12, Proporción: 0.0000\n"
     ]
    },
    {
     "name": "stderr",
     "output_type": "stream",
     "text": [
      "                                                                                \r"
     ]
    },
    {
     "name": "stdout",
     "output_type": "stream",
     "text": [
      "Combinación: (2, 1, 1, 1) / iteración: 13, Proporción: 0.2218\n"
     ]
    },
    {
     "name": "stderr",
     "output_type": "stream",
     "text": [
      "                                                                                \r"
     ]
    },
    {
     "name": "stdout",
     "output_type": "stream",
     "text": [
      "Combinación: (2, 1, 1, 2) / iteración: 14, Proporción: 0.0384\n"
     ]
    },
    {
     "name": "stderr",
     "output_type": "stream",
     "text": [
      "                                                                                \r"
     ]
    },
    {
     "name": "stdout",
     "output_type": "stream",
     "text": [
      "Combinación: (2, 1, 2, 1) / iteración: 15, Proporción: 0.0778\n"
     ]
    },
    {
     "name": "stderr",
     "output_type": "stream",
     "text": [
      "                                                                                \r"
     ]
    },
    {
     "name": "stdout",
     "output_type": "stream",
     "text": [
      "Combinación: (2, 1, 2, 2) / iteración: 16, Proporción: 0.0154\n"
     ]
    },
    {
     "name": "stderr",
     "output_type": "stream",
     "text": [
      "                                                                                \r"
     ]
    },
    {
     "name": "stdout",
     "output_type": "stream",
     "text": [
      "Combinación: (2, 2, 1, 1) / iteración: 17, Proporción: 0.0463\n"
     ]
    },
    {
     "name": "stderr",
     "output_type": "stream",
     "text": [
      "                                                                                \r"
     ]
    },
    {
     "name": "stdout",
     "output_type": "stream",
     "text": [
      "Combinación: (2, 2, 1, 2) / iteración: 18, Proporción: 0.0084\n"
     ]
    },
    {
     "name": "stderr",
     "output_type": "stream",
     "text": [
      "                                                                                \r"
     ]
    },
    {
     "name": "stdout",
     "output_type": "stream",
     "text": [
      "Combinación: (2, 2, 2, 1) / iteración: 19, Proporción: 0.0366\n"
     ]
    },
    {
     "name": "stderr",
     "output_type": "stream",
     "text": [
      "                                                                                \r"
     ]
    },
    {
     "name": "stdout",
     "output_type": "stream",
     "text": [
      "Combinación: (2, 2, 2, 2) / iteración: 20, Proporción: 0.0074\n"
     ]
    },
    {
     "name": "stderr",
     "output_type": "stream",
     "text": [
      "                                                                                \r"
     ]
    },
    {
     "name": "stdout",
     "output_type": "stream",
     "text": [
      "Combinación: (2, 3, 1, 1) / iteración: 21, Proporción: 0.0000\n"
     ]
    },
    {
     "name": "stderr",
     "output_type": "stream",
     "text": [
      "                                                                                \r"
     ]
    },
    {
     "name": "stdout",
     "output_type": "stream",
     "text": [
      "Combinación: (2, 3, 1, 2) / iteración: 22, Proporción: 0.0000\n"
     ]
    },
    {
     "name": "stderr",
     "output_type": "stream",
     "text": [
      "                                                                                \r"
     ]
    },
    {
     "name": "stdout",
     "output_type": "stream",
     "text": [
      "Combinación: (2, 3, 2, 1) / iteración: 23, Proporción: 0.0000\n"
     ]
    },
    {
     "name": "stderr",
     "output_type": "stream",
     "text": [
      "                                                                                \r"
     ]
    },
    {
     "name": "stdout",
     "output_type": "stream",
     "text": [
      "Combinación: (2, 3, 2, 2) / iteración: 24, Proporción: 0.0000\n"
     ]
    },
    {
     "name": "stderr",
     "output_type": "stream",
     "text": [
      "                                                                                \r"
     ]
    },
    {
     "name": "stdout",
     "output_type": "stream",
     "text": [
      "Combinación: (3, 1, 1, 1) / iteración: 25, Proporción: 0.0038\n"
     ]
    },
    {
     "name": "stderr",
     "output_type": "stream",
     "text": [
      "                                                                                \r"
     ]
    },
    {
     "name": "stdout",
     "output_type": "stream",
     "text": [
      "Combinación: (3, 1, 1, 2) / iteración: 26, Proporción: 0.0006\n"
     ]
    },
    {
     "name": "stderr",
     "output_type": "stream",
     "text": [
      "                                                                                \r"
     ]
    },
    {
     "name": "stdout",
     "output_type": "stream",
     "text": [
      "Combinación: (3, 1, 2, 1) / iteración: 27, Proporción: 0.0001\n"
     ]
    },
    {
     "name": "stderr",
     "output_type": "stream",
     "text": [
      "                                                                                \r"
     ]
    },
    {
     "name": "stdout",
     "output_type": "stream",
     "text": [
      "Combinación: (3, 1, 2, 2) / iteración: 28, Proporción: 0.0000\n"
     ]
    },
    {
     "name": "stderr",
     "output_type": "stream",
     "text": [
      "                                                                                \r"
     ]
    },
    {
     "name": "stdout",
     "output_type": "stream",
     "text": [
      "Combinación: (3, 2, 1, 1) / iteración: 29, Proporción: 0.0586\n"
     ]
    },
    {
     "name": "stderr",
     "output_type": "stream",
     "text": [
      "                                                                                \r"
     ]
    },
    {
     "name": "stdout",
     "output_type": "stream",
     "text": [
      "Combinación: (3, 2, 1, 2) / iteración: 30, Proporción: 0.0102\n"
     ]
    },
    {
     "name": "stderr",
     "output_type": "stream",
     "text": [
      "                                                                                \r"
     ]
    },
    {
     "name": "stdout",
     "output_type": "stream",
     "text": [
      "Combinación: (3, 2, 2, 1) / iteración: 31, Proporción: 0.0141\n"
     ]
    },
    {
     "name": "stderr",
     "output_type": "stream",
     "text": [
      "                                                                                \r"
     ]
    },
    {
     "name": "stdout",
     "output_type": "stream",
     "text": [
      "Combinación: (3, 2, 2, 2) / iteración: 32, Proporción: 0.0029\n"
     ]
    },
    {
     "name": "stderr",
     "output_type": "stream",
     "text": [
      "                                                                                \r"
     ]
    },
    {
     "name": "stdout",
     "output_type": "stream",
     "text": [
      "Combinación: (3, 3, 1, 1) / iteración: 33, Proporción: 0.0000\n"
     ]
    },
    {
     "name": "stderr",
     "output_type": "stream",
     "text": [
      "                                                                                \r"
     ]
    },
    {
     "name": "stdout",
     "output_type": "stream",
     "text": [
      "Combinación: (3, 3, 1, 2) / iteración: 34, Proporción: 0.0000\n"
     ]
    },
    {
     "name": "stderr",
     "output_type": "stream",
     "text": [
      "                                                                                \r"
     ]
    },
    {
     "name": "stdout",
     "output_type": "stream",
     "text": [
      "Combinación: (3, 3, 2, 1) / iteración: 35, Proporción: 0.0000\n"
     ]
    },
    {
     "name": "stderr",
     "output_type": "stream",
     "text": [
      "[Stage 712:>                                                      (0 + 16) / 16]\r"
     ]
    },
    {
     "name": "stdout",
     "output_type": "stream",
     "text": [
      "Combinación: (3, 3, 2, 2) / iteración: 36, Proporción: 0.0000\n",
      "Proporción total: 1.0000\n"
     ]
    },
    {
     "name": "stderr",
     "output_type": "stream",
     "text": [
      "                                                                                \r"
     ]
    }
   ],
   "source": [
    "# Importa las librerías necesarias\n",
    "from itertools import product\n",
    "from pyspark.sql.functions import col\n",
    "\n",
    "# Iteraciones de los valores binned\n",
    "iterations = {\n",
    "    \"total_amount_bind\": [1, 2, 3],\n",
    "    \"trip_distance_bind\": [1, 2, 3],\n",
    "    \"payment_type_bind\": [1, 2],\n",
    "    \"passenger_count_bind\": [1, 2]\n",
    "}\n",
    "\n",
    "# Número total de filas\n",
    "total_rows = df_sample.count()\n",
    "\n",
    "# Extracción de las claves y valores del diccionario\n",
    "keys = list(iterations.keys())\n",
    "values = list(iterations.values())\n",
    "\n",
    "# Crear todas las combinaciones posibles de los valores\n",
    "combinations = list(product(*values))\n",
    "\n",
    "# Número de iteración\n",
    "iter_num = 1\n",
    "\n",
    "# Suma total de proporciones\n",
    "total_proportion = 0\n",
    "\n",
    "# Iterar sobre cada combinación\n",
    "for comb in combinations:\n",
    "    # Construir el filtro dinámicamente\n",
    "    condition = (col(keys[0]) == comb[0])\n",
    "    for i in range(1, len(keys)):\n",
    "        condition &= (col(keys[i]) == comb[i])\n",
    "    \n",
    "    # Aplicar el filtro\n",
    "    filtered_rows = df_sample.filter(condition)\n",
    "    \n",
    "    # Contar y calcular proporción\n",
    "    count = filtered_rows.count()\n",
    "    proportion = count / total_rows if total_rows != 0 else 0\n",
    "\n",
    "    print(f\"Combinación: {comb} / iteración: {iter_num}, Proporción: {proportion:.4f}\")\n",
    "    \n",
    "    iter_num += 1\n",
    "    total_proportion += proportion\n",
    "\n",
    "# Mostrar proporción total\n",
    "print(f\"Proporción total: {total_proportion:.4f}\")\n"
   ]
  },
  {
   "cell_type": "code",
   "execution_count": 25,
   "id": "4fa65716",
   "metadata": {},
   "outputs": [
    {
     "name": "stdout",
     "output_type": "stream",
     "text": [
      "Total amount bind ranges:  [(0.0, 10.0), (10.0, 20.0), (20.0, 100.0)]\n",
      "Trip distance bind ranges:  [(0.0, 3.0), (3.0, 10.0), (10.0, 100.0)]\n",
      "Payment type bind ranges:  [(0.0, 1.0), (1.0, 6.0)]\n",
      "Passenger count bind ranges:  [(0.0, 2.0), (2.0, 6.0)]\n",
      "Combinations:  [((0.0, 10.0), (0.0, 3.0), (0.0, 1.0), (0.0, 2.0)), ((0.0, 10.0), (0.0, 3.0), (0.0, 1.0), (2.0, 6.0)), ((0.0, 10.0), (0.0, 3.0), (1.0, 6.0), (0.0, 2.0)), ((0.0, 10.0), (0.0, 3.0), (1.0, 6.0), (2.0, 6.0)), ((0.0, 10.0), (3.0, 10.0), (0.0, 1.0), (0.0, 2.0)), ((0.0, 10.0), (3.0, 10.0), (0.0, 1.0), (2.0, 6.0)), ((0.0, 10.0), (3.0, 10.0), (1.0, 6.0), (0.0, 2.0)), ((0.0, 10.0), (3.0, 10.0), (1.0, 6.0), (2.0, 6.0)), ((0.0, 10.0), (10.0, 100.0), (0.0, 1.0), (0.0, 2.0)), ((0.0, 10.0), (10.0, 100.0), (0.0, 1.0), (2.0, 6.0)), ((0.0, 10.0), (10.0, 100.0), (1.0, 6.0), (0.0, 2.0)), ((0.0, 10.0), (10.0, 100.0), (1.0, 6.0), (2.0, 6.0)), ((10.0, 20.0), (0.0, 3.0), (0.0, 1.0), (0.0, 2.0)), ((10.0, 20.0), (0.0, 3.0), (0.0, 1.0), (2.0, 6.0)), ((10.0, 20.0), (0.0, 3.0), (1.0, 6.0), (0.0, 2.0)), ((10.0, 20.0), (0.0, 3.0), (1.0, 6.0), (2.0, 6.0)), ((10.0, 20.0), (3.0, 10.0), (0.0, 1.0), (0.0, 2.0)), ((10.0, 20.0), (3.0, 10.0), (0.0, 1.0), (2.0, 6.0)), ((10.0, 20.0), (3.0, 10.0), (1.0, 6.0), (0.0, 2.0)), ((10.0, 20.0), (3.0, 10.0), (1.0, 6.0), (2.0, 6.0)), ((10.0, 20.0), (10.0, 100.0), (0.0, 1.0), (0.0, 2.0)), ((10.0, 20.0), (10.0, 100.0), (0.0, 1.0), (2.0, 6.0)), ((10.0, 20.0), (10.0, 100.0), (1.0, 6.0), (0.0, 2.0)), ((10.0, 20.0), (10.0, 100.0), (1.0, 6.0), (2.0, 6.0)), ((20.0, 100.0), (0.0, 3.0), (0.0, 1.0), (0.0, 2.0)), ((20.0, 100.0), (0.0, 3.0), (0.0, 1.0), (2.0, 6.0)), ((20.0, 100.0), (0.0, 3.0), (1.0, 6.0), (0.0, 2.0)), ((20.0, 100.0), (0.0, 3.0), (1.0, 6.0), (2.0, 6.0)), ((20.0, 100.0), (3.0, 10.0), (0.0, 1.0), (0.0, 2.0)), ((20.0, 100.0), (3.0, 10.0), (0.0, 1.0), (2.0, 6.0)), ((20.0, 100.0), (3.0, 10.0), (1.0, 6.0), (0.0, 2.0)), ((20.0, 100.0), (3.0, 10.0), (1.0, 6.0), (2.0, 6.0)), ((20.0, 100.0), (10.0, 100.0), (0.0, 1.0), (0.0, 2.0)), ((20.0, 100.0), (10.0, 100.0), (0.0, 1.0), (2.0, 6.0)), ((20.0, 100.0), (10.0, 100.0), (1.0, 6.0), (0.0, 2.0)), ((20.0, 100.0), (10.0, 100.0), (1.0, 6.0), (2.0, 6.0))]\n"
     ]
    }
   ],
   "source": [
    "# Establece los rangos para las columnas\n",
    "total_amount_bind = [0.0, 10.0, 20.0, 100.0]\n",
    "trip_distance_bind = [0.0, 3.0, 10.0, 100.0]\n",
    "payment_type_bind = [0.0, 1.0, 6.0]\n",
    "passenger_count_bind = [0.0, 2.0, 6.0]\n",
    "\n",
    "# Crea listas para almacenar los rangos de cada columna\n",
    "total_amount_bind_ranges = []\n",
    "trip_distance_bind_ranges = []\n",
    "payment_type_bind_ranges = []\n",
    "passenger_count_bind_ranges = []\n",
    "\n",
    "# Crea los rangos para cada columna\n",
    "for i in range(len(total_amount_bind) - 1):\n",
    "    total_amount_bind_ranges.append((total_amount_bind[i], total_amount_bind[i + 1]))\n",
    "    \n",
    "for i in range(len(trip_distance_bind) - 1):\n",
    "    trip_distance_bind_ranges.append((trip_distance_bind[i], trip_distance_bind[i + 1]))\n",
    "    \n",
    "for i in range(len(payment_type_bind) - 1):\n",
    "    payment_type_bind_ranges.append((payment_type_bind[i], payment_type_bind[i + 1]))\n",
    "    \n",
    "for i in range(len(passenger_count_bind) - 1):\n",
    "    passenger_count_bind_ranges.append((passenger_count_bind[i], passenger_count_bind[i + 1]))\n",
    "\n",
    "# Imprime los rangos de cada columna\n",
    "print(\"Total amount bind ranges: \", total_amount_bind_ranges)\n",
    "print(\"Trip distance bind ranges: \", trip_distance_bind_ranges)\n",
    "print(\"Payment type bind ranges: \", payment_type_bind_ranges)\n",
    "print(\"Passenger count bind ranges: \", passenger_count_bind_ranges)\n",
    "\n",
    "# Crea todas las combinaciones posibles de los rangos\n",
    "combinations = list(product(total_amount_bind_ranges, trip_distance_bind_ranges, payment_type_bind_ranges, passenger_count_bind_ranges))\n",
    "\n",
    "# Imprime las combinaciones\n",
    "print(\"Combinations: \", combinations)"
   ]
  },
  {
   "cell_type": "code",
   "execution_count": 26,
   "id": "550e0eb1",
   "metadata": {},
   "outputs": [
    {
     "name": "stderr",
     "output_type": "stream",
     "text": [
      "                                                                                \r"
     ]
    },
    {
     "name": "stdout",
     "output_type": "stream",
     "text": [
      "Porcentaje: 0.18 / combinación: ((0.0, 10.0), (0.0, 3.0), (0.0, 1.0), (0.0, 2.0)) / iteración: 1 / proporción: 0.1753\n"
     ]
    },
    {
     "name": "stderr",
     "output_type": "stream",
     "text": [
      "                                                                                \r"
     ]
    },
    {
     "name": "stdout",
     "output_type": "stream",
     "text": [
      "Combination accepted\n"
     ]
    },
    {
     "name": "stderr",
     "output_type": "stream",
     "text": [
      "                                                                                \r"
     ]
    },
    {
     "name": "stdout",
     "output_type": "stream",
     "text": [
      "Porcentaje: 0.21 / combinación: ((0.0, 10.0), (0.0, 3.0), (0.0, 1.0), (2.0, 6.0)) / iteración: 2 / proporción: 0.0298\n"
     ]
    },
    {
     "name": "stderr",
     "output_type": "stream",
     "text": [
      "                                                                                \r"
     ]
    },
    {
     "name": "stdout",
     "output_type": "stream",
     "text": [
      "Porcentaje: 0.38 / combinación: ((0.0, 10.0), (0.0, 3.0), (1.0, 6.0), (0.0, 2.0)) / iteración: 3 / proporción: 0.1786\n"
     ]
    },
    {
     "name": "stderr",
     "output_type": "stream",
     "text": [
      "                                                                                \r"
     ]
    },
    {
     "name": "stdout",
     "output_type": "stream",
     "text": [
      "Combination accepted\n"
     ]
    },
    {
     "name": "stderr",
     "output_type": "stream",
     "text": [
      "                                                                                \r"
     ]
    },
    {
     "name": "stdout",
     "output_type": "stream",
     "text": [
      "Porcentaje: 0.42 / combinación: ((0.0, 10.0), (0.0, 3.0), (1.0, 6.0), (2.0, 6.0)) / iteración: 4 / proporción: 0.0330\n"
     ]
    },
    {
     "name": "stderr",
     "output_type": "stream",
     "text": [
      "                                                                                \r"
     ]
    },
    {
     "name": "stdout",
     "output_type": "stream",
     "text": [
      "Porcentaje: 0.42 / combinación: ((0.0, 10.0), (3.0, 10.0), (0.0, 1.0), (0.0, 2.0)) / iteración: 5 / proporción: 0.0000\n"
     ]
    },
    {
     "name": "stderr",
     "output_type": "stream",
     "text": [
      "                                                                                \r"
     ]
    },
    {
     "name": "stdout",
     "output_type": "stream",
     "text": [
      "Porcentaje: 0.42 / combinación: ((0.0, 10.0), (3.0, 10.0), (0.0, 1.0), (2.0, 6.0)) / iteración: 6 / proporción: 0.0000\n"
     ]
    },
    {
     "name": "stderr",
     "output_type": "stream",
     "text": [
      "                                                                                \r"
     ]
    },
    {
     "name": "stdout",
     "output_type": "stream",
     "text": [
      "Porcentaje: 0.42 / combinación: ((0.0, 10.0), (3.0, 10.0), (1.0, 6.0), (0.0, 2.0)) / iteración: 7 / proporción: 0.0002\n"
     ]
    },
    {
     "name": "stderr",
     "output_type": "stream",
     "text": [
      "                                                                                \r"
     ]
    },
    {
     "name": "stdout",
     "output_type": "stream",
     "text": [
      "Porcentaje: 0.42 / combinación: ((0.0, 10.0), (3.0, 10.0), (1.0, 6.0), (2.0, 6.0)) / iteración: 8 / proporción: 0.0000\n"
     ]
    },
    {
     "name": "stderr",
     "output_type": "stream",
     "text": [
      "                                                                                \r"
     ]
    },
    {
     "name": "stdout",
     "output_type": "stream",
     "text": [
      "Porcentaje: 0.42 / combinación: ((0.0, 10.0), (10.0, 100.0), (0.0, 1.0), (0.0, 2.0)) / iteración: 9 / proporción: 0.0000\n"
     ]
    },
    {
     "name": "stderr",
     "output_type": "stream",
     "text": [
      "                                                                                \r"
     ]
    },
    {
     "name": "stdout",
     "output_type": "stream",
     "text": [
      "Porcentaje: 0.42 / combinación: ((0.0, 10.0), (10.0, 100.0), (0.0, 1.0), (2.0, 6.0)) / iteración: 10 / proporción: 0.0000\n"
     ]
    },
    {
     "name": "stderr",
     "output_type": "stream",
     "text": [
      "                                                                                \r"
     ]
    },
    {
     "name": "stdout",
     "output_type": "stream",
     "text": [
      "Porcentaje: 0.42 / combinación: ((0.0, 10.0), (10.0, 100.0), (1.0, 6.0), (0.0, 2.0)) / iteración: 11 / proporción: 0.0001\n"
     ]
    },
    {
     "name": "stderr",
     "output_type": "stream",
     "text": [
      "                                                                                \r"
     ]
    },
    {
     "name": "stdout",
     "output_type": "stream",
     "text": [
      "Porcentaje: 0.42 / combinación: ((0.0, 10.0), (10.0, 100.0), (1.0, 6.0), (2.0, 6.0)) / iteración: 12 / proporción: 0.0000\n"
     ]
    },
    {
     "name": "stderr",
     "output_type": "stream",
     "text": [
      "                                                                                \r"
     ]
    },
    {
     "name": "stdout",
     "output_type": "stream",
     "text": [
      "Porcentaje: 0.62 / combinación: ((10.0, 20.0), (0.0, 3.0), (0.0, 1.0), (0.0, 2.0)) / iteración: 13 / proporción: 0.2025\n"
     ]
    },
    {
     "name": "stderr",
     "output_type": "stream",
     "text": [
      "                                                                                \r"
     ]
    },
    {
     "name": "stdout",
     "output_type": "stream",
     "text": [
      "Combination accepted\n"
     ]
    },
    {
     "name": "stderr",
     "output_type": "stream",
     "text": [
      "                                                                                \r"
     ]
    },
    {
     "name": "stdout",
     "output_type": "stream",
     "text": [
      "Porcentaje: 0.65 / combinación: ((10.0, 20.0), (0.0, 3.0), (0.0, 1.0), (2.0, 6.0)) / iteración: 14 / proporción: 0.0346\n"
     ]
    },
    {
     "name": "stderr",
     "output_type": "stream",
     "text": [
      "                                                                                \r"
     ]
    },
    {
     "name": "stdout",
     "output_type": "stream",
     "text": [
      "Porcentaje: 0.72 / combinación: ((10.0, 20.0), (0.0, 3.0), (1.0, 6.0), (0.0, 2.0)) / iteración: 15 / proporción: 0.0707\n"
     ]
    },
    {
     "name": "stderr",
     "output_type": "stream",
     "text": [
      "                                                                                \r"
     ]
    },
    {
     "name": "stdout",
     "output_type": "stream",
     "text": [
      "Combination accepted\n"
     ]
    },
    {
     "name": "stderr",
     "output_type": "stream",
     "text": [
      "                                                                                \r"
     ]
    },
    {
     "name": "stdout",
     "output_type": "stream",
     "text": [
      "Porcentaje: 0.74 / combinación: ((10.0, 20.0), (0.0, 3.0), (1.0, 6.0), (2.0, 6.0)) / iteración: 16 / proporción: 0.0139\n"
     ]
    },
    {
     "name": "stderr",
     "output_type": "stream",
     "text": [
      "                                                                                \r"
     ]
    },
    {
     "name": "stdout",
     "output_type": "stream",
     "text": [
      "Porcentaje: 0.78 / combinación: ((10.0, 20.0), (3.0, 10.0), (0.0, 1.0), (0.0, 2.0)) / iteración: 17 / proporción: 0.0425\n"
     ]
    },
    {
     "name": "stderr",
     "output_type": "stream",
     "text": [
      "                                                                                \r"
     ]
    },
    {
     "name": "stdout",
     "output_type": "stream",
     "text": [
      "Porcentaje: 0.79 / combinación: ((10.0, 20.0), (3.0, 10.0), (0.0, 1.0), (2.0, 6.0)) / iteración: 18 / proporción: 0.0078\n"
     ]
    },
    {
     "name": "stderr",
     "output_type": "stream",
     "text": [
      "                                                                                \r"
     ]
    },
    {
     "name": "stdout",
     "output_type": "stream",
     "text": [
      "Porcentaje: 0.82 / combinación: ((10.0, 20.0), (3.0, 10.0), (1.0, 6.0), (0.0, 2.0)) / iteración: 19 / proporción: 0.0333\n"
     ]
    },
    {
     "name": "stderr",
     "output_type": "stream",
     "text": [
      "                                                                                \r"
     ]
    },
    {
     "name": "stdout",
     "output_type": "stream",
     "text": [
      "Porcentaje: 0.83 / combinación: ((10.0, 20.0), (3.0, 10.0), (1.0, 6.0), (2.0, 6.0)) / iteración: 20 / proporción: 0.0068\n"
     ]
    },
    {
     "name": "stderr",
     "output_type": "stream",
     "text": [
      "                                                                                \r"
     ]
    },
    {
     "name": "stdout",
     "output_type": "stream",
     "text": [
      "Porcentaje: 0.83 / combinación: ((10.0, 20.0), (10.0, 100.0), (0.0, 1.0), (0.0, 2.0)) / iteración: 21 / proporción: 0.0000\n"
     ]
    },
    {
     "name": "stderr",
     "output_type": "stream",
     "text": [
      "                                                                                \r"
     ]
    },
    {
     "name": "stdout",
     "output_type": "stream",
     "text": [
      "Porcentaje: 0.83 / combinación: ((10.0, 20.0), (10.0, 100.0), (0.0, 1.0), (2.0, 6.0)) / iteración: 22 / proporción: 0.0000\n"
     ]
    },
    {
     "name": "stderr",
     "output_type": "stream",
     "text": [
      "                                                                                \r"
     ]
    },
    {
     "name": "stdout",
     "output_type": "stream",
     "text": [
      "Porcentaje: 0.83 / combinación: ((10.0, 20.0), (10.0, 100.0), (1.0, 6.0), (0.0, 2.0)) / iteración: 23 / proporción: 0.0000\n"
     ]
    },
    {
     "name": "stderr",
     "output_type": "stream",
     "text": [
      "                                                                                \r"
     ]
    },
    {
     "name": "stdout",
     "output_type": "stream",
     "text": [
      "Porcentaje: 0.83 / combinación: ((10.0, 20.0), (10.0, 100.0), (1.0, 6.0), (2.0, 6.0)) / iteración: 24 / proporción: 0.0000\n"
     ]
    },
    {
     "name": "stderr",
     "output_type": "stream",
     "text": [
      "                                                                                \r"
     ]
    },
    {
     "name": "stdout",
     "output_type": "stream",
     "text": [
      "Porcentaje: 0.83 / combinación: ((20.0, 100.0), (0.0, 3.0), (0.0, 1.0), (0.0, 2.0)) / iteración: 25 / proporción: 0.0044\n"
     ]
    },
    {
     "name": "stderr",
     "output_type": "stream",
     "text": [
      "                                                                                \r"
     ]
    },
    {
     "name": "stdout",
     "output_type": "stream",
     "text": [
      "Porcentaje: 0.83 / combinación: ((20.0, 100.0), (0.0, 3.0), (0.0, 1.0), (2.0, 6.0)) / iteración: 26 / proporción: 0.0007\n"
     ]
    },
    {
     "name": "stderr",
     "output_type": "stream",
     "text": [
      "                                                                                \r"
     ]
    },
    {
     "name": "stdout",
     "output_type": "stream",
     "text": [
      "Porcentaje: 0.83 / combinación: ((20.0, 100.0), (0.0, 3.0), (1.0, 6.0), (0.0, 2.0)) / iteración: 27 / proporción: 0.0006\n"
     ]
    },
    {
     "name": "stderr",
     "output_type": "stream",
     "text": [
      "                                                                                \r"
     ]
    },
    {
     "name": "stdout",
     "output_type": "stream",
     "text": [
      "Porcentaje: 0.83 / combinación: ((20.0, 100.0), (0.0, 3.0), (1.0, 6.0), (2.0, 6.0)) / iteración: 28 / proporción: 0.0001\n"
     ]
    },
    {
     "name": "stderr",
     "output_type": "stream",
     "text": [
      "                                                                                \r"
     ]
    },
    {
     "name": "stdout",
     "output_type": "stream",
     "text": [
      "Porcentaje: 0.91 / combinación: ((20.0, 100.0), (3.0, 10.0), (0.0, 1.0), (0.0, 2.0)) / iteración: 29 / proporción: 0.0740\n"
     ]
    },
    {
     "name": "stderr",
     "output_type": "stream",
     "text": [
      "                                                                                \r"
     ]
    },
    {
     "name": "stdout",
     "output_type": "stream",
     "text": [
      "Combination accepted\n"
     ]
    },
    {
     "name": "stderr",
     "output_type": "stream",
     "text": [
      "                                                                                \r"
     ]
    },
    {
     "name": "stdout",
     "output_type": "stream",
     "text": [
      "Porcentaje: 0.92 / combinación: ((20.0, 100.0), (3.0, 10.0), (0.0, 1.0), (2.0, 6.0)) / iteración: 30 / proporción: 0.0129\n"
     ]
    },
    {
     "name": "stderr",
     "output_type": "stream",
     "text": [
      "                                                                                \r"
     ]
    },
    {
     "name": "stdout",
     "output_type": "stream",
     "text": [
      "Porcentaje: 0.94 / combinación: ((20.0, 100.0), (3.0, 10.0), (1.0, 6.0), (0.0, 2.0)) / iteración: 31 / proporción: 0.0209\n"
     ]
    },
    {
     "name": "stderr",
     "output_type": "stream",
     "text": [
      "                                                                                \r"
     ]
    },
    {
     "name": "stdout",
     "output_type": "stream",
     "text": [
      "Porcentaje: 0.95 / combinación: ((20.0, 100.0), (3.0, 10.0), (1.0, 6.0), (2.0, 6.0)) / iteración: 32 / proporción: 0.0042\n"
     ]
    },
    {
     "name": "stderr",
     "output_type": "stream",
     "text": [
      "                                                                                \r"
     ]
    },
    {
     "name": "stdout",
     "output_type": "stream",
     "text": [
      "Porcentaje: 0.97 / combinación: ((20.0, 100.0), (10.0, 100.0), (0.0, 1.0), (0.0, 2.0)) / iteración: 33 / proporción: 0.0259\n"
     ]
    },
    {
     "name": "stderr",
     "output_type": "stream",
     "text": [
      "                                                                                \r"
     ]
    },
    {
     "name": "stdout",
     "output_type": "stream",
     "text": [
      "Porcentaje: 0.98 / combinación: ((20.0, 100.0), (10.0, 100.0), (0.0, 1.0), (2.0, 6.0)) / iteración: 34 / proporción: 0.0046\n"
     ]
    },
    {
     "name": "stderr",
     "output_type": "stream",
     "text": [
      "                                                                                \r"
     ]
    },
    {
     "name": "stdout",
     "output_type": "stream",
     "text": [
      "Porcentaje: 0.99 / combinación: ((20.0, 100.0), (10.0, 100.0), (1.0, 6.0), (0.0, 2.0)) / iteración: 35 / proporción: 0.0121\n"
     ]
    },
    {
     "name": "stderr",
     "output_type": "stream",
     "text": [
      "[Stage 838:>                                                      (0 + 16) / 16]\r"
     ]
    },
    {
     "name": "stdout",
     "output_type": "stream",
     "text": [
      "Porcentaje: 0.99 / combinación: ((20.0, 100.0), (10.0, 100.0), (1.0, 6.0), (2.0, 6.0)) / iteración: 36 / proporción: 0.0026\n",
      "Proporción total: 0.9922\n",
      "Proporción total en el nuevo DataFrame: 0.7011\n"
     ]
    },
    {
     "name": "stderr",
     "output_type": "stream",
     "text": [
      "                                                                                \r"
     ]
    }
   ],
   "source": [
    "# Importando librerías necesarias\n",
    "from pyspark.sql.types import StructType, StructField, IntegerType\n",
    "\n",
    "# Conteo de filas del DataFrame original\n",
    "total_rows = df.count()\n",
    "\n",
    "# Variables para almacenar los resultados\n",
    "subsets = []\n",
    "iter_num = 1\n",
    "total_proportion = 0\n",
    "total_proportion_in_new_df = 0\n",
    "df_accumulated = None\n",
    "\n",
    "# Iterar sobre cada combinación\n",
    "for comb in combinations:\n",
    "    filtered_rows = df.filter(\n",
    "        (col(\"total_amount\") > comb[0][0]) & (col(\"total_amount\") <= comb[0][1]) &\n",
    "        (col(\"trip_distance\") > comb[1][0]) & (col(\"trip_distance\") <= comb[1][1]) &\n",
    "        (col(\"payment_type\") > comb[2][0]) & (col(\"payment_type\") <= comb[2][1]) &\n",
    "        (col(\"passenger_count\") > comb[3][0]) & (col(\"passenger_count\") <= comb[3][1])\n",
    "    )\n",
    "    subsets.append(filtered_rows)\n",
    "    \n",
    "    # Calcular la proporción de filas filtradas respecto al total\n",
    "    prop = filtered_rows.count() / total_rows\n",
    "    total_proportion += prop\n",
    "    print(f\"Porcentaje: {total_proportion:.2f} / combinación: {comb} / iteración: {iter_num} / proporción: {prop:.4f}\")\n",
    "    iter_num += 1\n",
    "\n",
    "    # Si la proporción es mayor que 0.05, tomar el 40% de las filas\n",
    "    if prop > 0.05:\n",
    "\n",
    "        # Tomar el 40% de las filas filtradas\n",
    "        filtered_rows_fraction = filtered_rows.sample(withReplacement=False, fraction=0.4, seed=42)\n",
    "\n",
    "        if df_accumulated is None:\n",
    "            df_accumulated = filtered_rows_fraction\n",
    "        else:\n",
    "            df_accumulated = df_accumulated.union(filtered_rows_fraction)\n",
    "\n",
    "        # Guarda la proporción de filas filtradas respecto al total\n",
    "        total_proportion_in_new_df += filtered_rows.count() / total_rows\n",
    "\n",
    "        print(\"Combination accepted\")\n",
    "    \n",
    "# Imprime resultados\n",
    "print(f\"Proporción total: {total_proportion:.4f}\")\n",
    "print(f\"Proporción total en el nuevo DataFrame: {total_proportion_in_new_df:.4f}\")"
   ]
  },
  {
   "cell_type": "code",
   "execution_count": 27,
   "id": "ec378305",
   "metadata": {},
   "outputs": [
    {
     "name": "stdout",
     "output_type": "stream",
     "text": [
      "+--------+--------------------+---------------------+---------------+-------------+------------------+------------------+----------+------------------+------------------+------------------+------------+-----------+-----+-------+----------+------------+---------------------+------------+-----------------+\n",
      "|VendorID|tpep_pickup_datetime|tpep_dropoff_datetime|passenger_count|trip_distance|  pickup_longitude|   pickup_latitude|RateCodeID|store_and_fwd_flag| dropoff_longitude|  dropoff_latitude|payment_type|fare_amount|extra|mta_tax|tip_amount|tolls_amount|improvement_surcharge|total_amount|    trip_duration|\n",
      "+--------+--------------------+---------------------+---------------+-------------+------------------+------------------+----------+------------------+------------------+------------------+------------+-----------+-----+-------+----------+------------+---------------------+------------+-----------------+\n",
      "|       2|                  19|                   19|              1|         0.89|-73.99495697021484|40.745079040527344|         1|                 N|-73.99993896484375|40.734649658203125|           1|        5.5|  1.0|    0.5|      1.62|         0.0|                  0.3|        8.92|4.683333333333334|\n",
      "|       2|                   0|                    0|              1|         1.18|-73.98302459716797|40.767818450927734|         1|                 N|-73.96830749511719| 40.76314926147461|           1|        6.0|  0.5|    0.5|       1.8|         0.0|                  0.3|         9.1|              5.4|\n",
      "|       2|                  14|                   14|              1|         0.67|-73.97093200683594|40.795921325683594|         1|                 N|-73.97016906738281| 40.78912353515625|           1|        5.0|  0.0|    0.5|       1.0|         0.0|                  0.3|         6.8|4.316666666666666|\n",
      "|       1|                  12|                   12|              1|          1.3|-73.97639465332031|  40.7484016418457|         1|                 N|-73.99404907226562| 40.74616241455078|           1|        8.0|  0.0|    0.5|       1.0|         0.0|                  0.3|         9.8|            10.05|\n",
      "|       1|                  12|                   12|              2|          1.6|-74.00725555419922| 40.72868347167969|         1|                 N|-73.99505615234375|40.750003814697266|           1|        7.0|  0.0|    0.5|      1.95|         0.0|                  0.3|        9.75|5.933333333333334|\n",
      "+--------+--------------------+---------------------+---------------+-------------+------------------+------------------+----------+------------------+------------------+------------------+------------+-----------+-----+-------+----------+------------+---------------------+------------+-----------------+\n",
      "only showing top 5 rows\n",
      "\n"
     ]
    }
   ],
   "source": [
    "# Se crea la columna trip_duration\n",
    "df_accumulated = df_accumulated.withColumn(\n",
    "    \"trip_duration\",\n",
    "    (unix_timestamp(\"tpep_dropoff_datetime\") - unix_timestamp(\"tpep_pickup_datetime\")) / 60,\n",
    ")\n",
    "\n",
    "# Se extraen las horas de las columnas tpep_pickup_datetime y tpep_dropoff_datetime\n",
    "df_accumulated = df_accumulated.withColumn(\"tpep_pickup_datetime\", hour(\"tpep_pickup_datetime\"))\n",
    "df_accumulated = df_accumulated.withColumn(\"tpep_dropoff_datetime\", hour(\"tpep_dropoff_datetime\"))\n",
    "\n",
    "# Mostramos las primeras 5 filas del DataFrame acumulado\n",
    "df_accumulated.show(5)"
   ]
  },
  {
   "cell_type": "markdown",
   "id": "28272fb3",
   "metadata": {},
   "source": [
    "## Actividad 4\n",
    "\n",
    "Luis Alejandro Juárez Rodríguez\n",
    "\n",
    "1. Construcción de la muestra M\n",
    "2. Construcción Train – Test\n",
    "3. Selección de métricas para medir calidad de resultados\n",
    "4. Entrenamiento de Modelos de Aprendizaje\n",
    "5. Análisis de resultados"
   ]
  },
  {
   "cell_type": "markdown",
   "id": "c0233c83",
   "metadata": {},
   "source": [
    "### 4.1 Construcción de la muestra M\n",
    "\n",
    "* Evaluación: Genera una muestra M completamente representativa de P, sin sesgos, documentando detalladamente cada paso en Python y PySpark.\n",
    "\n",
    "En esta sección se generará una muestra M completamente representativa del DataFrame original (P). Se evitan los sesgos haciendo un proceso de estratificación y se obtienen los datos en una correcta proporción. A continuación se describe lo realizado:\n",
    "\n",
    "- Se realiza el binning para cada una de las variables de caracterización que se definió en la actividad anterior: total_amount, trip_distance, payment_type y passenger_count\n",
    "- Se concatenan las columnas que han pasado por el proceso de binned\n",
    "- Se realiza el conteo de las filas binned.\n",
    "- Se crea el DataFrame stratum_counts\n",
    "- Se crea el DataFrame stratum_props\n",
    "- Se define el tamaño de la muestra en un 10%\n",
    "- Se crea el dataFrame stratum_props\n",
    "- Se crean dos diccionarios para obtener la cantidad de estratos en cada DataFrame\n",
    "- Se calculan las proporciones\n",
    "- Se realiza el muestreo estratificado con las fracciones de estratos calculadas, se usa la semilla 42.\n",
    "- Se imprime el total de M y el total de todos los Mi para confirmar que son del mismo tamaño"
   ]
  },
  {
   "cell_type": "code",
   "execution_count": 28,
   "id": "c4bcf7d8",
   "metadata": {},
   "outputs": [
    {
     "name": "stderr",
     "output_type": "stream",
     "text": [
      "[Stage 854:===========================================>          (64 + 16) / 80]\r"
     ]
    },
    {
     "name": "stdout",
     "output_type": "stream",
     "text": [
      "Total de M: 359016\n",
      "Suma de los Mi: 359016\n"
     ]
    },
    {
     "name": "stderr",
     "output_type": "stream",
     "text": [
      "                                                                                \r"
     ]
    }
   ],
   "source": [
    "from pyspark.sql.functions import sum as spark_sum\n",
    "from pyspark.sql.functions import concat_ws, round\n",
    "\n",
    "# El DataFrame de inicio (df_accumulated) es el resultado de las combinaciones de las variables de caracterización\n",
    "# identificadas en la actividad 3. Ahora, vamos a realizar el binning de las variables.\n",
    "\n",
    "# Binning para total_amount\n",
    "df_binned = df_accumulated.withColumn(\"total_amount_bin\",\n",
    "    when((df_accumulated.total_amount >= 0) & (df_accumulated.total_amount < 10), \"0-10\")\n",
    "    .when((df_accumulated.total_amount >= 10) & (df_accumulated.total_amount < 20), \"10-20\")\n",
    "    .when((df_accumulated.total_amount >= 20) & (df_accumulated.total_amount < 100), \"20-100\")\n",
    ")\n",
    "\n",
    "# Binning para trip_distance\n",
    "df_binned = df_binned.withColumn(\"trip_distance_bin\",\n",
    "    when((df_accumulated.trip_distance >= 0) & (df_accumulated.trip_distance < 3), \"0-3\")\n",
    "    .when((df_accumulated.trip_distance >= 3) & (df_accumulated.trip_distance < 10), \"3-10\")\n",
    "    .when((df_accumulated.trip_distance >= 10) & (df_accumulated.trip_distance < 100), \"10-100\")\n",
    ")\n",
    "\n",
    "# Binning para payment_type\n",
    "df_binned = df_binned.withColumn(\"payment_type_bin\",\n",
    "    when((df_accumulated.payment_type >= 0) & (df_accumulated.payment_type < 1), \"0\")\n",
    "    .when((df_accumulated.payment_type >= 1) & (df_accumulated.payment_type < 6), \"1-5\")\n",
    ")\n",
    "\n",
    "# Binning para passenger_count\n",
    "df_binned = df_binned.withColumn(\"passenger_count_bin\",\n",
    "    when((df_accumulated.passenger_count >= 0) & (df_accumulated.passenger_count < 2), \"0-1\")\n",
    "    .when((df_accumulated.passenger_count >= 2) & (df_accumulated.passenger_count < 6), \"2-5\")\n",
    ")\n",
    "\n",
    "# Concatenación de las columnas binned para crear la columna stratum\n",
    "df_binned = df_binned.withColumn(\"stratum\", concat_ws(\"_\", \n",
    "    \"total_amount_bin\", \"trip_distance_bin\", \n",
    "    \"payment_type_bin\", \"passenger_count_bin\"\n",
    "))\n",
    "\n",
    "# Conteo total de filas en el DataFrame binned\n",
    "total_count = df_binned.count()\n",
    "\n",
    "# Creación del DataFrame stratum_counts\n",
    "stratum_counts = df_binned.groupBy(\"stratum\").count()\n",
    "\n",
    "# Se agrega al DataFrame stratum_counts una columna con la proporción de cada estrato\n",
    "stratum_props = stratum_counts.withColumn(\"proportion\", stratum_counts[\"count\"] / total_count)\n",
    "\n",
    "\n",
    "# Se define el tamaño de la muestra como el 10% del total de filas\n",
    "sample_size = int(total_count * 0.10)\n",
    "\n",
    "# Cálculo del tamaño de la muestra para cada estrato\n",
    "stratum_sizes = stratum_props.withColumn(\n",
    "    \"sample_size\", round(stratum_props[\"proportion\"] * sample_size).cast(\"int\")\n",
    ")\n",
    "\n",
    "# Observaciones por estrato en el DataFrame original P\n",
    "stratum_count_dict = dict(stratum_sizes.select(\"stratum\", \"count\").rdd.map(lambda r: (r[0], r[1])).collect())\n",
    "\n",
    "# Observaciones por estrato en el DataFrame muestra M\n",
    "stratum_sample_dict = dict(stratum_sizes.select(\"stratum\", \"sample_size\").rdd.map(lambda r: (r[0], r[1])).collect())\n",
    "\n",
    "# Cálculo de las proporciones de cada estrato\n",
    "fractions = {k: stratum_sample_dict[k] / stratum_count_dict[k] for k in stratum_sample_dict}\n",
    "\n",
    "# Se hace el muestreo estratificado\n",
    "sampled_df = df_binned.sampleBy(\"stratum\", fractions=fractions, seed=42)\n",
    "\n",
    "# Total de M\n",
    "m_total = sampled_df.count()\n",
    "\n",
    "# Total sumado por grupos Mi\n",
    "mi_total = sampled_df.groupBy(\"stratum\").count().agg(spark_sum(\"count\")).collect()[0][0]\n",
    "\n",
    "print(f\"Total de M: {m_total}\")\n",
    "print(f\"Suma de los Mi: {mi_total}\")\n"
   ]
  },
  {
   "cell_type": "markdown",
   "id": "aaa25257",
   "metadata": {},
   "source": [
    "### 4.2 Construcción Train – Test\n",
    "\n",
    "* Evaluación: Calcula y aplica correctamente el porcentaje de división para Tri y Tsi, asegurando que no existan sesgos, documentando detalladamente.\n",
    "\n",
    "Aquí se van a generar los DataFrames de entrenamiento y prueba, recorriendo los estratos para extraer la proporción de cada uno de ellos.\n",
    "\n",
    "- Se define manualmente la proporción deseada\n",
    "- Se inicia una lista para almacenar los DataFrames\n",
    "- Se obtienen los estratos únicos\n",
    "- Se itera sobre cada estrato único\n",
    "- Se filtra cada estrato Mi\n",
    "- Se obtiene el conjunto de entrenamiento y prueba del estrato Mi\n",
    "- Se agrega el conjunto a su lista respectiva\n",
    "- Se unen los DataFrames enlistados en un solo DataFrame de entrenamiento y prueba"
   ]
  },
  {
   "cell_type": "code",
   "execution_count": 29,
   "id": "9d250ed5",
   "metadata": {},
   "outputs": [
    {
     "name": "stderr",
     "output_type": "stream",
     "text": [
      "                                                                                \r"
     ]
    }
   ],
   "source": [
    "# Se define manualmente la proporcion de train y test\n",
    "train_prop = 0.8\n",
    "test_prop = 0.2\n",
    "\n",
    "# Iniciamos una lista para almacenar los DataFrames de entrenamiento y prueba\n",
    "train_dfs = []\n",
    "test_dfs = []\n",
    "\n",
    "# Obtenemos los estratos únicos\n",
    "unique_strata = sampled_df.select(\"stratum\").distinct().rdd.map(lambda r: r[0]).collect()\n",
    "\n",
    "# Iteramos sobre cada estrato\n",
    "for strata in unique_strata:\n",
    "    # Filtramos el estrato Mi\n",
    "    mi = sampled_df.filter(col(\"stratum\") == strata)\n",
    "\n",
    "    # Obtenemos el test y el train de cada estrato\n",
    "    mi_train, mi_test = mi.randomSplit([train_prop, test_prop], seed=42)\n",
    "\n",
    "    # Agregramos las partes a las listas correspondientes\n",
    "    train_dfs.append(mi_train)\n",
    "    test_dfs.append(mi_test)\n",
    "\n",
    "# Unimos todos los DataFrames de entrenamiento y prueba\n",
    "train_df = train_dfs[0]\n",
    "for df in train_dfs[1:]:\n",
    "    train_df = train_df.union(df)\n",
    "\n",
    "test_df = test_dfs[0]\n",
    "for df in test_dfs[1:]:\n",
    "    test_df = test_df.union(df)"
   ]
  },
  {
   "cell_type": "markdown",
   "id": "77f5e55d",
   "metadata": {},
   "source": [
    "### 4.3 Selección de métricas para medir calidad de resultados\n",
    "\n",
    "* Evaluación: Selecciona y argumenta detalladamente las métricas más adecuadas, considerando grandes volúmenes de datos y documentando exhaustivamente.\n",
    "\n",
    "A continuación, se seleccionará y defenderá la métrica para evaluar el modelo.\n",
    "\n",
    "- El objetivo es predecir una variable continua (total_amount), esto convierte al problema en un enfoque de regresión. La métrica seleccionada deberá ser robusta frente a outliers, ser eficiente y ofrecer una gran interpretabilidad.\n",
    "\n",
    "- Se elige la métrica: RMSE (Root Mean Squared Error).\n",
    "\n",
    "- Ventajas:\n",
    "\n",
    "    - Penalización de errores grandes. Esta métrica penaliza con mayor rudeza los grandes errores, algo deseado en modelos financieros.\n",
    "    - Ampliamente utilizado. La utilización y comprensión de esta métrica esta más que probada que es útil en problemas de regresión.\n",
    "    - Unidad de medida. La unidad de error es la misma que la variable, por lo que su interpretabilidad es bastante elevada.\n"
   ]
  },
  {
   "cell_type": "markdown",
   "id": "7cc95c4d",
   "metadata": {},
   "source": [
    "### 4.4 Entrenamiento de Modelos de Aprendizaje\n",
    "\n",
    "* Evaluación: Aplica y documenta exhaustivamente la estrategia de entrenamiento, procesando datos y ajustando hiper-parámetros de manera óptima, evitando sobre-ajuste.\n",
    "\n",
    "En esta sección se realiza el entrenamiento del modelo de aprendizaje y se recorre una cuadrícula de parámetros para encontrar el mejor ajuste.\n",
    "\n",
    "- Se definen las variables independientes\n",
    "- Se definen la variable dependiente\n",
    "- Se ensamblan las características en un vector con VectorAssembler\n",
    "- Se define el modelo\n",
    "- Se genera un pipeline con el ensamblador y el modelo para automatizar el proceso\n",
    "- Se define la cuadrícula de parámetros para la búsqueda del mejor modelo\n",
    "- se define el evaluador con la métrica RMSE que hemos determinado es la mejor en el paso anterior\n",
    "- Se configura el CrossValidator\n",
    "- Se entrena el modelo con validación cruzada\n",
    "- Se obtiene el mejor modelo de la validación cruzada\n",
    "- Se evalua el mejor modelo con el conjunto de prueba\n",
    "- Se imprimen los resultados de RMSE"
   ]
  },
  {
   "cell_type": "code",
   "execution_count": 30,
   "id": "44966038",
   "metadata": {},
   "outputs": [
    {
     "name": "stderr",
     "output_type": "stream",
     "text": [
      "25/06/07 13:42:08 WARN DAGScheduler: Broadcasting large task binary with size 2.1 MiB\n",
      "25/06/07 13:42:08 WARN DAGScheduler: Broadcasting large task binary with size 2.1 MiB\n",
      "25/06/07 13:46:03 WARN DAGScheduler: Broadcasting large task binary with size 2.2 MiB\n",
      "25/06/07 13:46:04 WARN DAGScheduler: Broadcasting large task binary with size 2.2 MiB\n",
      "25/06/07 13:46:04 WARN DAGScheduler: Broadcasting large task binary with size 2.2 MiB\n",
      "25/06/07 13:46:06 WARN DAGScheduler: Broadcasting large task binary with size 2.2 MiB\n",
      "25/06/07 13:46:06 WARN DAGScheduler: Broadcasting large task binary with size 2.2 MiB\n",
      "25/06/07 13:46:09 WARN DAGScheduler: Broadcasting large task binary with size 2.2 MiB\n",
      "25/06/07 13:46:11 WARN DAGScheduler: Broadcasting large task binary with size 2.2 MiB\n",
      "25/06/07 13:46:13 WARN DAGScheduler: Broadcasting large task binary with size 2.2 MiB\n",
      "25/06/07 13:46:16 WARN DAGScheduler: Broadcasting large task binary with size 2.2 MiB\n",
      "25/06/07 13:46:19 WARN DAGScheduler: Broadcasting large task binary with size 2.2 MiB\n",
      "25/06/07 13:46:22 WARN DAGScheduler: Broadcasting large task binary with size 2.2 MiB\n",
      "25/06/07 13:46:26 WARN DAGScheduler: Broadcasting large task binary with size 2.2 MiB\n",
      "25/06/07 13:46:30 WARN DAGScheduler: Broadcasting large task binary with size 2.3 MiB\n",
      "25/06/07 13:46:35 WARN DAGScheduler: Broadcasting large task binary with size 2.3 MiB\n",
      "25/06/07 13:46:42 WARN DAGScheduler: Broadcasting large task binary with size 2.4 MiB\n",
      "25/06/07 13:46:50 WARN DAGScheduler: Broadcasting large task binary with size 2.4 MiB\n",
      "25/06/07 13:47:02 WARN DAGScheduler: Broadcasting large task binary with size 2.6 MiB\n",
      "25/06/07 13:47:17 WARN DAGScheduler: Broadcasting large task binary with size 2.1 MiB\n",
      "25/06/07 13:47:34 WARN DAGScheduler: Broadcasting large task binary with size 3.1 MiB\n",
      "25/06/07 13:51:35 WARN DAGScheduler: Broadcasting large task binary with size 2.2 MiB\n",
      "25/06/07 13:51:51 WARN DAGScheduler: Broadcasting large task binary with size 3.9 MiB\n",
      "25/06/07 13:51:53 WARN DAGScheduler: Broadcasting large task binary with size 2.2 MiB\n",
      "25/06/07 13:51:54 WARN DAGScheduler: Broadcasting large task binary with size 2.2 MiB\n",
      "25/06/07 13:52:05 WARN DAGScheduler: Broadcasting large task binary with size 2.2 MiB\n",
      "25/06/07 13:52:14 WARN DAGScheduler: Broadcasting large task binary with size 5.4 MiB\n",
      "25/06/07 13:52:16 WARN DAGScheduler: Broadcasting large task binary with size 2.2 MiB\n",
      "25/06/07 13:52:43 WARN DAGScheduler: Broadcasting large task binary with size 8.0 MiB\n",
      "25/06/07 13:52:45 WARN DAGScheduler: Broadcasting large task binary with size 2.2 MiB\n",
      "25/06/07 13:53:08 WARN DAGScheduler: Broadcasting large task binary with size 1644.2 KiB\n",
      "25/06/07 13:53:21 WARN DAGScheduler: Broadcasting large task binary with size 2.2 MiB\n",
      "25/06/07 13:53:25 WARN DAGScheduler: Broadcasting large task binary with size 2.2 MiB\n",
      "25/06/07 13:53:27 WARN DAGScheduler: Broadcasting large task binary with size 2.2 MiB\n",
      "25/06/07 13:53:27 WARN DAGScheduler: Broadcasting large task binary with size 2.2 MiB\n",
      "25/06/07 13:53:30 WARN DAGScheduler: Broadcasting large task binary with size 2.2 MiB\n",
      "25/06/07 13:53:32 WARN DAGScheduler: Broadcasting large task binary with size 2.3 MiB\n",
      "25/06/07 13:53:34 WARN DAGScheduler: Broadcasting large task binary with size 2.2 MiB\n",
      "25/06/07 13:53:41 WARN DAGScheduler: Broadcasting large task binary with size 2.4 MiB\n",
      "25/06/07 13:53:43 WARN DAGScheduler: Broadcasting large task binary with size 2.2 MiB\n",
      "25/06/07 13:53:55 WARN DAGScheduler: Broadcasting large task binary with size 2.6 MiB\n",
      "25/06/07 13:53:59 WARN DAGScheduler: Broadcasting large task binary with size 2.2 MiB\n",
      "25/06/07 13:54:16 WARN DAGScheduler: Broadcasting large task binary with size 2.2 MiB\n",
      "25/06/07 13:54:20 WARN DAGScheduler: Broadcasting large task binary with size 2.3 MiB\n",
      "25/06/07 13:54:22 WARN DAGScheduler: Broadcasting large task binary with size 2.2 MiB\n",
      "25/06/07 13:54:29 WARN DAGScheduler: Broadcasting large task binary with size 2.4 MiB\n",
      "25/06/07 13:54:42 WARN DAGScheduler: Broadcasting large task binary with size 2.6 MiB\n",
      "25/06/07 13:54:58 WARN DAGScheduler: Broadcasting large task binary with size 3.1 MiB\n",
      "25/06/07 13:55:16 WARN DAGScheduler: Broadcasting large task binary with size 4.0 MiB\n",
      "25/06/07 13:55:38 WARN DAGScheduler: Broadcasting large task binary with size 5.6 MiB\n",
      "25/06/07 13:55:55 WARN DAGScheduler: Broadcasting large task binary with size 1067.6 KiB\n",
      "25/06/07 13:56:06 WARN DAGScheduler: Broadcasting large task binary with size 8.6 MiB\n",
      "25/06/07 13:56:32 WARN DAGScheduler: Broadcasting large task binary with size 1892.9 KiB\n",
      "25/06/07 13:56:47 WARN DAGScheduler: Broadcasting large task binary with size 13.7 MiB\n",
      "25/06/07 13:57:27 WARN DAGScheduler: Broadcasting large task binary with size 3.2 MiB\n",
      "25/06/07 13:57:47 WARN DAGScheduler: Broadcasting large task binary with size 2.2 MiB\n",
      "25/06/07 13:57:49 WARN DAGScheduler: Broadcasting large task binary with size 2.2 MiB\n",
      "25/06/07 13:57:51 WARN DAGScheduler: Broadcasting large task binary with size 2.1 MiB\n",
      "25/06/07 13:57:51 WARN DAGScheduler: Broadcasting large task binary with size 2.1 MiB\n",
      "25/06/07 14:01:51 WARN DAGScheduler: Broadcasting large task binary with size 2.2 MiB\n",
      "25/06/07 14:01:52 WARN DAGScheduler: Broadcasting large task binary with size 2.2 MiB\n",
      "25/06/07 14:01:52 WARN DAGScheduler: Broadcasting large task binary with size 2.2 MiB\n",
      "25/06/07 14:01:55 WARN DAGScheduler: Broadcasting large task binary with size 2.2 MiB\n",
      "25/06/07 14:01:55 WARN DAGScheduler: Broadcasting large task binary with size 2.2 MiB\n",
      "25/06/07 14:01:57 WARN DAGScheduler: Broadcasting large task binary with size 2.2 MiB\n",
      "25/06/07 14:01:59 WARN DAGScheduler: Broadcasting large task binary with size 2.2 MiB\n",
      "25/06/07 14:02:01 WARN DAGScheduler: Broadcasting large task binary with size 2.2 MiB\n",
      "25/06/07 14:02:04 WARN DAGScheduler: Broadcasting large task binary with size 2.2 MiB\n",
      "25/06/07 14:02:08 WARN DAGScheduler: Broadcasting large task binary with size 2.2 MiB\n",
      "25/06/07 14:02:11 WARN DAGScheduler: Broadcasting large task binary with size 2.2 MiB\n",
      "25/06/07 14:02:14 WARN DAGScheduler: Broadcasting large task binary with size 2.2 MiB\n",
      "25/06/07 14:02:19 WARN DAGScheduler: Broadcasting large task binary with size 2.3 MiB\n",
      "25/06/07 14:02:24 WARN DAGScheduler: Broadcasting large task binary with size 2.3 MiB\n",
      "25/06/07 14:02:31 WARN DAGScheduler: Broadcasting large task binary with size 2.4 MiB\n",
      "25/06/07 14:02:38 WARN DAGScheduler: Broadcasting large task binary with size 2.4 MiB\n",
      "25/06/07 14:02:53 WARN DAGScheduler: Broadcasting large task binary with size 2.1 MiB\n",
      "25/06/07 14:03:06 WARN DAGScheduler: Broadcasting large task binary with size 2.6 MiB\n",
      "25/06/07 14:07:01 WARN DAGScheduler: Broadcasting large task binary with size 2.2 MiB\n",
      "25/06/07 14:07:16 WARN DAGScheduler: Broadcasting large task binary with size 3.1 MiB\n",
      "25/06/07 14:07:18 WARN DAGScheduler: Broadcasting large task binary with size 2.2 MiB\n",
      "25/06/07 14:07:18 WARN DAGScheduler: Broadcasting large task binary with size 2.2 MiB\n",
      "25/06/07 14:07:27 WARN DAGScheduler: Broadcasting large task binary with size 2.2 MiB\n",
      "25/06/07 14:07:35 WARN DAGScheduler: Broadcasting large task binary with size 3.9 MiB\n",
      "25/06/07 14:07:37 WARN DAGScheduler: Broadcasting large task binary with size 2.2 MiB\n",
      "25/06/07 14:07:58 WARN DAGScheduler: Broadcasting large task binary with size 5.4 MiB\n",
      "25/06/07 14:08:00 WARN DAGScheduler: Broadcasting large task binary with size 2.2 MiB\n",
      "25/06/07 14:08:27 WARN DAGScheduler: Broadcasting large task binary with size 8.1 MiB\n",
      "25/06/07 14:08:30 WARN DAGScheduler: Broadcasting large task binary with size 2.2 MiB\n",
      "25/06/07 14:08:53 WARN DAGScheduler: Broadcasting large task binary with size 1662.4 KiB\n",
      "25/06/07 14:09:07 WARN DAGScheduler: Broadcasting large task binary with size 2.2 MiB\n",
      "25/06/07 14:09:11 WARN DAGScheduler: Broadcasting large task binary with size 2.3 MiB\n",
      "25/06/07 14:09:13 WARN DAGScheduler: Broadcasting large task binary with size 2.2 MiB\n",
      "25/06/07 14:09:13 WARN DAGScheduler: Broadcasting large task binary with size 2.2 MiB\n",
      "25/06/07 14:09:18 WARN DAGScheduler: Broadcasting large task binary with size 2.2 MiB\n",
      "25/06/07 14:09:20 WARN DAGScheduler: Broadcasting large task binary with size 2.4 MiB\n",
      "25/06/07 14:09:23 WARN DAGScheduler: Broadcasting large task binary with size 2.2 MiB\n",
      "25/06/07 14:09:35 WARN DAGScheduler: Broadcasting large task binary with size 2.6 MiB\n",
      "25/06/07 14:09:37 WARN DAGScheduler: Broadcasting large task binary with size 2.2 MiB\n",
      "25/06/07 14:09:54 WARN DAGScheduler: Broadcasting large task binary with size 2.2 MiB\n",
      "25/06/07 14:09:58 WARN DAGScheduler: Broadcasting large task binary with size 2.2 MiB\n",
      "25/06/07 14:10:01 WARN DAGScheduler: Broadcasting large task binary with size 2.2 MiB\n",
      "25/06/07 14:10:06 WARN DAGScheduler: Broadcasting large task binary with size 2.3 MiB\n",
      "25/06/07 14:10:14 WARN DAGScheduler: Broadcasting large task binary with size 2.4 MiB\n",
      "25/06/07 14:10:26 WARN DAGScheduler: Broadcasting large task binary with size 2.6 MiB\n",
      "25/06/07 14:10:42 WARN DAGScheduler: Broadcasting large task binary with size 3.1 MiB\n",
      "25/06/07 14:11:00 WARN DAGScheduler: Broadcasting large task binary with size 4.0 MiB\n",
      "25/06/07 14:11:22 WARN DAGScheduler: Broadcasting large task binary with size 5.7 MiB\n",
      "25/06/07 14:11:39 WARN DAGScheduler: Broadcasting large task binary with size 1085.4 KiB\n",
      "25/06/07 14:11:50 WARN DAGScheduler: Broadcasting large task binary with size 8.7 MiB\n",
      "25/06/07 14:12:16 WARN DAGScheduler: Broadcasting large task binary with size 1929.1 KiB\n",
      "25/06/07 14:12:31 WARN DAGScheduler: Broadcasting large task binary with size 13.8 MiB\n",
      "25/06/07 14:13:15 WARN DAGScheduler: Broadcasting large task binary with size 3.2 MiB\n",
      "25/06/07 14:13:35 WARN DAGScheduler: Broadcasting large task binary with size 2.2 MiB\n",
      "25/06/07 14:13:37 WARN DAGScheduler: Broadcasting large task binary with size 2.2 MiB\n",
      "25/06/07 14:13:39 WARN DAGScheduler: Broadcasting large task binary with size 2.1 MiB\n",
      "25/06/07 14:13:39 WARN DAGScheduler: Broadcasting large task binary with size 2.1 MiB\n",
      "25/06/07 14:17:36 WARN DAGScheduler: Broadcasting large task binary with size 2.2 MiB\n",
      "25/06/07 14:17:37 WARN DAGScheduler: Broadcasting large task binary with size 2.2 MiB\n",
      "25/06/07 14:17:37 WARN DAGScheduler: Broadcasting large task binary with size 2.2 MiB\n",
      "25/06/07 14:17:39 WARN DAGScheduler: Broadcasting large task binary with size 2.2 MiB\n",
      "25/06/07 14:17:39 WARN DAGScheduler: Broadcasting large task binary with size 2.2 MiB\n",
      "25/06/07 14:17:42 WARN DAGScheduler: Broadcasting large task binary with size 2.2 MiB\n",
      "25/06/07 14:17:44 WARN DAGScheduler: Broadcasting large task binary with size 2.2 MiB\n",
      "25/06/07 14:17:46 WARN DAGScheduler: Broadcasting large task binary with size 2.2 MiB\n",
      "25/06/07 14:17:49 WARN DAGScheduler: Broadcasting large task binary with size 2.2 MiB\n",
      "25/06/07 14:17:52 WARN DAGScheduler: Broadcasting large task binary with size 2.2 MiB\n",
      "25/06/07 14:17:56 WARN DAGScheduler: Broadcasting large task binary with size 2.2 MiB\n",
      "25/06/07 14:17:59 WARN DAGScheduler: Broadcasting large task binary with size 2.2 MiB\n",
      "25/06/07 14:18:04 WARN DAGScheduler: Broadcasting large task binary with size 2.3 MiB\n",
      "25/06/07 14:18:08 WARN DAGScheduler: Broadcasting large task binary with size 2.3 MiB\n",
      "25/06/07 14:18:15 WARN DAGScheduler: Broadcasting large task binary with size 2.4 MiB\n",
      "25/06/07 14:18:22 WARN DAGScheduler: Broadcasting large task binary with size 2.4 MiB\n",
      "25/06/07 14:18:37 WARN DAGScheduler: Broadcasting large task binary with size 2.1 MiB\n",
      "25/06/07 14:18:50 WARN DAGScheduler: Broadcasting large task binary with size 2.6 MiB\n",
      "25/06/07 14:22:42 WARN DAGScheduler: Broadcasting large task binary with size 2.2 MiB\n",
      "25/06/07 14:22:57 WARN DAGScheduler: Broadcasting large task binary with size 3.1 MiB\n",
      "25/06/07 14:22:59 WARN DAGScheduler: Broadcasting large task binary with size 2.2 MiB\n",
      "25/06/07 14:22:59 WARN DAGScheduler: Broadcasting large task binary with size 2.2 MiB\n",
      "25/06/07 14:23:08 WARN DAGScheduler: Broadcasting large task binary with size 2.2 MiB\n",
      "25/06/07 14:23:16 WARN DAGScheduler: Broadcasting large task binary with size 3.9 MiB\n",
      "25/06/07 14:23:18 WARN DAGScheduler: Broadcasting large task binary with size 2.2 MiB\n",
      "25/06/07 14:23:39 WARN DAGScheduler: Broadcasting large task binary with size 5.4 MiB\n",
      "25/06/07 14:23:41 WARN DAGScheduler: Broadcasting large task binary with size 2.2 MiB\n",
      "25/06/07 14:24:07 WARN DAGScheduler: Broadcasting large task binary with size 8.0 MiB\n",
      "25/06/07 14:24:11 WARN DAGScheduler: Broadcasting large task binary with size 2.2 MiB\n",
      "25/06/07 14:24:33 WARN DAGScheduler: Broadcasting large task binary with size 1649.1 KiB\n",
      "25/06/07 14:24:47 WARN DAGScheduler: Broadcasting large task binary with size 2.2 MiB\n",
      "25/06/07 14:24:51 WARN DAGScheduler: Broadcasting large task binary with size 2.3 MiB\n",
      "25/06/07 14:24:53 WARN DAGScheduler: Broadcasting large task binary with size 2.2 MiB\n",
      "25/06/07 14:24:54 WARN DAGScheduler: Broadcasting large task binary with size 2.2 MiB\n",
      "25/06/07 14:24:58 WARN DAGScheduler: Broadcasting large task binary with size 2.2 MiB\n",
      "25/06/07 14:25:00 WARN DAGScheduler: Broadcasting large task binary with size 2.4 MiB\n",
      "25/06/07 14:25:03 WARN DAGScheduler: Broadcasting large task binary with size 2.2 MiB\n",
      "25/06/07 14:25:14 WARN DAGScheduler: Broadcasting large task binary with size 2.6 MiB\n",
      "25/06/07 14:25:17 WARN DAGScheduler: Broadcasting large task binary with size 2.2 MiB\n",
      "25/06/07 14:25:33 WARN DAGScheduler: Broadcasting large task binary with size 2.2 MiB\n",
      "25/06/07 14:25:36 WARN DAGScheduler: Broadcasting large task binary with size 2.2 MiB\n",
      "25/06/07 14:25:39 WARN DAGScheduler: Broadcasting large task binary with size 2.2 MiB\n",
      "25/06/07 14:25:43 WARN DAGScheduler: Broadcasting large task binary with size 2.3 MiB\n",
      "25/06/07 14:25:51 WARN DAGScheduler: Broadcasting large task binary with size 2.4 MiB\n",
      "25/06/07 14:26:03 WARN DAGScheduler: Broadcasting large task binary with size 2.6 MiB\n",
      "25/06/07 14:26:18 WARN DAGScheduler: Broadcasting large task binary with size 3.1 MiB\n",
      "25/06/07 14:26:36 WARN DAGScheduler: Broadcasting large task binary with size 4.0 MiB\n",
      "25/06/07 14:26:58 WARN DAGScheduler: Broadcasting large task binary with size 5.6 MiB\n",
      "25/06/07 14:27:15 WARN DAGScheduler: Broadcasting large task binary with size 1068.3 KiB\n",
      "25/06/07 14:27:26 WARN DAGScheduler: Broadcasting large task binary with size 8.6 MiB\n",
      "25/06/07 14:27:52 WARN DAGScheduler: Broadcasting large task binary with size 1897.0 KiB\n",
      "25/06/07 14:28:06 WARN DAGScheduler: Broadcasting large task binary with size 13.7 MiB\n",
      "25/06/07 14:28:46 WARN DAGScheduler: Broadcasting large task binary with size 3.2 MiB\n",
      "25/06/07 14:29:06 WARN DAGScheduler: Broadcasting large task binary with size 2.2 MiB\n",
      "25/06/07 14:29:09 WARN DAGScheduler: Broadcasting large task binary with size 2.2 MiB\n",
      "25/06/07 14:29:10 WARN DAGScheduler: Broadcasting large task binary with size 2.0 MiB\n",
      "25/06/07 14:29:12 WARN DAGScheduler: Broadcasting large task binary with size 2.0 MiB\n",
      "25/06/07 14:33:06 WARN DAGScheduler: Broadcasting large task binary with size 2.0 MiB\n",
      "25/06/07 14:36:57 WARN DAGScheduler: Broadcasting large task binary with size 2.0 MiB\n",
      "25/06/07 14:40:53 WARN DAGScheduler: Broadcasting large task binary with size 2.0 MiB\n",
      "25/06/07 14:40:58 WARN DAGScheduler: Broadcasting large task binary with size 2.1 MiB\n",
      "25/06/07 14:41:06 WARN DAGScheduler: Broadcasting large task binary with size 2.2 MiB\n",
      "25/06/07 14:41:18 WARN DAGScheduler: Broadcasting large task binary with size 2.5 MiB\n",
      "25/06/07 14:41:33 WARN DAGScheduler: Broadcasting large task binary with size 2.9 MiB\n",
      "25/06/07 14:41:51 WARN DAGScheduler: Broadcasting large task binary with size 3.8 MiB\n",
      "25/06/07 14:42:13 WARN DAGScheduler: Broadcasting large task binary with size 5.5 MiB\n",
      "25/06/07 14:42:31 WARN DAGScheduler: Broadcasting large task binary with size 1078.4 KiB\n",
      "25/06/07 14:42:43 WARN DAGScheduler: Broadcasting large task binary with size 8.5 MiB\n",
      "25/06/07 14:43:09 WARN DAGScheduler: Broadcasting large task binary with size 1926.5 KiB\n",
      "25/06/07 14:43:24 WARN DAGScheduler: Broadcasting large task binary with size 13.7 MiB\n",
      "25/06/07 14:44:05 WARN DAGScheduler: Broadcasting large task binary with size 3.2 MiB\n",
      "25/06/07 14:44:27 WARN DAGScheduler: Broadcasting large task binary with size 2041.7 KiB\n",
      "25/06/07 14:48:23 WARN DAGScheduler: Broadcasting large task binary with size 2042.8 KiB\n"
     ]
    },
    {
     "name": "stdout",
     "output_type": "stream",
     "text": [
      "Mejor modelo RMSE en test: 1.6767\n"
     ]
    },
    {
     "name": "stderr",
     "output_type": "stream",
     "text": [
      "                                                                                \r"
     ]
    }
   ],
   "source": [
    "from pyspark.ml import Pipeline\n",
    "from pyspark.ml.feature import VectorAssembler\n",
    "from pyspark.ml.regression import RandomForestRegressor\n",
    "from pyspark.ml.evaluation import RegressionEvaluator\n",
    "from pyspark.ml.tuning import ParamGridBuilder, CrossValidator\n",
    "\n",
    "# Se definen la variables independientes\n",
    "feature_cols = [\n",
    "    \"tpep_pickup_datetime\",\n",
    "    \"tpep_dropoff_datetime\",\n",
    "    \"passenger_count\",\n",
    "    \"trip_distance\",\n",
    "    \"payment_type\",\n",
    "    \"trip_duration\",\n",
    "]\n",
    "\n",
    "# Se define la variable dependiente (columna objetivo)\n",
    "target_col = \"total_amount\"\n",
    "\n",
    "# Se ensamblan las características en un vector\n",
    "assembler = VectorAssembler(inputCols=feature_cols, outputCol=\"features\")\n",
    "\n",
    "# Se define el modelo\n",
    "rf = RandomForestRegressor(\n",
    "    featuresCol=\"features\",\n",
    "    labelCol=target_col,\n",
    "    seed=42\n",
    ")\n",
    "\n",
    "\n",
    "# Se genera un pipeline con el ensamblador y el modelo\n",
    "pipeline = Pipeline(stages=[assembler, rf])\n",
    "\n",
    "# Se define la cuadrícula de parámetros para la búsqueda\n",
    "paramGrid = ParamGridBuilder() \\\n",
    "    .addGrid(rf.numTrees, [50, 100]) \\\n",
    "    .addGrid(rf.maxDepth, [5, 10]) \\\n",
    "    .build()\n",
    "\n",
    "# Se define el evaluador para la métrica de regresión\n",
    "evaluator = RegressionEvaluator(\n",
    "    labelCol=target_col,\n",
    "    predictionCol=\"prediction\",\n",
    "    metricName=\"rmse\"\n",
    ")\n",
    "\n",
    "# Se configura el CrossValidator\n",
    "cv = CrossValidator(\n",
    "    estimator=pipeline,\n",
    "    estimatorParamMaps=paramGrid,\n",
    "    evaluator=evaluator,\n",
    "    numFolds=3,\n",
    "    parallelism=2,\n",
    "    seed=42\n",
    ")\n",
    "\n",
    "# Se entrena el modelo con validación cruzada\n",
    "cv_model = cv.fit(train_df)\n",
    "\n",
    "# Se obtiene el mejor modelo de la validación cruzada\n",
    "best_model = cv_model.bestModel\n",
    "\n",
    "# Evaluamos el mejor modelo en el conjunto de prueba\n",
    "predictions = best_model.transform(test_df)\n",
    "\n",
    "# Evaluamos el modelo\n",
    "rmse = evaluator.evaluate(predictions)\n",
    "\n",
    "print(f\"Mejor modelo RMSE en test: {rmse:.4f}\")\n"
   ]
  },
  {
   "cell_type": "markdown",
   "id": "133888fe",
   "metadata": {},
   "source": [
    "### 4.5 Análisis de resultados\n",
    "\n",
    "* Evaluación: Realiza un análisis profundo y detallado de los resultados, identificando claramente fortalezas y áreas de oportunidad, documentando exhaustivamente.\n",
    "\n",
    "Análisis:\n",
    "\n",
    "- El DataSet fue segmentado en un conjunto de entrenamiento y prueba utilizando mecanismos para estratificarlo y proporcionarlo de manera correcta. El método 'sampleBy' utiliza el diccionario de fracciones para extraer, de manera probabilistica, los datos del DataFrame original (P). De esta manera, se obtiene un porcentaje adecuado y puramente probabilistico de cada estrato determinado por las variables de caracterización de la actividad anterior.\n",
    "\n",
    "- Posteriormente, se crearon los conjuntos de entrenamiento y prueba obtienendolos directamente de cada estrato (Mi), para asegurarse en todo momento que se mantienen las proporciones adecuadas para evitar sesgos en la información.\n",
    "\n",
    "- El entrenamiento se realizó con estos conjuntos de entrenamiento y pruebas. Los resultados despues de distintas iteraciones moviendo los valores del CrossValidator, fueron mejorando, llegando a un resultado de 1.6767 RMSE. Este valor es agradable, ya que es un error que podemos considerar bajo pero sin caer en el sobreajuste. Para este caso particular, podemos considerar un sobreajuste si tuvieramos un RMSE menor a 0.3.\n",
    "\n",
    "- El mayor reto en esta actividad fue desmembrar cada paso en PySpark, ya que tiene métodos distintos a los que se han trabajado antes como Pandas. También, al ser una herramienta que no utiliza CUDA, nos hemos enfrentado a tiempos de entrenamientos de varias horas, lo que agrega otro grado de dificultad, pues es importante que cada iteración valga la pena."
   ]
  }
 ],
 "metadata": {
  "kernelspec": {
   "display_name": "venv_big_data",
   "language": "python",
   "name": "python3"
  },
  "language_info": {
   "codemirror_mode": {
    "name": "ipython",
    "version": 3
   },
   "file_extension": ".py",
   "mimetype": "text/x-python",
   "name": "python",
   "nbconvert_exporter": "python",
   "pygments_lexer": "ipython3",
   "version": "3.9.22"
  }
 },
 "nbformat": 4,
 "nbformat_minor": 5
}
