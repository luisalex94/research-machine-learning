{
 "cells": [
  {
   "cell_type": "markdown",
   "id": "73298188",
   "metadata": {},
   "source": [
    "## Resumen - Actividad 3\n",
    "\n",
    "En esta sección se implementa el código de la actividad 3 de manera compacta para obtener las variables de caracterización identificadas y aplicar los filtros correspondientes."
   ]
  },
  {
   "cell_type": "code",
   "execution_count": 105,
   "id": "791b5ab4",
   "metadata": {},
   "outputs": [
    {
     "name": "stderr",
     "output_type": "stream",
     "text": [
      "                                                                                \r"
     ]
    }
   ],
   "source": [
    "# Importa las librerías necesarias\n",
    "from pyspark.sql import SparkSession\n",
    "\n",
    "# Crea una sesión de Spark\n",
    "spark = SparkSession.builder.appName(\"YellowTripDataAnalysis\").config(\"spark.driver.memory\", \"22g\").getOrCreate()\n",
    "\n",
    "# Leemos el archivo CSV de datos de viajes amarillos\n",
    "df = spark.read.option(\"header\", True).option(\"inferSchema\", True).csv(\"../data/yellow_tripdata/yellow_tripdata_2015-01.csv\")"
   ]
  },
  {
   "cell_type": "code",
   "execution_count": 106,
   "id": "c5497a64",
   "metadata": {},
   "outputs": [
    {
     "name": "stderr",
     "output_type": "stream",
     "text": [
      "[Stage 1129:========================================>             (12 + 4) / 16]\r"
     ]
    },
    {
     "name": "stdout",
     "output_type": "stream",
     "text": [
      "+-------+------------------+------------------+------------------+-------------------+------------------+------------------+------------------+------------------+------------------+------------------+------------------+-------------------+--------------------+------------------+-------------------+---------------------+------------------+\n",
      "|summary|          VendorID|   passenger_count|     trip_distance|   pickup_longitude|   pickup_latitude|        RateCodeID|store_and_fwd_flag| dropoff_longitude|  dropoff_latitude|      payment_type|       fare_amount|              extra|             mta_tax|        tip_amount|       tolls_amount|improvement_surcharge|      total_amount|\n",
      "+-------+------------------+------------------+------------------+-------------------+------------------+------------------+------------------+------------------+------------------+------------------+------------------+-------------------+--------------------+------------------+-------------------+---------------------+------------------+\n",
      "|  count|          12748986|          12748986|          12748986|           12748986|          12748986|          12748986|          12748986|          12748986|          12748986|          12748986|          12748986|           12748986|            12748986|          12748986|           12748986|             12748983|          12748986|\n",
      "|   mean|1.5214373127400094|1.6814908260154964|13.459129611562537| -72.56183777902534| 39.97282304763482|1.0369007386156044|              NULL|-72.60903923063492|  39.9996144802455|1.3867115392549652|11.905659425777182|0.30827895724412907|  0.4977986092384132| 1.853813646041934|0.24349839430354983|   0.2831430789385838|15.108294537379894|\n",
      "| stddev|0.4995402498256227| 1.337923517287465| 9844.094218468368|  10.12510359297296| 5.578690519088367|0.6732239779497601|              NULL|  9.96603703803109| 5.487741886619656|  0.49886106350539|10.302537135952251| 0.5916643112912936|0.035342286709831416|1106.4323141838956| 1.5271714003797978|   0.0690863293583079|1106.5032467104797|\n",
      "|    min|                 1|                 0|               0.0|-121.92581176757812|               0.0|                 1|                 N|-740.1666870117188|-9.029156684875488|                 1|            -450.0|              -79.0|                -0.5|            -92.42|              -26.0|                  0.0|            -450.3|\n",
      "|    max|                 2|                 9|      1.54200045E7|  78.66265106201172|404.70001220703125|                99|                 Y|  85.2740249633789| 459.5333251953125|                 5|            4008.0|             999.99|                 0.5|         3950588.8|            1450.09|                  0.3|         3950611.6|\n",
      "+-------+------------------+------------------+------------------+-------------------+------------------+------------------+------------------+------------------+------------------+------------------+------------------+-------------------+--------------------+------------------+-------------------+---------------------+------------------+\n",
      "\n"
     ]
    },
    {
     "name": "stderr",
     "output_type": "stream",
     "text": [
      "                                                                                \r"
     ]
    }
   ],
   "source": [
    "df.describe().show()"
   ]
  },
  {
   "cell_type": "code",
   "execution_count": 107,
   "id": "8d83f77f",
   "metadata": {},
   "outputs": [
    {
     "name": "stdout",
     "output_type": "stream",
     "text": [
      "Número de filas originales: 12748986\n",
      "Número de columnas originales: 19\n"
     ]
    }
   ],
   "source": [
    "# Imprimimos las dimensiones del DataFrame\n",
    "original_num_rows = df.count()\n",
    "original_num_cols = len(df.columns)\n",
    "\n",
    "print(f\"Número de filas originales: {original_num_rows}\")\n",
    "print(f\"Número de columnas originales: {original_num_cols}\")"
   ]
  },
  {
   "cell_type": "code",
   "execution_count": 108,
   "id": "dbc0d89b",
   "metadata": {},
   "outputs": [],
   "source": [
    "# Generamos un diccionario con los factores de caracterización\n",
    "charact_factor = {\n",
    "    \"passenger_count\": 1e10,\n",
    "    \"trip_distance\": 2.5,\n",
    "    \"payment_type\": 3,\n",
    "    \"total_amount\": 3,\n",
    "    \"tpep_pickup_datetime\": 1e10,\n",
    "    \"tpep_dropoff_datetime\": 1e10,\n",
    "}\n",
    "\n",
    "# Obtenemos una muestra del 5% de los datos originales\n",
    "df_original_sample = df.select(list(charact_factor.keys())).sample(False, 0.05, seed=42)"
   ]
  },
  {
   "cell_type": "code",
   "execution_count": 109,
   "id": "77880e46",
   "metadata": {},
   "outputs": [
    {
     "name": "stdout",
     "output_type": "stream",
     "text": [
      "Número de filas originales: 12748986\n",
      "Número de columnas originales: 19\n",
      "Número de filas del 5% de los datos originales: 637214\n",
      "Número de columnas del 5% de los datos originales: 6\n"
     ]
    }
   ],
   "source": [
    "# Imprimimos las dimensiones del DataFrame de la muestra\n",
    "original_05_num_rows = df_original_sample.count()\n",
    "original_05_num_cols = len(df_original_sample.columns)\n",
    "\n",
    "print(f\"Número de filas originales: {original_num_rows}\")\n",
    "print(f\"Número de columnas originales: {original_num_cols}\")\n",
    "print(f\"Número de filas del 5% de los datos originales: {original_05_num_rows}\")\n",
    "print(f\"Número de columnas del 5% de los datos originales: {original_05_num_cols}\")"
   ]
  },
  {
   "cell_type": "code",
   "execution_count": 110,
   "id": "26973c7b",
   "metadata": {},
   "outputs": [
    {
     "name": "stderr",
     "output_type": "stream",
     "text": [
      "                                                                                \r"
     ]
    }
   ],
   "source": [
    "# Importa las librerías necesarias\n",
    "from pyspark.sql.functions import col, hour, when, unix_timestamp\n",
    "from pyspark.sql.types import IntegerType\n",
    "\n",
    "# Copiamos el DataFrame original a otro DataFrame\n",
    "df_sample = df_original_sample.select(\"*\")\n",
    "\n",
    "# Se eliminan las filas con valores nulos\n",
    "df_sample = df_sample.dropna()\n",
    "\n",
    "# Se crea la columna trip_duration\n",
    "df_sample = df_sample.withColumn(\n",
    "    \"trip_duration\",\n",
    "    (unix_timestamp(\"tpep_dropoff_datetime\") - unix_timestamp(\"tpep_pickup_datetime\")) / 60,\n",
    ")\n",
    "\n",
    "# Se agrega la columna trip_duration al diccionario charact_factor\n",
    "charact_factor['trip_duration'] = 2\n",
    "\n",
    "# Se extraen las horas de las columnas tpep_pickup_datetime y tpep_dropoff_datetime\n",
    "df_sample = df_sample.withColumn(\"tpep_pickup_datetime\", hour(\"tpep_pickup_datetime\"))\n",
    "df_sample = df_sample.withColumn(\"tpep_dropoff_datetime\", hour(\"tpep_dropoff_datetime\"))\n",
    "\n",
    "# Se eliminan los valores negativos y ceros de las columnas trip_distance, \n",
    "# total_amount, passenger_count y trip_duration\n",
    "for colname in [\"trip_distance\", \"total_amount\", \"passenger_count\", \"trip_duration\"]:\n",
    "    df_sample = df_sample.filter(col(colname) > 0)\n",
    "\n",
    "# Se crea la columna trip_distance_bind\n",
    "df_sample = df_sample.withColumn(\n",
    "    \"trip_distance_bind\",\n",
    "    when(col(\"trip_distance\") <= 3.0, 1)\n",
    "    .when((col(\"trip_distance\") > 3.0) & (col(\"trip_distance\") <= 10.0), 2)\n",
    "    .when(col(\"trip_distance\") > 10.0, 3)\n",
    ")\n",
    "\n",
    "# Se crea la columna total_amount_bind\n",
    "df_sample = df_sample.withColumn(\n",
    "    \"total_amount_bind\",\n",
    "    when(col(\"total_amount\") <= 10.0, 1)\n",
    "    .when((col(\"total_amount\") > 10.0) & (col(\"total_amount\") <= 20.0), 2)\n",
    "    .when(col(\"total_amount\") > 20.0, 3)\n",
    ")\n",
    "\n",
    "# Se crea la columna passenger_count_bind\n",
    "df_sample = df_sample.withColumn(\n",
    "    \"passenger_count_bind\",\n",
    "    when(col(\"passenger_count\") <= 2.0, 1)\n",
    "    .when((col(\"passenger_count\") > 2.0) & (col(\"passenger_count\") <= 6.0), 2)\n",
    ")\n",
    "\n",
    "# Se crea la columna trip_duration_bind\n",
    "df_sample = df_sample.withColumn(\n",
    "    \"trip_duration_bind\",\n",
    "    when(col(\"trip_duration\") <= 10.0, 1)\n",
    "    .when((col(\"trip_duration\") > 10.0) & (col(\"trip_duration\") <= 20.0), 2)\n",
    "    .when(col(\"trip_duration\") > 20.0, 3)\n",
    ")\n",
    "\n",
    "# Se crea la columna payment_type_bind\n",
    "df_sample = df_sample.withColumn(\n",
    "    \"payment_type_bind\",\n",
    "    when(col(\"payment_type\") == 1.0, 1)\n",
    "    .when((col(\"payment_type\") > 1.0) & (col(\"payment_type\") <= 6.0), 2)\n",
    ")\n",
    "\n",
    "# Se vuelven a eliminar las filas con valores nulos\n",
    "df_sample = df_sample.dropna()\n",
    "\n",
    "# Se convierten las columnas binned a tipo Integer\n",
    "for binned_col in [\n",
    "    \"trip_distance_bind\",\n",
    "    \"trip_duration_bind\",\n",
    "    \"total_amount_bind\",\n",
    "    \"passenger_count_bind\",\n",
    "    \"payment_type_bind\",\n",
    "]:\n",
    "    df_sample = df_sample.withColumn(binned_col, col(binned_col).cast(IntegerType()))\n",
    "\n",
    "# Se eliminan los outliers de las columnas numéricas\n",
    "for col_name, factor in charact_factor.items():\n",
    "    quantiles = df_sample.approxQuantile(col_name, [0.25, 0.75], 0.0)\n",
    "    q1, q3 = quantiles\n",
    "    iqr = q3 - q1\n",
    "    lower = q1 - factor * iqr\n",
    "    upper = q3 + factor * iqr\n",
    "    df_sample = df_sample.filter((col(col_name) >= lower) & (col(col_name) <= upper))\n"
   ]
  },
  {
   "cell_type": "code",
   "execution_count": 111,
   "id": "acda8d34",
   "metadata": {},
   "outputs": [
    {
     "name": "stderr",
     "output_type": "stream",
     "text": [
      "[Stage 1152:>                                                     (0 + 16) / 16]\r"
     ]
    },
    {
     "name": "stdout",
     "output_type": "stream",
     "text": [
      "Número de filas originales: 12748986\n",
      "Número de columnas originales: 19\n",
      "Número de filas del 5% de los datos originales: 637214\n",
      "Número de columnas del 5% de los datos originales: 6\n",
      "Número de filas del 5%  después de la limpieza: 579787\n",
      "Número de columnas del 5% después de la limpieza: 12\n"
     ]
    },
    {
     "name": "stderr",
     "output_type": "stream",
     "text": [
      "                                                                                \r"
     ]
    }
   ],
   "source": [
    "# Imprimimos las dimensiones del DataFrame después de la limpieza\n",
    "cleaned_05_num_rows = df_sample.count()\n",
    "cleaned_05_num_cols = len(df_sample.columns)\n",
    "\n",
    "print(f\"Número de filas originales: {original_num_rows}\")\n",
    "print(f\"Número de columnas originales: {original_num_cols}\")\n",
    "print(f\"Número de filas del 5% de los datos originales: {original_05_num_rows}\")\n",
    "print(f\"Número de columnas del 5% de los datos originales: {original_05_num_cols}\")\n",
    "print(f\"Número de filas del 5%  después de la limpieza: {cleaned_05_num_rows}\")\n",
    "print(f\"Número de columnas del 5% después de la limpieza: {cleaned_05_num_cols}\")"
   ]
  },
  {
   "cell_type": "code",
   "execution_count": 112,
   "id": "cb22a5a0",
   "metadata": {},
   "outputs": [
    {
     "name": "stdout",
     "output_type": "stream",
     "text": [
      "+---------------+-------------+------------+------------+--------------------+---------------------+------------------+------------------+-----------------+--------------------+------------------+-----------------+\n",
      "|passenger_count|trip_distance|payment_type|total_amount|tpep_pickup_datetime|tpep_dropoff_datetime|     trip_duration|trip_distance_bind|total_amount_bind|passenger_count_bind|trip_duration_bind|payment_type_bind|\n",
      "+---------------+-------------+------------+------------+--------------------+---------------------+------------------+------------------+-----------------+--------------------+------------------+-----------------+\n",
      "|              5|         2.83|           2|        14.3|                  19|                   19|15.333333333333334|                 1|                2|                   2|                 2|                2|\n",
      "|              1|          3.0|           2|        12.8|                  14|                   14|13.116666666666667|                 1|                2|                   1|                 2|                2|\n",
      "|              2|         1.18|           1|        13.4|                  14|                   14|15.766666666666667|                 1|                2|                   1|                 2|                1|\n",
      "|              1|          3.5|           1|       18.95|                  12|                   12|18.583333333333332|                 2|                2|                   1|                 2|                1|\n",
      "|              1|          1.0|           1|        8.76|                  12|                   12| 7.066666666666666|                 1|                1|                   1|                 1|                1|\n",
      "+---------------+-------------+------------+------------+--------------------+---------------------+------------------+------------------+-----------------+--------------------+------------------+-----------------+\n",
      "only showing top 5 rows\n",
      "\n"
     ]
    }
   ],
   "source": [
    "df_sample.show(5)"
   ]
  },
  {
   "cell_type": "code",
   "execution_count": 113,
   "id": "337b1742",
   "metadata": {},
   "outputs": [
    {
     "name": "stderr",
     "output_type": "stream",
     "text": [
      "                                                                                \r"
     ]
    },
    {
     "name": "stdout",
     "output_type": "stream",
     "text": [
      "Combinación: (1, 1, 1, 1) / iteración: 1, Proporción: 0.1930\n"
     ]
    },
    {
     "name": "stderr",
     "output_type": "stream",
     "text": [
      "                                                                                \r"
     ]
    },
    {
     "name": "stdout",
     "output_type": "stream",
     "text": [
      "Combinación: (1, 1, 1, 2) / iteración: 2, Proporción: 0.0327\n"
     ]
    },
    {
     "name": "stderr",
     "output_type": "stream",
     "text": [
      "                                                                                \r"
     ]
    },
    {
     "name": "stdout",
     "output_type": "stream",
     "text": [
      "Combinación: (1, 1, 2, 1) / iteración: 3, Proporción: 0.1954\n"
     ]
    },
    {
     "name": "stderr",
     "output_type": "stream",
     "text": [
      "                                                                                \r"
     ]
    },
    {
     "name": "stdout",
     "output_type": "stream",
     "text": [
      "Combinación: (1, 1, 2, 2) / iteración: 4, Proporción: 0.0362\n"
     ]
    },
    {
     "name": "stderr",
     "output_type": "stream",
     "text": [
      "                                                                                \r"
     ]
    },
    {
     "name": "stdout",
     "output_type": "stream",
     "text": [
      "Combinación: (1, 2, 1, 1) / iteración: 5, Proporción: 0.0000\n"
     ]
    },
    {
     "name": "stderr",
     "output_type": "stream",
     "text": [
      "                                                                                \r"
     ]
    },
    {
     "name": "stdout",
     "output_type": "stream",
     "text": [
      "Combinación: (1, 2, 1, 2) / iteración: 6, Proporción: 0.0000\n"
     ]
    },
    {
     "name": "stderr",
     "output_type": "stream",
     "text": [
      "                                                                                \r"
     ]
    },
    {
     "name": "stdout",
     "output_type": "stream",
     "text": [
      "Combinación: (1, 2, 2, 1) / iteración: 7, Proporción: 0.0001\n"
     ]
    },
    {
     "name": "stderr",
     "output_type": "stream",
     "text": [
      "                                                                                \r"
     ]
    },
    {
     "name": "stdout",
     "output_type": "stream",
     "text": [
      "Combinación: (1, 2, 2, 2) / iteración: 8, Proporción: 0.0000\n"
     ]
    },
    {
     "name": "stderr",
     "output_type": "stream",
     "text": [
      "                                                                                \r"
     ]
    },
    {
     "name": "stdout",
     "output_type": "stream",
     "text": [
      "Combinación: (1, 3, 1, 1) / iteración: 9, Proporción: 0.0000\n"
     ]
    },
    {
     "name": "stderr",
     "output_type": "stream",
     "text": [
      "                                                                                \r"
     ]
    },
    {
     "name": "stdout",
     "output_type": "stream",
     "text": [
      "Combinación: (1, 3, 1, 2) / iteración: 10, Proporción: 0.0000\n"
     ]
    },
    {
     "name": "stderr",
     "output_type": "stream",
     "text": [
      "                                                                                \r"
     ]
    },
    {
     "name": "stdout",
     "output_type": "stream",
     "text": [
      "Combinación: (1, 3, 2, 1) / iteración: 11, Proporción: 0.0000\n"
     ]
    },
    {
     "name": "stderr",
     "output_type": "stream",
     "text": [
      "                                                                                \r"
     ]
    },
    {
     "name": "stdout",
     "output_type": "stream",
     "text": [
      "Combinación: (1, 3, 2, 2) / iteración: 12, Proporción: 0.0000\n"
     ]
    },
    {
     "name": "stderr",
     "output_type": "stream",
     "text": [
      "                                                                                \r"
     ]
    },
    {
     "name": "stdout",
     "output_type": "stream",
     "text": [
      "Combinación: (2, 1, 1, 1) / iteración: 13, Proporción: 0.2218\n"
     ]
    },
    {
     "name": "stderr",
     "output_type": "stream",
     "text": [
      "                                                                                \r"
     ]
    },
    {
     "name": "stdout",
     "output_type": "stream",
     "text": [
      "Combinación: (2, 1, 1, 2) / iteración: 14, Proporción: 0.0384\n"
     ]
    },
    {
     "name": "stderr",
     "output_type": "stream",
     "text": [
      "                                                                                \r"
     ]
    },
    {
     "name": "stdout",
     "output_type": "stream",
     "text": [
      "Combinación: (2, 1, 2, 1) / iteración: 15, Proporción: 0.0778\n"
     ]
    },
    {
     "name": "stderr",
     "output_type": "stream",
     "text": [
      "                                                                                \r"
     ]
    },
    {
     "name": "stdout",
     "output_type": "stream",
     "text": [
      "Combinación: (2, 1, 2, 2) / iteración: 16, Proporción: 0.0154\n"
     ]
    },
    {
     "name": "stderr",
     "output_type": "stream",
     "text": [
      "                                                                                \r"
     ]
    },
    {
     "name": "stdout",
     "output_type": "stream",
     "text": [
      "Combinación: (2, 2, 1, 1) / iteración: 17, Proporción: 0.0463\n"
     ]
    },
    {
     "name": "stderr",
     "output_type": "stream",
     "text": [
      "                                                                                \r"
     ]
    },
    {
     "name": "stdout",
     "output_type": "stream",
     "text": [
      "Combinación: (2, 2, 1, 2) / iteración: 18, Proporción: 0.0084\n"
     ]
    },
    {
     "name": "stderr",
     "output_type": "stream",
     "text": [
      "                                                                                \r"
     ]
    },
    {
     "name": "stdout",
     "output_type": "stream",
     "text": [
      "Combinación: (2, 2, 2, 1) / iteración: 19, Proporción: 0.0366\n"
     ]
    },
    {
     "name": "stderr",
     "output_type": "stream",
     "text": [
      "                                                                                \r"
     ]
    },
    {
     "name": "stdout",
     "output_type": "stream",
     "text": [
      "Combinación: (2, 2, 2, 2) / iteración: 20, Proporción: 0.0074\n"
     ]
    },
    {
     "name": "stderr",
     "output_type": "stream",
     "text": [
      "                                                                                \r"
     ]
    },
    {
     "name": "stdout",
     "output_type": "stream",
     "text": [
      "Combinación: (2, 3, 1, 1) / iteración: 21, Proporción: 0.0000\n"
     ]
    },
    {
     "name": "stderr",
     "output_type": "stream",
     "text": [
      "                                                                                \r"
     ]
    },
    {
     "name": "stdout",
     "output_type": "stream",
     "text": [
      "Combinación: (2, 3, 1, 2) / iteración: 22, Proporción: 0.0000\n"
     ]
    },
    {
     "name": "stderr",
     "output_type": "stream",
     "text": [
      "                                                                                \r"
     ]
    },
    {
     "name": "stdout",
     "output_type": "stream",
     "text": [
      "Combinación: (2, 3, 2, 1) / iteración: 23, Proporción: 0.0000\n"
     ]
    },
    {
     "name": "stderr",
     "output_type": "stream",
     "text": [
      "                                                                                \r"
     ]
    },
    {
     "name": "stdout",
     "output_type": "stream",
     "text": [
      "Combinación: (2, 3, 2, 2) / iteración: 24, Proporción: 0.0000\n"
     ]
    },
    {
     "name": "stderr",
     "output_type": "stream",
     "text": [
      "                                                                                \r"
     ]
    },
    {
     "name": "stdout",
     "output_type": "stream",
     "text": [
      "Combinación: (3, 1, 1, 1) / iteración: 25, Proporción: 0.0038\n"
     ]
    },
    {
     "name": "stderr",
     "output_type": "stream",
     "text": [
      "                                                                                \r"
     ]
    },
    {
     "name": "stdout",
     "output_type": "stream",
     "text": [
      "Combinación: (3, 1, 1, 2) / iteración: 26, Proporción: 0.0006\n"
     ]
    },
    {
     "name": "stderr",
     "output_type": "stream",
     "text": [
      "                                                                                \r"
     ]
    },
    {
     "name": "stdout",
     "output_type": "stream",
     "text": [
      "Combinación: (3, 1, 2, 1) / iteración: 27, Proporción: 0.0001\n"
     ]
    },
    {
     "name": "stderr",
     "output_type": "stream",
     "text": [
      "                                                                                \r"
     ]
    },
    {
     "name": "stdout",
     "output_type": "stream",
     "text": [
      "Combinación: (3, 1, 2, 2) / iteración: 28, Proporción: 0.0000\n"
     ]
    },
    {
     "name": "stderr",
     "output_type": "stream",
     "text": [
      "                                                                                \r"
     ]
    },
    {
     "name": "stdout",
     "output_type": "stream",
     "text": [
      "Combinación: (3, 2, 1, 1) / iteración: 29, Proporción: 0.0586\n"
     ]
    },
    {
     "name": "stderr",
     "output_type": "stream",
     "text": [
      "                                                                                \r"
     ]
    },
    {
     "name": "stdout",
     "output_type": "stream",
     "text": [
      "Combinación: (3, 2, 1, 2) / iteración: 30, Proporción: 0.0102\n"
     ]
    },
    {
     "name": "stderr",
     "output_type": "stream",
     "text": [
      "                                                                                \r"
     ]
    },
    {
     "name": "stdout",
     "output_type": "stream",
     "text": [
      "Combinación: (3, 2, 2, 1) / iteración: 31, Proporción: 0.0141\n"
     ]
    },
    {
     "name": "stderr",
     "output_type": "stream",
     "text": [
      "                                                                                \r"
     ]
    },
    {
     "name": "stdout",
     "output_type": "stream",
     "text": [
      "Combinación: (3, 2, 2, 2) / iteración: 32, Proporción: 0.0029\n"
     ]
    },
    {
     "name": "stderr",
     "output_type": "stream",
     "text": [
      "                                                                                \r"
     ]
    },
    {
     "name": "stdout",
     "output_type": "stream",
     "text": [
      "Combinación: (3, 3, 1, 1) / iteración: 33, Proporción: 0.0000\n"
     ]
    },
    {
     "name": "stderr",
     "output_type": "stream",
     "text": [
      "                                                                                \r"
     ]
    },
    {
     "name": "stdout",
     "output_type": "stream",
     "text": [
      "Combinación: (3, 3, 1, 2) / iteración: 34, Proporción: 0.0000\n"
     ]
    },
    {
     "name": "stderr",
     "output_type": "stream",
     "text": [
      "                                                                                \r"
     ]
    },
    {
     "name": "stdout",
     "output_type": "stream",
     "text": [
      "Combinación: (3, 3, 2, 1) / iteración: 35, Proporción: 0.0000\n"
     ]
    },
    {
     "name": "stderr",
     "output_type": "stream",
     "text": [
      "[Stage 1264:>                                                     (0 + 16) / 16]\r"
     ]
    },
    {
     "name": "stdout",
     "output_type": "stream",
     "text": [
      "Combinación: (3, 3, 2, 2) / iteración: 36, Proporción: 0.0000\n",
      "Proporción total: 1.0000\n"
     ]
    },
    {
     "name": "stderr",
     "output_type": "stream",
     "text": [
      "                                                                                \r"
     ]
    }
   ],
   "source": [
    "# Importa las librerías necesarias\n",
    "from itertools import product\n",
    "from pyspark.sql.functions import col\n",
    "\n",
    "# Iteraciones de los valores binned\n",
    "iterations = {\n",
    "    \"total_amount_bind\": [1, 2, 3],\n",
    "    \"trip_distance_bind\": [1, 2, 3],\n",
    "    \"payment_type_bind\": [1, 2],\n",
    "    \"passenger_count_bind\": [1, 2]\n",
    "}\n",
    "\n",
    "# Número total de filas\n",
    "total_rows = df_sample.count()\n",
    "\n",
    "# Extracción de las claves y valores del diccionario\n",
    "keys = list(iterations.keys())\n",
    "values = list(iterations.values())\n",
    "\n",
    "# Crear todas las combinaciones posibles de los valores\n",
    "combinations = list(product(*values))\n",
    "\n",
    "# Número de iteración\n",
    "iter_num = 1\n",
    "\n",
    "# Suma total de proporciones\n",
    "total_proportion = 0\n",
    "\n",
    "# Iterar sobre cada combinación\n",
    "for comb in combinations:\n",
    "    # Construir el filtro dinámicamente\n",
    "    condition = (col(keys[0]) == comb[0])\n",
    "    for i in range(1, len(keys)):\n",
    "        condition &= (col(keys[i]) == comb[i])\n",
    "    \n",
    "    # Aplicar el filtro\n",
    "    filtered_rows = df_sample.filter(condition)\n",
    "    \n",
    "    # Contar y calcular proporción\n",
    "    count = filtered_rows.count()\n",
    "    proportion = count / total_rows if total_rows != 0 else 0\n",
    "\n",
    "    print(f\"Combinación: {comb} / iteración: {iter_num}, Proporción: {proportion:.4f}\")\n",
    "    \n",
    "    iter_num += 1\n",
    "    total_proportion += proportion\n",
    "\n",
    "# Mostrar proporción total\n",
    "print(f\"Proporción total: {total_proportion:.4f}\")\n"
   ]
  },
  {
   "cell_type": "code",
   "execution_count": 114,
   "id": "9165b060",
   "metadata": {},
   "outputs": [
    {
     "name": "stdout",
     "output_type": "stream",
     "text": [
      "Total amount bind ranges:  [(0.0, 10.0), (10.0, 20.0), (20.0, 100.0)]\n",
      "Trip distance bind ranges:  [(0.0, 3.0), (3.0, 10.0), (10.0, 100.0)]\n",
      "Payment type bind ranges:  [(0.0, 1.0), (1.0, 6.0)]\n",
      "Passenger count bind ranges:  [(0.0, 2.0), (2.0, 6.0)]\n",
      "Combinations:  [((0.0, 10.0), (0.0, 3.0), (0.0, 1.0), (0.0, 2.0)), ((0.0, 10.0), (0.0, 3.0), (0.0, 1.0), (2.0, 6.0)), ((0.0, 10.0), (0.0, 3.0), (1.0, 6.0), (0.0, 2.0)), ((0.0, 10.0), (0.0, 3.0), (1.0, 6.0), (2.0, 6.0)), ((0.0, 10.0), (3.0, 10.0), (0.0, 1.0), (0.0, 2.0)), ((0.0, 10.0), (3.0, 10.0), (0.0, 1.0), (2.0, 6.0)), ((0.0, 10.0), (3.0, 10.0), (1.0, 6.0), (0.0, 2.0)), ((0.0, 10.0), (3.0, 10.0), (1.0, 6.0), (2.0, 6.0)), ((0.0, 10.0), (10.0, 100.0), (0.0, 1.0), (0.0, 2.0)), ((0.0, 10.0), (10.0, 100.0), (0.0, 1.0), (2.0, 6.0)), ((0.0, 10.0), (10.0, 100.0), (1.0, 6.0), (0.0, 2.0)), ((0.0, 10.0), (10.0, 100.0), (1.0, 6.0), (2.0, 6.0)), ((10.0, 20.0), (0.0, 3.0), (0.0, 1.0), (0.0, 2.0)), ((10.0, 20.0), (0.0, 3.0), (0.0, 1.0), (2.0, 6.0)), ((10.0, 20.0), (0.0, 3.0), (1.0, 6.0), (0.0, 2.0)), ((10.0, 20.0), (0.0, 3.0), (1.0, 6.0), (2.0, 6.0)), ((10.0, 20.0), (3.0, 10.0), (0.0, 1.0), (0.0, 2.0)), ((10.0, 20.0), (3.0, 10.0), (0.0, 1.0), (2.0, 6.0)), ((10.0, 20.0), (3.0, 10.0), (1.0, 6.0), (0.0, 2.0)), ((10.0, 20.0), (3.0, 10.0), (1.0, 6.0), (2.0, 6.0)), ((10.0, 20.0), (10.0, 100.0), (0.0, 1.0), (0.0, 2.0)), ((10.0, 20.0), (10.0, 100.0), (0.0, 1.0), (2.0, 6.0)), ((10.0, 20.0), (10.0, 100.0), (1.0, 6.0), (0.0, 2.0)), ((10.0, 20.0), (10.0, 100.0), (1.0, 6.0), (2.0, 6.0)), ((20.0, 100.0), (0.0, 3.0), (0.0, 1.0), (0.0, 2.0)), ((20.0, 100.0), (0.0, 3.0), (0.0, 1.0), (2.0, 6.0)), ((20.0, 100.0), (0.0, 3.0), (1.0, 6.0), (0.0, 2.0)), ((20.0, 100.0), (0.0, 3.0), (1.0, 6.0), (2.0, 6.0)), ((20.0, 100.0), (3.0, 10.0), (0.0, 1.0), (0.0, 2.0)), ((20.0, 100.0), (3.0, 10.0), (0.0, 1.0), (2.0, 6.0)), ((20.0, 100.0), (3.0, 10.0), (1.0, 6.0), (0.0, 2.0)), ((20.0, 100.0), (3.0, 10.0), (1.0, 6.0), (2.0, 6.0)), ((20.0, 100.0), (10.0, 100.0), (0.0, 1.0), (0.0, 2.0)), ((20.0, 100.0), (10.0, 100.0), (0.0, 1.0), (2.0, 6.0)), ((20.0, 100.0), (10.0, 100.0), (1.0, 6.0), (0.0, 2.0)), ((20.0, 100.0), (10.0, 100.0), (1.0, 6.0), (2.0, 6.0))]\n"
     ]
    }
   ],
   "source": [
    "# Establece los rangos para las columnas\n",
    "total_amount_bind = [0.0, 10.0, 20.0, 100.0]\n",
    "trip_distance_bind = [0.0, 3.0, 10.0, 100.0]\n",
    "payment_type_bind = [0.0, 1.0, 6.0]\n",
    "passenger_count_bind = [0.0, 2.0, 6.0]\n",
    "\n",
    "# Crea listas para almacenar los rangos de cada columna\n",
    "total_amount_bind_ranges = []\n",
    "trip_distance_bind_ranges = []\n",
    "payment_type_bind_ranges = []\n",
    "passenger_count_bind_ranges = []\n",
    "\n",
    "# Crea los rangos para cada columna\n",
    "for i in range(len(total_amount_bind) - 1):\n",
    "    total_amount_bind_ranges.append((total_amount_bind[i], total_amount_bind[i + 1]))\n",
    "    \n",
    "for i in range(len(trip_distance_bind) - 1):\n",
    "    trip_distance_bind_ranges.append((trip_distance_bind[i], trip_distance_bind[i + 1]))\n",
    "    \n",
    "for i in range(len(payment_type_bind) - 1):\n",
    "    payment_type_bind_ranges.append((payment_type_bind[i], payment_type_bind[i + 1]))\n",
    "    \n",
    "for i in range(len(passenger_count_bind) - 1):\n",
    "    passenger_count_bind_ranges.append((passenger_count_bind[i], passenger_count_bind[i + 1]))\n",
    "\n",
    "# Imprime los rangos de cada columna\n",
    "print(\"Total amount bind ranges: \", total_amount_bind_ranges)\n",
    "print(\"Trip distance bind ranges: \", trip_distance_bind_ranges)\n",
    "print(\"Payment type bind ranges: \", payment_type_bind_ranges)\n",
    "print(\"Passenger count bind ranges: \", passenger_count_bind_ranges)\n",
    "\n",
    "# Crea todas las combinaciones posibles de los rangos\n",
    "combinations = list(product(total_amount_bind_ranges, trip_distance_bind_ranges, payment_type_bind_ranges, passenger_count_bind_ranges))\n",
    "\n",
    "# Imprime las combinaciones\n",
    "print(\"Combinations: \", combinations)"
   ]
  },
  {
   "cell_type": "markdown",
   "id": "5a2882e7",
   "metadata": {},
   "source": [
    "## Actividad 4\n",
    "\n",
    "1. Introducción teórica\n",
    "2. Selección de datos\n",
    "3. Preparación de los datos\n",
    "4. Preparación del conjunto de entrenamiento y prueba\n",
    "5. Construcción de modelos de aprendizaje supervisado y no supervisado"
   ]
  },
  {
   "cell_type": "markdown",
   "id": "62ad2b4f",
   "metadata": {},
   "source": [
    "### 1. Introducción teórica\n",
    "\n",
    "El aprendizaje máquina se puede divirdir claramente entre el aprendizaje supervisado y el aprendizaje no supervisado, diferenciando entre ellos que el aprendizaje supervisado utiliza etiquetas para identificar las variables dependientes y las variables independientes y entrenará el modelo para enseñarse a predecir las variables objetivo. Por el contrario, el aprendizaje no supervisado se utiliza para encontrar patrones, estos normalmente son utilizados para encontrar anomalías."
   ]
  },
  {
   "cell_type": "markdown",
   "id": "e6a3456b",
   "metadata": {},
   "source": [
    "### 2. Selección de datos\n",
    "\n",
    "Para la selección de datos se realiza el siguiente procedimiento:\n",
    "- Se itera sobre cada combinación que arrojó la actividad 3, estas combinaciones contienen rangos válidos de las variables de caracterización calculadas en la actividad 3.\n",
    "- Se calcula la proporcion de datos para la combinación actual.\n",
    "- Si la proporcion es mayor al 5% de datos, agregamos el 40% de ese dataframe filtrado (con el propósito de limitar la cantidad de datos)."
   ]
  },
  {
   "cell_type": "code",
   "execution_count": 115,
   "id": "980d2094",
   "metadata": {},
   "outputs": [
    {
     "name": "stderr",
     "output_type": "stream",
     "text": [
      "                                                                                \r"
     ]
    },
    {
     "name": "stdout",
     "output_type": "stream",
     "text": [
      "Porcentaje: 0.18 / combinación: ((0.0, 10.0), (0.0, 3.0), (0.0, 1.0), (0.0, 2.0)) / iteración: 1 / proporción: 0.1753\n"
     ]
    },
    {
     "name": "stderr",
     "output_type": "stream",
     "text": [
      "                                                                                \r"
     ]
    },
    {
     "name": "stdout",
     "output_type": "stream",
     "text": [
      "Combination accepted\n"
     ]
    },
    {
     "name": "stderr",
     "output_type": "stream",
     "text": [
      "                                                                                \r"
     ]
    },
    {
     "name": "stdout",
     "output_type": "stream",
     "text": [
      "Porcentaje: 0.21 / combinación: ((0.0, 10.0), (0.0, 3.0), (0.0, 1.0), (2.0, 6.0)) / iteración: 2 / proporción: 0.0298\n"
     ]
    },
    {
     "name": "stderr",
     "output_type": "stream",
     "text": [
      "                                                                                \r"
     ]
    },
    {
     "name": "stdout",
     "output_type": "stream",
     "text": [
      "Porcentaje: 0.38 / combinación: ((0.0, 10.0), (0.0, 3.0), (1.0, 6.0), (0.0, 2.0)) / iteración: 3 / proporción: 0.1786\n"
     ]
    },
    {
     "name": "stderr",
     "output_type": "stream",
     "text": [
      "                                                                                \r"
     ]
    },
    {
     "name": "stdout",
     "output_type": "stream",
     "text": [
      "Combination accepted\n"
     ]
    },
    {
     "name": "stderr",
     "output_type": "stream",
     "text": [
      "                                                                                \r"
     ]
    },
    {
     "name": "stdout",
     "output_type": "stream",
     "text": [
      "Porcentaje: 0.42 / combinación: ((0.0, 10.0), (0.0, 3.0), (1.0, 6.0), (2.0, 6.0)) / iteración: 4 / proporción: 0.0330\n"
     ]
    },
    {
     "name": "stderr",
     "output_type": "stream",
     "text": [
      "                                                                                \r"
     ]
    },
    {
     "name": "stdout",
     "output_type": "stream",
     "text": [
      "Porcentaje: 0.42 / combinación: ((0.0, 10.0), (3.0, 10.0), (0.0, 1.0), (0.0, 2.0)) / iteración: 5 / proporción: 0.0000\n"
     ]
    },
    {
     "name": "stderr",
     "output_type": "stream",
     "text": [
      "                                                                                \r"
     ]
    },
    {
     "name": "stdout",
     "output_type": "stream",
     "text": [
      "Porcentaje: 0.42 / combinación: ((0.0, 10.0), (3.0, 10.0), (0.0, 1.0), (2.0, 6.0)) / iteración: 6 / proporción: 0.0000\n"
     ]
    },
    {
     "name": "stderr",
     "output_type": "stream",
     "text": [
      "                                                                                \r"
     ]
    },
    {
     "name": "stdout",
     "output_type": "stream",
     "text": [
      "Porcentaje: 0.42 / combinación: ((0.0, 10.0), (3.0, 10.0), (1.0, 6.0), (0.0, 2.0)) / iteración: 7 / proporción: 0.0002\n"
     ]
    },
    {
     "name": "stderr",
     "output_type": "stream",
     "text": [
      "                                                                                \r"
     ]
    },
    {
     "name": "stdout",
     "output_type": "stream",
     "text": [
      "Porcentaje: 0.42 / combinación: ((0.0, 10.0), (3.0, 10.0), (1.0, 6.0), (2.0, 6.0)) / iteración: 8 / proporción: 0.0000\n"
     ]
    },
    {
     "name": "stderr",
     "output_type": "stream",
     "text": [
      "                                                                                \r"
     ]
    },
    {
     "name": "stdout",
     "output_type": "stream",
     "text": [
      "Porcentaje: 0.42 / combinación: ((0.0, 10.0), (10.0, 100.0), (0.0, 1.0), (0.0, 2.0)) / iteración: 9 / proporción: 0.0000\n"
     ]
    },
    {
     "name": "stderr",
     "output_type": "stream",
     "text": [
      "                                                                                \r"
     ]
    },
    {
     "name": "stdout",
     "output_type": "stream",
     "text": [
      "Porcentaje: 0.42 / combinación: ((0.0, 10.0), (10.0, 100.0), (0.0, 1.0), (2.0, 6.0)) / iteración: 10 / proporción: 0.0000\n"
     ]
    },
    {
     "name": "stderr",
     "output_type": "stream",
     "text": [
      "                                                                                \r"
     ]
    },
    {
     "name": "stdout",
     "output_type": "stream",
     "text": [
      "Porcentaje: 0.42 / combinación: ((0.0, 10.0), (10.0, 100.0), (1.0, 6.0), (0.0, 2.0)) / iteración: 11 / proporción: 0.0001\n"
     ]
    },
    {
     "name": "stderr",
     "output_type": "stream",
     "text": [
      "                                                                                \r"
     ]
    },
    {
     "name": "stdout",
     "output_type": "stream",
     "text": [
      "Porcentaje: 0.42 / combinación: ((0.0, 10.0), (10.0, 100.0), (1.0, 6.0), (2.0, 6.0)) / iteración: 12 / proporción: 0.0000\n"
     ]
    },
    {
     "name": "stderr",
     "output_type": "stream",
     "text": [
      "                                                                                \r"
     ]
    },
    {
     "name": "stdout",
     "output_type": "stream",
     "text": [
      "Porcentaje: 0.62 / combinación: ((10.0, 20.0), (0.0, 3.0), (0.0, 1.0), (0.0, 2.0)) / iteración: 13 / proporción: 0.2025\n"
     ]
    },
    {
     "name": "stderr",
     "output_type": "stream",
     "text": [
      "                                                                                \r"
     ]
    },
    {
     "name": "stdout",
     "output_type": "stream",
     "text": [
      "Combination accepted\n"
     ]
    },
    {
     "name": "stderr",
     "output_type": "stream",
     "text": [
      "                                                                                \r"
     ]
    },
    {
     "name": "stdout",
     "output_type": "stream",
     "text": [
      "Porcentaje: 0.65 / combinación: ((10.0, 20.0), (0.0, 3.0), (0.0, 1.0), (2.0, 6.0)) / iteración: 14 / proporción: 0.0346\n"
     ]
    },
    {
     "name": "stderr",
     "output_type": "stream",
     "text": [
      "                                                                                \r"
     ]
    },
    {
     "name": "stdout",
     "output_type": "stream",
     "text": [
      "Porcentaje: 0.72 / combinación: ((10.0, 20.0), (0.0, 3.0), (1.0, 6.0), (0.0, 2.0)) / iteración: 15 / proporción: 0.0707\n"
     ]
    },
    {
     "name": "stderr",
     "output_type": "stream",
     "text": [
      "                                                                                \r"
     ]
    },
    {
     "name": "stdout",
     "output_type": "stream",
     "text": [
      "Combination accepted\n"
     ]
    },
    {
     "name": "stderr",
     "output_type": "stream",
     "text": [
      "                                                                                \r"
     ]
    },
    {
     "name": "stdout",
     "output_type": "stream",
     "text": [
      "Porcentaje: 0.74 / combinación: ((10.0, 20.0), (0.0, 3.0), (1.0, 6.0), (2.0, 6.0)) / iteración: 16 / proporción: 0.0139\n"
     ]
    },
    {
     "name": "stderr",
     "output_type": "stream",
     "text": [
      "                                                                                \r"
     ]
    },
    {
     "name": "stdout",
     "output_type": "stream",
     "text": [
      "Porcentaje: 0.78 / combinación: ((10.0, 20.0), (3.0, 10.0), (0.0, 1.0), (0.0, 2.0)) / iteración: 17 / proporción: 0.0425\n"
     ]
    },
    {
     "name": "stderr",
     "output_type": "stream",
     "text": [
      "                                                                                \r"
     ]
    },
    {
     "name": "stdout",
     "output_type": "stream",
     "text": [
      "Porcentaje: 0.79 / combinación: ((10.0, 20.0), (3.0, 10.0), (0.0, 1.0), (2.0, 6.0)) / iteración: 18 / proporción: 0.0078\n"
     ]
    },
    {
     "name": "stderr",
     "output_type": "stream",
     "text": [
      "                                                                                \r"
     ]
    },
    {
     "name": "stdout",
     "output_type": "stream",
     "text": [
      "Porcentaje: 0.82 / combinación: ((10.0, 20.0), (3.0, 10.0), (1.0, 6.0), (0.0, 2.0)) / iteración: 19 / proporción: 0.0333\n"
     ]
    },
    {
     "name": "stderr",
     "output_type": "stream",
     "text": [
      "                                                                                \r"
     ]
    },
    {
     "name": "stdout",
     "output_type": "stream",
     "text": [
      "Porcentaje: 0.83 / combinación: ((10.0, 20.0), (3.0, 10.0), (1.0, 6.0), (2.0, 6.0)) / iteración: 20 / proporción: 0.0068\n"
     ]
    },
    {
     "name": "stderr",
     "output_type": "stream",
     "text": [
      "                                                                                \r"
     ]
    },
    {
     "name": "stdout",
     "output_type": "stream",
     "text": [
      "Porcentaje: 0.83 / combinación: ((10.0, 20.0), (10.0, 100.0), (0.0, 1.0), (0.0, 2.0)) / iteración: 21 / proporción: 0.0000\n"
     ]
    },
    {
     "name": "stderr",
     "output_type": "stream",
     "text": [
      "                                                                                \r"
     ]
    },
    {
     "name": "stdout",
     "output_type": "stream",
     "text": [
      "Porcentaje: 0.83 / combinación: ((10.0, 20.0), (10.0, 100.0), (0.0, 1.0), (2.0, 6.0)) / iteración: 22 / proporción: 0.0000\n"
     ]
    },
    {
     "name": "stderr",
     "output_type": "stream",
     "text": [
      "                                                                                \r"
     ]
    },
    {
     "name": "stdout",
     "output_type": "stream",
     "text": [
      "Porcentaje: 0.83 / combinación: ((10.0, 20.0), (10.0, 100.0), (1.0, 6.0), (0.0, 2.0)) / iteración: 23 / proporción: 0.0000\n"
     ]
    },
    {
     "name": "stderr",
     "output_type": "stream",
     "text": [
      "                                                                                \r"
     ]
    },
    {
     "name": "stdout",
     "output_type": "stream",
     "text": [
      "Porcentaje: 0.83 / combinación: ((10.0, 20.0), (10.0, 100.0), (1.0, 6.0), (2.0, 6.0)) / iteración: 24 / proporción: 0.0000\n"
     ]
    },
    {
     "name": "stderr",
     "output_type": "stream",
     "text": [
      "                                                                                \r"
     ]
    },
    {
     "name": "stdout",
     "output_type": "stream",
     "text": [
      "Porcentaje: 0.83 / combinación: ((20.0, 100.0), (0.0, 3.0), (0.0, 1.0), (0.0, 2.0)) / iteración: 25 / proporción: 0.0044\n"
     ]
    },
    {
     "name": "stderr",
     "output_type": "stream",
     "text": [
      "                                                                                \r"
     ]
    },
    {
     "name": "stdout",
     "output_type": "stream",
     "text": [
      "Porcentaje: 0.83 / combinación: ((20.0, 100.0), (0.0, 3.0), (0.0, 1.0), (2.0, 6.0)) / iteración: 26 / proporción: 0.0007\n"
     ]
    },
    {
     "name": "stderr",
     "output_type": "stream",
     "text": [
      "                                                                                \r"
     ]
    },
    {
     "name": "stdout",
     "output_type": "stream",
     "text": [
      "Porcentaje: 0.83 / combinación: ((20.0, 100.0), (0.0, 3.0), (1.0, 6.0), (0.0, 2.0)) / iteración: 27 / proporción: 0.0006\n"
     ]
    },
    {
     "name": "stderr",
     "output_type": "stream",
     "text": [
      "                                                                                \r"
     ]
    },
    {
     "name": "stdout",
     "output_type": "stream",
     "text": [
      "Porcentaje: 0.83 / combinación: ((20.0, 100.0), (0.0, 3.0), (1.0, 6.0), (2.0, 6.0)) / iteración: 28 / proporción: 0.0001\n"
     ]
    },
    {
     "name": "stderr",
     "output_type": "stream",
     "text": [
      "                                                                                \r"
     ]
    },
    {
     "name": "stdout",
     "output_type": "stream",
     "text": [
      "Porcentaje: 0.91 / combinación: ((20.0, 100.0), (3.0, 10.0), (0.0, 1.0), (0.0, 2.0)) / iteración: 29 / proporción: 0.0740\n"
     ]
    },
    {
     "name": "stderr",
     "output_type": "stream",
     "text": [
      "                                                                                \r"
     ]
    },
    {
     "name": "stdout",
     "output_type": "stream",
     "text": [
      "Combination accepted\n"
     ]
    },
    {
     "name": "stderr",
     "output_type": "stream",
     "text": [
      "                                                                                \r"
     ]
    },
    {
     "name": "stdout",
     "output_type": "stream",
     "text": [
      "Porcentaje: 0.92 / combinación: ((20.0, 100.0), (3.0, 10.0), (0.0, 1.0), (2.0, 6.0)) / iteración: 30 / proporción: 0.0129\n"
     ]
    },
    {
     "name": "stderr",
     "output_type": "stream",
     "text": [
      "                                                                                \r"
     ]
    },
    {
     "name": "stdout",
     "output_type": "stream",
     "text": [
      "Porcentaje: 0.94 / combinación: ((20.0, 100.0), (3.0, 10.0), (1.0, 6.0), (0.0, 2.0)) / iteración: 31 / proporción: 0.0209\n"
     ]
    },
    {
     "name": "stderr",
     "output_type": "stream",
     "text": [
      "                                                                                \r"
     ]
    },
    {
     "name": "stdout",
     "output_type": "stream",
     "text": [
      "Porcentaje: 0.95 / combinación: ((20.0, 100.0), (3.0, 10.0), (1.0, 6.0), (2.0, 6.0)) / iteración: 32 / proporción: 0.0042\n"
     ]
    },
    {
     "name": "stderr",
     "output_type": "stream",
     "text": [
      "                                                                                \r"
     ]
    },
    {
     "name": "stdout",
     "output_type": "stream",
     "text": [
      "Porcentaje: 0.97 / combinación: ((20.0, 100.0), (10.0, 100.0), (0.0, 1.0), (0.0, 2.0)) / iteración: 33 / proporción: 0.0259\n"
     ]
    },
    {
     "name": "stderr",
     "output_type": "stream",
     "text": [
      "                                                                                \r"
     ]
    },
    {
     "name": "stdout",
     "output_type": "stream",
     "text": [
      "Porcentaje: 0.98 / combinación: ((20.0, 100.0), (10.0, 100.0), (0.0, 1.0), (2.0, 6.0)) / iteración: 34 / proporción: 0.0046\n"
     ]
    },
    {
     "name": "stderr",
     "output_type": "stream",
     "text": [
      "                                                                                \r"
     ]
    },
    {
     "name": "stdout",
     "output_type": "stream",
     "text": [
      "Porcentaje: 0.99 / combinación: ((20.0, 100.0), (10.0, 100.0), (1.0, 6.0), (0.0, 2.0)) / iteración: 35 / proporción: 0.0121\n"
     ]
    },
    {
     "name": "stderr",
     "output_type": "stream",
     "text": [
      "[Stage 1390:>                                                     (0 + 16) / 16]\r"
     ]
    },
    {
     "name": "stdout",
     "output_type": "stream",
     "text": [
      "Porcentaje: 0.99 / combinación: ((20.0, 100.0), (10.0, 100.0), (1.0, 6.0), (2.0, 6.0)) / iteración: 36 / proporción: 0.0026\n",
      "Proporción total: 0.9922\n",
      "Proporción total en el nuevo DataFrame: 0.7011\n"
     ]
    },
    {
     "name": "stderr",
     "output_type": "stream",
     "text": [
      "                                                                                \r"
     ]
    }
   ],
   "source": [
    "# Importando librerías necesarias\n",
    "from pyspark.sql.types import StructType, StructField, IntegerType\n",
    "\n",
    "# Conteo de filas del DataFrame original\n",
    "total_rows = df.count()\n",
    "\n",
    "# Variables para almacenar los resultados\n",
    "subsets = []\n",
    "iter_num = 1\n",
    "total_proportion = 0\n",
    "total_proportion_in_new_df = 0\n",
    "df_accumulated = None\n",
    "\n",
    "# Iterar sobre cada combinación\n",
    "for comb in combinations:\n",
    "    filtered_rows = df.filter(\n",
    "        (col(\"total_amount\") > comb[0][0]) & (col(\"total_amount\") <= comb[0][1]) &\n",
    "        (col(\"trip_distance\") > comb[1][0]) & (col(\"trip_distance\") <= comb[1][1]) &\n",
    "        (col(\"payment_type\") > comb[2][0]) & (col(\"payment_type\") <= comb[2][1]) &\n",
    "        (col(\"passenger_count\") > comb[3][0]) & (col(\"passenger_count\") <= comb[3][1])\n",
    "    )\n",
    "    subsets.append(filtered_rows)\n",
    "    \n",
    "    # Calcular la proporción de filas filtradas respecto al total\n",
    "    prop = filtered_rows.count() / total_rows\n",
    "    total_proportion += prop\n",
    "    print(f\"Porcentaje: {total_proportion:.2f} / combinación: {comb} / iteración: {iter_num} / proporción: {prop:.4f}\")\n",
    "    iter_num += 1\n",
    "\n",
    "    # Si la proporción es mayor que 0.05, tomar el 40% de las filas\n",
    "    if prop > 0.05:\n",
    "\n",
    "        # Tomar el 40% de las filas filtradas\n",
    "        filtered_rows_fraction = filtered_rows.sample(withReplacement=False, fraction=0.4, seed=42)\n",
    "\n",
    "        if df_accumulated is None:\n",
    "            df_accumulated = filtered_rows_fraction\n",
    "        else:\n",
    "            df_accumulated = df_accumulated.union(filtered_rows_fraction)\n",
    "\n",
    "        # Guarda la proporción de filas filtradas respecto al total\n",
    "        total_proportion_in_new_df += filtered_rows.count() / total_rows\n",
    "\n",
    "        print(\"Combination accepted\")\n",
    "    \n",
    "# Imprime resultados\n",
    "print(f\"Proporción total: {total_proportion:.4f}\")\n",
    "print(f\"Proporción total en el nuevo DataFrame: {total_proportion_in_new_df:.4f}\")"
   ]
  },
  {
   "cell_type": "code",
   "execution_count": 116,
   "id": "d15949bf",
   "metadata": {},
   "outputs": [
    {
     "name": "stdout",
     "output_type": "stream",
     "text": [
      "Número de filas originales: 12748986\n",
      "Número de columnas originales: 19\n",
      "Número de filas del 5% de los datos originales: 637214\n",
      "Número de columnas del 5% de los datos originales: 6\n",
      "Número de filas del 5%  después de la limpieza: 579787\n",
      "Número de columnas del 5% después de la limpieza: 12\n"
     ]
    },
    {
     "name": "stderr",
     "output_type": "stream",
     "text": [
      "[Stage 1393:==========================================>          (64 + 16) / 80]\r"
     ]
    },
    {
     "name": "stdout",
     "output_type": "stream",
     "text": [
      "Número de filas despues de la extración contenida de dimensiones: 3582756\n",
      "Número de columnas despues de la extración contenida de dimensiones: 19\n"
     ]
    },
    {
     "name": "stderr",
     "output_type": "stream",
     "text": [
      "                                                                                \r"
     ]
    }
   ],
   "source": [
    "# Imprime distintas dimensiones pasadas\n",
    "print(f\"Número de filas originales: {original_num_rows}\")\n",
    "print(f\"Número de columnas originales: {original_num_cols}\")\n",
    "print(f\"Número de filas del 5% de los datos originales: {original_05_num_rows}\")\n",
    "print(f\"Número de columnas del 5% de los datos originales: {original_05_num_cols}\")\n",
    "print(f\"Número de filas del 5%  después de la limpieza: {cleaned_05_num_rows}\")\n",
    "print(f\"Número de columnas del 5% después de la limpieza: {cleaned_05_num_cols}\")\n",
    "\n",
    "# Imprime dimensiones del DataFrame acumulado\n",
    "num_rows_after_dimension_extraction = df_accumulated.count()\n",
    "num_cols_after_dimension_extraction = len(df_accumulated.columns)\n",
    "print(f\"Número de filas despues de la extración contenida de dimensiones: {num_rows_after_dimension_extraction}\")\n",
    "print(f\"Número de columnas despues de la extración contenida de dimensiones: {num_cols_after_dimension_extraction}\")"
   ]
  },
  {
   "cell_type": "markdown",
   "id": "3f3c05c5",
   "metadata": {},
   "source": [
    "### 3. Preparación de los datos\n",
    "\n",
    "Se realiza una limpieza de los datos de la siguiente manera:\n",
    "- Se crea una copia del dataframe donde se encuentra la muestra contenida.\n",
    "- Se eliminan las columnas innecesarias.\n",
    "- Se eliminan las columnas con valores nulos.\n",
    "- Se crea la columna trip_duration para tener el dato de la duración de los viajes en minutos.\n",
    "- Se dejan solo las horas del viaje en las columnas tpep_pickup_datetime y tpep_dropoff_datetime.\n",
    "- Se eliminan los valores negatios y ceros de las columnas. De la columna tip_amount solo se eliminan los valores negativos.\n",
    "- Se filtran los outliers. Solo aplica para tip_amount y trip_duration, ya que el resto de datos fue filtrado por los filtros de la creación de la muestra contenida."
   ]
  },
  {
   "cell_type": "code",
   "execution_count": 117,
   "id": "eb165a73",
   "metadata": {},
   "outputs": [
    {
     "name": "stderr",
     "output_type": "stream",
     "text": [
      "                                                                                \r"
     ]
    }
   ],
   "source": [
    "# Preprocesamiento de datos\n",
    "\n",
    "# Se crea una copia del DataFrame original\n",
    "df_filtered = df_accumulated.select(['*'])\n",
    "\n",
    "# Listado de columnas innecesarias\n",
    "columns_to_drop = [\n",
    "    \"VendorID\",\n",
    "    \"pickup_longitude\",\n",
    "    \"pickup_latitude\",\n",
    "    \"RateCodeID\",\n",
    "    \"store_and_fwd_flag\",\n",
    "    \"dropoff_longitude\",\n",
    "    \"dropoff_latitude\",\n",
    "    \"fare_amount\",\n",
    "    \"extra\",\n",
    "    \"mta_tax\",\n",
    "    \"tolls_amount\",\n",
    "    \"improvement_surcharge\",\n",
    "]\n",
    "\n",
    "# Se eliminan las columnas innecesarias\n",
    "for colname in columns_to_drop:\n",
    "    df_filtered = df_filtered.drop(colname)\n",
    "\n",
    "# Se eliminan las filas con valores nulos\n",
    "df_filtered = df_filtered.dropna()\n",
    "\n",
    "# Se crea la columna trip_duration\n",
    "df_filtered = df_filtered.withColumn(\n",
    "    \"trip_duration\",\n",
    "    (unix_timestamp(\"tpep_dropoff_datetime\") - unix_timestamp(\"tpep_pickup_datetime\")) / 60,\n",
    ")\n",
    "\n",
    "# Se extraen las horas de las columnas tpep_pickup_datetime y tpep_dropoff_datetime\n",
    "df_filtered = df_filtered.withColumn(\"tpep_pickup_datetime\", hour(\"tpep_pickup_datetime\"))\n",
    "df_filtered = df_filtered.withColumn(\"tpep_dropoff_datetime\", hour(\"tpep_dropoff_datetime\"))\n",
    "\n",
    "# Se eliminan los valores negativos y ceros de las columnas passenger_count,\n",
    "# trip_distance, payment_type, tip_amount, total_amount y trip_duration\n",
    "for colname in [\"passenger_count\", \"trip_distance\", \"payment_type\", \"tip_amount\", \"total_amount\", \"trip_duration\"]:\n",
    "\n",
    "    # Condición: si la columna es \"tip_amount\", se permite cero por que no\n",
    "    # todos los viajes tienen propina\n",
    "    if colname != \"tip_amount\":\n",
    "        df_filtered = df_filtered.filter(col(colname) > 0)\n",
    "    else:\n",
    "        df_filtered = df_filtered.filter(col(colname) >= 0)\n",
    "\n",
    "# Se filtran los outliers de las columnas numéricas\n",
    "# Solo se consideran las columnas que no fueron segmentadas en el filtrado\n",
    "outlier_columns = [\n",
    "    \"tip_amount\",\n",
    "    \"trip_duration\"\n",
    "    ]\n",
    "\n",
    "# Se eliminan los outliers de las columnas numéricas\n",
    "for col_name in outlier_columns:\n",
    "    quantiles = df_filtered.approxQuantile(col_name, [0.25, 0.75], 0.0)\n",
    "    q1, q3 = quantiles\n",
    "    iqr = q3 - q1\n",
    "    lower = q1 - 1.5 * iqr\n",
    "    upper = q3 + 1.5 * iqr\n",
    "    df_filtered = df_filtered.filter((col(col_name) >= lower) & (col(col_name) <= upper))"
   ]
  },
  {
   "cell_type": "code",
   "execution_count": 118,
   "id": "56c3ef61",
   "metadata": {},
   "outputs": [
    {
     "name": "stderr",
     "output_type": "stream",
     "text": [
      "[Stage 1400:==========================================>          (64 + 16) / 80]\r"
     ]
    },
    {
     "name": "stdout",
     "output_type": "stream",
     "text": [
      "Número de filas despues de la extración contenida de dimensiones: 3582756\n",
      "Número de columnas despues de la extración contenida de dimensiones: 19\n",
      "Número de filas despues de la limpieza de la extración contenida de dimensiones: 3352867\n",
      "Número de columnas despues de la limpieza de la extración contenida de dimensiones: 8\n"
     ]
    },
    {
     "name": "stderr",
     "output_type": "stream",
     "text": [
      "                                                                                \r"
     ]
    }
   ],
   "source": [
    "num_rows_after_dimension_extraction_cleaned = df_filtered.count()\n",
    "num_cols_after_dimension_extraction_cleaned = len(df_filtered.columns)\n",
    "\n",
    "print(f\"Número de filas despues de la extración contenida de dimensiones: {num_rows_after_dimension_extraction}\")\n",
    "print(f\"Número de columnas despues de la extración contenida de dimensiones: {num_cols_after_dimension_extraction}\")\n",
    "print(f\"Número de filas despues de la limpieza de la extración contenida de dimensiones: {num_rows_after_dimension_extraction_cleaned}\")\n",
    "print(f\"Número de columnas despues de la limpieza de la extración contenida de dimensiones: {num_cols_after_dimension_extraction_cleaned}\")"
   ]
  },
  {
   "cell_type": "markdown",
   "id": "3af23358",
   "metadata": {},
   "source": [
    "### 4. Preparación del conjunto de entrenamiento y prueba\n",
    "\n",
    "- Se utiliza una separación del conjunto de 85/15, ya que tenemos más de 3 millones de datos, tener aproximadamente 500,000 datos para validación es suficiente.\n",
    "- Se utiliza una semilla fija para tener reproducibilidad.\n"
   ]
  },
  {
   "cell_type": "code",
   "execution_count": 119,
   "id": "6c95f671",
   "metadata": {},
   "outputs": [
    {
     "name": "stderr",
     "output_type": "stream",
     "text": [
      "                                                                                \r"
     ]
    },
    {
     "name": "stdout",
     "output_type": "stream",
     "text": [
      "Tamaño del conjunto de entrenamiento: 2849002\n"
     ]
    },
    {
     "name": "stderr",
     "output_type": "stream",
     "text": [
      "[Stage 1406:==========================================>          (64 + 16) / 80]\r"
     ]
    },
    {
     "name": "stdout",
     "output_type": "stream",
     "text": [
      "Tamaño del conjunto de prueba: 503865\n"
     ]
    },
    {
     "name": "stderr",
     "output_type": "stream",
     "text": [
      "                                                                                \r"
     ]
    }
   ],
   "source": [
    "# Separamos los datos en conjuntos de entrenamiento y prueba\n",
    "train_df, test_df = df_filtered.randomSplit([0.85, 0.15], seed=42)\n",
    "\n",
    "# Tamaño del conjunto de entrenamiento\n",
    "train_size = train_df.count()\n",
    "print(f\"Tamaño del conjunto de entrenamiento: {train_size}\")\n",
    "\n",
    "# Tamaño del conjunto de prueba\n",
    "test_size = test_df.count()\n",
    "print(f\"Tamaño del conjunto de prueba: {test_size}\")"
   ]
  },
  {
   "cell_type": "markdown",
   "id": "356fefeb",
   "metadata": {},
   "source": [
    "### 5. Construcción de modelos de aprendizaje supervisado y no supervisado\n",
    "\n",
    "- Para entrenar el modelo, se le otorga a PySpark una RAM de 22 GB (esto se realiza en la creación la sesión de spark). Esto a consecuencia de que el modelo se quedaba sin memoria para procesar todos los datos."
   ]
  },
  {
   "cell_type": "code",
   "execution_count": 120,
   "id": "ea82d16d",
   "metadata": {},
   "outputs": [
    {
     "name": "stdout",
     "output_type": "stream",
     "text": [
      "Driver memory: 22g\n"
     ]
    }
   ],
   "source": [
    "# Copiamos el DataFrame de entrenamiento y prueba a otros DataFrames\n",
    "\n",
    "# Copias para el entrenamiento y prueba del modelo supervisado\n",
    "supervised_train_df = train_df.select(['*'])\n",
    "supervised_test_df = test_df.select(['*'])\n",
    "\n",
    "# Copias para el entrenamiento y prueba del modelo no supervisado\n",
    "unsupervised_train_df = train_df.select(['*'])\n",
    "unsupervised_test_df = test_df.select(['*'])\n",
    "\n",
    "# Se muestra la RAM asignada al driver\n",
    "memory_used = spark.sparkContext.getConf().get(\"spark.driver.memory\")\n",
    "print(f\"Driver memory: {memory_used}\")"
   ]
  },
  {
   "cell_type": "markdown",
   "id": "92ed2b6d",
   "metadata": {},
   "source": [
    "#### 5.1 Modelo de aprendizaje supervisado\n",
    "\n",
    "- Se elige RandomForestRegresor.\n",
    "\n",
    "Pasos en el código:\n",
    "\n",
    "- Se definen las columnas numéricas que se utilizarán como las caracterísitcas (variables independientes).\n",
    "- Se ensamblan las caracterísitcas en un solo vector con VectorAssembler, esto se realiza así por que PySpark ML no acepta múltiples columnas si no una sola columna con todas las variables independientes empaquetadas en un vector.\n",
    "- Se define el modelo, en este caso se utiliza RandomForestRegressor.\n",
    "- Se entrena el modelo y se carga a la variable rf_model.\n",
    "- Se realizan las predicciones.\n",
    "- Se evalúa el modelo.\n",
    "- Se obtiene un RMSE de 1.2659, este es un valor sumamente aceptable, ya que indica que nuestro error es de $1.3 USD respecto al total_amount que es nuestra variable dependiente.\n",
    "- Creamos un DataFrame nuevo con datos manuales para verificar el comportamiento del modelo, nos basamos en los primeros 5 datos del DataFrame original, cambiando ligeros aspectos, lo que nos debe dar como resultado un total_amount bastante parecido.\n",
    "- Ensamblamos el nuevo DataFrame en un solo vector, se hacen las predicciones e imprimimos resultados, después de analizar los resultados, se observa que obtenemos un total_amount bastante parecido, lo que indica que el modelo opera con suma precisión.\n"
   ]
  },
  {
   "cell_type": "code",
   "execution_count": 121,
   "id": "55c24432",
   "metadata": {},
   "outputs": [
    {
     "name": "stderr",
     "output_type": "stream",
     "text": [
      "[Stage 1423:==========================================>          (64 + 16) / 80]\r"
     ]
    },
    {
     "name": "stdout",
     "output_type": "stream",
     "text": [
      "RMSE: 1.2659\n"
     ]
    },
    {
     "name": "stderr",
     "output_type": "stream",
     "text": [
      "                                                                                \r"
     ]
    }
   ],
   "source": [
    "# Importamos las librerías necesarias\n",
    "from pyspark.ml.feature import VectorAssembler\n",
    "from pyspark.ml.regression import RandomForestRegressor\n",
    "from pyspark.ml.evaluation import RegressionEvaluator\n",
    "\n",
    "# Se definen las columnas numéricas que se usarán como features\n",
    "# No se incluye tip_amount ni total_amount\n",
    "numeric_cols = [\n",
    "    \"tpep_pickup_datetime\",\n",
    "    \"tpep_dropoff_datetime\",\n",
    "    \"passenger_count\",\n",
    "    \"trip_distance\",\n",
    "    \"payment_type\",\n",
    "    \"trip_duration\",\n",
    "]\n",
    "\n",
    "# Se ensamblan las features en un solo vector\n",
    "assembler = VectorAssembler(inputCols=numeric_cols, outputCol=\"features\")\n",
    "train_df_vec = assembler.transform(supervised_train_df)\n",
    "test_df_vec = assembler.transform(supervised_test_df)\n",
    "\n",
    "# Se define el modelo\n",
    "rf = RandomForestRegressor(\n",
    "    featuresCol=\"features\",\n",
    "    labelCol=\"total_amount\",\n",
    "    numTrees=80,\n",
    ")\n",
    "\n",
    "# Se entrena el modelo\n",
    "rf_model = rf.fit(train_df_vec)\n",
    "\n",
    "# Se hacen predicciones\n",
    "predictions = rf_model.transform(test_df_vec)\n",
    "\n",
    "# Se evalúa el modelo\n",
    "evaluator = RegressionEvaluator(\n",
    "    labelCol=\"total_amount\",\n",
    "    predictionCol=\"prediction\",\n",
    "    metricName=\"rmse\",\n",
    ")\n",
    "rmse = evaluator.evaluate(predictions)\n",
    "\n",
    "# Se imprime el RMSE\n",
    "print(f\"RMSE: {rmse:.4f}\")"
   ]
  },
  {
   "cell_type": "code",
   "execution_count": 122,
   "id": "6770612f",
   "metadata": {},
   "outputs": [
    {
     "name": "stdout",
     "output_type": "stream",
     "text": [
      "+--------------------+---------------------+---------------+-------------+------------+-------------+\n",
      "|tpep_pickup_datetime|tpep_dropoff_datetime|passenger_count|trip_distance|payment_type|trip_duration|\n",
      "+--------------------+---------------------+---------------+-------------+------------+-------------+\n",
      "|                  19|                   19|              5|          2.9|           2|         14.5|\n",
      "|                  14|                   14|              1|          3.2|           2|         12.9|\n",
      "|                  14|                   14|              2|          1.4|           1|         16.5|\n",
      "|                  12|                   12|              1|          3.9|           1|         18.2|\n",
      "|                  12|                   12|              1|          0.8|           1|          6.5|\n",
      "+--------------------+---------------------+---------------+-------------+------------+-------------+\n",
      "\n"
     ]
    }
   ],
   "source": [
    "# Importamos las librerías necesarias\n",
    "from pyspark.sql.types import DoubleType\n",
    "\n",
    "# Creamos un nuevo DataFrame para probar el modelo\n",
    "\n",
    "test_manual_data = [\n",
    "    (19, 19, 5, 2.9, 2, 14.5),\n",
    "    (14, 14, 1, 3.2, 2, 12.9),\n",
    "    (14, 14, 2, 1.4, 1, 16.5),\n",
    "    (12, 12, 1, 3.9, 1, 18.2),\n",
    "    (12, 12, 1, 0.8, 1, 6.5),\n",
    "]\n",
    "\n",
    "# Definimos el esquema del DataFrame, trip_distance is double type\n",
    "schema = StructType([\n",
    "    StructField(\"tpep_pickup_datetime\", IntegerType(), True),\n",
    "    StructField(\"tpep_dropoff_datetime\", IntegerType(), True),\n",
    "    StructField(\"passenger_count\", IntegerType(), True),\n",
    "    StructField(\"trip_distance\", DoubleType(), True),\n",
    "    StructField(\"payment_type\", IntegerType(), True),\n",
    "    StructField(\"trip_duration\", DoubleType(), True),\n",
    "])\n",
    "\n",
    "\n",
    "# Creamos el DataFrame\n",
    "test_manual_df = spark.createDataFrame(test_manual_data, schema)\n",
    "\n",
    "# Mostramos el DataFrame con los datos de prueba manuales\n",
    "test_manual_df.show()"
   ]
  },
  {
   "cell_type": "code",
   "execution_count": 123,
   "id": "4191f177",
   "metadata": {},
   "outputs": [
    {
     "name": "stdout",
     "output_type": "stream",
     "text": [
      "+--------------------+------------------+\n",
      "|            features|        prediction|\n",
      "+--------------------+------------------+\n",
      "|[19.0,19.0,5.0,2....|13.190304452326487|\n",
      "|[14.0,14.0,1.0,3....|   12.166617641157|\n",
      "|[14.0,14.0,2.0,1....|13.732458063128016|\n",
      "|[12.0,12.0,1.0,3....|22.103485518209602|\n",
      "|[12.0,12.0,1.0,0....| 8.214127753036887|\n",
      "+--------------------+------------------+\n",
      "\n"
     ]
    }
   ],
   "source": [
    "# Se ensambla el nuevo DataFrame en un solo vector\n",
    "test_manual_df_vec = assembler.transform(test_manual_df)\n",
    "\n",
    "# Se hacen predicciones\n",
    "manual_predictions = rf_model.transform(test_manual_df_vec)\n",
    "\n",
    "# Se muestran las características y las predicciones\n",
    "manual_predictions.select(\"features\", \"prediction\").show()"
   ]
  },
  {
   "cell_type": "markdown",
   "id": "b111fc93",
   "metadata": {},
   "source": [
    "#### 5.1 Modelo no supervisado\n",
    "\n",
    "- Se elige KMeans.\n",
    "\n",
    "Pasos en el código:\n",
    "\n",
    "- Se definen las columnas numéricas.\n",
    "- Se combina el DataFrame de entrenamiento y prueba.\n",
    "- Se ensamblan las columnas en un solo vector con VectorAssembler.\n",
    "- Se definel el modelo KMeans.\n",
    "- Se entrena el modelo KMeans con el DataFrame combinado.\n",
    "- Se hacen las predicciones.\n",
    "- Se evalúa el modelo.\n",
    "- Obtenemos un índice Silhouette de 0.5353 (distancia entre puntos en su propio cluster). Un valor de 0.5363 es aceptable, aun que puede mejorar con algunas otras técnicas."
   ]
  },
  {
   "cell_type": "code",
   "execution_count": 124,
   "id": "3000cc1b",
   "metadata": {},
   "outputs": [
    {
     "name": "stderr",
     "output_type": "stream",
     "text": [
      "[Stage 1487:===================================================>(158 + 2) / 160]\r"
     ]
    },
    {
     "name": "stdout",
     "output_type": "stream",
     "text": [
      "Silhouette with squared euclidean distance = 0.5363\n"
     ]
    },
    {
     "name": "stderr",
     "output_type": "stream",
     "text": [
      "                                                                                \r"
     ]
    }
   ],
   "source": [
    "# Importamos las librerías necesarias\n",
    "from pyspark.ml.clustering import KMeans\n",
    "from pyspark.ml.evaluation import ClusteringEvaluator\n",
    "\n",
    "# Definimos las columnas numéricas\n",
    "numeric_cols = [\n",
    "    \"tpep_pickup_datetime\",\n",
    "    \"tpep_dropoff_datetime\",\n",
    "    \"passenger_count\",\n",
    "    \"trip_distance\",\n",
    "    \"payment_type\",\n",
    "    \"trip_duration\",\n",
    "]\n",
    "\n",
    "# Combinamos el DataFrame de entrenamiento y prueba\n",
    "unsupervised_complete_df = unsupervised_train_df.union(unsupervised_test_df)\n",
    "\n",
    "# Se ensamblan las features en un solo vector\n",
    "assembler = VectorAssembler(inputCols=numeric_cols, outputCol=\"features\")\n",
    "train_df_vec = assembler.transform(unsupervised_complete_df)\n",
    "\n",
    "# Se define el modelo\n",
    "kmeans = KMeans(k=4, seed=42)\n",
    "\n",
    "# Se entrena el modelo\n",
    "km_model = kmeans.fit(train_df_vec)\n",
    "\n",
    "# Se hacen predicciones\n",
    "predictions = km_model.transform(train_df_vec)\n",
    "\n",
    "# Se evalúa el modelo\n",
    "evaluator = ClusteringEvaluator()\n",
    "silhouette = evaluator.evaluate(predictions)\n",
    "\n",
    "# Se imprime el Silhouette\n",
    "print(f\"Silhouette with squared euclidean distance = {silhouette:.4f}\")"
   ]
  }
 ],
 "metadata": {
  "kernelspec": {
   "display_name": "venv_big_data",
   "language": "python",
   "name": "python3"
  },
  "language_info": {
   "codemirror_mode": {
    "name": "ipython",
    "version": 3
   },
   "file_extension": ".py",
   "mimetype": "text/x-python",
   "name": "python",
   "nbconvert_exporter": "python",
   "pygments_lexer": "ipython3",
   "version": "3.9.22"
  }
 },
 "nbformat": 4,
 "nbformat_minor": 5
}
